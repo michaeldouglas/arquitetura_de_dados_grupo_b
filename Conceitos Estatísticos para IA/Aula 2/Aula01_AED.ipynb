{
 "cells": [
  {
   "cell_type": "markdown",
   "metadata": {},
   "source": [
    "####  DTS - Statistics Fundamentals\n",
    "    Trabalho prático usando o Python\n",
    "    Análise Exploratória de dados (AED) - Analise Descritiva"
   ]
  },
  {
   "cell_type": "code",
   "execution_count": null,
   "metadata": {},
   "outputs": [],
   "source": [
    "import numpy as np\n",
    "import pandas as pd\n",
    "import matplotlib.pyplot as plt\n",
    "import seaborn as sb\n"
   ]
  },
  {
   "cell_type": "code",
   "execution_count": null,
   "metadata": {},
   "outputs": [],
   "source": [
    "# Média Aritmética\n",
    "# Soma de valores dividido por n\n",
    "\n",
    "# idade dos colaboradores da empresa x\n",
    "\n",
    "X=[25,32,29,45]\n",
    "\n",
    "\n",
    "print('soma',sum(X)) \n",
    "\n",
    "print('qte de observações',len(X)) \n",
    " \n",
    "Média_x = sum(X)/len(X)\n",
    "\n",
    "print('média', Média_x)\n",
    "\n"
   ]
  },
  {
   "cell_type": "code",
   "execution_count": null,
   "metadata": {},
   "outputs": [],
   "source": [
    "# idade dos colaboradores da empresa y\n",
    "\n",
    "y=[60,25,32,29,45]\n",
    "\n",
    "Média_y = sum(y)/len(y)\n",
    "\n",
    "Média_y"
   ]
  },
  {
   "attachments": {
    "image.png": {
     "image/png": "[encoded data removed]"
    }
   },
   "cell_type": "markdown",
   "metadata": {},
   "source": [
    "# Cálculo da Média Aritmética\n",
    "\n",
    "![image.png](attachment:image.png)\n"
   ]
  },
  {
   "cell_type": "code",
   "execution_count": null,
   "metadata": {},
   "outputs": [],
   "source": [
    "# utilizando a biblioteca numpy\n",
    "np.mean(X)\n"
   ]
  },
  {
   "cell_type": "code",
   "execution_count": null,
   "metadata": {},
   "outputs": [],
   "source": [
    "# Mediana: definida como o valor central das observações ordenadas quando n for ímpar. \n",
    "# Para oscasos em que n for par, a mediana é definida como valor médio entre as duas observações centrais ordenadas\n",
    "\n",
    "print('Mediana',np.median(X))\n",
    "\n"
   ]
  },
  {
   "cell_type": "code",
   "execution_count": null,
   "metadata": {},
   "outputs": [],
   "source": [
    "\n",
    "print('Mediana',np.median(y))"
   ]
  },
  {
   "cell_type": "code",
   "execution_count": null,
   "metadata": {},
   "outputs": [],
   "source": [
    "# Medidas de Dispersão\n",
    "# Produção diaria de dois empregados\n",
    "\n",
    "EmpregA = [70,71,69,72,70,71,72]\n",
    "EmpregB = [60,80,70,62,75,71,83] \n",
    "\n",
    "# Média de produção\n",
    "print ('média da produção', '\\n Empregado A:', np.mean(EmpregA),'\\n Empregado B:', np.mean(EmpregB))\n",
    "\n",
    "# Mediana de produção\n",
    "print ('\\n mediana da produção', '\\n Empregado A:', np.median(EmpregA),'\\n Empregado B:', np.median(EmpregB))"
   ]
  },
  {
   "cell_type": "code",
   "execution_count": null,
   "metadata": {},
   "outputs": [],
   "source": [
    "# utilizando a biblioteca matplotlib.pyplot\n",
    "\n",
    "#plt.plot(EmpregA, color='g')\n",
    "plt.plot(EmpregA, 'g:')\n",
    "plt.plot(EmpregB, 'b:')\n",
    "plt.ylabel('Produção')\n",
    "plt.xlabel('Tempo')\n",
    "\n",
    "plt.xticks([])\n",
    "plt.legend(['Empregado A','Empregado B'], loc='best')\n",
    "sb.despine() #remover o quadro \n"
   ]
  },
  {
   "cell_type": "code",
   "execution_count": null,
   "metadata": {},
   "outputs": [],
   "source": [
    "# Amplitude: Avaliar a dispersão do conjunto de dados\n",
    "\n",
    "# Amplitude= Max(dados)- Min(dados)\n",
    "\n",
    "Ampl_A= max(EmpregA)- min(EmpregA)\n",
    "\n",
    "Ampl_B= max(EmpregB)- min(EmpregB)\n",
    "\n",
    "\n",
    "# Amplitude de produção\n",
    "print ('Amplitude de Produção de cada empregado', '\\n Empregado A:', Ampl_A,'\\n Empregado B:', Ampl_B)"
   ]
  },
  {
   "attachments": {
    "image.png": {
     "image/png": "[encoded data removed]"
    }
   },
   "cell_type": "markdown",
   "metadata": {},
   "source": [
    "#### Medidas de Dispersão - As medidas de dispersão são medidas que indicam o quão espalhados os dados estão, ou como eles variam. São elas a amplitude, a variância, o desvio padrão e o desvio absoluto. \n",
    "Variância:  uma medida que expressa quanto os dados de um conjunto estão afastados de seu valor esperado. Calculamos a variância no Pandas através da função var():\n",
    "\n",
    "![image.png](attachment:image.png)\n"
   ]
  },
  {
   "cell_type": "code",
   "execution_count": null,
   "metadata": {},
   "outputs": [],
   "source": [
    "# desvio médio: média aritmética dos desvios absolutos em relação á média\n",
    "# calculado da seguinte forma: primeiro, encontra-se a média dos valores;\n",
    "# calcula-se a distância em valor absoluto de cada ponto desta média; \n",
    "# soma distâncias e dividimos o resultado pela média destas distâncias.\n",
    "# No Pandas, a função mad() faz este cálculo.\n",
    "\n",
    "\n",
    "Serie_A= pd.Series(EmpregA)\n",
    "\n",
    "Serie_B= pd.Series(EmpregB)\n",
    "\n",
    "mad_A= Serie_A.mad()\n",
    "mad_B= Serie_B.mad()\n",
    "\n",
    "\n",
    "# Erro médio absoluto\n",
    "print ('erro médio absoluto de Produção de cada empregado', '\\n Empregado A:', mad_A,'\\n Empregado B:', mad_B)"
   ]
  },
  {
   "cell_type": "code",
   "execution_count": null,
   "metadata": {},
   "outputs": [],
   "source": [
    "\n",
    "# Desvio Padrão:\n",
    "# uma medida de dispersão, que indica quanto os dados estão afastados da média. \n",
    "# Um valor de desvio padrão alto indica que os valores estão mais espalhados, mais longe da média, e um desvio padrão\n",
    "# baixo indica que os valores estão mais próximos da média. \n",
    "# No Pandas fazemos o cálculo através da função std():\n",
    "\n",
    "dpA=np.std(EmpregA)\n",
    "\n",
    "dpB=np.std(EmpregB)\n",
    "\n",
    " \n",
    "#print ('desvio padrão dos empregados','\\n Empregado A:', {dpA,:.3f} ,'\\n Empregado B:', {dpB, :.3f})\n",
    "#pd.set_option('float_format','{:.3f}'.format)\n",
    "print ('desvio padrão dos empregados','\\n Empregado A:', dpA , '\\n Empregado B:',dpB)"
   ]
  },
  {
   "cell_type": "markdown",
   "metadata": {},
   "source": [
    "#### Leitura de uma base de dados"
   ]
  },
  {
   "cell_type": "code",
   "execution_count": null,
   "metadata": {},
   "outputs": [],
   "source": [
    "# lendo a base de dados\n",
    "colaborador = pd.read_csv('C:/Users/AdelaideAlvesdeOlive/OneDrive - SD&W/1-Material/Shift_IA/Turma07/Trab01/HR_Abandono_2021.csv', decimal=',', sep=';')\n",
    "\n",
    "\n",
    "#decimal=\",\",thousands='.'"
   ]
  },
  {
   "cell_type": "code",
   "execution_count": null,
   "metadata": {},
   "outputs": [],
   "source": [
    "# visualizando alguns dados\n",
    "colaborador.head()"
   ]
  },
  {
   "cell_type": "code",
   "execution_count": null,
   "metadata": {},
   "outputs": [],
   "source": [
    "# visualizando formatos das variáveis\n",
    "colaborador.info()"
   ]
  },
  {
   "cell_type": "code",
   "execution_count": null,
   "metadata": {},
   "outputs": [],
   "source": [
    "colaborador.count()"
   ]
  },
  {
   "cell_type": "code",
   "execution_count": null,
   "metadata": {},
   "outputs": [],
   "source": [
    "colaborador.nunique()"
   ]
  },
  {
   "cell_type": "code",
   "execution_count": null,
   "metadata": {},
   "outputs": [],
   "source": [
    "colaborador.isna()"
   ]
  },
  {
   "cell_type": "code",
   "execution_count": null,
   "metadata": {},
   "outputs": [],
   "source": [
    "colaborador.isna().sum()"
   ]
  },
  {
   "cell_type": "code",
   "execution_count": null,
   "metadata": {},
   "outputs": [],
   "source": [
    "colaborador.isna().sum()/len(colaborador)*100"
   ]
  },
  {
   "cell_type": "code",
   "execution_count": null,
   "metadata": {},
   "outputs": [],
   "source": [
    "# descritivo das variáveis: medidas resumo\n",
    "colaborador.describe().round(2) \n"
   ]
  },
  {
   "cell_type": "code",
   "execution_count": null,
   "metadata": {},
   "outputs": [],
   "source": [
    "# descritivo das variáveis: medidas resumo guardando em uma tabela\n",
    "Describe=colaborador.describe().round(2)\n",
    "print(Describe)"
   ]
  },
  {
   "cell_type": "code",
   "execution_count": null,
   "metadata": {},
   "outputs": [],
   "source": []
  },
  {
   "cell_type": "code",
   "execution_count": null,
   "metadata": {},
   "outputs": [],
   "source": [
    "#Preprocessing\n",
    "# mudar o formato da variável number para string\n",
    "colaborador['left'] = colaborador['left'].astype(str)\n",
    "\n"
   ]
  },
  {
   "cell_type": "code",
   "execution_count": null,
   "metadata": {},
   "outputs": [],
   "source": [
    "colaborador.info()"
   ]
  },
  {
   "cell_type": "code",
   "execution_count": null,
   "metadata": {},
   "outputs": [],
   "source": [
    "colaborador.describe().round(2)"
   ]
  },
  {
   "cell_type": "code",
   "execution_count": null,
   "metadata": {},
   "outputs": [],
   "source": [
    "colaborador.head(15).T"
   ]
  },
  {
   "cell_type": "code",
   "execution_count": null,
   "metadata": {},
   "outputs": [],
   "source": [
    "# Análise da completude das variáveis do banco de dados usando o gráfico de barra. No eixo \"Y\" é a frequência relativa e no \n",
    "# eixo \"X\" as variáveis.\n",
    "\n",
    "!pip install missingno\n",
    "import missingno as msno\n",
    "\n",
    "# Visualizando os dados faltantes? A biblioteca MissingNo permite a visualização dos dados nulos (‘NaN’) em seu datasetrt missno as msno\n",
    "msno.bar(colaborador)"
   ]
  },
  {
   "cell_type": "code",
   "execution_count": null,
   "metadata": {},
   "outputs": [],
   "source": [
    "colaborador.columns"
   ]
  },
  {
   "cell_type": "code",
   "execution_count": null,
   "metadata": {},
   "outputs": [],
   "source": [
    "# CV \n",
    "# O coeficiente de variação é usado para analisar a dispersão em termos relativos a seu valor médio \n",
    "# quando duas ou mais séries de valores apresentam unidades de medida diferentes.\n",
    "# Dessa forma, podemos dizer que o coeficiente de variação é uma forma de expressar a variabilidade dos dados \n",
    "# excluindo a influência da ordem de grandeza da variável.\n",
    "# O cálculo do coeficiente de variação é feito através da fórmula:\n",
    "\n",
    "# CV= desvio padrão/média\n",
    "# Como o coeficiente de variação analisa a dispersão em termos relativos, ele será dado em %.\n",
    "# Quanto menor for o valor do coeficiente de variação, mais homogêneos serão os dados, ou seja,\n",
    "# menor será a dispersão em torno da média. \n",
    "# De uma forma geral, se o CV:\n",
    "# For menor ou igual a 15% → baixa dispersão: dados homogêneos\n",
    "# For entre 15 e 30% → média dispersão\n",
    "# For maior que 30% → alta dispersão: dados heterogêneos\n",
    "\n",
    "desc = colaborador.describe().T\n",
    "\n",
    "desc['CV'] = desc['std']/desc['mean']"
   ]
  },
  {
   "cell_type": "code",
   "execution_count": null,
   "metadata": {},
   "outputs": [],
   "source": [
    "desc.round(2)"
   ]
  },
  {
   "cell_type": "code",
   "execution_count": null,
   "metadata": {},
   "outputs": [],
   "source": [
    "# Interpretação do CV\n",
    "\n",
    "# satisfaction_level: O desvio padrão é 0.41 vezes o valor da média. Isso indica presença de outliers?\n",
    "\n",
    "# Recomendado é até 0,3 ou 30%. Valores acima de 30% indicam presença de outliers. (Critério do IBGE)\n",
    "    \n"
   ]
  },
  {
   "attachments": {
    "image-3.png": {
     "image/png": "[encoded data removed]"
    }
   },
   "cell_type": "markdown",
   "metadata": {},
   "source": [
    "#### Histograma\n",
    "#### O histograma é formado por retângulos cujas áreas representam frequências dos intervalos de suas classes. Esta apresentação é indicada para séries contínuas, e portanto não há espaço entre as barras.\n",
    "![image-3.png](attachment:image-3.png)"
   ]
  },
  {
   "cell_type": "code",
   "execution_count": null,
   "metadata": {},
   "outputs": [],
   "source": [
    "# Histograma da variável satisfaction_level\n",
    "plt.hist(colaborador['satisfaction_level'], bins=5)\n",
    "plt.ylabel('Frequência')\n",
    "plt.xlabel('satisfaction_level')\n",
    "plt.title('Histograma Nivel de Satisfação')"
   ]
  },
  {
   "cell_type": "code",
   "execution_count": null,
   "metadata": {},
   "outputs": [],
   "source": [
    "# Histograma da variável average_montly_hours\n",
    "plt.hist(colaborador['average_montly_hours'], bins=5)\n",
    "plt.ylabel('Frequência')\n",
    "plt.xlabel('average_montly_hours')\n",
    "plt.title('Histograma average_montly_hours')"
   ]
  },
  {
   "cell_type": "code",
   "execution_count": null,
   "metadata": {},
   "outputs": [],
   "source": []
  },
  {
   "cell_type": "markdown",
   "metadata": {},
   "source": [
    "#### O Box Plot (desenho esquemático) informa medidas de posição, dispersão, assimetria, caudas e dados atípicos (outliers). A posição central é dada pela mediana e a dispersão pela amplitude inter-quartílica. As medidas de posição q1, q2 e q3 informam a assimetria da distribuição. Os comprimentos das caudas são dados pelas linhas que vão do retângulo aos valores distantes e pelos valores atípicos.\n"
   ]
  },
  {
   "attachments": {
    "image.png": {
     "image/png": "[encoded data removed]"
    }
   },
   "cell_type": "markdown",
   "metadata": {},
   "source": [
    "![image.png](attachment:image.png)"
   ]
  },
  {
   "cell_type": "code",
   "execution_count": null,
   "metadata": {},
   "outputs": [],
   "source": [
    "# Boxplot da variável satisfaction_level\n",
    "sb.boxplot(y=\"satisfaction_level\", data=colaborador);"
   ]
  },
  {
   "cell_type": "code",
   "execution_count": null,
   "metadata": {},
   "outputs": [],
   "source": [
    "# Boxplot da variável average_montly_hours\n",
    "sb.boxplot(y=\"average_montly_hours\", data=colaborador)"
   ]
  },
  {
   "cell_type": "code",
   "execution_count": null,
   "metadata": {},
   "outputs": [],
   "source": []
  },
  {
   "cell_type": "code",
   "execution_count": null,
   "metadata": {},
   "outputs": [],
   "source": [
    "# Boxplot da variável last_evaluation\n",
    "sb.boxplot(y=\"last_evaluation\", data=colaborador)"
   ]
  },
  {
   "cell_type": "code",
   "execution_count": null,
   "metadata": {},
   "outputs": [],
   "source": [
    "# Boxplot da variável last_evaluation versus a variável left\n",
    "sb.boxplot(x='left', y='last_evaluation', data=colaborador, palette='hls')"
   ]
  },
  {
   "cell_type": "code",
   "execution_count": null,
   "metadata": {},
   "outputs": [],
   "source": [
    "# Boxplot da variável satisfaction_level versus a variável left\n",
    "sb.boxplot(x='left', y='satisfaction_level', data=colaborador, palette='hls')\n",
    "\n"
   ]
  },
  {
   "cell_type": "code",
   "execution_count": null,
   "metadata": {},
   "outputs": [],
   "source": [
    "colaborador.describe().round(2)"
   ]
  },
  {
   "cell_type": "code",
   "execution_count": null,
   "metadata": {},
   "outputs": [],
   "source": [
    "print('Minimo = ', min(colaborador['satisfaction_level']))"
   ]
  },
  {
   "cell_type": "code",
   "execution_count": null,
   "metadata": {},
   "outputs": [],
   "source": [
    "print('Maximo = ', max(colaborador['satisfaction_level']))"
   ]
  },
  {
   "cell_type": "code",
   "execution_count": null,
   "metadata": {},
   "outputs": [],
   "source": [
    "Q1 = np.percentile(colaborador['satisfaction_level'], 25)\n",
    "print(Q1)\n",
    "print('Quartil1 (Q1) = ', np.percentile(colaborador['satisfaction_level'], 25))"
   ]
  },
  {
   "cell_type": "code",
   "execution_count": null,
   "metadata": {},
   "outputs": [],
   "source": [
    "Q2=np.percentile(colaborador['satisfaction_level'], 50)\n",
    "print(Q2)\n",
    "print('Quartil2 (Q2) = ', np.percentile(colaborador['satisfaction_level'], 50))"
   ]
  },
  {
   "cell_type": "code",
   "execution_count": null,
   "metadata": {},
   "outputs": [],
   "source": [
    "Q3=np.percentile(colaborador['satisfaction_level'], 75)\n",
    "print(Q3)\n",
    "print('Quartil3 (Q3) = ', np.percentile(colaborador['satisfaction_level'], 75))"
   ]
  },
  {
   "cell_type": "code",
   "execution_count": null,
   "metadata": {},
   "outputs": [],
   "source": [
    "IQ = np.percentile(colaborador['satisfaction_level'], 75) - np.percentile(colaborador['satisfaction_level'], 25)\n",
    "print(IQ)\n",
    "print('Inter-quartil (IQ) =', np.percentile(colaborador['satisfaction_level'], 75) - np.percentile(colaborador['satisfaction_level'], 25))"
   ]
  },
  {
   "cell_type": "code",
   "execution_count": null,
   "metadata": {},
   "outputs": [],
   "source": [
    "limite1 = Q3+3*IQ\n",
    "print(limite1)"
   ]
  },
  {
   "cell_type": "code",
   "execution_count": null,
   "metadata": {},
   "outputs": [],
   "source": [
    "limite2 = Q3+1.5*IQ\n",
    "print(limite2)"
   ]
  },
  {
   "cell_type": "code",
   "execution_count": null,
   "metadata": {},
   "outputs": [],
   "source": [
    "limite3=Q1-1.5*IQ\n",
    "print(limite3)"
   ]
  },
  {
   "cell_type": "code",
   "execution_count": null,
   "metadata": {},
   "outputs": [],
   "source": [
    "limite4 = Q1-3*IQ\n",
    "print(limite4)"
   ]
  },
  {
   "cell_type": "code",
   "execution_count": null,
   "metadata": {},
   "outputs": [],
   "source": [
    "# Calculando nivel de satisfação médio por salary\n",
    "C_mean=colaborador['satisfaction_level'].groupby(by=colaborador.salary).mean()\n",
    "\n",
    "# exibindo\n",
    "C_mean"
   ]
  },
  {
   "cell_type": "code",
   "execution_count": null,
   "metadata": {},
   "outputs": [],
   "source": [
    "# Calculando nivel de satisfação médio por depto\n",
    "C_mean=colaborador['satisfaction_level'].groupby(by=colaborador.depto).mean()\n",
    "\n",
    "# exibindo\n",
    "C_mean"
   ]
  },
  {
   "cell_type": "code",
   "execution_count": null,
   "metadata": {},
   "outputs": [],
   "source": [
    "# ordenação ( opcional mas recomendável \"storytelling\")\n",
    "\n",
    "C_mean.sort_values()\n",
    "\n"
   ]
  },
  {
   "cell_type": "code",
   "execution_count": null,
   "metadata": {},
   "outputs": [],
   "source": [
    "# Visualização do nível de satisfação\n",
    "fig=plt.figure() \n",
    "C_mean.plot( kind='barh', title='nível de satisfação por depto')\n",
    "plt.grid()\n",
    "sb.despine()\n",
    "plt.show()\n"
   ]
  },
  {
   "cell_type": "code",
   "execution_count": null,
   "metadata": {},
   "outputs": [],
   "source": []
  },
  {
   "cell_type": "code",
   "execution_count": null,
   "metadata": {},
   "outputs": [],
   "source": [
    "################################################\n",
    "########### REMOVER OS OUTLIERS ############\n",
    "################################################\n",
    "\n",
    "# Removendo os Outliers\n",
    "colabSemOut = colaborador.loc[colaborador.average_montly_hours < 500]\n"
   ]
  },
  {
   "cell_type": "code",
   "execution_count": null,
   "metadata": {},
   "outputs": [],
   "source": [
    "colabSemOut.describe().round(2).T"
   ]
  },
  {
   "cell_type": "code",
   "execution_count": null,
   "metadata": {},
   "outputs": [],
   "source": [
    "# Histograma da variável average_montly_hours\n",
    "plt.hist(colabSemOut['average_montly_hours'], bins=5)\n",
    "plt.ylabel('Frequência')\n",
    "plt.xlabel('average_montly_hours')\n",
    "plt.title('Histograma average_montly_hours')"
   ]
  },
  {
   "cell_type": "code",
   "execution_count": null,
   "metadata": {},
   "outputs": [],
   "source": [
    "# Boxplot da variável average_montly_hours\n",
    "sb.boxplot(y=\"average_montly_hours\", data=colabSemOut)"
   ]
  },
  {
   "cell_type": "markdown",
   "metadata": {},
   "source": [
    "#### Em algumas análises precisamos fazer transformações de variáveis\n",
    "A escala das variáveis pode afetar muito a qualidade das predições. Alguns algoritmos darão preferência para utilizar variáveis com valores muito alto. Padronizar as variáveis contínuas para todas terem média de 0 e desvio-padrão de 1 ou normalizar gerando valores dentre 0,0 a 1,0."
   ]
  },
  {
   "cell_type": "code",
   "execution_count": null,
   "metadata": {},
   "outputs": [],
   "source": [
    "# Em algumas análises precisamos fazer transformações de variáveis\n",
    "\n",
    "# Novamente Histograma da variável satisfaction_level\n",
    "# Histograma da variável satisfaction_level\n",
    "plt.hist(colabSemOut['satisfaction_level'], bins=5)\n",
    "plt.ylabel('Frequência')\n",
    "plt.xlabel('satisfaction_level')\n",
    "plt.title('Histograma Nivel de Satisfação')"
   ]
  },
  {
   "attachments": {
    "image-2.png": {
     "image/png": "[encoded data removed]"
    },
    "image.png": {
     "image/png": "[encoded data removed]"
    }
   },
   "cell_type": "markdown",
   "metadata": {},
   "source": [
    "#### Transformação de variáveis: Normatização Min-Max\n",
    "####  => os dados de um atributo são normalizados gerando valores  entre  0,0 a 1,0.\n",
    "![image-2.png](attachment:image-2.png)\n",
    " ![image.png](attachment:image.png)"
   ]
  },
  {
   "cell_type": "code",
   "execution_count": null,
   "metadata": {},
   "outputs": [],
   "source": [
    "colabSemOut['montly_hours_norm']  = (colabSemOut['average_montly_hours'] - min(colabSemOut['average_montly_hours'])) /( max(colabSemOut['average_montly_hours']) - min(colabSemOut['average_montly_hours'])) "
   ]
  },
  {
   "cell_type": "code",
   "execution_count": null,
   "metadata": {},
   "outputs": [],
   "source": [
    "colabSemOut['satisfaction_norm']  = (colabSemOut['satisfaction_level'] - min(colabSemOut['satisfaction_level'])) /( max(colabSemOut['satisfaction_level']) - min(colabSemOut['satisfaction_level'])) "
   ]
  },
  {
   "cell_type": "code",
   "execution_count": null,
   "metadata": {},
   "outputs": [],
   "source": [
    "colabSemOut['montly_hours_norm']  = (colabSemOut['average_montly_hours'] - min(colabSemOut['average_montly_hours'])) /( max(colabSemOut['average_montly_hours']) - min(colabSemOut['average_montly_hours'])) "
   ]
  },
  {
   "cell_type": "code",
   "execution_count": null,
   "metadata": {},
   "outputs": [],
   "source": []
  },
  {
   "cell_type": "code",
   "execution_count": null,
   "metadata": {},
   "outputs": [],
   "source": [
    "colabSemOut.describe().round(2).T"
   ]
  },
  {
   "attachments": {
    "image.png": {
     "image/png": "[encoded data removed]"
    }
   },
   "cell_type": "markdown",
   "metadata": {},
   "source": [
    "#### Transformação de variáveis: Padronização\n",
    "#### Transforma os valores em números de desvios padrões a partir da média.\n",
    "![image.png](attachment:image.png)"
   ]
  },
  {
   "cell_type": "code",
   "execution_count": null,
   "metadata": {},
   "outputs": [],
   "source": [
    "# Histograma da variável satisfaction_level normatizada\n",
    "\n",
    "plt.hist(colabSemOut['montly_hours_norm'], bins=5)\n",
    "plt.ylabel('Frequência')\n",
    "plt.xlabel('montly_hours_norm')\n",
    "plt.title('Histograma ação Normatizada')"
   ]
  },
  {
   "cell_type": "code",
   "execution_count": null,
   "metadata": {},
   "outputs": [],
   "source": [
    "colabSemOut['satisfaction_padr'] = (colabSemOut['satisfaction_level'] - np.mean(colabSemOut['satisfaction_level']) )/np.std(colabSemOut['satisfaction_level'])"
   ]
  },
  {
   "cell_type": "code",
   "execution_count": null,
   "metadata": {},
   "outputs": [],
   "source": [
    "colabSemOut.describe().round(2).T"
   ]
  },
  {
   "cell_type": "code",
   "execution_count": null,
   "metadata": {},
   "outputs": [],
   "source": [
    "# Histograma da variável satisfaction_level padronizada\n",
    "\n",
    "plt.hist(colabSemOut['satisfaction_padr'], bins=5)\n",
    "plt.ylabel('Frequência')\n",
    "plt.xlabel('satisfaction_level')\n",
    "plt.title('Histograma Nivel de Satisfação Padronizada')"
   ]
  },
  {
   "cell_type": "code",
   "execution_count": null,
   "metadata": {},
   "outputs": [],
   "source": [
    "# Converting categorical variables to a dummy indicators\n",
    "\n",
    "# dummies variable para Salary\n",
    "salary_dummies = pd.get_dummies(colabSemOut['salary'], prefix='Salary')\n",
    "colabSemOut = pd.concat([colabSemOut, salary_dummies], axis=1)\n"
   ]
  },
  {
   "cell_type": "code",
   "execution_count": null,
   "metadata": {},
   "outputs": [],
   "source": [
    "colabSemOut.info()"
   ]
  },
  {
   "cell_type": "code",
   "execution_count": null,
   "metadata": {},
   "outputs": [],
   "source": [
    "# percebam que aqui estamos excluindo a variável categórica\n",
    "colabSemOut.drop(['salary'], axis=1, inplace=True)\n",
    "display(colabSemOut.head())"
   ]
  },
  {
   "cell_type": "code",
   "execution_count": null,
   "metadata": {},
   "outputs": [],
   "source": [
    " #mapping the data into numerical data using map function\n",
    "salary['Renda'] = salary['income'].map({'<=50K': 0, '>50K': 1}).astype(int)"
   ]
  },
  {
   "cell_type": "code",
   "execution_count": null,
   "metadata": {},
   "outputs": [],
   "source": [
    "# transformação !!!!!\n",
    " "
   ]
  }
 ],
 "metadata": {
  "kernelspec": {
   "display_name": "Python 3",
   "language": "python",
   "name": "python3"
  },
  "language_info": {
   "codemirror_mode": {
    "name": "ipython",
    "version": 3
   },
   "file_extension": ".py",
   "mimetype": "text/x-python",
   "name": "python",
   "nbconvert_exporter": "python",
   "pygments_lexer": "ipython3",
   "version": "3.8.5"
  }
 },
 "nbformat": 4,
 "nbformat_minor": 5
}
