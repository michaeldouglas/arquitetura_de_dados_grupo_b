{
  "nbformat": 4,
  "nbformat_minor": 0,
  "metadata": {
    "colab": {
      "provenance": [],
      "authorship_tag": "ABX9TyO//O2rCMD0kGwG34AMfXIP",
      "include_colab_link": true
    },
    "kernelspec": {
      "name": "python3",
      "display_name": "Python 3"
    },
    "language_info": {
      "name": "python"
    }
  },
  "cells": [
    {
      "cell_type": "markdown",
      "metadata": {
        "id": "view-in-github",
        "colab_type": "text"
      },
      "source": [
        "<a href=\"https://colab.research.google.com/github/michaeldouglas/mba_IA_ML-proj_int-grupo_b/blob/main/Python/Trabalho_deep_learning_reinforcement_learning/Heart_Disease_exercicio_1_1.ipynb\" target=\"_parent\"><img src=\"https://colab.research.google.com/assets/colab-badge.svg\" alt=\"Open In Colab\"/></a>"
      ]
    },
    {
      "cell_type": "markdown",
      "source": [
        "### Exercício #1_1\n",
        "\n",
        "Utilizando o dataset Heart Disease UCI (disponível no repositório da disciplina e em https://www.kaggle.com/ronitf/heart-disease-uci) configure uma Rede Neural MLP que classifique as amostras em saudáveis (coluna target =0) ou não.\n",
        "\n",
        "### Definição do problema\n",
        "\n",
        "Este banco de dados contém 76 atributos, mas todos os experimentos publicados referem-se ao uso de um subconjunto de 14 deles. Em particular, o banco de dados de Cleveland é o único que foi usado por pesquisadores de ML até hoje.\n",
        "\n",
        "### Informações dos atributos\n",
        "\n",
        "1.   Idade\n",
        "2.   Sexo\n",
        "3.   Tipo de dor no peito\n",
        "4.   Pressão arterial em repouso\n",
        "5.   Colesterol sérico\n",
        "6.   Açúcar no sangue em jejum \n",
        "7.   Resultados eletrocardiográficos em repouso\n",
        "8.   Frequência cardíaca máxima alcançada\n",
        "9.   Angina induzida por exercício\n",
        "10.  Depressão do ST induzida pelo exercício\n",
        "11.  A inclinação do pico do segmento ST\n",
        "12.  Número de vasos principais\n",
        "13.  Tal: 3 = normal; 6 = defeito corrigido; 7 = defeito reversível\n",
        "14.  Variável target\n",
        "\n"
      ],
      "metadata": {
        "id": "lFFQGugBk8kR"
      }
    },
    {
      "cell_type": "code",
      "execution_count": 1,
      "metadata": {
        "id": "1fQybdCEjudW"
      },
      "outputs": [],
      "source": [
        "#@title importação das bibliotecas\n",
        "\n",
        "import pandas as pd\n",
        "import numpy as np\n",
        "from sklearn.model_selection import train_test_split\n",
        "from sklearn.preprocessing import StandardScaler\n",
        "from keras.utils.vis_utils import plot_model\n",
        "import matplotlib.pyplot as plt\n",
        "from tensorflow.keras.models import Sequential\n",
        "from tensorflow.keras.layers import Dense"
      ]
    },
    {
      "cell_type": "code",
      "source": [
        "dataset = pd.read_csv('heart.csv')"
      ],
      "metadata": {
        "id": "5DYbqXTUk2k3"
      },
      "execution_count": 2,
      "outputs": []
    },
    {
      "cell_type": "markdown",
      "source": [
        "### Verificação de dados nulos\n",
        "\n",
        "Aqui nós vamos verificar os dados nulos do nosso modelo, além disso colocamos o resultado em um DataFrame para exibir o total encontrado X a proporção de valores nulos do nosso modelo."
      ],
      "metadata": {
        "id": "8FFwpx0OlOxX"
      }
    },
    {
      "cell_type": "code",
      "source": [
        "dataset.isnull().mean(axis=1).loc[:10]"
      ],
      "metadata": {
        "colab": {
          "base_uri": "https://localhost:8080/"
        },
        "id": "ovnzKd3vlQHZ",
        "outputId": "05dfa2aa-eb33-4f6c-92d7-930df13f5e95"
      },
      "execution_count": 3,
      "outputs": [
        {
          "output_type": "execute_result",
          "data": {
            "text/plain": [
              "0     0.0\n",
              "1     0.0\n",
              "2     0.0\n",
              "3     0.0\n",
              "4     0.0\n",
              "5     0.0\n",
              "6     0.0\n",
              "7     0.0\n",
              "8     0.0\n",
              "9     0.0\n",
              "10    0.0\n",
              "dtype: float64"
            ]
          },
          "metadata": {},
          "execution_count": 3
        }
      ]
    },
    {
      "cell_type": "code",
      "source": [
        "dataset.isnull() # Aqui verificamos o total de null na base se existir\n",
        "dataset.isnull().sum()/len(dataset) # Aqui obtemos a proporção de null se existir\n",
        "\n",
        "# Criamos um novo DataFrame para verificar o total e a proporção de null na base\n",
        "pd.DataFrame(zip(dataset.isnull().sum(),dataset.isnull().sum()/len(dataset)), columns=['Count', 'Proportion'], index=dataset.columns)"
      ],
      "metadata": {
        "colab": {
          "base_uri": "https://localhost:8080/",
          "height": 488
        },
        "id": "q47GuWCWlT-i",
        "outputId": "8f2a9ed2-88d3-4f12-ccc7-cf84bfdeb253"
      },
      "execution_count": 4,
      "outputs": [
        {
          "output_type": "execute_result",
          "data": {
            "text/plain": [
              "          Count  Proportion\n",
              "age           0         0.0\n",
              "sex           0         0.0\n",
              "cp            0         0.0\n",
              "trestbps      0         0.0\n",
              "chol          0         0.0\n",
              "fbs           0         0.0\n",
              "restecg       0         0.0\n",
              "thalach       0         0.0\n",
              "exang         0         0.0\n",
              "oldpeak       0         0.0\n",
              "slope         0         0.0\n",
              "ca            0         0.0\n",
              "thal          0         0.0\n",
              "target        0         0.0"
            ],
            "text/html": [
              "\n",
              "  <div id=\"df-9b68b570-32ab-4537-9325-33335f5e2afb\">\n",
              "    <div class=\"colab-df-container\">\n",
              "      <div>\n",
              "<style scoped>\n",
              "    .dataframe tbody tr th:only-of-type {\n",
              "        vertical-align: middle;\n",
              "    }\n",
              "\n",
              "    .dataframe tbody tr th {\n",
              "        vertical-align: top;\n",
              "    }\n",
              "\n",
              "    .dataframe thead th {\n",
              "        text-align: right;\n",
              "    }\n",
              "</style>\n",
              "<table border=\"1\" class=\"dataframe\">\n",
              "  <thead>\n",
              "    <tr style=\"text-align: right;\">\n",
              "      <th></th>\n",
              "      <th>Count</th>\n",
              "      <th>Proportion</th>\n",
              "    </tr>\n",
              "  </thead>\n",
              "  <tbody>\n",
              "    <tr>\n",
              "      <th>age</th>\n",
              "      <td>0</td>\n",
              "      <td>0.0</td>\n",
              "    </tr>\n",
              "    <tr>\n",
              "      <th>sex</th>\n",
              "      <td>0</td>\n",
              "      <td>0.0</td>\n",
              "    </tr>\n",
              "    <tr>\n",
              "      <th>cp</th>\n",
              "      <td>0</td>\n",
              "      <td>0.0</td>\n",
              "    </tr>\n",
              "    <tr>\n",
              "      <th>trestbps</th>\n",
              "      <td>0</td>\n",
              "      <td>0.0</td>\n",
              "    </tr>\n",
              "    <tr>\n",
              "      <th>chol</th>\n",
              "      <td>0</td>\n",
              "      <td>0.0</td>\n",
              "    </tr>\n",
              "    <tr>\n",
              "      <th>fbs</th>\n",
              "      <td>0</td>\n",
              "      <td>0.0</td>\n",
              "    </tr>\n",
              "    <tr>\n",
              "      <th>restecg</th>\n",
              "      <td>0</td>\n",
              "      <td>0.0</td>\n",
              "    </tr>\n",
              "    <tr>\n",
              "      <th>thalach</th>\n",
              "      <td>0</td>\n",
              "      <td>0.0</td>\n",
              "    </tr>\n",
              "    <tr>\n",
              "      <th>exang</th>\n",
              "      <td>0</td>\n",
              "      <td>0.0</td>\n",
              "    </tr>\n",
              "    <tr>\n",
              "      <th>oldpeak</th>\n",
              "      <td>0</td>\n",
              "      <td>0.0</td>\n",
              "    </tr>\n",
              "    <tr>\n",
              "      <th>slope</th>\n",
              "      <td>0</td>\n",
              "      <td>0.0</td>\n",
              "    </tr>\n",
              "    <tr>\n",
              "      <th>ca</th>\n",
              "      <td>0</td>\n",
              "      <td>0.0</td>\n",
              "    </tr>\n",
              "    <tr>\n",
              "      <th>thal</th>\n",
              "      <td>0</td>\n",
              "      <td>0.0</td>\n",
              "    </tr>\n",
              "    <tr>\n",
              "      <th>target</th>\n",
              "      <td>0</td>\n",
              "      <td>0.0</td>\n",
              "    </tr>\n",
              "  </tbody>\n",
              "</table>\n",
              "</div>\n",
              "      <button class=\"colab-df-convert\" onclick=\"convertToInteractive('df-9b68b570-32ab-4537-9325-33335f5e2afb')\"\n",
              "              title=\"Convert this dataframe to an interactive table.\"\n",
              "              style=\"display:none;\">\n",
              "        \n",
              "  <svg xmlns=\"http://www.w3.org/2000/svg\" height=\"24px\"viewBox=\"0 0 24 24\"\n",
              "       width=\"24px\">\n",
              "    <path d=\"M0 0h24v24H0V0z\" fill=\"none\"/>\n",
              "    <path d=\"M18.56 5.44l.94 2.06.94-2.06 2.06-.94-2.06-.94-.94-2.06-.94 2.06-2.06.94zm-11 1L8.5 8.5l.94-2.06 2.06-.94-2.06-.94L8.5 2.5l-.94 2.06-2.06.94zm10 10l.94 2.06.94-2.06 2.06-.94-2.06-.94-.94-2.06-.94 2.06-2.06.94z\"/><path d=\"M17.41 7.96l-1.37-1.37c-.4-.4-.92-.59-1.43-.59-.52 0-1.04.2-1.43.59L10.3 9.45l-7.72 7.72c-.78.78-.78 2.05 0 2.83L4 21.41c.39.39.9.59 1.41.59.51 0 1.02-.2 1.41-.59l7.78-7.78 2.81-2.81c.8-.78.8-2.07 0-2.86zM5.41 20L4 18.59l7.72-7.72 1.47 1.35L5.41 20z\"/>\n",
              "  </svg>\n",
              "      </button>\n",
              "      \n",
              "  <style>\n",
              "    .colab-df-container {\n",
              "      display:flex;\n",
              "      flex-wrap:wrap;\n",
              "      gap: 12px;\n",
              "    }\n",
              "\n",
              "    .colab-df-convert {\n",
              "      background-color: #E8F0FE;\n",
              "      border: none;\n",
              "      border-radius: 50%;\n",
              "      cursor: pointer;\n",
              "      display: none;\n",
              "      fill: #1967D2;\n",
              "      height: 32px;\n",
              "      padding: 0 0 0 0;\n",
              "      width: 32px;\n",
              "    }\n",
              "\n",
              "    .colab-df-convert:hover {\n",
              "      background-color: #E2EBFA;\n",
              "      box-shadow: 0px 1px 2px rgba(60, 64, 67, 0.3), 0px 1px 3px 1px rgba(60, 64, 67, 0.15);\n",
              "      fill: #174EA6;\n",
              "    }\n",
              "\n",
              "    [theme=dark] .colab-df-convert {\n",
              "      background-color: #3B4455;\n",
              "      fill: #D2E3FC;\n",
              "    }\n",
              "\n",
              "    [theme=dark] .colab-df-convert:hover {\n",
              "      background-color: #434B5C;\n",
              "      box-shadow: 0px 1px 3px 1px rgba(0, 0, 0, 0.15);\n",
              "      filter: drop-shadow(0px 1px 2px rgba(0, 0, 0, 0.3));\n",
              "      fill: #FFFFFF;\n",
              "    }\n",
              "  </style>\n",
              "\n",
              "      <script>\n",
              "        const buttonEl =\n",
              "          document.querySelector('#df-9b68b570-32ab-4537-9325-33335f5e2afb button.colab-df-convert');\n",
              "        buttonEl.style.display =\n",
              "          google.colab.kernel.accessAllowed ? 'block' : 'none';\n",
              "\n",
              "        async function convertToInteractive(key) {\n",
              "          const element = document.querySelector('#df-9b68b570-32ab-4537-9325-33335f5e2afb');\n",
              "          const dataTable =\n",
              "            await google.colab.kernel.invokeFunction('convertToInteractive',\n",
              "                                                     [key], {});\n",
              "          if (!dataTable) return;\n",
              "\n",
              "          const docLinkHtml = 'Like what you see? Visit the ' +\n",
              "            '<a target=\"_blank\" href=https://colab.research.google.com/notebooks/data_table.ipynb>data table notebook</a>'\n",
              "            + ' to learn more about interactive tables.';\n",
              "          element.innerHTML = '';\n",
              "          dataTable['output_type'] = 'display_data';\n",
              "          await google.colab.output.renderOutput(dataTable, element);\n",
              "          const docLink = document.createElement('div');\n",
              "          docLink.innerHTML = docLinkHtml;\n",
              "          element.appendChild(docLink);\n",
              "        }\n",
              "      </script>\n",
              "    </div>\n",
              "  </div>\n",
              "  "
            ]
          },
          "metadata": {},
          "execution_count": 4
        }
      ]
    },
    {
      "cell_type": "code",
      "source": [
        "dataset.info()"
      ],
      "metadata": {
        "colab": {
          "base_uri": "https://localhost:8080/"
        },
        "id": "3PR-k0qllape",
        "outputId": "deffb6fb-66ea-4326-dfd2-d56771587ad8"
      },
      "execution_count": 5,
      "outputs": [
        {
          "output_type": "stream",
          "name": "stdout",
          "text": [
            "<class 'pandas.core.frame.DataFrame'>\n",
            "RangeIndex: 303 entries, 0 to 302\n",
            "Data columns (total 14 columns):\n",
            " #   Column    Non-Null Count  Dtype  \n",
            "---  ------    --------------  -----  \n",
            " 0   age       303 non-null    int64  \n",
            " 1   sex       303 non-null    int64  \n",
            " 2   cp        303 non-null    int64  \n",
            " 3   trestbps  303 non-null    int64  \n",
            " 4   chol      303 non-null    int64  \n",
            " 5   fbs       303 non-null    int64  \n",
            " 6   restecg   303 non-null    int64  \n",
            " 7   thalach   303 non-null    int64  \n",
            " 8   exang     303 non-null    int64  \n",
            " 9   oldpeak   303 non-null    float64\n",
            " 10  slope     303 non-null    int64  \n",
            " 11  ca        303 non-null    int64  \n",
            " 12  thal      303 non-null    int64  \n",
            " 13  target    303 non-null    int64  \n",
            "dtypes: float64(1), int64(13)\n",
            "memory usage: 33.3 KB\n"
          ]
        }
      ]
    },
    {
      "cell_type": "code",
      "source": [
        "dataset.dtypes"
      ],
      "metadata": {
        "colab": {
          "base_uri": "https://localhost:8080/"
        },
        "id": "EvgL4yceleIx",
        "outputId": "881f3572-4709-4daf-c5a0-8e6d8b899c6d"
      },
      "execution_count": 6,
      "outputs": [
        {
          "output_type": "execute_result",
          "data": {
            "text/plain": [
              "age           int64\n",
              "sex           int64\n",
              "cp            int64\n",
              "trestbps      int64\n",
              "chol          int64\n",
              "fbs           int64\n",
              "restecg       int64\n",
              "thalach       int64\n",
              "exang         int64\n",
              "oldpeak     float64\n",
              "slope         int64\n",
              "ca            int64\n",
              "thal          int64\n",
              "target        int64\n",
              "dtype: object"
            ]
          },
          "metadata": {},
          "execution_count": 6
        }
      ]
    },
    {
      "cell_type": "markdown",
      "source": [
        "### Observações finais\n",
        "\n",
        "*   Não contém valores nulos\n",
        "*   O número total de observações é de 303\n",
        "*   Os tipos com exceção do oldpeak são do tipo int64\n",
        "*   No final acreditamos que os dados estão bons para separar em treino e testes sem nenhuma transformação ou alteração \n",
        "\n",
        "### Separação dos dados para treino e teste\n",
        "\n",
        "A seguir separamos os dados para treino e testes e também já separamos nossa variávle target."
      ],
      "metadata": {
        "id": "3_CnmNdVlkGl"
      }
    },
    {
      "cell_type": "code",
      "source": [
        "X = dataset.drop(['target'], axis=1)\n",
        "y = dataset['target']"
      ],
      "metadata": {
        "id": "UikyKv6Ll-Qn"
      },
      "execution_count": 7,
      "outputs": []
    },
    {
      "cell_type": "code",
      "source": [
        "X_train, X_test, y_train, y_test = train_test_split(X, y, test_size=0.2, random_state=0)"
      ],
      "metadata": {
        "id": "kZPeCqzImBW_"
      },
      "execution_count": 8,
      "outputs": []
    },
    {
      "cell_type": "code",
      "source": [
        "#@title Transformação dos dados para escalar \n",
        "scaler = StandardScaler()\n",
        "X_train = scaler.fit_transform(X_train)\n",
        "X_test = scaler.transform(X_test)"
      ],
      "metadata": {
        "id": "JaGt4YUymFAP"
      },
      "execution_count": 9,
      "outputs": []
    },
    {
      "cell_type": "code",
      "source": [
        "#@title Configuração da nossa rede neural MLP\n",
        "\n",
        "model = Sequential()\n",
        "model.add(Dense(16, activation='relu', input_dim=13))\n",
        "model.add(Dense(8, activation='relu'))\n",
        "model.add(Dense(1, activation='sigmoid'))"
      ],
      "metadata": {
        "id": "PNEkhufCmWAQ"
      },
      "execution_count": 10,
      "outputs": []
    },
    {
      "cell_type": "code",
      "source": [
        "#@title Compilação do modelo\n",
        "model.compile(optimizer='adam', loss='binary_crossentropy', metrics=['accuracy'])"
      ],
      "metadata": {
        "id": "kLfN9wrXmdpf"
      },
      "execution_count": 11,
      "outputs": []
    },
    {
      "cell_type": "code",
      "source": [
        "#@title Treino da rede\n",
        "\n",
        "history = model.fit(X_train, y_train, epochs=100, batch_size=32, validation_data=(X_test, y_test))"
      ],
      "metadata": {
        "colab": {
          "base_uri": "https://localhost:8080/"
        },
        "id": "Nc8VPch-mkBO",
        "outputId": "89a084cb-30af-48aa-8355-3e5d27329796"
      },
      "execution_count": 12,
      "outputs": [
        {
          "output_type": "stream",
          "name": "stdout",
          "text": [
            "Epoch 1/100\n",
            "8/8 [==============================] - 1s 30ms/step - loss: 0.7090 - accuracy: 0.5620 - val_loss: 0.6123 - val_accuracy: 0.7213\n",
            "Epoch 2/100\n",
            "8/8 [==============================] - 0s 5ms/step - loss: 0.6721 - accuracy: 0.5702 - val_loss: 0.5893 - val_accuracy: 0.7213\n",
            "Epoch 3/100\n",
            "8/8 [==============================] - 0s 5ms/step - loss: 0.6414 - accuracy: 0.5826 - val_loss: 0.5715 - val_accuracy: 0.7049\n",
            "Epoch 4/100\n",
            "8/8 [==============================] - 0s 5ms/step - loss: 0.6149 - accuracy: 0.6281 - val_loss: 0.5559 - val_accuracy: 0.7049\n",
            "Epoch 5/100\n",
            "8/8 [==============================] - 0s 5ms/step - loss: 0.5895 - accuracy: 0.6488 - val_loss: 0.5430 - val_accuracy: 0.7049\n",
            "Epoch 6/100\n",
            "8/8 [==============================] - 0s 5ms/step - loss: 0.5696 - accuracy: 0.6901 - val_loss: 0.5317 - val_accuracy: 0.7049\n",
            "Epoch 7/100\n",
            "8/8 [==============================] - 0s 9ms/step - loss: 0.5506 - accuracy: 0.6983 - val_loss: 0.5225 - val_accuracy: 0.7049\n",
            "Epoch 8/100\n",
            "8/8 [==============================] - 0s 6ms/step - loss: 0.5349 - accuracy: 0.7273 - val_loss: 0.5137 - val_accuracy: 0.7049\n",
            "Epoch 9/100\n",
            "8/8 [==============================] - 0s 6ms/step - loss: 0.5205 - accuracy: 0.7438 - val_loss: 0.5050 - val_accuracy: 0.7213\n",
            "Epoch 10/100\n",
            "8/8 [==============================] - 0s 5ms/step - loss: 0.5083 - accuracy: 0.7562 - val_loss: 0.4958 - val_accuracy: 0.7049\n",
            "Epoch 11/100\n",
            "8/8 [==============================] - 0s 5ms/step - loss: 0.4954 - accuracy: 0.7603 - val_loss: 0.4874 - val_accuracy: 0.7049\n",
            "Epoch 12/100\n",
            "8/8 [==============================] - 0s 6ms/step - loss: 0.4834 - accuracy: 0.7727 - val_loss: 0.4786 - val_accuracy: 0.7049\n",
            "Epoch 13/100\n",
            "8/8 [==============================] - 0s 5ms/step - loss: 0.4733 - accuracy: 0.7810 - val_loss: 0.4695 - val_accuracy: 0.7213\n",
            "Epoch 14/100\n",
            "8/8 [==============================] - 0s 5ms/step - loss: 0.4621 - accuracy: 0.7893 - val_loss: 0.4614 - val_accuracy: 0.7213\n",
            "Epoch 15/100\n",
            "8/8 [==============================] - 0s 5ms/step - loss: 0.4518 - accuracy: 0.7893 - val_loss: 0.4539 - val_accuracy: 0.7049\n",
            "Epoch 16/100\n",
            "8/8 [==============================] - 0s 6ms/step - loss: 0.4421 - accuracy: 0.8017 - val_loss: 0.4470 - val_accuracy: 0.7213\n",
            "Epoch 17/100\n",
            "8/8 [==============================] - 0s 5ms/step - loss: 0.4337 - accuracy: 0.8058 - val_loss: 0.4409 - val_accuracy: 0.7541\n",
            "Epoch 18/100\n",
            "8/8 [==============================] - 0s 5ms/step - loss: 0.4252 - accuracy: 0.8099 - val_loss: 0.4334 - val_accuracy: 0.7541\n",
            "Epoch 19/100\n",
            "8/8 [==============================] - 0s 5ms/step - loss: 0.4170 - accuracy: 0.8058 - val_loss: 0.4261 - val_accuracy: 0.7705\n",
            "Epoch 20/100\n",
            "8/8 [==============================] - 0s 5ms/step - loss: 0.4094 - accuracy: 0.8099 - val_loss: 0.4196 - val_accuracy: 0.7869\n",
            "Epoch 21/100\n",
            "8/8 [==============================] - 0s 5ms/step - loss: 0.4026 - accuracy: 0.8140 - val_loss: 0.4129 - val_accuracy: 0.8033\n",
            "Epoch 22/100\n",
            "8/8 [==============================] - 0s 5ms/step - loss: 0.3954 - accuracy: 0.8099 - val_loss: 0.4080 - val_accuracy: 0.8033\n",
            "Epoch 23/100\n",
            "8/8 [==============================] - 0s 5ms/step - loss: 0.3895 - accuracy: 0.8264 - val_loss: 0.4024 - val_accuracy: 0.8033\n",
            "Epoch 24/100\n",
            "8/8 [==============================] - 0s 5ms/step - loss: 0.3839 - accuracy: 0.8306 - val_loss: 0.3974 - val_accuracy: 0.8033\n",
            "Epoch 25/100\n",
            "8/8 [==============================] - 0s 6ms/step - loss: 0.3783 - accuracy: 0.8388 - val_loss: 0.3928 - val_accuracy: 0.8033\n",
            "Epoch 26/100\n",
            "8/8 [==============================] - 0s 16ms/step - loss: 0.3733 - accuracy: 0.8347 - val_loss: 0.3889 - val_accuracy: 0.8361\n",
            "Epoch 27/100\n",
            "8/8 [==============================] - 0s 11ms/step - loss: 0.3687 - accuracy: 0.8388 - val_loss: 0.3851 - val_accuracy: 0.8361\n",
            "Epoch 28/100\n",
            "8/8 [==============================] - 0s 9ms/step - loss: 0.3640 - accuracy: 0.8471 - val_loss: 0.3819 - val_accuracy: 0.8361\n",
            "Epoch 29/100\n",
            "8/8 [==============================] - 0s 10ms/step - loss: 0.3597 - accuracy: 0.8430 - val_loss: 0.3785 - val_accuracy: 0.8361\n",
            "Epoch 30/100\n",
            "8/8 [==============================] - 0s 8ms/step - loss: 0.3559 - accuracy: 0.8471 - val_loss: 0.3762 - val_accuracy: 0.8361\n",
            "Epoch 31/100\n",
            "8/8 [==============================] - 0s 12ms/step - loss: 0.3520 - accuracy: 0.8471 - val_loss: 0.3738 - val_accuracy: 0.8361\n",
            "Epoch 32/100\n",
            "8/8 [==============================] - 0s 10ms/step - loss: 0.3481 - accuracy: 0.8471 - val_loss: 0.3708 - val_accuracy: 0.8361\n",
            "Epoch 33/100\n",
            "8/8 [==============================] - 0s 8ms/step - loss: 0.3447 - accuracy: 0.8512 - val_loss: 0.3691 - val_accuracy: 0.8525\n",
            "Epoch 34/100\n",
            "8/8 [==============================] - 0s 8ms/step - loss: 0.3411 - accuracy: 0.8554 - val_loss: 0.3673 - val_accuracy: 0.8525\n",
            "Epoch 35/100\n",
            "8/8 [==============================] - 0s 8ms/step - loss: 0.3380 - accuracy: 0.8512 - val_loss: 0.3652 - val_accuracy: 0.8525\n",
            "Epoch 36/100\n",
            "8/8 [==============================] - 0s 13ms/step - loss: 0.3346 - accuracy: 0.8595 - val_loss: 0.3622 - val_accuracy: 0.8525\n",
            "Epoch 37/100\n",
            "8/8 [==============================] - 0s 8ms/step - loss: 0.3315 - accuracy: 0.8636 - val_loss: 0.3604 - val_accuracy: 0.8525\n",
            "Epoch 38/100\n",
            "8/8 [==============================] - 0s 9ms/step - loss: 0.3280 - accuracy: 0.8636 - val_loss: 0.3585 - val_accuracy: 0.8525\n",
            "Epoch 39/100\n",
            "8/8 [==============================] - 0s 11ms/step - loss: 0.3255 - accuracy: 0.8678 - val_loss: 0.3570 - val_accuracy: 0.8525\n",
            "Epoch 40/100\n",
            "8/8 [==============================] - 0s 12ms/step - loss: 0.3228 - accuracy: 0.8678 - val_loss: 0.3545 - val_accuracy: 0.8525\n",
            "Epoch 41/100\n",
            "8/8 [==============================] - 0s 12ms/step - loss: 0.3200 - accuracy: 0.8678 - val_loss: 0.3539 - val_accuracy: 0.8525\n",
            "Epoch 42/100\n",
            "8/8 [==============================] - 0s 7ms/step - loss: 0.3169 - accuracy: 0.8678 - val_loss: 0.3512 - val_accuracy: 0.8525\n",
            "Epoch 43/100\n",
            "8/8 [==============================] - 0s 8ms/step - loss: 0.3144 - accuracy: 0.8678 - val_loss: 0.3499 - val_accuracy: 0.8689\n",
            "Epoch 44/100\n",
            "8/8 [==============================] - 0s 10ms/step - loss: 0.3118 - accuracy: 0.8678 - val_loss: 0.3478 - val_accuracy: 0.8689\n",
            "Epoch 45/100\n",
            "8/8 [==============================] - 0s 14ms/step - loss: 0.3096 - accuracy: 0.8636 - val_loss: 0.3459 - val_accuracy: 0.8689\n",
            "Epoch 46/100\n",
            "8/8 [==============================] - 0s 9ms/step - loss: 0.3072 - accuracy: 0.8636 - val_loss: 0.3459 - val_accuracy: 0.8525\n",
            "Epoch 47/100\n",
            "8/8 [==============================] - 0s 17ms/step - loss: 0.3049 - accuracy: 0.8678 - val_loss: 0.3452 - val_accuracy: 0.8689\n",
            "Epoch 48/100\n",
            "8/8 [==============================] - 0s 10ms/step - loss: 0.3028 - accuracy: 0.8678 - val_loss: 0.3443 - val_accuracy: 0.8525\n",
            "Epoch 49/100\n",
            "8/8 [==============================] - 0s 16ms/step - loss: 0.3008 - accuracy: 0.8678 - val_loss: 0.3454 - val_accuracy: 0.8689\n",
            "Epoch 50/100\n",
            "8/8 [==============================] - 0s 7ms/step - loss: 0.2989 - accuracy: 0.8719 - val_loss: 0.3436 - val_accuracy: 0.8689\n",
            "Epoch 51/100\n",
            "8/8 [==============================] - 0s 10ms/step - loss: 0.2971 - accuracy: 0.8719 - val_loss: 0.3437 - val_accuracy: 0.8689\n",
            "Epoch 52/100\n",
            "8/8 [==============================] - 0s 7ms/step - loss: 0.2946 - accuracy: 0.8719 - val_loss: 0.3426 - val_accuracy: 0.8689\n",
            "Epoch 53/100\n",
            "8/8 [==============================] - 0s 11ms/step - loss: 0.2929 - accuracy: 0.8719 - val_loss: 0.3416 - val_accuracy: 0.8689\n",
            "Epoch 54/100\n",
            "8/8 [==============================] - 0s 9ms/step - loss: 0.2911 - accuracy: 0.8719 - val_loss: 0.3425 - val_accuracy: 0.8689\n",
            "Epoch 55/100\n",
            "8/8 [==============================] - 0s 31ms/step - loss: 0.2894 - accuracy: 0.8678 - val_loss: 0.3417 - val_accuracy: 0.8689\n",
            "Epoch 56/100\n",
            "8/8 [==============================] - 0s 15ms/step - loss: 0.2876 - accuracy: 0.8678 - val_loss: 0.3420 - val_accuracy: 0.8689\n",
            "Epoch 57/100\n",
            "8/8 [==============================] - 0s 13ms/step - loss: 0.2858 - accuracy: 0.8719 - val_loss: 0.3422 - val_accuracy: 0.8689\n",
            "Epoch 58/100\n",
            "8/8 [==============================] - 0s 8ms/step - loss: 0.2840 - accuracy: 0.8719 - val_loss: 0.3421 - val_accuracy: 0.8689\n",
            "Epoch 59/100\n",
            "8/8 [==============================] - 0s 21ms/step - loss: 0.2823 - accuracy: 0.8719 - val_loss: 0.3408 - val_accuracy: 0.8689\n",
            "Epoch 60/100\n",
            "8/8 [==============================] - 0s 11ms/step - loss: 0.2810 - accuracy: 0.8760 - val_loss: 0.3417 - val_accuracy: 0.8689\n",
            "Epoch 61/100\n",
            "8/8 [==============================] - 0s 11ms/step - loss: 0.2793 - accuracy: 0.8760 - val_loss: 0.3414 - val_accuracy: 0.8689\n",
            "Epoch 62/100\n",
            "8/8 [==============================] - 0s 8ms/step - loss: 0.2783 - accuracy: 0.8719 - val_loss: 0.3428 - val_accuracy: 0.8689\n",
            "Epoch 63/100\n",
            "8/8 [==============================] - 0s 8ms/step - loss: 0.2765 - accuracy: 0.8760 - val_loss: 0.3437 - val_accuracy: 0.8689\n",
            "Epoch 64/100\n",
            "8/8 [==============================] - 0s 12ms/step - loss: 0.2745 - accuracy: 0.8760 - val_loss: 0.3434 - val_accuracy: 0.8689\n",
            "Epoch 65/100\n",
            "8/8 [==============================] - 0s 11ms/step - loss: 0.2730 - accuracy: 0.8802 - val_loss: 0.3436 - val_accuracy: 0.8689\n",
            "Epoch 66/100\n",
            "8/8 [==============================] - 0s 11ms/step - loss: 0.2713 - accuracy: 0.8843 - val_loss: 0.3444 - val_accuracy: 0.8689\n",
            "Epoch 67/100\n",
            "8/8 [==============================] - 0s 8ms/step - loss: 0.2703 - accuracy: 0.8843 - val_loss: 0.3447 - val_accuracy: 0.8689\n",
            "Epoch 68/100\n",
            "8/8 [==============================] - 0s 15ms/step - loss: 0.2685 - accuracy: 0.8884 - val_loss: 0.3455 - val_accuracy: 0.8689\n",
            "Epoch 69/100\n",
            "8/8 [==============================] - 0s 23ms/step - loss: 0.2668 - accuracy: 0.8926 - val_loss: 0.3463 - val_accuracy: 0.8689\n",
            "Epoch 70/100\n",
            "8/8 [==============================] - 0s 15ms/step - loss: 0.2654 - accuracy: 0.8967 - val_loss: 0.3460 - val_accuracy: 0.8689\n",
            "Epoch 71/100\n",
            "8/8 [==============================] - 0s 19ms/step - loss: 0.2645 - accuracy: 0.8967 - val_loss: 0.3467 - val_accuracy: 0.8689\n",
            "Epoch 72/100\n",
            "8/8 [==============================] - 0s 17ms/step - loss: 0.2626 - accuracy: 0.9008 - val_loss: 0.3463 - val_accuracy: 0.8689\n",
            "Epoch 73/100\n",
            "8/8 [==============================] - 0s 21ms/step - loss: 0.2610 - accuracy: 0.8967 - val_loss: 0.3466 - val_accuracy: 0.8689\n",
            "Epoch 74/100\n",
            "8/8 [==============================] - 0s 8ms/step - loss: 0.2596 - accuracy: 0.9008 - val_loss: 0.3464 - val_accuracy: 0.8689\n",
            "Epoch 75/100\n",
            "8/8 [==============================] - 0s 11ms/step - loss: 0.2582 - accuracy: 0.9008 - val_loss: 0.3457 - val_accuracy: 0.8689\n",
            "Epoch 76/100\n",
            "8/8 [==============================] - 0s 26ms/step - loss: 0.2567 - accuracy: 0.9050 - val_loss: 0.3465 - val_accuracy: 0.8689\n",
            "Epoch 77/100\n",
            "8/8 [==============================] - 0s 11ms/step - loss: 0.2555 - accuracy: 0.9091 - val_loss: 0.3471 - val_accuracy: 0.8852\n",
            "Epoch 78/100\n",
            "8/8 [==============================] - 0s 14ms/step - loss: 0.2543 - accuracy: 0.9091 - val_loss: 0.3479 - val_accuracy: 0.8689\n",
            "Epoch 79/100\n",
            "8/8 [==============================] - 0s 25ms/step - loss: 0.2527 - accuracy: 0.9050 - val_loss: 0.3481 - val_accuracy: 0.8689\n",
            "Epoch 80/100\n",
            "8/8 [==============================] - 0s 31ms/step - loss: 0.2513 - accuracy: 0.9050 - val_loss: 0.3475 - val_accuracy: 0.8852\n",
            "Epoch 81/100\n",
            "8/8 [==============================] - 0s 25ms/step - loss: 0.2498 - accuracy: 0.9050 - val_loss: 0.3479 - val_accuracy: 0.8852\n",
            "Epoch 82/100\n",
            "8/8 [==============================] - 0s 15ms/step - loss: 0.2484 - accuracy: 0.9050 - val_loss: 0.3487 - val_accuracy: 0.8852\n",
            "Epoch 83/100\n",
            "8/8 [==============================] - 0s 16ms/step - loss: 0.2468 - accuracy: 0.9091 - val_loss: 0.3496 - val_accuracy: 0.8852\n",
            "Epoch 84/100\n",
            "8/8 [==============================] - 0s 19ms/step - loss: 0.2456 - accuracy: 0.9091 - val_loss: 0.3487 - val_accuracy: 0.8852\n",
            "Epoch 85/100\n",
            "8/8 [==============================] - 0s 18ms/step - loss: 0.2440 - accuracy: 0.9091 - val_loss: 0.3497 - val_accuracy: 0.8852\n",
            "Epoch 86/100\n",
            "8/8 [==============================] - 0s 10ms/step - loss: 0.2426 - accuracy: 0.9091 - val_loss: 0.3498 - val_accuracy: 0.8852\n",
            "Epoch 87/100\n",
            "8/8 [==============================] - 0s 23ms/step - loss: 0.2412 - accuracy: 0.9091 - val_loss: 0.3502 - val_accuracy: 0.8852\n",
            "Epoch 88/100\n",
            "8/8 [==============================] - 0s 27ms/step - loss: 0.2399 - accuracy: 0.9132 - val_loss: 0.3507 - val_accuracy: 0.8852\n",
            "Epoch 89/100\n",
            "8/8 [==============================] - 0s 19ms/step - loss: 0.2387 - accuracy: 0.9174 - val_loss: 0.3517 - val_accuracy: 0.8852\n",
            "Epoch 90/100\n",
            "8/8 [==============================] - 0s 21ms/step - loss: 0.2369 - accuracy: 0.9091 - val_loss: 0.3529 - val_accuracy: 0.8852\n",
            "Epoch 91/100\n",
            "8/8 [==============================] - 0s 33ms/step - loss: 0.2358 - accuracy: 0.9174 - val_loss: 0.3527 - val_accuracy: 0.8852\n",
            "Epoch 92/100\n",
            "8/8 [==============================] - 0s 19ms/step - loss: 0.2339 - accuracy: 0.9174 - val_loss: 0.3530 - val_accuracy: 0.8852\n",
            "Epoch 93/100\n",
            "8/8 [==============================] - 0s 27ms/step - loss: 0.2327 - accuracy: 0.9174 - val_loss: 0.3543 - val_accuracy: 0.8852\n",
            "Epoch 94/100\n",
            "8/8 [==============================] - 0s 19ms/step - loss: 0.2312 - accuracy: 0.9174 - val_loss: 0.3545 - val_accuracy: 0.8852\n",
            "Epoch 95/100\n",
            "8/8 [==============================] - 0s 25ms/step - loss: 0.2299 - accuracy: 0.9174 - val_loss: 0.3546 - val_accuracy: 0.8852\n",
            "Epoch 96/100\n",
            "8/8 [==============================] - 0s 16ms/step - loss: 0.2285 - accuracy: 0.9174 - val_loss: 0.3553 - val_accuracy: 0.8689\n",
            "Epoch 97/100\n",
            "8/8 [==============================] - 0s 19ms/step - loss: 0.2271 - accuracy: 0.9215 - val_loss: 0.3545 - val_accuracy: 0.8689\n",
            "Epoch 98/100\n",
            "8/8 [==============================] - 0s 27ms/step - loss: 0.2261 - accuracy: 0.9215 - val_loss: 0.3543 - val_accuracy: 0.8689\n",
            "Epoch 99/100\n",
            "8/8 [==============================] - 0s 31ms/step - loss: 0.2248 - accuracy: 0.9215 - val_loss: 0.3540 - val_accuracy: 0.8689\n",
            "Epoch 100/100\n",
            "8/8 [==============================] - 0s 11ms/step - loss: 0.2229 - accuracy: 0.9256 - val_loss: 0.3559 - val_accuracy: 0.8689\n"
          ]
        }
      ]
    },
    {
      "cell_type": "code",
      "source": [
        "#@title Plot das camadas\n",
        "plot_model(model, to_file='heart.png', show_shapes=True, show_layer_names=True)"
      ],
      "metadata": {
        "colab": {
          "base_uri": "https://localhost:8080/",
          "height": 422
        },
        "id": "1nqn-NbNmrWJ",
        "outputId": "cd4d56ad-380a-40e0-dd36-e7121f0f8d6f"
      },
      "execution_count": 13,
      "outputs": [
        {
          "output_type": "execute_result",
          "data": {
            "image/png": "[encoded data removed]",
            "text/plain": [
              "<IPython.core.display.Image object>"
            ]
          },
          "metadata": {},
          "execution_count": 13
        }
      ]
    },
    {
      "cell_type": "code",
      "source": [
        "plt.plot(history.history['accuracy'])\n",
        "plt.plot(history.history['val_accuracy'])\n",
        "plt.title('model accuracy')\n",
        "plt.ylabel('accuracy')\n",
        "plt.xlabel('epoch')\n",
        "plt.legend(['train', 'val'], loc='upper left')\n",
        "plt.show()"
      ],
      "metadata": {
        "colab": {
          "base_uri": "https://localhost:8080/",
          "height": 295
        },
        "id": "d_4Mb9vFm3rR",
        "outputId": "1f99c939-4530-422a-ffd1-055640b7a619"
      },
      "execution_count": 14,
      "outputs": [
        {
          "output_type": "display_data",
          "data": {
            "text/plain": [
              "<Figure size 432x288 with 1 Axes>"
            ],
            "image/png": "[encoded data removed]"
          },
          "metadata": {
            "needs_background": "light"
          }
        }
      ]
    },
    {
      "cell_type": "code",
      "source": [
        "#@title Acurácia do nosso modelo\n",
        "\n",
        "score = model.evaluate(X_test, y_test, verbose=0)\n",
        "print(\"\\n%s: %.2f%%\" % (model.metrics_names[1], score[1]*100))"
      ],
      "metadata": {
        "colab": {
          "base_uri": "https://localhost:8080/"
        },
        "id": "rtHNZjNFnHqu",
        "outputId": "c15a8443-0b4d-40ae-aa49-6c7914e2155e"
      },
      "execution_count": 15,
      "outputs": [
        {
          "output_type": "stream",
          "name": "stdout",
          "text": [
            "\n",
            "accuracy: 86.89%\n"
          ]
        }
      ]
    },
    {
      "cell_type": "code",
      "source": [
        "#@title Teste de predição\n",
        "y_pred_out = model.predict(X_test)"
      ],
      "metadata": {
        "colab": {
          "base_uri": "https://localhost:8080/"
        },
        "id": "RSTnzOkNnkwX",
        "outputId": "9c9e5a23-12db-4030-acb9-b6d460f1d022"
      },
      "execution_count": 16,
      "outputs": [
        {
          "output_type": "stream",
          "name": "stdout",
          "text": [
            "2/2 [==============================] - 0s 10ms/step\n"
          ]
        }
      ]
    },
    {
      "cell_type": "code",
      "source": [
        "y_pred_out"
      ],
      "metadata": {
        "colab": {
          "base_uri": "https://localhost:8080/"
        },
        "id": "1enzWib6noqX",
        "outputId": "01d90fc1-d0c6-44ec-bb85-4f053e218cc3"
      },
      "execution_count": 17,
      "outputs": [
        {
          "output_type": "execute_result",
          "data": {
            "text/plain": [
              "array([[1.1345128e-02],\n",
              "       [8.6790538e-01],\n",
              "       [7.9119205e-01],\n",
              "       [5.4075313e-03],\n",
              "       [1.2629186e-01],\n",
              "       [1.3779300e-01],\n",
              "       [1.4324287e-02],\n",
              "       [4.9449351e-02],\n",
              "       [2.1834217e-04],\n",
              "       [2.5824953e-03],\n",
              "       [8.3873856e-01],\n",
              "       [9.8368961e-01],\n",
              "       [2.7750783e-02],\n",
              "       [8.7387979e-01],\n",
              "       [9.9713993e-01],\n",
              "       [6.6670054e-01],\n",
              "       [5.9750907e-02],\n",
              "       [8.0946803e-01],\n",
              "       [1.8377688e-02],\n",
              "       [2.3652746e-01],\n",
              "       [9.4704443e-01],\n",
              "       [7.8168057e-02],\n",
              "       [2.4896920e-01],\n",
              "       [2.2815576e-01],\n",
              "       [9.2261231e-01],\n",
              "       [5.2021992e-01],\n",
              "       [6.1716527e-02],\n",
              "       [1.4210133e-01],\n",
              "       [9.9733377e-01],\n",
              "       [6.6322458e-01],\n",
              "       [8.1293529e-01],\n",
              "       [3.8720055e-03],\n",
              "       [9.9434948e-01],\n",
              "       [8.2293493e-01],\n",
              "       [9.9246520e-01],\n",
              "       [1.9442263e-01],\n",
              "       [7.3184140e-02],\n",
              "       [8.3360016e-01],\n",
              "       [4.0440135e-02],\n",
              "       [3.0158110e-02],\n",
              "       [9.2612368e-01],\n",
              "       [9.1018724e-01],\n",
              "       [5.9703243e-01],\n",
              "       [5.8297772e-02],\n",
              "       [8.0390054e-01],\n",
              "       [6.2445819e-01],\n",
              "       [9.7208869e-01],\n",
              "       [5.9915757e-01],\n",
              "       [2.7133077e-02],\n",
              "       [8.4199595e-01],\n",
              "       [7.8101587e-01],\n",
              "       [6.1514378e-01],\n",
              "       [9.9873340e-01],\n",
              "       [9.7140002e-01],\n",
              "       [9.9969929e-01],\n",
              "       [2.0373045e-02],\n",
              "       [9.9141866e-01],\n",
              "       [9.8690850e-01],\n",
              "       [9.0147942e-01],\n",
              "       [9.9622232e-01],\n",
              "       [9.2972577e-01]], dtype=float32)"
            ]
          },
          "metadata": {},
          "execution_count": 17
        }
      ]
    },
    {
      "cell_type": "code",
      "source": [
        "y_pred_out > 0.5"
      ],
      "metadata": {
        "colab": {
          "base_uri": "https://localhost:8080/"
        },
        "id": "5JSqtPH5nqO3",
        "outputId": "9b723865-06aa-4555-a021-6916afd6848d"
      },
      "execution_count": 18,
      "outputs": [
        {
          "output_type": "execute_result",
          "data": {
            "text/plain": [
              "array([[False],\n",
              "       [ True],\n",
              "       [ True],\n",
              "       [False],\n",
              "       [False],\n",
              "       [False],\n",
              "       [False],\n",
              "       [False],\n",
              "       [False],\n",
              "       [False],\n",
              "       [ True],\n",
              "       [ True],\n",
              "       [False],\n",
              "       [ True],\n",
              "       [ True],\n",
              "       [ True],\n",
              "       [False],\n",
              "       [ True],\n",
              "       [False],\n",
              "       [False],\n",
              "       [ True],\n",
              "       [False],\n",
              "       [False],\n",
              "       [False],\n",
              "       [ True],\n",
              "       [ True],\n",
              "       [False],\n",
              "       [False],\n",
              "       [ True],\n",
              "       [ True],\n",
              "       [ True],\n",
              "       [False],\n",
              "       [ True],\n",
              "       [ True],\n",
              "       [ True],\n",
              "       [False],\n",
              "       [False],\n",
              "       [ True],\n",
              "       [False],\n",
              "       [False],\n",
              "       [ True],\n",
              "       [ True],\n",
              "       [ True],\n",
              "       [False],\n",
              "       [ True],\n",
              "       [ True],\n",
              "       [ True],\n",
              "       [ True],\n",
              "       [False],\n",
              "       [ True],\n",
              "       [ True],\n",
              "       [ True],\n",
              "       [ True],\n",
              "       [ True],\n",
              "       [ True],\n",
              "       [False],\n",
              "       [ True],\n",
              "       [ True],\n",
              "       [ True],\n",
              "       [ True],\n",
              "       [ True]])"
            ]
          },
          "metadata": {},
          "execution_count": 18
        }
      ]
    },
    {
      "cell_type": "code",
      "source": [
        "y_pred_classes = (y_pred_out > 0.5).astype(int) \n",
        "y_pred_classes"
      ],
      "metadata": {
        "colab": {
          "base_uri": "https://localhost:8080/"
        },
        "id": "eEgmLCzZnrRH",
        "outputId": "49cb4884-a488-49b0-bc2f-fee744e228d4"
      },
      "execution_count": 19,
      "outputs": [
        {
          "output_type": "execute_result",
          "data": {
            "text/plain": [
              "array([[0],\n",
              "       [1],\n",
              "       [1],\n",
              "       [0],\n",
              "       [0],\n",
              "       [0],\n",
              "       [0],\n",
              "       [0],\n",
              "       [0],\n",
              "       [0],\n",
              "       [1],\n",
              "       [1],\n",
              "       [0],\n",
              "       [1],\n",
              "       [1],\n",
              "       [1],\n",
              "       [0],\n",
              "       [1],\n",
              "       [0],\n",
              "       [0],\n",
              "       [1],\n",
              "       [0],\n",
              "       [0],\n",
              "       [0],\n",
              "       [1],\n",
              "       [1],\n",
              "       [0],\n",
              "       [0],\n",
              "       [1],\n",
              "       [1],\n",
              "       [1],\n",
              "       [0],\n",
              "       [1],\n",
              "       [1],\n",
              "       [1],\n",
              "       [0],\n",
              "       [0],\n",
              "       [1],\n",
              "       [0],\n",
              "       [0],\n",
              "       [1],\n",
              "       [1],\n",
              "       [1],\n",
              "       [0],\n",
              "       [1],\n",
              "       [1],\n",
              "       [1],\n",
              "       [1],\n",
              "       [0],\n",
              "       [1],\n",
              "       [1],\n",
              "       [1],\n",
              "       [1],\n",
              "       [1],\n",
              "       [1],\n",
              "       [0],\n",
              "       [1],\n",
              "       [1],\n",
              "       [1],\n",
              "       [1],\n",
              "       [1]])"
            ]
          },
          "metadata": {},
          "execution_count": 19
        }
      ]
    },
    {
      "cell_type": "markdown",
      "source": [
        "### Considerações finais\n",
        "\n",
        "O nosso modelo chegou em uma acurácia de 96%. Isso fornece um bom alvo para classificar amostras de doenças cardíacas dos pacientes da base."
      ],
      "metadata": {
        "id": "ajaIbfQ9nx5S"
      }
    }
  ]
}