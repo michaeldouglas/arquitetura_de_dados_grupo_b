{
  "nbformat": 4,
  "nbformat_minor": 0,
  "metadata": {
    "colab": {
      "provenance": []
    },
    "kernelspec": {
      "name": "python3",
      "display_name": "Python 3"
    },
    "language_info": {
      "name": "python"
    }
  },
  "cells": [
    {
      "cell_type": "markdown",
      "source": [
        "### Exercício #1\n",
        "\n",
        "Utilizando do dataset Iris (embarcado no scikit-learn, from sklearn\n",
        "import datasets - datasets.load_iris() ), configure uma Rede Neural MLP\n",
        "para classificar as amostras de plantas nas 3 classes presentes no\n",
        "dataset.\n",
        "\n",
        "## Definição do problema\n",
        "\n",
        "Para resolução do problema utilizaremos o famoso conjunto de dados IRIS Flower. O nosso conjunto de dados consiste em 50 amostras de cada uma das três espécies de flores Iris.\n",
        "\n",
        "### Informações dos atributos\n",
        "\n",
        "1.  sepal length in cm - **Comprimento da sépala em cm**\n",
        "2.  sepal width in cm - **Largura da sépala em cm**\n",
        "3.  petal length in cm - **Comprimento da pétala em cm**\n",
        "4.  petal width in cm - **Largura da pétala em cm**\n",
        "5.  class - **espécies estudadas**\n",
        "    1.  **Iris Setosa**\n",
        "    2.  **Iris Versicolour**\n",
        "    3.  **Iris Virginica**\n",
        "\n",
        "Quatro características (variáveis) foram medidas de cada amostra, são elas o comprimento e a largura da sépala e da pétala, em centímetros."
      ],
      "metadata": {
        "id": "-fAXNACvZAxM"
      }
    },
    {
      "cell_type": "code",
      "execution_count": 16,
      "metadata": {
        "id": "IcSUiJ9GYVoI"
      },
      "outputs": [],
      "source": [
        "#@title Importação das bibliotecas\n",
        "\n",
        "import tensorflow as tf\n",
        "import numpy as np\n",
        "import pandas as pd\n",
        "import matplotlib.pyplot as plt\n",
        "import keras\n",
        "from keras.utils.vis_utils import plot_model\n",
        "from sklearn.model_selection import train_test_split\n",
        "from keras.models import Sequential,load_model\n",
        "from google.colab import drive"
      ]
    },
    {
      "cell_type": "code",
      "source": [
        "#@title Carregamento da base\n",
        "from sklearn import datasets\n",
        "iris = datasets.load_iris()"
      ],
      "metadata": {
        "id": "duX4so-c9V1h"
      },
      "execution_count": 17,
      "outputs": []
    },
    {
      "cell_type": "code",
      "source": [
        "#@title Inicializa o Google Drive. É necessário entrar com as credenciais do Gmail\n",
        "\n",
        "drive.mount('/content/drive')"
      ],
      "metadata": {
        "colab": {
          "base_uri": "https://localhost:8080/"
        },
        "id": "ZTJ7XJLBIxLP",
        "outputId": "3f7d148e-780b-4a25-a6de-7c604626639c"
      },
      "execution_count": 18,
      "outputs": [
        {
          "output_type": "stream",
          "name": "stdout",
          "text": [
            "Drive already mounted at /content/drive; to attempt to forcibly remount, call drive.mount(\"/content/drive\", force_remount=True).\n"
          ]
        }
      ]
    },
    {
      "cell_type": "code",
      "source": [
        "#@title Criação do dataframe para uma melhor visualização e exploração dos dados\n",
        "df = pd.DataFrame(iris.data, columns = iris.feature_names)\n",
        "df['target'] = iris.target\n",
        "X = iris.data\n",
        "df.sample(4)"
      ],
      "metadata": {
        "colab": {
          "base_uri": "https://localhost:8080/",
          "height": 175
        },
        "id": "UjpepPVQ9cAR",
        "outputId": "921057f7-508e-4033-90a7-690428ba4c5c"
      },
      "execution_count": 19,
      "outputs": [
        {
          "output_type": "execute_result",
          "data": {
            "text/plain": [
              "     sepal length (cm)  sepal width (cm)  petal length (cm)  petal width (cm)  \\\n",
              "126                6.2               2.8                4.8               1.8   \n",
              "35                 5.0               3.2                1.2               0.2   \n",
              "83                 6.0               2.7                5.1               1.6   \n",
              "104                6.5               3.0                5.8               2.2   \n",
              "\n",
              "     target  \n",
              "126       2  \n",
              "35        0  \n",
              "83        1  \n",
              "104       2  "
            ],
            "text/html": [
              "\n",
              "  <div id=\"df-8de67099-cdeb-43ca-9518-4f99bd46c475\">\n",
              "    <div class=\"colab-df-container\">\n",
              "      <div>\n",
              "<style scoped>\n",
              "    .dataframe tbody tr th:only-of-type {\n",
              "        vertical-align: middle;\n",
              "    }\n",
              "\n",
              "    .dataframe tbody tr th {\n",
              "        vertical-align: top;\n",
              "    }\n",
              "\n",
              "    .dataframe thead th {\n",
              "        text-align: right;\n",
              "    }\n",
              "</style>\n",
              "<table border=\"1\" class=\"dataframe\">\n",
              "  <thead>\n",
              "    <tr style=\"text-align: right;\">\n",
              "      <th></th>\n",
              "      <th>sepal length (cm)</th>\n",
              "      <th>sepal width (cm)</th>\n",
              "      <th>petal length (cm)</th>\n",
              "      <th>petal width (cm)</th>\n",
              "      <th>target</th>\n",
              "    </tr>\n",
              "  </thead>\n",
              "  <tbody>\n",
              "    <tr>\n",
              "      <th>126</th>\n",
              "      <td>6.2</td>\n",
              "      <td>2.8</td>\n",
              "      <td>4.8</td>\n",
              "      <td>1.8</td>\n",
              "      <td>2</td>\n",
              "    </tr>\n",
              "    <tr>\n",
              "      <th>35</th>\n",
              "      <td>5.0</td>\n",
              "      <td>3.2</td>\n",
              "      <td>1.2</td>\n",
              "      <td>0.2</td>\n",
              "      <td>0</td>\n",
              "    </tr>\n",
              "    <tr>\n",
              "      <th>83</th>\n",
              "      <td>6.0</td>\n",
              "      <td>2.7</td>\n",
              "      <td>5.1</td>\n",
              "      <td>1.6</td>\n",
              "      <td>1</td>\n",
              "    </tr>\n",
              "    <tr>\n",
              "      <th>104</th>\n",
              "      <td>6.5</td>\n",
              "      <td>3.0</td>\n",
              "      <td>5.8</td>\n",
              "      <td>2.2</td>\n",
              "      <td>2</td>\n",
              "    </tr>\n",
              "  </tbody>\n",
              "</table>\n",
              "</div>\n",
              "      <button class=\"colab-df-convert\" onclick=\"convertToInteractive('df-8de67099-cdeb-43ca-9518-4f99bd46c475')\"\n",
              "              title=\"Convert this dataframe to an interactive table.\"\n",
              "              style=\"display:none;\">\n",
              "        \n",
              "  <svg xmlns=\"http://www.w3.org/2000/svg\" height=\"24px\"viewBox=\"0 0 24 24\"\n",
              "       width=\"24px\">\n",
              "    <path d=\"M0 0h24v24H0V0z\" fill=\"none\"/>\n",
              "    <path d=\"M18.56 5.44l.94 2.06.94-2.06 2.06-.94-2.06-.94-.94-2.06-.94 2.06-2.06.94zm-11 1L8.5 8.5l.94-2.06 2.06-.94-2.06-.94L8.5 2.5l-.94 2.06-2.06.94zm10 10l.94 2.06.94-2.06 2.06-.94-2.06-.94-.94-2.06-.94 2.06-2.06.94z\"/><path d=\"M17.41 7.96l-1.37-1.37c-.4-.4-.92-.59-1.43-.59-.52 0-1.04.2-1.43.59L10.3 9.45l-7.72 7.72c-.78.78-.78 2.05 0 2.83L4 21.41c.39.39.9.59 1.41.59.51 0 1.02-.2 1.41-.59l7.78-7.78 2.81-2.81c.8-.78.8-2.07 0-2.86zM5.41 20L4 18.59l7.72-7.72 1.47 1.35L5.41 20z\"/>\n",
              "  </svg>\n",
              "      </button>\n",
              "      \n",
              "  <style>\n",
              "    .colab-df-container {\n",
              "      display:flex;\n",
              "      flex-wrap:wrap;\n",
              "      gap: 12px;\n",
              "    }\n",
              "\n",
              "    .colab-df-convert {\n",
              "      background-color: #E8F0FE;\n",
              "      border: none;\n",
              "      border-radius: 50%;\n",
              "      cursor: pointer;\n",
              "      display: none;\n",
              "      fill: #1967D2;\n",
              "      height: 32px;\n",
              "      padding: 0 0 0 0;\n",
              "      width: 32px;\n",
              "    }\n",
              "\n",
              "    .colab-df-convert:hover {\n",
              "      background-color: #E2EBFA;\n",
              "      box-shadow: 0px 1px 2px rgba(60, 64, 67, 0.3), 0px 1px 3px 1px rgba(60, 64, 67, 0.15);\n",
              "      fill: #174EA6;\n",
              "    }\n",
              "\n",
              "    [theme=dark] .colab-df-convert {\n",
              "      background-color: #3B4455;\n",
              "      fill: #D2E3FC;\n",
              "    }\n",
              "\n",
              "    [theme=dark] .colab-df-convert:hover {\n",
              "      background-color: #434B5C;\n",
              "      box-shadow: 0px 1px 3px 1px rgba(0, 0, 0, 0.15);\n",
              "      filter: drop-shadow(0px 1px 2px rgba(0, 0, 0, 0.3));\n",
              "      fill: #FFFFFF;\n",
              "    }\n",
              "  </style>\n",
              "\n",
              "      <script>\n",
              "        const buttonEl =\n",
              "          document.querySelector('#df-8de67099-cdeb-43ca-9518-4f99bd46c475 button.colab-df-convert');\n",
              "        buttonEl.style.display =\n",
              "          google.colab.kernel.accessAllowed ? 'block' : 'none';\n",
              "\n",
              "        async function convertToInteractive(key) {\n",
              "          const element = document.querySelector('#df-8de67099-cdeb-43ca-9518-4f99bd46c475');\n",
              "          const dataTable =\n",
              "            await google.colab.kernel.invokeFunction('convertToInteractive',\n",
              "                                                     [key], {});\n",
              "          if (!dataTable) return;\n",
              "\n",
              "          const docLinkHtml = 'Like what you see? Visit the ' +\n",
              "            '<a target=\"_blank\" href=https://colab.research.google.com/notebooks/data_table.ipynb>data table notebook</a>'\n",
              "            + ' to learn more about interactive tables.';\n",
              "          element.innerHTML = '';\n",
              "          dataTable['output_type'] = 'display_data';\n",
              "          await google.colab.output.renderOutput(dataTable, element);\n",
              "          const docLink = document.createElement('div');\n",
              "          docLink.innerHTML = docLinkHtml;\n",
              "          element.appendChild(docLink);\n",
              "        }\n",
              "      </script>\n",
              "    </div>\n",
              "  </div>\n",
              "  "
            ]
          },
          "metadata": {},
          "execution_count": 19
        }
      ]
    },
    {
      "cell_type": "markdown",
      "source": [
        "### Verificação de dados nulos\n",
        "\n",
        "Aqui nós vamos verificar os dados nulos do nosso modelo, além disso colocamos o resultado em um DataFrame para exibir o total encontrado X a proporção de valores nulos do nosso modelo."
      ],
      "metadata": {
        "id": "BoAoeLtw-pl5"
      }
    },
    {
      "cell_type": "code",
      "source": [
        "df.isnull().mean(axis=1).loc[:10]"
      ],
      "metadata": {
        "colab": {
          "base_uri": "https://localhost:8080/"
        },
        "id": "VEoqJsjU-qIg",
        "outputId": "688bbeb6-f309-432c-f109-402047d244d8"
      },
      "execution_count": 20,
      "outputs": [
        {
          "output_type": "execute_result",
          "data": {
            "text/plain": [
              "0     0.0\n",
              "1     0.0\n",
              "2     0.0\n",
              "3     0.0\n",
              "4     0.0\n",
              "5     0.0\n",
              "6     0.0\n",
              "7     0.0\n",
              "8     0.0\n",
              "9     0.0\n",
              "10    0.0\n",
              "dtype: float64"
            ]
          },
          "metadata": {},
          "execution_count": 20
        }
      ]
    },
    {
      "cell_type": "code",
      "source": [
        "df.isnull() # Aqui verificamos o total de null na base se existir\n",
        "df.isnull().sum()/len(df) # Aqui obtemos a proporção de null se existir\n",
        "\n",
        "# Criamos um novo DataFrame para verificar o total e a proporção de null na base\n",
        "pd.DataFrame(zip(df.isnull().sum(),df.isnull().sum()/len(df)), columns=['Count', 'Proportion'], index=df.columns)"
      ],
      "metadata": {
        "colab": {
          "base_uri": "https://localhost:8080/",
          "height": 206
        },
        "id": "5EGJR6TM-vFA",
        "outputId": "e8b464b5-3a82-4669-86b2-d6a1362e99c8"
      },
      "execution_count": 21,
      "outputs": [
        {
          "output_type": "execute_result",
          "data": {
            "text/plain": [
              "                   Count  Proportion\n",
              "sepal length (cm)      0         0.0\n",
              "sepal width (cm)       0         0.0\n",
              "petal length (cm)      0         0.0\n",
              "petal width (cm)       0         0.0\n",
              "target                 0         0.0"
            ],
            "text/html": [
              "\n",
              "  <div id=\"df-444f32f5-f9f7-4dd3-93d7-5a180ef00cb6\">\n",
              "    <div class=\"colab-df-container\">\n",
              "      <div>\n",
              "<style scoped>\n",
              "    .dataframe tbody tr th:only-of-type {\n",
              "        vertical-align: middle;\n",
              "    }\n",
              "\n",
              "    .dataframe tbody tr th {\n",
              "        vertical-align: top;\n",
              "    }\n",
              "\n",
              "    .dataframe thead th {\n",
              "        text-align: right;\n",
              "    }\n",
              "</style>\n",
              "<table border=\"1\" class=\"dataframe\">\n",
              "  <thead>\n",
              "    <tr style=\"text-align: right;\">\n",
              "      <th></th>\n",
              "      <th>Count</th>\n",
              "      <th>Proportion</th>\n",
              "    </tr>\n",
              "  </thead>\n",
              "  <tbody>\n",
              "    <tr>\n",
              "      <th>sepal length (cm)</th>\n",
              "      <td>0</td>\n",
              "      <td>0.0</td>\n",
              "    </tr>\n",
              "    <tr>\n",
              "      <th>sepal width (cm)</th>\n",
              "      <td>0</td>\n",
              "      <td>0.0</td>\n",
              "    </tr>\n",
              "    <tr>\n",
              "      <th>petal length (cm)</th>\n",
              "      <td>0</td>\n",
              "      <td>0.0</td>\n",
              "    </tr>\n",
              "    <tr>\n",
              "      <th>petal width (cm)</th>\n",
              "      <td>0</td>\n",
              "      <td>0.0</td>\n",
              "    </tr>\n",
              "    <tr>\n",
              "      <th>target</th>\n",
              "      <td>0</td>\n",
              "      <td>0.0</td>\n",
              "    </tr>\n",
              "  </tbody>\n",
              "</table>\n",
              "</div>\n",
              "      <button class=\"colab-df-convert\" onclick=\"convertToInteractive('df-444f32f5-f9f7-4dd3-93d7-5a180ef00cb6')\"\n",
              "              title=\"Convert this dataframe to an interactive table.\"\n",
              "              style=\"display:none;\">\n",
              "        \n",
              "  <svg xmlns=\"http://www.w3.org/2000/svg\" height=\"24px\"viewBox=\"0 0 24 24\"\n",
              "       width=\"24px\">\n",
              "    <path d=\"M0 0h24v24H0V0z\" fill=\"none\"/>\n",
              "    <path d=\"M18.56 5.44l.94 2.06.94-2.06 2.06-.94-2.06-.94-.94-2.06-.94 2.06-2.06.94zm-11 1L8.5 8.5l.94-2.06 2.06-.94-2.06-.94L8.5 2.5l-.94 2.06-2.06.94zm10 10l.94 2.06.94-2.06 2.06-.94-2.06-.94-.94-2.06-.94 2.06-2.06.94z\"/><path d=\"M17.41 7.96l-1.37-1.37c-.4-.4-.92-.59-1.43-.59-.52 0-1.04.2-1.43.59L10.3 9.45l-7.72 7.72c-.78.78-.78 2.05 0 2.83L4 21.41c.39.39.9.59 1.41.59.51 0 1.02-.2 1.41-.59l7.78-7.78 2.81-2.81c.8-.78.8-2.07 0-2.86zM5.41 20L4 18.59l7.72-7.72 1.47 1.35L5.41 20z\"/>\n",
              "  </svg>\n",
              "      </button>\n",
              "      \n",
              "  <style>\n",
              "    .colab-df-container {\n",
              "      display:flex;\n",
              "      flex-wrap:wrap;\n",
              "      gap: 12px;\n",
              "    }\n",
              "\n",
              "    .colab-df-convert {\n",
              "      background-color: #E8F0FE;\n",
              "      border: none;\n",
              "      border-radius: 50%;\n",
              "      cursor: pointer;\n",
              "      display: none;\n",
              "      fill: #1967D2;\n",
              "      height: 32px;\n",
              "      padding: 0 0 0 0;\n",
              "      width: 32px;\n",
              "    }\n",
              "\n",
              "    .colab-df-convert:hover {\n",
              "      background-color: #E2EBFA;\n",
              "      box-shadow: 0px 1px 2px rgba(60, 64, 67, 0.3), 0px 1px 3px 1px rgba(60, 64, 67, 0.15);\n",
              "      fill: #174EA6;\n",
              "    }\n",
              "\n",
              "    [theme=dark] .colab-df-convert {\n",
              "      background-color: #3B4455;\n",
              "      fill: #D2E3FC;\n",
              "    }\n",
              "\n",
              "    [theme=dark] .colab-df-convert:hover {\n",
              "      background-color: #434B5C;\n",
              "      box-shadow: 0px 1px 3px 1px rgba(0, 0, 0, 0.15);\n",
              "      filter: drop-shadow(0px 1px 2px rgba(0, 0, 0, 0.3));\n",
              "      fill: #FFFFFF;\n",
              "    }\n",
              "  </style>\n",
              "\n",
              "      <script>\n",
              "        const buttonEl =\n",
              "          document.querySelector('#df-444f32f5-f9f7-4dd3-93d7-5a180ef00cb6 button.colab-df-convert');\n",
              "        buttonEl.style.display =\n",
              "          google.colab.kernel.accessAllowed ? 'block' : 'none';\n",
              "\n",
              "        async function convertToInteractive(key) {\n",
              "          const element = document.querySelector('#df-444f32f5-f9f7-4dd3-93d7-5a180ef00cb6');\n",
              "          const dataTable =\n",
              "            await google.colab.kernel.invokeFunction('convertToInteractive',\n",
              "                                                     [key], {});\n",
              "          if (!dataTable) return;\n",
              "\n",
              "          const docLinkHtml = 'Like what you see? Visit the ' +\n",
              "            '<a target=\"_blank\" href=https://colab.research.google.com/notebooks/data_table.ipynb>data table notebook</a>'\n",
              "            + ' to learn more about interactive tables.';\n",
              "          element.innerHTML = '';\n",
              "          dataTable['output_type'] = 'display_data';\n",
              "          await google.colab.output.renderOutput(dataTable, element);\n",
              "          const docLink = document.createElement('div');\n",
              "          docLink.innerHTML = docLinkHtml;\n",
              "          element.appendChild(docLink);\n",
              "        }\n",
              "      </script>\n",
              "    </div>\n",
              "  </div>\n",
              "  "
            ]
          },
          "metadata": {},
          "execution_count": 21
        }
      ]
    },
    {
      "cell_type": "code",
      "source": [
        "df.info()"
      ],
      "metadata": {
        "colab": {
          "base_uri": "https://localhost:8080/"
        },
        "id": "MLM1VpeD-6hw",
        "outputId": "f7c387a8-dd73-4f6c-f786-32bd9a5cfd76"
      },
      "execution_count": 22,
      "outputs": [
        {
          "output_type": "stream",
          "name": "stdout",
          "text": [
            "<class 'pandas.core.frame.DataFrame'>\n",
            "RangeIndex: 150 entries, 0 to 149\n",
            "Data columns (total 5 columns):\n",
            " #   Column             Non-Null Count  Dtype  \n",
            "---  ------             --------------  -----  \n",
            " 0   sepal length (cm)  150 non-null    float64\n",
            " 1   sepal width (cm)   150 non-null    float64\n",
            " 2   petal length (cm)  150 non-null    float64\n",
            " 3   petal width (cm)   150 non-null    float64\n",
            " 4   target             150 non-null    int64  \n",
            "dtypes: float64(4), int64(1)\n",
            "memory usage: 6.0 KB\n"
          ]
        }
      ]
    },
    {
      "cell_type": "code",
      "source": [
        "df.dtypes"
      ],
      "metadata": {
        "colab": {
          "base_uri": "https://localhost:8080/"
        },
        "id": "FsWPBriy--lS",
        "outputId": "7b9b9f70-636c-4c37-f01b-980c82d2f917"
      },
      "execution_count": 23,
      "outputs": [
        {
          "output_type": "execute_result",
          "data": {
            "text/plain": [
              "sepal length (cm)    float64\n",
              "sepal width (cm)     float64\n",
              "petal length (cm)    float64\n",
              "petal width (cm)     float64\n",
              "target                 int64\n",
              "dtype: object"
            ]
          },
          "metadata": {},
          "execution_count": 23
        }
      ]
    },
    {
      "cell_type": "markdown",
      "source": [
        "### Observações finais\n",
        "\n",
        "*   Não contém valores nulos\n",
        "*   O número total de observações é de 150, removemos um valor duplicado\n",
        "*   Os tipos com exceção do target são do tipo float64\n",
        "*   No final acreditamos que os dados estão bons para separar em treino e testes sem nenhuma transformação ou alteração "
      ],
      "metadata": {
        "id": "LxZlOH7l_Gco"
      }
    },
    {
      "cell_type": "code",
      "source": [
        "x_train, x_test, y_train, y_test = train_test_split(iris.data, iris.target, test_size=0.33, random_state=42)"
      ],
      "metadata": {
        "id": "VvNw2ETUAm_6"
      },
      "execution_count": 24,
      "outputs": []
    },
    {
      "cell_type": "code",
      "source": [
        "model = tf.keras.models.Sequential([\n",
        "  tf.keras.layers.Flatten(),\n",
        "  tf.keras.layers.Dense(512, activation=tf.nn.relu),\n",
        "  tf.keras.layers.Dropout(0.2),\n",
        "  tf.keras.layers.Dense(10, activation=tf.nn.softmax)\n",
        "])"
      ],
      "metadata": {
        "id": "0iKDngnEBChS"
      },
      "execution_count": 25,
      "outputs": []
    },
    {
      "cell_type": "code",
      "source": [
        "model.compile(optimizer='adam',\n",
        "              loss='sparse_categorical_crossentropy',\n",
        "              metrics=['accuracy'])               "
      ],
      "metadata": {
        "id": "REY3sSO2D87O"
      },
      "execution_count": 26,
      "outputs": []
    },
    {
      "cell_type": "code",
      "source": [
        "history = model.fit(x_train, y_train,validation_split = 0.1, epochs=50, batch_size=4, validation_data=(x_test, y_test))"
      ],
      "metadata": {
        "colab": {
          "base_uri": "https://localhost:8080/"
        },
        "id": "IOk0iNgPEOD2",
        "outputId": "700c1462-0aa1-4b37-cb9a-757fb088fdd4"
      },
      "execution_count": 27,
      "outputs": [
        {
          "output_type": "stream",
          "name": "stdout",
          "text": [
            "Epoch 1/50\n",
            "25/25 [==============================] - 1s 13ms/step - loss: 1.3073 - accuracy: 0.4900 - val_loss: 0.8464 - val_accuracy: 0.6800\n",
            "Epoch 2/50\n",
            "25/25 [==============================] - 0s 5ms/step - loss: 0.7489 - accuracy: 0.7100 - val_loss: 0.5919 - val_accuracy: 0.7800\n",
            "Epoch 3/50\n",
            "25/25 [==============================] - 0s 6ms/step - loss: 0.6230 - accuracy: 0.7400 - val_loss: 0.5326 - val_accuracy: 0.6800\n",
            "Epoch 4/50\n",
            "25/25 [==============================] - 0s 4ms/step - loss: 0.5419 - accuracy: 0.7100 - val_loss: 0.4230 - val_accuracy: 0.8200\n",
            "Epoch 5/50\n",
            "25/25 [==============================] - 0s 4ms/step - loss: 0.4841 - accuracy: 0.7800 - val_loss: 0.3822 - val_accuracy: 0.8200\n",
            "Epoch 6/50\n",
            "25/25 [==============================] - 0s 5ms/step - loss: 0.4677 - accuracy: 0.7900 - val_loss: 0.3412 - val_accuracy: 0.9800\n",
            "Epoch 7/50\n",
            "25/25 [==============================] - 0s 4ms/step - loss: 0.3887 - accuracy: 0.8900 - val_loss: 0.3377 - val_accuracy: 0.8200\n",
            "Epoch 8/50\n",
            "25/25 [==============================] - 0s 4ms/step - loss: 0.4066 - accuracy: 0.8300 - val_loss: 0.2979 - val_accuracy: 0.9000\n",
            "Epoch 9/50\n",
            "25/25 [==============================] - 0s 4ms/step - loss: 0.3224 - accuracy: 0.9100 - val_loss: 0.2943 - val_accuracy: 0.9000\n",
            "Epoch 10/50\n",
            "25/25 [==============================] - 0s 5ms/step - loss: 0.3443 - accuracy: 0.8900 - val_loss: 0.2529 - val_accuracy: 0.9600\n",
            "Epoch 11/50\n",
            "25/25 [==============================] - 0s 4ms/step - loss: 0.3345 - accuracy: 0.9000 - val_loss: 0.2404 - val_accuracy: 0.9600\n",
            "Epoch 12/50\n",
            "25/25 [==============================] - 0s 5ms/step - loss: 0.2843 - accuracy: 0.9400 - val_loss: 0.2175 - val_accuracy: 0.9600\n",
            "Epoch 13/50\n",
            "25/25 [==============================] - 0s 5ms/step - loss: 0.2840 - accuracy: 0.9300 - val_loss: 0.2199 - val_accuracy: 0.9200\n",
            "Epoch 14/50\n",
            "25/25 [==============================] - 0s 4ms/step - loss: 0.2492 - accuracy: 0.9500 - val_loss: 0.2000 - val_accuracy: 0.9400\n",
            "Epoch 15/50\n",
            "25/25 [==============================] - 0s 4ms/step - loss: 0.2448 - accuracy: 0.9400 - val_loss: 0.1944 - val_accuracy: 0.9400\n",
            "Epoch 16/50\n",
            "25/25 [==============================] - 0s 4ms/step - loss: 0.2389 - accuracy: 0.9500 - val_loss: 0.1657 - val_accuracy: 0.9800\n",
            "Epoch 17/50\n",
            "25/25 [==============================] - 0s 5ms/step - loss: 0.2165 - accuracy: 0.9300 - val_loss: 0.1543 - val_accuracy: 0.9800\n",
            "Epoch 18/50\n",
            "25/25 [==============================] - 0s 4ms/step - loss: 0.2026 - accuracy: 0.9600 - val_loss: 0.1481 - val_accuracy: 0.9800\n",
            "Epoch 19/50\n",
            "25/25 [==============================] - 0s 4ms/step - loss: 0.1862 - accuracy: 0.9500 - val_loss: 0.1421 - val_accuracy: 0.9800\n",
            "Epoch 20/50\n",
            "25/25 [==============================] - 0s 4ms/step - loss: 0.1778 - accuracy: 0.9500 - val_loss: 0.1394 - val_accuracy: 0.9600\n",
            "Epoch 21/50\n",
            "25/25 [==============================] - 0s 5ms/step - loss: 0.1754 - accuracy: 0.9700 - val_loss: 0.1259 - val_accuracy: 0.9800\n",
            "Epoch 22/50\n",
            "25/25 [==============================] - 0s 3ms/step - loss: 0.1649 - accuracy: 0.9700 - val_loss: 0.1321 - val_accuracy: 0.9600\n",
            "Epoch 23/50\n",
            "25/25 [==============================] - 0s 4ms/step - loss: 0.1480 - accuracy: 0.9700 - val_loss: 0.1201 - val_accuracy: 0.9800\n",
            "Epoch 24/50\n",
            "25/25 [==============================] - 0s 4ms/step - loss: 0.1704 - accuracy: 0.9200 - val_loss: 0.1095 - val_accuracy: 0.9800\n",
            "Epoch 25/50\n",
            "25/25 [==============================] - 0s 5ms/step - loss: 0.1484 - accuracy: 0.9600 - val_loss: 0.2327 - val_accuracy: 0.8800\n",
            "Epoch 26/50\n",
            "25/25 [==============================] - 0s 5ms/step - loss: 0.1624 - accuracy: 0.9300 - val_loss: 0.1091 - val_accuracy: 0.9800\n",
            "Epoch 27/50\n",
            "25/25 [==============================] - 0s 5ms/step - loss: 0.1311 - accuracy: 0.9700 - val_loss: 0.1052 - val_accuracy: 0.9800\n",
            "Epoch 28/50\n",
            "25/25 [==============================] - 0s 5ms/step - loss: 0.1437 - accuracy: 0.9500 - val_loss: 0.0965 - val_accuracy: 0.9800\n",
            "Epoch 29/50\n",
            "25/25 [==============================] - 0s 6ms/step - loss: 0.1743 - accuracy: 0.9300 - val_loss: 0.1275 - val_accuracy: 0.9400\n",
            "Epoch 30/50\n",
            "25/25 [==============================] - 0s 5ms/step - loss: 0.1654 - accuracy: 0.9600 - val_loss: 0.1128 - val_accuracy: 0.9600\n",
            "Epoch 31/50\n",
            "25/25 [==============================] - 0s 5ms/step - loss: 0.1559 - accuracy: 0.9200 - val_loss: 0.0875 - val_accuracy: 0.9800\n",
            "Epoch 32/50\n",
            "25/25 [==============================] - 0s 4ms/step - loss: 0.1364 - accuracy: 0.9600 - val_loss: 0.1556 - val_accuracy: 0.9200\n",
            "Epoch 33/50\n",
            "25/25 [==============================] - 0s 5ms/step - loss: 0.1070 - accuracy: 0.9700 - val_loss: 0.0849 - val_accuracy: 0.9800\n",
            "Epoch 34/50\n",
            "25/25 [==============================] - 0s 5ms/step - loss: 0.1170 - accuracy: 0.9700 - val_loss: 0.0951 - val_accuracy: 0.9800\n",
            "Epoch 35/50\n",
            "25/25 [==============================] - 0s 5ms/step - loss: 0.1378 - accuracy: 0.9600 - val_loss: 0.0814 - val_accuracy: 0.9800\n",
            "Epoch 36/50\n",
            "25/25 [==============================] - 0s 5ms/step - loss: 0.1203 - accuracy: 0.9600 - val_loss: 0.0782 - val_accuracy: 0.9800\n",
            "Epoch 37/50\n",
            "25/25 [==============================] - 0s 5ms/step - loss: 0.1319 - accuracy: 0.9500 - val_loss: 0.0780 - val_accuracy: 0.9800\n",
            "Epoch 38/50\n",
            "25/25 [==============================] - 0s 7ms/step - loss: 0.1355 - accuracy: 0.9400 - val_loss: 0.0756 - val_accuracy: 0.9800\n",
            "Epoch 39/50\n",
            "25/25 [==============================] - 0s 4ms/step - loss: 0.1015 - accuracy: 0.9700 - val_loss: 0.0929 - val_accuracy: 0.9600\n",
            "Epoch 40/50\n",
            "25/25 [==============================] - 0s 5ms/step - loss: 0.1194 - accuracy: 0.9600 - val_loss: 0.0786 - val_accuracy: 0.9800\n",
            "Epoch 41/50\n",
            "25/25 [==============================] - 0s 4ms/step - loss: 0.1253 - accuracy: 0.9700 - val_loss: 0.0714 - val_accuracy: 0.9800\n",
            "Epoch 42/50\n",
            "25/25 [==============================] - 0s 5ms/step - loss: 0.1094 - accuracy: 0.9700 - val_loss: 0.0788 - val_accuracy: 0.9800\n",
            "Epoch 43/50\n",
            "25/25 [==============================] - 0s 5ms/step - loss: 0.1124 - accuracy: 0.9500 - val_loss: 0.0691 - val_accuracy: 0.9800\n",
            "Epoch 44/50\n",
            "25/25 [==============================] - 0s 6ms/step - loss: 0.1008 - accuracy: 0.9800 - val_loss: 0.1034 - val_accuracy: 0.9400\n",
            "Epoch 45/50\n",
            "25/25 [==============================] - 0s 5ms/step - loss: 0.0986 - accuracy: 0.9700 - val_loss: 0.0975 - val_accuracy: 0.9600\n",
            "Epoch 46/50\n",
            "25/25 [==============================] - 0s 4ms/step - loss: 0.1132 - accuracy: 0.9400 - val_loss: 0.1002 - val_accuracy: 0.9400\n",
            "Epoch 47/50\n",
            "25/25 [==============================] - 0s 4ms/step - loss: 0.0936 - accuracy: 0.9700 - val_loss: 0.0762 - val_accuracy: 0.9800\n",
            "Epoch 48/50\n",
            "25/25 [==============================] - 0s 5ms/step - loss: 0.1193 - accuracy: 0.9500 - val_loss: 0.0899 - val_accuracy: 0.9600\n",
            "Epoch 49/50\n",
            "25/25 [==============================] - 0s 6ms/step - loss: 0.0896 - accuracy: 0.9900 - val_loss: 0.0700 - val_accuracy: 0.9600\n",
            "Epoch 50/50\n",
            "25/25 [==============================] - 0s 4ms/step - loss: 0.0926 - accuracy: 0.9700 - val_loss: 0.0851 - val_accuracy: 0.9600\n"
          ]
        }
      ]
    },
    {
      "cell_type": "code",
      "source": [
        "plot_model(model, to_file='iris.png', show_shapes=True, show_layer_names=True)"
      ],
      "metadata": {
        "colab": {
          "base_uri": "https://localhost:8080/",
          "height": 533
        },
        "id": "uT58D1PGIZ7A",
        "outputId": "f0090eab-fdf0-4683-dc63-19316ff733bb"
      },
      "execution_count": 28,
      "outputs": [
        {
          "output_type": "execute_result",
          "data": {
            "image/png": "[encoded data removed]",
            "text/plain": [
              "<IPython.core.display.Image object>"
            ]
          },
          "metadata": {},
          "execution_count": 28
        }
      ]
    },
    {
      "cell_type": "code",
      "source": [
        "plt.plot(history.history['accuracy'])\n",
        "plt.plot(history.history['val_accuracy'])\n",
        "plt.title('model accuracy')\n",
        "plt.ylabel('accuracy')\n",
        "plt.xlabel('epoch')\n",
        "plt.legend(['train', 'val'], loc='upper left')\n",
        "plt.show()"
      ],
      "metadata": {
        "colab": {
          "base_uri": "https://localhost:8080/",
          "height": 295
        },
        "id": "y-1Q_dbCHDF3",
        "outputId": "0949416b-b237-400f-83d6-b348c2efda7b"
      },
      "execution_count": 29,
      "outputs": [
        {
          "output_type": "display_data",
          "data": {
            "text/plain": [
              "<Figure size 432x288 with 1 Axes>"
            ],
            "image/png": "[encoded data removed]"
          },
          "metadata": {
            "needs_background": "light"
          }
        }
      ]
    },
    {
      "cell_type": "code",
      "source": [
        "score = model.evaluate(x_test, y_test, verbose=0)\n",
        "print('\\n', 'Test accuracy:', score[1])"
      ],
      "metadata": {
        "colab": {
          "base_uri": "https://localhost:8080/"
        },
        "id": "tGca4NlXINc0",
        "outputId": "42cc22fd-86ee-4a17-c82e-58385981d306"
      },
      "execution_count": 30,
      "outputs": [
        {
          "output_type": "stream",
          "name": "stdout",
          "text": [
            "\n",
            " Test accuracy: 0.9599999785423279\n"
          ]
        }
      ]
    },
    {
      "cell_type": "code",
      "source": [
        "y_pred_out = model.predict(x_test)"
      ],
      "metadata": {
        "colab": {
          "base_uri": "https://localhost:8080/"
        },
        "id": "Wyp1WgbPJB6V",
        "outputId": "08f56214-6b11-4672-fc59-b1dd9859f648"
      },
      "execution_count": 49,
      "outputs": [
        {
          "output_type": "stream",
          "name": "stdout",
          "text": [
            "2/2 [==============================] - 0s 6ms/step\n"
          ]
        }
      ]
    },
    {
      "cell_type": "code",
      "source": [
        "y_pred_out"
      ],
      "metadata": {
        "colab": {
          "base_uri": "https://localhost:8080/"
        },
        "id": "-KV-YVyfJ9Vs",
        "outputId": "774786d1-a4ca-4495-9137-b5bee79e1c09"
      },
      "execution_count": 50,
      "outputs": [
        {
          "output_type": "execute_result",
          "data": {
            "text/plain": [
              "array([[5.66352450e-04, 9.74688768e-01, 2.45874207e-02, 2.37655295e-05,\n",
              "        3.62551800e-05, 1.39415388e-05, 2.27082382e-05, 1.60262716e-05,\n",
              "        8.46865714e-06, 3.62692881e-05],\n",
              "       [9.99289274e-01, 7.10653083e-04, 1.78996453e-11, 4.38600374e-08,\n",
              "        3.31559527e-08, 1.28168161e-08, 3.51484175e-08, 6.67479183e-09,\n",
              "        1.76532513e-08, 6.29232701e-08],\n",
              "       [8.46991755e-10, 6.99956960e-04, 9.99300003e-01, 1.67810867e-08,\n",
              "        3.66909632e-08, 1.06772093e-08, 1.24423227e-08, 1.42880667e-08,\n",
              "        4.13273149e-09, 1.91877181e-08],\n",
              "       [5.05699078e-04, 9.31391060e-01, 6.78899363e-02, 3.40574770e-05,\n",
              "        4.88261394e-05, 2.03498803e-05, 2.97411207e-05, 2.20636484e-05,\n",
              "        1.19990582e-05, 4.62926873e-05],\n",
              "       [3.11700802e-04, 9.73312020e-01, 2.62949299e-02, 1.22432130e-05,\n",
              "        2.02711835e-05, 7.02731359e-06, 1.12546822e-05, 8.06967455e-06,\n",
              "        4.12908867e-06, 1.82257954e-05],\n",
              "       [9.98493314e-01, 1.50583626e-03, 1.69839504e-10, 1.86325522e-07,\n",
              "        1.47750143e-07, 5.99685848e-08, 1.48393937e-07, 3.32724710e-08,\n",
              "        8.00541997e-08, 2.56601851e-07],\n",
              "       [5.71909826e-03, 9.91766751e-01, 2.26964732e-03, 4.03795748e-05,\n",
              "        5.10858663e-05, 2.28162680e-05, 3.59414043e-05, 2.24552932e-05,\n",
              "        1.56952592e-05, 5.60247172e-05],\n",
              "       [5.72119916e-06, 1.16920851e-01, 8.83049905e-01, 3.95632060e-06,\n",
              "        6.21515574e-06, 2.46232639e-06, 2.89031595e-06, 2.58600949e-06,\n",
              "        1.17603781e-06, 4.34938056e-06],\n",
              "       [1.43563782e-04, 6.08717501e-01, 3.90850306e-01, 4.27618943e-05,\n",
              "        7.39450697e-05, 2.77122708e-05, 3.81075333e-05, 3.30611329e-05,\n",
              "        1.60479340e-05, 5.70229531e-05],\n",
              "       [2.32518371e-03, 9.93346989e-01, 4.12029168e-03, 3.24998291e-05,\n",
              "        4.51678716e-05, 1.90975024e-05, 3.03471879e-05, 2.01516013e-05,\n",
              "        1.25618180e-05, 4.76534406e-05],\n",
              "       [3.47976929e-05, 3.54346454e-01, 6.45548284e-01, 1.17227637e-05,\n",
              "        1.72780146e-05, 7.09490814e-06, 9.10070685e-06, 7.56252257e-06,\n",
              "        3.60822673e-06, 1.40714765e-05],\n",
              "       [9.98097301e-01, 1.90043461e-03, 4.03896361e-10, 4.64319868e-07,\n",
              "        3.78426535e-07, 1.64977862e-07, 3.94501598e-07, 9.65078257e-08,\n",
              "        2.17526690e-07, 6.63334504e-07],\n",
              "       [9.99587357e-01, 4.12413734e-04, 1.04461570e-11, 4.12653272e-08,\n",
              "        3.16723145e-08, 1.23261961e-08, 3.23087619e-08, 6.23285423e-09,\n",
              "        1.71206409e-08, 5.73976564e-08],\n",
              "       [9.98108447e-01, 1.88952941e-03, 3.17251059e-10, 3.76536462e-07,\n",
              "        3.05065811e-07, 1.31221199e-07, 3.21684382e-07, 7.65545138e-08,\n",
              "        1.73733937e-07, 5.44859802e-07],\n",
              "       [9.99355853e-01, 6.43811480e-04, 3.05670801e-11, 7.63117569e-08,\n",
              "        5.44204468e-08, 2.33236310e-08, 6.05221757e-08, 1.18133725e-08,\n",
              "        3.11573523e-08, 1.04653338e-07],\n",
              "       [4.77850990e-04, 9.67079699e-01, 3.23387943e-02, 1.70274670e-05,\n",
              "        2.33423871e-05, 9.64371429e-06, 1.45646563e-05, 1.00784691e-05,\n",
              "        5.55497218e-06, 2.33522060e-05],\n",
              "       [1.15663291e-07, 7.38391513e-03, 9.92612898e-01, 5.07052846e-07,\n",
              "        8.31321984e-07, 3.33857827e-07, 3.72541933e-07, 3.80144428e-07,\n",
              "        1.48201920e-07, 5.67340692e-07],\n",
              "       [2.21057399e-03, 9.90454614e-01, 7.02117477e-03, 4.79197406e-05,\n",
              "        6.84704282e-05, 2.90396056e-05, 4.59601069e-05, 3.16870937e-05,\n",
              "        1.92614334e-05, 7.12939873e-05],\n",
              "       [6.74582785e-04, 9.44799542e-01, 5.42389117e-02, 4.46870872e-05,\n",
              "        6.39282080e-05, 2.70507899e-05, 4.10400389e-05, 3.01319287e-05,\n",
              "        1.63916975e-05, 6.38120473e-05],\n",
              "       [1.14079199e-07, 6.26217108e-03, 9.93734062e-01, 5.83695964e-07,\n",
              "        9.68658355e-07, 3.93816691e-07, 4.29501455e-07, 4.48476442e-07,\n",
              "        1.77022258e-07, 6.37762582e-07],\n",
              "       [9.97047663e-01, 2.94873887e-03, 9.29442190e-10, 6.84157840e-07,\n",
              "        5.39245832e-07, 2.44199782e-07, 5.87421596e-07, 1.45258454e-07,\n",
              "        3.15300355e-07, 9.73263809e-07],\n",
              "       [7.41602707e-05, 4.45682704e-01, 5.54100513e-01, 2.32375842e-05,\n",
              "        3.39285398e-05, 1.43920715e-05, 1.88642061e-05, 1.56331316e-05,\n",
              "        7.66931680e-06, 2.88369101e-05],\n",
              "       [9.97370541e-01, 2.62711244e-03, 6.75669409e-10, 4.56168465e-07,\n",
              "        3.54505602e-07, 1.55065322e-07, 3.74373940e-07, 8.95035583e-08,\n",
              "        2.00494597e-07, 6.25996506e-07],\n",
              "       [2.21576329e-07, 1.03376796e-02, 9.89656568e-01, 8.76822924e-07,\n",
              "        1.46238449e-06, 5.84019233e-07, 6.62374021e-07, 6.74288117e-07,\n",
              "        2.68266490e-07, 9.92057494e-07],\n",
              "       [8.61759236e-06, 5.15252054e-01, 4.84729052e-01, 1.64655921e-06,\n",
              "        2.79473602e-06, 8.83676819e-07, 1.33584399e-06, 1.00758177e-06,\n",
              "        4.04632658e-07, 2.28746694e-06],\n",
              "       [1.43386842e-06, 3.89127880e-02, 9.61073279e-01, 2.08396341e-06,\n",
              "        3.31733872e-06, 1.34295431e-06, 1.52164455e-06, 1.43633588e-06,\n",
              "        6.24349468e-07, 2.24438418e-06],\n",
              "       [3.66257154e-07, 2.07360741e-02, 9.79255497e-01, 1.19712740e-06,\n",
              "        2.25395775e-06, 7.74736691e-07, 9.97693746e-07, 9.94897391e-07,\n",
              "        3.75065753e-07, 1.51262986e-06],\n",
              "       [1.28750841e-07, 9.77743324e-03, 9.90219712e-01, 4.24239062e-07,\n",
              "        6.94110724e-07, 2.71898813e-07, 3.07213298e-07, 3.03971376e-07,\n",
              "        1.18115523e-07, 4.72629267e-07],\n",
              "       [9.96904850e-01, 3.09081399e-03, 1.39743350e-09, 8.62620709e-07,\n",
              "        7.05619414e-07, 3.13327007e-07, 7.17380260e-07, 1.87361607e-07,\n",
              "        4.04704537e-07, 1.19207982e-06],\n",
              "       [9.96580660e-01, 3.41540179e-03, 1.16959531e-09, 7.65612469e-07,\n",
              "        6.21132187e-07, 2.75182146e-07, 6.58160104e-07, 1.67023600e-07,\n",
              "        3.56350284e-07, 1.09703444e-06],\n",
              "       [9.99685764e-01, 3.14065517e-04, 1.67748298e-11, 7.58005569e-08,\n",
              "        5.17481062e-08, 2.33105570e-08, 5.84219357e-08, 1.13275753e-08,\n",
              "        3.15424309e-08, 1.00436658e-07],\n",
              "       [9.99835968e-01, 1.64009893e-04, 1.01256145e-12, 7.81246534e-09,\n",
              "        5.13454523e-09, 2.00253392e-09, 5.75454306e-09, 8.88746188e-10,\n",
              "        2.80954104e-09, 1.05439657e-08],\n",
              "       [9.82686295e-04, 9.96238589e-01, 2.72449059e-03, 8.57071336e-06,\n",
              "        1.25526685e-05, 4.68718645e-06, 7.77708101e-06, 4.90920229e-06,\n",
              "        2.89573609e-06, 1.27793292e-05],\n",
              "       [9.98183787e-01, 1.81455573e-03, 2.99274772e-10, 3.36595235e-07,\n",
              "        2.56456246e-07, 1.14637011e-07, 2.84825717e-07, 6.46627143e-08,\n",
              "        1.49461684e-07, 4.76296918e-07],\n",
              "       [9.98366475e-01, 1.63072895e-03, 5.03924680e-10, 5.69684801e-07,\n",
              "        4.31138773e-07, 2.03963793e-07, 4.73323666e-07, 1.13990311e-07,\n",
              "        2.62208601e-07, 7.75156252e-07],\n",
              "       [4.24166774e-06, 6.67382479e-02, 9.33217764e-01, 6.15827912e-06,\n",
              "        1.04652208e-05, 4.10131270e-06, 4.98429745e-06, 4.77449157e-06,\n",
              "        2.08364781e-06, 7.29070052e-06],\n",
              "       [7.55294692e-04, 9.89502251e-01, 9.65798181e-03, 1.36680210e-05,\n",
              "        1.90409010e-05, 7.62468517e-06, 1.20329523e-05, 7.98058045e-06,\n",
              "        4.57317310e-06, 1.94021595e-05],\n",
              "       [9.99140024e-01, 8.59376509e-04, 4.92485809e-11, 1.05835227e-07,\n",
              "        8.07768430e-08, 3.35197115e-08, 8.63620784e-08, 1.78598309e-08,\n",
              "        4.51601068e-08, 1.49457989e-07],\n",
              "       [9.99370515e-01, 6.29007875e-04, 3.32413021e-11, 9.08595084e-08,\n",
              "        6.65371616e-08, 2.84360873e-08, 7.30417966e-08, 1.46335681e-08,\n",
              "        3.82191345e-08, 1.25695621e-07],\n",
              "       [9.99785423e-01, 2.14488566e-04, 2.03371890e-12, 1.61342921e-08,\n",
              "        1.08740723e-08, 4.42740733e-09, 1.28230075e-08, 2.06653294e-09,\n",
              "        6.18686125e-09, 2.28874502e-08],\n",
              "       [2.37110839e-06, 3.41250673e-02, 9.65840578e-01, 5.06956349e-06,\n",
              "        7.84149324e-06, 3.42693579e-06, 3.99101873e-06, 3.88936132e-06,\n",
              "        1.70232954e-06, 5.85749012e-06],\n",
              "       [8.12014216e-04, 9.77207541e-01, 2.18509510e-02, 2.18223977e-05,\n",
              "        2.77862346e-05, 1.23403133e-05, 1.84878354e-05, 1.24069611e-05,\n",
              "        7.23724725e-06, 2.93554458e-05],\n",
              "       [4.52231994e-04, 9.84905541e-01, 1.45738777e-02, 1.08263530e-05,\n",
              "        1.62681899e-05, 6.04642719e-06, 9.61904334e-06, 6.55376471e-06,\n",
              "        3.55128191e-06, 1.56297392e-05],\n",
              "       [9.99678850e-01, 3.21139436e-04, 7.67699185e-12, 3.10318811e-08,\n",
              "        2.18280753e-08, 8.88142804e-09, 2.31989326e-08, 4.23931290e-09,\n",
              "        1.21685417e-08, 4.12102708e-08],\n",
              "       [9.99498904e-01, 5.00826223e-04, 1.28427598e-11, 4.45058852e-08,\n",
              "        3.31202408e-08, 1.32681048e-08, 3.55829535e-08, 6.72094780e-09,\n",
              "        1.81867552e-08, 6.27743830e-08],\n",
              "       [3.56394472e-03, 9.92644131e-01, 3.44932289e-03, 5.20575450e-05,\n",
              "        7.36467045e-05, 3.13674682e-05, 5.07608856e-05, 3.39769904e-05,\n",
              "        2.17189299e-05, 7.89600017e-05],\n",
              "       [1.05265477e-04, 6.71439409e-01, 3.28304887e-01, 2.29735178e-05,\n",
              "        3.69806730e-05, 1.40349148e-05, 2.04494063e-05, 1.64100129e-05,\n",
              "        7.70923816e-06, 3.20063336e-05],\n",
              "       [1.23318750e-05, 2.02467084e-01, 7.97472954e-01, 7.54922348e-06,\n",
              "        1.18161761e-05, 4.65299127e-06, 6.22496509e-06, 5.31322394e-06,\n",
              "        2.32647244e-06, 9.70508700e-06],\n",
              "       [8.61569482e-04, 9.94248986e-01, 4.81841713e-03, 1.11706750e-05,\n",
              "        1.65237707e-05, 6.23762708e-06, 1.01360783e-05, 6.64043228e-06,\n",
              "        3.83227325e-06, 1.64646117e-05],\n",
              "       [1.24964458e-07, 1.29083414e-02, 9.87089813e-01, 2.78154175e-07,\n",
              "        4.41508917e-07, 1.70395850e-07, 1.93522169e-07, 1.83091743e-07,\n",
              "        7.08561885e-08, 3.03234344e-07]], dtype=float32)"
            ]
          },
          "metadata": {},
          "execution_count": 50
        }
      ]
    },
    {
      "cell_type": "code",
      "source": [
        "y_pred_out > 0.5"
      ],
      "metadata": {
        "colab": {
          "base_uri": "https://localhost:8080/"
        },
        "id": "VXVtzWN5J_My",
        "outputId": "740e6220-dc7c-4e3e-f789-162d49752dc1"
      },
      "execution_count": 51,
      "outputs": [
        {
          "output_type": "execute_result",
          "data": {
            "text/plain": [
              "array([[False,  True, False, False, False, False, False, False, False,\n",
              "        False],\n",
              "       [ True, False, False, False, False, False, False, False, False,\n",
              "        False],\n",
              "       [False, False,  True, False, False, False, False, False, False,\n",
              "        False],\n",
              "       [False,  True, False, False, False, False, False, False, False,\n",
              "        False],\n",
              "       [False,  True, False, False, False, False, False, False, False,\n",
              "        False],\n",
              "       [ True, False, False, False, False, False, False, False, False,\n",
              "        False],\n",
              "       [False,  True, False, False, False, False, False, False, False,\n",
              "        False],\n",
              "       [False, False,  True, False, False, False, False, False, False,\n",
              "        False],\n",
              "       [False,  True, False, False, False, False, False, False, False,\n",
              "        False],\n",
              "       [False,  True, False, False, False, False, False, False, False,\n",
              "        False],\n",
              "       [False, False,  True, False, False, False, False, False, False,\n",
              "        False],\n",
              "       [ True, False, False, False, False, False, False, False, False,\n",
              "        False],\n",
              "       [ True, False, False, False, False, False, False, False, False,\n",
              "        False],\n",
              "       [ True, False, False, False, False, False, False, False, False,\n",
              "        False],\n",
              "       [ True, False, False, False, False, False, False, False, False,\n",
              "        False],\n",
              "       [False,  True, False, False, False, False, False, False, False,\n",
              "        False],\n",
              "       [False, False,  True, False, False, False, False, False, False,\n",
              "        False],\n",
              "       [False,  True, False, False, False, False, False, False, False,\n",
              "        False],\n",
              "       [False,  True, False, False, False, False, False, False, False,\n",
              "        False],\n",
              "       [False, False,  True, False, False, False, False, False, False,\n",
              "        False],\n",
              "       [ True, False, False, False, False, False, False, False, False,\n",
              "        False],\n",
              "       [False, False,  True, False, False, False, False, False, False,\n",
              "        False],\n",
              "       [ True, False, False, False, False, False, False, False, False,\n",
              "        False],\n",
              "       [False, False,  True, False, False, False, False, False, False,\n",
              "        False],\n",
              "       [False,  True, False, False, False, False, False, False, False,\n",
              "        False],\n",
              "       [False, False,  True, False, False, False, False, False, False,\n",
              "        False],\n",
              "       [False, False,  True, False, False, False, False, False, False,\n",
              "        False],\n",
              "       [False, False,  True, False, False, False, False, False, False,\n",
              "        False],\n",
              "       [ True, False, False, False, False, False, False, False, False,\n",
              "        False],\n",
              "       [ True, False, False, False, False, False, False, False, False,\n",
              "        False],\n",
              "       [ True, False, False, False, False, False, False, False, False,\n",
              "        False],\n",
              "       [ True, False, False, False, False, False, False, False, False,\n",
              "        False],\n",
              "       [False,  True, False, False, False, False, False, False, False,\n",
              "        False],\n",
              "       [ True, False, False, False, False, False, False, False, False,\n",
              "        False],\n",
              "       [ True, False, False, False, False, False, False, False, False,\n",
              "        False],\n",
              "       [False, False,  True, False, False, False, False, False, False,\n",
              "        False],\n",
              "       [False,  True, False, False, False, False, False, False, False,\n",
              "        False],\n",
              "       [ True, False, False, False, False, False, False, False, False,\n",
              "        False],\n",
              "       [ True, False, False, False, False, False, False, False, False,\n",
              "        False],\n",
              "       [ True, False, False, False, False, False, False, False, False,\n",
              "        False],\n",
              "       [False, False,  True, False, False, False, False, False, False,\n",
              "        False],\n",
              "       [False,  True, False, False, False, False, False, False, False,\n",
              "        False],\n",
              "       [False,  True, False, False, False, False, False, False, False,\n",
              "        False],\n",
              "       [ True, False, False, False, False, False, False, False, False,\n",
              "        False],\n",
              "       [ True, False, False, False, False, False, False, False, False,\n",
              "        False],\n",
              "       [False,  True, False, False, False, False, False, False, False,\n",
              "        False],\n",
              "       [False,  True, False, False, False, False, False, False, False,\n",
              "        False],\n",
              "       [False, False,  True, False, False, False, False, False, False,\n",
              "        False],\n",
              "       [False,  True, False, False, False, False, False, False, False,\n",
              "        False],\n",
              "       [False, False,  True, False, False, False, False, False, False,\n",
              "        False]])"
            ]
          },
          "metadata": {},
          "execution_count": 51
        }
      ]
    },
    {
      "cell_type": "code",
      "source": [
        "y_pred_classes = (y_pred_out > 0.5).astype(int) \n",
        "y_pred_classes"
      ],
      "metadata": {
        "colab": {
          "base_uri": "https://localhost:8080/"
        },
        "id": "HqsW8BXqKBj6",
        "outputId": "738a26d3-e3f9-42f7-de10-929447d47d35"
      },
      "execution_count": 52,
      "outputs": [
        {
          "output_type": "execute_result",
          "data": {
            "text/plain": [
              "array([[0, 1, 0, 0, 0, 0, 0, 0, 0, 0],\n",
              "       [1, 0, 0, 0, 0, 0, 0, 0, 0, 0],\n",
              "       [0, 0, 1, 0, 0, 0, 0, 0, 0, 0],\n",
              "       [0, 1, 0, 0, 0, 0, 0, 0, 0, 0],\n",
              "       [0, 1, 0, 0, 0, 0, 0, 0, 0, 0],\n",
              "       [1, 0, 0, 0, 0, 0, 0, 0, 0, 0],\n",
              "       [0, 1, 0, 0, 0, 0, 0, 0, 0, 0],\n",
              "       [0, 0, 1, 0, 0, 0, 0, 0, 0, 0],\n",
              "       [0, 1, 0, 0, 0, 0, 0, 0, 0, 0],\n",
              "       [0, 1, 0, 0, 0, 0, 0, 0, 0, 0],\n",
              "       [0, 0, 1, 0, 0, 0, 0, 0, 0, 0],\n",
              "       [1, 0, 0, 0, 0, 0, 0, 0, 0, 0],\n",
              "       [1, 0, 0, 0, 0, 0, 0, 0, 0, 0],\n",
              "       [1, 0, 0, 0, 0, 0, 0, 0, 0, 0],\n",
              "       [1, 0, 0, 0, 0, 0, 0, 0, 0, 0],\n",
              "       [0, 1, 0, 0, 0, 0, 0, 0, 0, 0],\n",
              "       [0, 0, 1, 0, 0, 0, 0, 0, 0, 0],\n",
              "       [0, 1, 0, 0, 0, 0, 0, 0, 0, 0],\n",
              "       [0, 1, 0, 0, 0, 0, 0, 0, 0, 0],\n",
              "       [0, 0, 1, 0, 0, 0, 0, 0, 0, 0],\n",
              "       [1, 0, 0, 0, 0, 0, 0, 0, 0, 0],\n",
              "       [0, 0, 1, 0, 0, 0, 0, 0, 0, 0],\n",
              "       [1, 0, 0, 0, 0, 0, 0, 0, 0, 0],\n",
              "       [0, 0, 1, 0, 0, 0, 0, 0, 0, 0],\n",
              "       [0, 1, 0, 0, 0, 0, 0, 0, 0, 0],\n",
              "       [0, 0, 1, 0, 0, 0, 0, 0, 0, 0],\n",
              "       [0, 0, 1, 0, 0, 0, 0, 0, 0, 0],\n",
              "       [0, 0, 1, 0, 0, 0, 0, 0, 0, 0],\n",
              "       [1, 0, 0, 0, 0, 0, 0, 0, 0, 0],\n",
              "       [1, 0, 0, 0, 0, 0, 0, 0, 0, 0],\n",
              "       [1, 0, 0, 0, 0, 0, 0, 0, 0, 0],\n",
              "       [1, 0, 0, 0, 0, 0, 0, 0, 0, 0],\n",
              "       [0, 1, 0, 0, 0, 0, 0, 0, 0, 0],\n",
              "       [1, 0, 0, 0, 0, 0, 0, 0, 0, 0],\n",
              "       [1, 0, 0, 0, 0, 0, 0, 0, 0, 0],\n",
              "       [0, 0, 1, 0, 0, 0, 0, 0, 0, 0],\n",
              "       [0, 1, 0, 0, 0, 0, 0, 0, 0, 0],\n",
              "       [1, 0, 0, 0, 0, 0, 0, 0, 0, 0],\n",
              "       [1, 0, 0, 0, 0, 0, 0, 0, 0, 0],\n",
              "       [1, 0, 0, 0, 0, 0, 0, 0, 0, 0],\n",
              "       [0, 0, 1, 0, 0, 0, 0, 0, 0, 0],\n",
              "       [0, 1, 0, 0, 0, 0, 0, 0, 0, 0],\n",
              "       [0, 1, 0, 0, 0, 0, 0, 0, 0, 0],\n",
              "       [1, 0, 0, 0, 0, 0, 0, 0, 0, 0],\n",
              "       [1, 0, 0, 0, 0, 0, 0, 0, 0, 0],\n",
              "       [0, 1, 0, 0, 0, 0, 0, 0, 0, 0],\n",
              "       [0, 1, 0, 0, 0, 0, 0, 0, 0, 0],\n",
              "       [0, 0, 1, 0, 0, 0, 0, 0, 0, 0],\n",
              "       [0, 1, 0, 0, 0, 0, 0, 0, 0, 0],\n",
              "       [0, 0, 1, 0, 0, 0, 0, 0, 0, 0]])"
            ]
          },
          "metadata": {},
          "execution_count": 52
        }
      ]
    },
    {
      "cell_type": "code",
      "source": [
        "scores = model.evaluate(x_test, y_test)"
      ],
      "metadata": {
        "colab": {
          "base_uri": "https://localhost:8080/"
        },
        "id": "OfNIUYwvKFMq",
        "outputId": "128f1a91-f976-4283-eca4-eb0ff2acda04"
      },
      "execution_count": 54,
      "outputs": [
        {
          "output_type": "stream",
          "name": "stdout",
          "text": [
            "2/2 [==============================] - 0s 8ms/step - loss: 0.0851 - accuracy: 0.9600\n"
          ]
        }
      ]
    },
    {
      "cell_type": "code",
      "source": [
        "#@title Acurácia do nosso modelo\n",
        "\n",
        "print(\"\\n%s: %.2f%%\" % (model.metrics_names[1], scores[1]*100))"
      ],
      "metadata": {
        "colab": {
          "base_uri": "https://localhost:8080/"
        },
        "id": "oO7eH7j_KIjZ",
        "outputId": "463be788-9065-45d8-b4ef-dc4677f9ae0b"
      },
      "execution_count": 55,
      "outputs": [
        {
          "output_type": "stream",
          "name": "stdout",
          "text": [
            "\n",
            "accuracy: 96.00%\n"
          ]
        }
      ]
    },
    {
      "cell_type": "markdown",
      "source": [
        "### Considerações finais\n",
        "\n",
        "Concluimos que todas as 4 variáveis ​​de entrada são numéricas e cada instância descreve as propriedades de uma medida de flor observada e a variável de saída é uma espécie de íris específica.\n",
        "\n",
        "Este é um problema de classificação multiclasse, o que significa que existem mais de duas classes a serem previstas.\n",
        "\n",
        "O nosso modelo chegou em uma acurácia de 96%. Isso fornece um bom alvo para apontar a espécie de íris a partir de:\n",
        "\n",
        "1.  sepal length in cm - **Comprimento da sépala em cm**\n",
        "2.  sepal width in cm - **Largura da sépala em cm**\n",
        "3.  petal length in cm - **Comprimento da pétala em cm**\n",
        "4.  petal width in cm - **Largura da pétala em cm**\n",
        "5.  class - **espécies estudadas**\n",
        "    1.  **Iris Setosa**\n",
        "    2.  **Iris Versicolour**\n",
        "    3.  **Iris Virginica**\n",
        "\n"
      ],
      "metadata": {
        "id": "79QZqgkTK6kg"
      }
    }
  ]
}