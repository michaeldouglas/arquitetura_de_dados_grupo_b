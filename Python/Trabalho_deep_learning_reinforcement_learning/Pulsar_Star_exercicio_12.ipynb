{
  "nbformat": 4,
  "nbformat_minor": 0,
  "metadata": {
    "colab": {
      "provenance": [],
      "authorship_tag": "ABX9TyPDxGuTiJzt8cizx1fRw2z/",
      "include_colab_link": true
    },
    "kernelspec": {
      "name": "python3",
      "display_name": "Python 3"
    },
    "language_info": {
      "name": "python"
    }
  },
  "cells": [
    {
      "cell_type": "markdown",
      "metadata": {
        "id": "view-in-github",
        "colab_type": "text"
      },
      "source": [
        "<a href=\"https://colab.research.google.com/github/michaeldouglas/mba_IA_ML-proj_int-grupo_b/blob/main/Python/Trabalho_deep_learning_reinforcement_learning/Pulsar_Star_exercicio_12.ipynb\" target=\"_parent\"><img src=\"https://colab.research.google.com/assets/colab-badge.svg\" alt=\"Open In Colab\"/></a>"
      ]
    },
    {
      "cell_type": "markdown",
      "source": [
        "# Exercício 1_2\n",
        "\n",
        "Utilizando o dataset Pulsar Star (disponível no repositório da disciplina e\n",
        "em https://www.kaggle.com/pavanraj159/predicting-a-pulsar-star/)\n",
        "construa uma Rede Neural MLP que classifique as amostras em\n",
        "estrelas de nêutrons ou não.\n",
        "\n",
        "## Definição do problema\n",
        "\n",
        "Os pulsares são um tipo raro de estrela de nêutrons que produzem emissões de rádio detectáveis ​​aqui na Terra. \n",
        "\n",
        "Eles são de considerável interesse científico como sondas do espaço-tempo, do meio interestelar e dos estados da matéria. \n",
        "\n",
        "As ferramentas de aprendizado de máquina agora estão sendo usadas para rotular automaticamente os candidatos pulsares para facilitar a análise rápida. "
      ],
      "metadata": {
        "id": "73U4hi66g0iW"
      }
    },
    {
      "cell_type": "code",
      "execution_count": 19,
      "metadata": {
        "id": "eVQz8jS3gsYO"
      },
      "outputs": [],
      "source": [
        "#@title importação das bibliotecas\n",
        "\n",
        "import pandas as pd\n",
        "import numpy as np\n",
        "from sklearn.model_selection import train_test_split\n",
        "from sklearn.preprocessing import StandardScaler\n",
        "from keras.utils.vis_utils import plot_model\n",
        "import matplotlib.pyplot as plt\n",
        "import tensorflow as tf"
      ]
    },
    {
      "cell_type": "code",
      "source": [
        "#@title Carrega o dataset\n",
        "dataset = pd.read_csv(\"pulsar_stars.csv\")"
      ],
      "metadata": {
        "id": "aoYnvOzKhBq6"
      },
      "execution_count": 2,
      "outputs": []
    },
    {
      "cell_type": "markdown",
      "source": [
        "### Verificação de dados nulos\n",
        "\n",
        "Aqui nós vamos verificar os dados nulos do nosso modelo, além disso colocamos o resultado em um DataFrame para exibir o total encontrado X a proporção de valores nulos do nosso modelo."
      ],
      "metadata": {
        "id": "KO3cWnrviWKb"
      }
    },
    {
      "cell_type": "code",
      "source": [
        "dataset.isnull().mean(axis=1).loc[:10]"
      ],
      "metadata": {
        "colab": {
          "base_uri": "https://localhost:8080/"
        },
        "id": "LQHYBDPDiX5a",
        "outputId": "f7a0cdb7-ef12-475d-839b-72dc29360a9c"
      },
      "execution_count": 3,
      "outputs": [
        {
          "output_type": "execute_result",
          "data": {
            "text/plain": [
              "0     0.0\n",
              "1     0.0\n",
              "2     0.0\n",
              "3     0.0\n",
              "4     0.0\n",
              "5     0.0\n",
              "6     0.0\n",
              "7     0.0\n",
              "8     0.0\n",
              "9     0.0\n",
              "10    0.0\n",
              "dtype: float64"
            ]
          },
          "metadata": {},
          "execution_count": 3
        }
      ]
    },
    {
      "cell_type": "code",
      "source": [
        "dataset.isnull() # Aqui verificamos o total de null na base se existir\n",
        "dataset.isnull().sum()/len(dataset) # Aqui obtemos a proporção de null se existir\n",
        "\n",
        "# Criamos um novo DataFrame para verificar o total e a proporção de null na base\n",
        "pd.DataFrame(zip(dataset.isnull().sum(),dataset.isnull().sum()/len(dataset)), columns=['Count', 'Proportion'], index=dataset.columns)"
      ],
      "metadata": {
        "colab": {
          "base_uri": "https://localhost:8080/",
          "height": 332
        },
        "id": "igoZp6zEiuzW",
        "outputId": "23db81f0-1520-46c7-9d80-fdbf8607a5b4"
      },
      "execution_count": 4,
      "outputs": [
        {
          "output_type": "execute_result",
          "data": {
            "text/plain": [
              "                                               Count  Proportion\n",
              " Mean of the integrated profile                    0         0.0\n",
              " Standard deviation of the integrated profile      0         0.0\n",
              " Excess kurtosis of the integrated profile         0         0.0\n",
              " Skewness of the integrated profile                0         0.0\n",
              " Mean of the DM-SNR curve                          0         0.0\n",
              " Standard deviation of the DM-SNR curve            0         0.0\n",
              " Excess kurtosis of the DM-SNR curve               0         0.0\n",
              " Skewness of the DM-SNR curve                      0         0.0\n",
              "target_class                                       0         0.0"
            ],
            "text/html": [
              "\n",
              "  <div id=\"df-98588a27-321a-49df-b027-6ea81b3ff93e\">\n",
              "    <div class=\"colab-df-container\">\n",
              "      <div>\n",
              "<style scoped>\n",
              "    .dataframe tbody tr th:only-of-type {\n",
              "        vertical-align: middle;\n",
              "    }\n",
              "\n",
              "    .dataframe tbody tr th {\n",
              "        vertical-align: top;\n",
              "    }\n",
              "\n",
              "    .dataframe thead th {\n",
              "        text-align: right;\n",
              "    }\n",
              "</style>\n",
              "<table border=\"1\" class=\"dataframe\">\n",
              "  <thead>\n",
              "    <tr style=\"text-align: right;\">\n",
              "      <th></th>\n",
              "      <th>Count</th>\n",
              "      <th>Proportion</th>\n",
              "    </tr>\n",
              "  </thead>\n",
              "  <tbody>\n",
              "    <tr>\n",
              "      <th>Mean of the integrated profile</th>\n",
              "      <td>0</td>\n",
              "      <td>0.0</td>\n",
              "    </tr>\n",
              "    <tr>\n",
              "      <th>Standard deviation of the integrated profile</th>\n",
              "      <td>0</td>\n",
              "      <td>0.0</td>\n",
              "    </tr>\n",
              "    <tr>\n",
              "      <th>Excess kurtosis of the integrated profile</th>\n",
              "      <td>0</td>\n",
              "      <td>0.0</td>\n",
              "    </tr>\n",
              "    <tr>\n",
              "      <th>Skewness of the integrated profile</th>\n",
              "      <td>0</td>\n",
              "      <td>0.0</td>\n",
              "    </tr>\n",
              "    <tr>\n",
              "      <th>Mean of the DM-SNR curve</th>\n",
              "      <td>0</td>\n",
              "      <td>0.0</td>\n",
              "    </tr>\n",
              "    <tr>\n",
              "      <th>Standard deviation of the DM-SNR curve</th>\n",
              "      <td>0</td>\n",
              "      <td>0.0</td>\n",
              "    </tr>\n",
              "    <tr>\n",
              "      <th>Excess kurtosis of the DM-SNR curve</th>\n",
              "      <td>0</td>\n",
              "      <td>0.0</td>\n",
              "    </tr>\n",
              "    <tr>\n",
              "      <th>Skewness of the DM-SNR curve</th>\n",
              "      <td>0</td>\n",
              "      <td>0.0</td>\n",
              "    </tr>\n",
              "    <tr>\n",
              "      <th>target_class</th>\n",
              "      <td>0</td>\n",
              "      <td>0.0</td>\n",
              "    </tr>\n",
              "  </tbody>\n",
              "</table>\n",
              "</div>\n",
              "      <button class=\"colab-df-convert\" onclick=\"convertToInteractive('df-98588a27-321a-49df-b027-6ea81b3ff93e')\"\n",
              "              title=\"Convert this dataframe to an interactive table.\"\n",
              "              style=\"display:none;\">\n",
              "        \n",
              "  <svg xmlns=\"http://www.w3.org/2000/svg\" height=\"24px\"viewBox=\"0 0 24 24\"\n",
              "       width=\"24px\">\n",
              "    <path d=\"M0 0h24v24H0V0z\" fill=\"none\"/>\n",
              "    <path d=\"M18.56 5.44l.94 2.06.94-2.06 2.06-.94-2.06-.94-.94-2.06-.94 2.06-2.06.94zm-11 1L8.5 8.5l.94-2.06 2.06-.94-2.06-.94L8.5 2.5l-.94 2.06-2.06.94zm10 10l.94 2.06.94-2.06 2.06-.94-2.06-.94-.94-2.06-.94 2.06-2.06.94z\"/><path d=\"M17.41 7.96l-1.37-1.37c-.4-.4-.92-.59-1.43-.59-.52 0-1.04.2-1.43.59L10.3 9.45l-7.72 7.72c-.78.78-.78 2.05 0 2.83L4 21.41c.39.39.9.59 1.41.59.51 0 1.02-.2 1.41-.59l7.78-7.78 2.81-2.81c.8-.78.8-2.07 0-2.86zM5.41 20L4 18.59l7.72-7.72 1.47 1.35L5.41 20z\"/>\n",
              "  </svg>\n",
              "      </button>\n",
              "      \n",
              "  <style>\n",
              "    .colab-df-container {\n",
              "      display:flex;\n",
              "      flex-wrap:wrap;\n",
              "      gap: 12px;\n",
              "    }\n",
              "\n",
              "    .colab-df-convert {\n",
              "      background-color: #E8F0FE;\n",
              "      border: none;\n",
              "      border-radius: 50%;\n",
              "      cursor: pointer;\n",
              "      display: none;\n",
              "      fill: #1967D2;\n",
              "      height: 32px;\n",
              "      padding: 0 0 0 0;\n",
              "      width: 32px;\n",
              "    }\n",
              "\n",
              "    .colab-df-convert:hover {\n",
              "      background-color: #E2EBFA;\n",
              "      box-shadow: 0px 1px 2px rgba(60, 64, 67, 0.3), 0px 1px 3px 1px rgba(60, 64, 67, 0.15);\n",
              "      fill: #174EA6;\n",
              "    }\n",
              "\n",
              "    [theme=dark] .colab-df-convert {\n",
              "      background-color: #3B4455;\n",
              "      fill: #D2E3FC;\n",
              "    }\n",
              "\n",
              "    [theme=dark] .colab-df-convert:hover {\n",
              "      background-color: #434B5C;\n",
              "      box-shadow: 0px 1px 3px 1px rgba(0, 0, 0, 0.15);\n",
              "      filter: drop-shadow(0px 1px 2px rgba(0, 0, 0, 0.3));\n",
              "      fill: #FFFFFF;\n",
              "    }\n",
              "  </style>\n",
              "\n",
              "      <script>\n",
              "        const buttonEl =\n",
              "          document.querySelector('#df-98588a27-321a-49df-b027-6ea81b3ff93e button.colab-df-convert');\n",
              "        buttonEl.style.display =\n",
              "          google.colab.kernel.accessAllowed ? 'block' : 'none';\n",
              "\n",
              "        async function convertToInteractive(key) {\n",
              "          const element = document.querySelector('#df-98588a27-321a-49df-b027-6ea81b3ff93e');\n",
              "          const dataTable =\n",
              "            await google.colab.kernel.invokeFunction('convertToInteractive',\n",
              "                                                     [key], {});\n",
              "          if (!dataTable) return;\n",
              "\n",
              "          const docLinkHtml = 'Like what you see? Visit the ' +\n",
              "            '<a target=\"_blank\" href=https://colab.research.google.com/notebooks/data_table.ipynb>data table notebook</a>'\n",
              "            + ' to learn more about interactive tables.';\n",
              "          element.innerHTML = '';\n",
              "          dataTable['output_type'] = 'display_data';\n",
              "          await google.colab.output.renderOutput(dataTable, element);\n",
              "          const docLink = document.createElement('div');\n",
              "          docLink.innerHTML = docLinkHtml;\n",
              "          element.appendChild(docLink);\n",
              "        }\n",
              "      </script>\n",
              "    </div>\n",
              "  </div>\n",
              "  "
            ]
          },
          "metadata": {},
          "execution_count": 4
        }
      ]
    },
    {
      "cell_type": "code",
      "source": [
        "dataset.info()"
      ],
      "metadata": {
        "colab": {
          "base_uri": "https://localhost:8080/"
        },
        "id": "9clhwmk1ixaN",
        "outputId": "8820af63-9e47-41f5-c182-dbad2755a79e"
      },
      "execution_count": 5,
      "outputs": [
        {
          "output_type": "stream",
          "name": "stdout",
          "text": [
            "<class 'pandas.core.frame.DataFrame'>\n",
            "RangeIndex: 17898 entries, 0 to 17897\n",
            "Data columns (total 9 columns):\n",
            " #   Column                                         Non-Null Count  Dtype  \n",
            "---  ------                                         --------------  -----  \n",
            " 0    Mean of the integrated profile                17898 non-null  float64\n",
            " 1    Standard deviation of the integrated profile  17898 non-null  float64\n",
            " 2    Excess kurtosis of the integrated profile     17898 non-null  float64\n",
            " 3    Skewness of the integrated profile            17898 non-null  float64\n",
            " 4    Mean of the DM-SNR curve                      17898 non-null  float64\n",
            " 5    Standard deviation of the DM-SNR curve        17898 non-null  float64\n",
            " 6    Excess kurtosis of the DM-SNR curve           17898 non-null  float64\n",
            " 7    Skewness of the DM-SNR curve                  17898 non-null  float64\n",
            " 8   target_class                                   17898 non-null  int64  \n",
            "dtypes: float64(8), int64(1)\n",
            "memory usage: 1.2 MB\n"
          ]
        }
      ]
    },
    {
      "cell_type": "code",
      "source": [
        "dataset.dtypes"
      ],
      "metadata": {
        "colab": {
          "base_uri": "https://localhost:8080/"
        },
        "id": "hrdBGWLPi0Em",
        "outputId": "beec00d0-ee54-4a19-bb79-59eab9228adc"
      },
      "execution_count": 6,
      "outputs": [
        {
          "output_type": "execute_result",
          "data": {
            "text/plain": [
              " Mean of the integrated profile                  float64\n",
              " Standard deviation of the integrated profile    float64\n",
              " Excess kurtosis of the integrated profile       float64\n",
              " Skewness of the integrated profile              float64\n",
              " Mean of the DM-SNR curve                        float64\n",
              " Standard deviation of the DM-SNR curve          float64\n",
              " Excess kurtosis of the DM-SNR curve             float64\n",
              " Skewness of the DM-SNR curve                    float64\n",
              "target_class                                       int64\n",
              "dtype: object"
            ]
          },
          "metadata": {},
          "execution_count": 6
        }
      ]
    },
    {
      "cell_type": "markdown",
      "source": [
        "### Observações finais\n",
        "\n",
        "*   Não contém valores nulos\n",
        "*   O número total de observações é de 17898\n",
        "*   Os tipos com exceção do target_class são do tipo float64\n",
        "*   No final acreditamos que os dados estão bons para separar em treino e testes sem nenhuma transformação ou alteração \n",
        "\n",
        "### Separação dos dados para treino e teste\n",
        "\n",
        "A seguir separamos os dados para treino e testes e também já separamos nossa variávle target."
      ],
      "metadata": {
        "id": "yxVgvbIzi3it"
      }
    },
    {
      "cell_type": "code",
      "source": [
        "#@title Divide os dados em inputs (X) e outputs (y)\n",
        "X = dataset.iloc[:, :-1].values\n",
        "y = dataset.iloc[:, -1].values"
      ],
      "metadata": {
        "id": "aWiy7G8ihwaR"
      },
      "execution_count": 7,
      "outputs": []
    },
    {
      "cell_type": "code",
      "source": [
        "#@title Normaliza os dados\n",
        "X = (X - np.mean(X, axis=0)) / np.std(X, axis=0)"
      ],
      "metadata": {
        "id": "r2gRGSLBh4-H"
      },
      "execution_count": 8,
      "outputs": []
    },
    {
      "cell_type": "code",
      "source": [
        "#@title Converte os outputs para one-hot encoding\n",
        "y = tf.keras.utils.to_categorical(y)"
      ],
      "metadata": {
        "id": "RElhVCrCh8BX"
      },
      "execution_count": 9,
      "outputs": []
    },
    {
      "cell_type": "code",
      "source": [
        "#@title Define a arquitetura da rede\n",
        "model = tf.keras.models.Sequential([\n",
        "    tf.keras.layers.Dense(64, activation='relu', input_shape=(X.shape[1],)),\n",
        "    tf.keras.layers.Dense(32, activation='relu'),\n",
        "    tf.keras.layers.Dense(2, activation='softmax')\n",
        "])"
      ],
      "metadata": {
        "id": "4R-OlffziHAL"
      },
      "execution_count": 10,
      "outputs": []
    },
    {
      "cell_type": "code",
      "source": [
        "#@title Compila a rede\n",
        "model.compile(optimizer='adam', loss='categorical_crossentropy', metrics=['accuracy'])"
      ],
      "metadata": {
        "id": "zynhE5waiKZA"
      },
      "execution_count": 11,
      "outputs": []
    },
    {
      "cell_type": "code",
      "source": [
        "#@title Treina a rede\n",
        "history = model.fit(X, y, epochs=100, batch_size=32, validation_split=0.2)"
      ],
      "metadata": {
        "colab": {
          "base_uri": "https://localhost:8080/"
        },
        "id": "ISjY7okQiN1f",
        "outputId": "703aa6a2-c68f-4334-ae97-10166c259577"
      },
      "execution_count": 12,
      "outputs": [
        {
          "output_type": "stream",
          "name": "stdout",
          "text": [
            "Epoch 1/100\n",
            "448/448 [==============================] - 5s 8ms/step - loss: 0.1228 - accuracy: 0.9652 - val_loss: 0.0330 - val_accuracy: 0.9922\n",
            "Epoch 2/100\n",
            "448/448 [==============================] - 3s 7ms/step - loss: 0.0817 - accuracy: 0.9760 - val_loss: 0.0358 - val_accuracy: 0.9894\n",
            "Epoch 3/100\n",
            "448/448 [==============================] - 2s 5ms/step - loss: 0.0789 - accuracy: 0.9767 - val_loss: 0.0327 - val_accuracy: 0.9885\n",
            "Epoch 4/100\n",
            "448/448 [==============================] - 2s 5ms/step - loss: 0.0772 - accuracy: 0.9779 - val_loss: 0.0337 - val_accuracy: 0.9902\n",
            "Epoch 5/100\n",
            "448/448 [==============================] - 2s 5ms/step - loss: 0.0761 - accuracy: 0.9778 - val_loss: 0.0386 - val_accuracy: 0.9883\n",
            "Epoch 6/100\n",
            "448/448 [==============================] - 4s 8ms/step - loss: 0.0752 - accuracy: 0.9779 - val_loss: 0.0357 - val_accuracy: 0.9908\n",
            "Epoch 7/100\n",
            "448/448 [==============================] - 3s 6ms/step - loss: 0.0752 - accuracy: 0.9776 - val_loss: 0.0300 - val_accuracy: 0.9894\n",
            "Epoch 8/100\n",
            "448/448 [==============================] - 2s 5ms/step - loss: 0.0745 - accuracy: 0.9777 - val_loss: 0.0335 - val_accuracy: 0.9897\n",
            "Epoch 9/100\n",
            "448/448 [==============================] - 1s 2ms/step - loss: 0.0741 - accuracy: 0.9777 - val_loss: 0.0333 - val_accuracy: 0.9894\n",
            "Epoch 10/100\n",
            "448/448 [==============================] - 1s 2ms/step - loss: 0.0739 - accuracy: 0.9781 - val_loss: 0.0399 - val_accuracy: 0.9888\n",
            "Epoch 11/100\n",
            "448/448 [==============================] - 1s 2ms/step - loss: 0.0738 - accuracy: 0.9777 - val_loss: 0.0369 - val_accuracy: 0.9902\n",
            "Epoch 12/100\n",
            "448/448 [==============================] - 2s 4ms/step - loss: 0.0729 - accuracy: 0.9781 - val_loss: 0.0329 - val_accuracy: 0.9902\n",
            "Epoch 13/100\n",
            "448/448 [==============================] - 5s 10ms/step - loss: 0.0728 - accuracy: 0.9786 - val_loss: 0.0364 - val_accuracy: 0.9891\n",
            "Epoch 14/100\n",
            "448/448 [==============================] - 2s 5ms/step - loss: 0.0727 - accuracy: 0.9779 - val_loss: 0.0359 - val_accuracy: 0.9902\n",
            "Epoch 15/100\n",
            "448/448 [==============================] - 2s 4ms/step - loss: 0.0725 - accuracy: 0.9783 - val_loss: 0.0417 - val_accuracy: 0.9897\n",
            "Epoch 16/100\n",
            "448/448 [==============================] - 2s 5ms/step - loss: 0.0721 - accuracy: 0.9783 - val_loss: 0.0286 - val_accuracy: 0.9897\n",
            "Epoch 17/100\n",
            "448/448 [==============================] - 2s 5ms/step - loss: 0.0720 - accuracy: 0.9783 - val_loss: 0.0366 - val_accuracy: 0.9897\n",
            "Epoch 18/100\n",
            "448/448 [==============================] - 4s 8ms/step - loss: 0.0717 - accuracy: 0.9777 - val_loss: 0.0351 - val_accuracy: 0.9899\n",
            "Epoch 19/100\n",
            "448/448 [==============================] - 2s 5ms/step - loss: 0.0714 - accuracy: 0.9781 - val_loss: 0.0338 - val_accuracy: 0.9894\n",
            "Epoch 20/100\n",
            "448/448 [==============================] - 2s 5ms/step - loss: 0.0715 - accuracy: 0.9778 - val_loss: 0.0355 - val_accuracy: 0.9902\n",
            "Epoch 21/100\n",
            "448/448 [==============================] - 3s 6ms/step - loss: 0.0709 - accuracy: 0.9782 - val_loss: 0.0307 - val_accuracy: 0.9905\n",
            "Epoch 22/100\n",
            "448/448 [==============================] - 2s 5ms/step - loss: 0.0707 - accuracy: 0.9778 - val_loss: 0.0366 - val_accuracy: 0.9902\n",
            "Epoch 23/100\n",
            "448/448 [==============================] - 2s 4ms/step - loss: 0.0713 - accuracy: 0.9781 - val_loss: 0.0358 - val_accuracy: 0.9897\n",
            "Epoch 24/100\n",
            "448/448 [==============================] - 2s 4ms/step - loss: 0.0706 - accuracy: 0.9781 - val_loss: 0.0322 - val_accuracy: 0.9891\n",
            "Epoch 25/100\n",
            "448/448 [==============================] - 1s 2ms/step - loss: 0.0700 - accuracy: 0.9788 - val_loss: 0.0318 - val_accuracy: 0.9905\n",
            "Epoch 26/100\n",
            "448/448 [==============================] - 1s 2ms/step - loss: 0.0701 - accuracy: 0.9780 - val_loss: 0.0331 - val_accuracy: 0.9902\n",
            "Epoch 27/100\n",
            "448/448 [==============================] - 1s 2ms/step - loss: 0.0702 - accuracy: 0.9786 - val_loss: 0.0342 - val_accuracy: 0.9897\n",
            "Epoch 28/100\n",
            "448/448 [==============================] - 1s 2ms/step - loss: 0.0693 - accuracy: 0.9791 - val_loss: 0.0315 - val_accuracy: 0.9894\n",
            "Epoch 29/100\n",
            "448/448 [==============================] - 1s 2ms/step - loss: 0.0696 - accuracy: 0.9791 - val_loss: 0.0402 - val_accuracy: 0.9902\n",
            "Epoch 30/100\n",
            "448/448 [==============================] - 1s 2ms/step - loss: 0.0697 - accuracy: 0.9782 - val_loss: 0.0338 - val_accuracy: 0.9902\n",
            "Epoch 31/100\n",
            "448/448 [==============================] - 1s 2ms/step - loss: 0.0689 - accuracy: 0.9785 - val_loss: 0.0336 - val_accuracy: 0.9897\n",
            "Epoch 32/100\n",
            "448/448 [==============================] - 1s 2ms/step - loss: 0.0693 - accuracy: 0.9793 - val_loss: 0.0352 - val_accuracy: 0.9894\n",
            "Epoch 33/100\n",
            "448/448 [==============================] - 1s 2ms/step - loss: 0.0692 - accuracy: 0.9791 - val_loss: 0.0323 - val_accuracy: 0.9891\n",
            "Epoch 34/100\n",
            "448/448 [==============================] - 1s 3ms/step - loss: 0.0692 - accuracy: 0.9790 - val_loss: 0.0403 - val_accuracy: 0.9905\n",
            "Epoch 35/100\n",
            "448/448 [==============================] - 2s 4ms/step - loss: 0.0689 - accuracy: 0.9793 - val_loss: 0.0352 - val_accuracy: 0.9885\n",
            "Epoch 36/100\n",
            "448/448 [==============================] - 1s 3ms/step - loss: 0.0689 - accuracy: 0.9790 - val_loss: 0.0412 - val_accuracy: 0.9905\n",
            "Epoch 37/100\n",
            "448/448 [==============================] - 1s 2ms/step - loss: 0.0682 - accuracy: 0.9797 - val_loss: 0.0315 - val_accuracy: 0.9897\n",
            "Epoch 38/100\n",
            "448/448 [==============================] - 1s 2ms/step - loss: 0.0684 - accuracy: 0.9793 - val_loss: 0.0360 - val_accuracy: 0.9899\n",
            "Epoch 39/100\n",
            "448/448 [==============================] - 1s 2ms/step - loss: 0.0683 - accuracy: 0.9795 - val_loss: 0.0363 - val_accuracy: 0.9897\n",
            "Epoch 40/100\n",
            "448/448 [==============================] - 1s 2ms/step - loss: 0.0683 - accuracy: 0.9795 - val_loss: 0.0391 - val_accuracy: 0.9891\n",
            "Epoch 41/100\n",
            "448/448 [==============================] - 1s 2ms/step - loss: 0.0682 - accuracy: 0.9792 - val_loss: 0.0307 - val_accuracy: 0.9899\n",
            "Epoch 42/100\n",
            "448/448 [==============================] - 1s 2ms/step - loss: 0.0674 - accuracy: 0.9796 - val_loss: 0.0323 - val_accuracy: 0.9888\n",
            "Epoch 43/100\n",
            "448/448 [==============================] - 1s 2ms/step - loss: 0.0677 - accuracy: 0.9798 - val_loss: 0.0343 - val_accuracy: 0.9899\n",
            "Epoch 44/100\n",
            "448/448 [==============================] - 1s 2ms/step - loss: 0.0676 - accuracy: 0.9792 - val_loss: 0.0340 - val_accuracy: 0.9902\n",
            "Epoch 45/100\n",
            "448/448 [==============================] - 1s 3ms/step - loss: 0.0673 - accuracy: 0.9790 - val_loss: 0.0338 - val_accuracy: 0.9891\n",
            "Epoch 46/100\n",
            "448/448 [==============================] - 2s 4ms/step - loss: 0.0671 - accuracy: 0.9798 - val_loss: 0.0326 - val_accuracy: 0.9913\n",
            "Epoch 47/100\n",
            "448/448 [==============================] - 1s 3ms/step - loss: 0.0667 - accuracy: 0.9801 - val_loss: 0.0314 - val_accuracy: 0.9899\n",
            "Epoch 48/100\n",
            "448/448 [==============================] - 1s 2ms/step - loss: 0.0668 - accuracy: 0.9795 - val_loss: 0.0334 - val_accuracy: 0.9905\n",
            "Epoch 49/100\n",
            "448/448 [==============================] - 1s 2ms/step - loss: 0.0670 - accuracy: 0.9796 - val_loss: 0.0330 - val_accuracy: 0.9891\n",
            "Epoch 50/100\n",
            "448/448 [==============================] - 1s 2ms/step - loss: 0.0664 - accuracy: 0.9797 - val_loss: 0.0353 - val_accuracy: 0.9911\n",
            "Epoch 51/100\n",
            "448/448 [==============================] - 1s 2ms/step - loss: 0.0665 - accuracy: 0.9797 - val_loss: 0.0325 - val_accuracy: 0.9899\n",
            "Epoch 52/100\n",
            "448/448 [==============================] - 1s 2ms/step - loss: 0.0667 - accuracy: 0.9788 - val_loss: 0.0394 - val_accuracy: 0.9902\n",
            "Epoch 53/100\n",
            "448/448 [==============================] - 1s 2ms/step - loss: 0.0663 - accuracy: 0.9789 - val_loss: 0.0410 - val_accuracy: 0.9905\n",
            "Epoch 54/100\n",
            "448/448 [==============================] - 1s 2ms/step - loss: 0.0659 - accuracy: 0.9795 - val_loss: 0.0313 - val_accuracy: 0.9897\n",
            "Epoch 55/100\n",
            "448/448 [==============================] - 1s 2ms/step - loss: 0.0664 - accuracy: 0.9804 - val_loss: 0.0332 - val_accuracy: 0.9902\n",
            "Epoch 56/100\n",
            "448/448 [==============================] - 1s 3ms/step - loss: 0.0654 - accuracy: 0.9797 - val_loss: 0.0320 - val_accuracy: 0.9897\n",
            "Epoch 57/100\n",
            "448/448 [==============================] - 2s 4ms/step - loss: 0.0659 - accuracy: 0.9797 - val_loss: 0.0338 - val_accuracy: 0.9894\n",
            "Epoch 58/100\n",
            "448/448 [==============================] - 1s 3ms/step - loss: 0.0651 - accuracy: 0.9802 - val_loss: 0.0426 - val_accuracy: 0.9897\n",
            "Epoch 59/100\n",
            "448/448 [==============================] - 1s 2ms/step - loss: 0.0652 - accuracy: 0.9799 - val_loss: 0.0355 - val_accuracy: 0.9905\n",
            "Epoch 60/100\n",
            "448/448 [==============================] - 1s 2ms/step - loss: 0.0656 - accuracy: 0.9796 - val_loss: 0.0395 - val_accuracy: 0.9897\n",
            "Epoch 61/100\n",
            "448/448 [==============================] - 1s 2ms/step - loss: 0.0646 - accuracy: 0.9798 - val_loss: 0.0351 - val_accuracy: 0.9902\n",
            "Epoch 62/100\n",
            "448/448 [==============================] - 1s 2ms/step - loss: 0.0647 - accuracy: 0.9800 - val_loss: 0.0337 - val_accuracy: 0.9897\n",
            "Epoch 63/100\n",
            "448/448 [==============================] - 1s 2ms/step - loss: 0.0649 - accuracy: 0.9805 - val_loss: 0.0303 - val_accuracy: 0.9897\n",
            "Epoch 64/100\n",
            "448/448 [==============================] - 1s 2ms/step - loss: 0.0643 - accuracy: 0.9804 - val_loss: 0.0363 - val_accuracy: 0.9905\n",
            "Epoch 65/100\n",
            "448/448 [==============================] - 1s 2ms/step - loss: 0.0644 - accuracy: 0.9809 - val_loss: 0.0317 - val_accuracy: 0.9905\n",
            "Epoch 66/100\n",
            "448/448 [==============================] - 1s 2ms/step - loss: 0.0639 - accuracy: 0.9807 - val_loss: 0.0373 - val_accuracy: 0.9897\n",
            "Epoch 67/100\n",
            "448/448 [==============================] - 1s 3ms/step - loss: 0.0640 - accuracy: 0.9804 - val_loss: 0.0384 - val_accuracy: 0.9897\n",
            "Epoch 68/100\n",
            "448/448 [==============================] - 2s 4ms/step - loss: 0.0640 - accuracy: 0.9806 - val_loss: 0.0379 - val_accuracy: 0.9902\n",
            "Epoch 69/100\n",
            "448/448 [==============================] - 1s 3ms/step - loss: 0.0633 - accuracy: 0.9805 - val_loss: 0.0380 - val_accuracy: 0.9905\n",
            "Epoch 70/100\n",
            "448/448 [==============================] - 1s 3ms/step - loss: 0.0641 - accuracy: 0.9799 - val_loss: 0.0332 - val_accuracy: 0.9905\n",
            "Epoch 71/100\n",
            "448/448 [==============================] - 1s 2ms/step - loss: 0.0638 - accuracy: 0.9806 - val_loss: 0.0335 - val_accuracy: 0.9899\n",
            "Epoch 72/100\n",
            "448/448 [==============================] - 1s 2ms/step - loss: 0.0633 - accuracy: 0.9806 - val_loss: 0.0322 - val_accuracy: 0.9905\n",
            "Epoch 73/100\n",
            "448/448 [==============================] - 1s 2ms/step - loss: 0.0631 - accuracy: 0.9804 - val_loss: 0.0389 - val_accuracy: 0.9902\n",
            "Epoch 74/100\n",
            "448/448 [==============================] - 1s 2ms/step - loss: 0.0633 - accuracy: 0.9804 - val_loss: 0.0398 - val_accuracy: 0.9897\n",
            "Epoch 75/100\n",
            "448/448 [==============================] - 1s 2ms/step - loss: 0.0632 - accuracy: 0.9811 - val_loss: 0.0416 - val_accuracy: 0.9905\n",
            "Epoch 76/100\n",
            "448/448 [==============================] - 1s 2ms/step - loss: 0.0628 - accuracy: 0.9807 - val_loss: 0.0311 - val_accuracy: 0.9905\n",
            "Epoch 77/100\n",
            "448/448 [==============================] - 1s 2ms/step - loss: 0.0632 - accuracy: 0.9806 - val_loss: 0.0375 - val_accuracy: 0.9902\n",
            "Epoch 78/100\n",
            "448/448 [==============================] - 2s 3ms/step - loss: 0.0625 - accuracy: 0.9805 - val_loss: 0.0371 - val_accuracy: 0.9902\n",
            "Epoch 79/100\n",
            "448/448 [==============================] - 2s 6ms/step - loss: 0.0627 - accuracy: 0.9810 - val_loss: 0.0319 - val_accuracy: 0.9905\n",
            "Epoch 80/100\n",
            "448/448 [==============================] - 1s 2ms/step - loss: 0.0619 - accuracy: 0.9810 - val_loss: 0.0336 - val_accuracy: 0.9908\n",
            "Epoch 81/100\n",
            "448/448 [==============================] - 1s 2ms/step - loss: 0.0624 - accuracy: 0.9804 - val_loss: 0.0393 - val_accuracy: 0.9911\n",
            "Epoch 82/100\n",
            "448/448 [==============================] - 1s 2ms/step - loss: 0.0619 - accuracy: 0.9812 - val_loss: 0.0348 - val_accuracy: 0.9911\n",
            "Epoch 83/100\n",
            "448/448 [==============================] - 1s 2ms/step - loss: 0.0618 - accuracy: 0.9811 - val_loss: 0.0318 - val_accuracy: 0.9908\n",
            "Epoch 84/100\n",
            "448/448 [==============================] - 1s 2ms/step - loss: 0.0615 - accuracy: 0.9814 - val_loss: 0.0366 - val_accuracy: 0.9908\n",
            "Epoch 85/100\n",
            "448/448 [==============================] - 1s 2ms/step - loss: 0.0617 - accuracy: 0.9809 - val_loss: 0.0361 - val_accuracy: 0.9911\n",
            "Epoch 86/100\n",
            "448/448 [==============================] - 1s 2ms/step - loss: 0.0615 - accuracy: 0.9814 - val_loss: 0.0322 - val_accuracy: 0.9908\n",
            "Epoch 87/100\n",
            "448/448 [==============================] - 1s 2ms/step - loss: 0.0619 - accuracy: 0.9807 - val_loss: 0.0401 - val_accuracy: 0.9899\n",
            "Epoch 88/100\n",
            "448/448 [==============================] - 1s 3ms/step - loss: 0.0616 - accuracy: 0.9807 - val_loss: 0.0320 - val_accuracy: 0.9913\n",
            "Epoch 89/100\n",
            "448/448 [==============================] - 2s 4ms/step - loss: 0.0613 - accuracy: 0.9809 - val_loss: 0.0366 - val_accuracy: 0.9902\n",
            "Epoch 90/100\n",
            "448/448 [==============================] - 2s 3ms/step - loss: 0.0610 - accuracy: 0.9816 - val_loss: 0.0312 - val_accuracy: 0.9911\n",
            "Epoch 91/100\n",
            "448/448 [==============================] - 1s 2ms/step - loss: 0.0615 - accuracy: 0.9808 - val_loss: 0.0369 - val_accuracy: 0.9908\n",
            "Epoch 92/100\n",
            "448/448 [==============================] - 1s 2ms/step - loss: 0.0607 - accuracy: 0.9813 - val_loss: 0.0329 - val_accuracy: 0.9913\n",
            "Epoch 93/100\n",
            "448/448 [==============================] - 1s 2ms/step - loss: 0.0609 - accuracy: 0.9811 - val_loss: 0.0351 - val_accuracy: 0.9905\n",
            "Epoch 94/100\n",
            "448/448 [==============================] - 1s 2ms/step - loss: 0.0606 - accuracy: 0.9811 - val_loss: 0.0389 - val_accuracy: 0.9899\n",
            "Epoch 95/100\n",
            "448/448 [==============================] - 2s 4ms/step - loss: 0.0602 - accuracy: 0.9816 - val_loss: 0.0378 - val_accuracy: 0.9897\n",
            "Epoch 96/100\n",
            "448/448 [==============================] - 2s 5ms/step - loss: 0.0604 - accuracy: 0.9816 - val_loss: 0.0379 - val_accuracy: 0.9908\n",
            "Epoch 97/100\n",
            "448/448 [==============================] - 1s 2ms/step - loss: 0.0599 - accuracy: 0.9818 - val_loss: 0.0323 - val_accuracy: 0.9905\n",
            "Epoch 98/100\n",
            "448/448 [==============================] - 2s 4ms/step - loss: 0.0599 - accuracy: 0.9814 - val_loss: 0.0391 - val_accuracy: 0.9897\n",
            "Epoch 99/100\n",
            "448/448 [==============================] - 2s 3ms/step - loss: 0.0597 - accuracy: 0.9814 - val_loss: 0.0356 - val_accuracy: 0.9897\n",
            "Epoch 100/100\n",
            "448/448 [==============================] - 1s 2ms/step - loss: 0.0599 - accuracy: 0.9819 - val_loss: 0.0347 - val_accuracy: 0.9905\n"
          ]
        }
      ]
    },
    {
      "cell_type": "code",
      "source": [
        "#@title Plot das camadas\n",
        "plot_model(model, to_file='pulsar.png', show_shapes=True, show_layer_names=True)"
      ],
      "metadata": {
        "colab": {
          "base_uri": "https://localhost:8080/",
          "height": 422
        },
        "id": "RhgjdYC3jKmv",
        "outputId": "9b62ddb4-e025-4123-bc7b-c0fcb410e000"
      },
      "execution_count": 13,
      "outputs": [
        {
          "output_type": "execute_result",
          "data": {
            "image/png": "[encoded data removed]",
            "text/plain": [
              "<IPython.core.display.Image object>"
            ]
          },
          "metadata": {},
          "execution_count": 13
        }
      ]
    },
    {
      "cell_type": "code",
      "source": [
        "plt.plot(history.history['accuracy'])\n",
        "plt.plot(history.history['val_accuracy'])\n",
        "plt.title('model accuracy')\n",
        "plt.ylabel('accuracy')\n",
        "plt.xlabel('epoch')\n",
        "plt.legend(['train', 'val'], loc='upper left')\n",
        "plt.show()"
      ],
      "metadata": {
        "colab": {
          "base_uri": "https://localhost:8080/",
          "height": 295
        },
        "id": "1MOaq0_GjMYA",
        "outputId": "547547a0-ee1a-4a7c-db6d-f37d95150e28"
      },
      "execution_count": 14,
      "outputs": [
        {
          "output_type": "display_data",
          "data": {
            "text/plain": [
              "<Figure size 432x288 with 1 Axes>"
            ],
            "image/png": "[encoded data removed]"
          },
          "metadata": {
            "needs_background": "light"
          }
        }
      ]
    },
    {
      "cell_type": "code",
      "source": [
        "#@title Acurácia do nosso modelo\n",
        "score = model.evaluate(X, y, verbose=0)\n",
        "print(\"\\n%s: %.2f%%\" % (model.metrics_names[1], score[1]*100))"
      ],
      "metadata": {
        "colab": {
          "base_uri": "https://localhost:8080/"
        },
        "id": "_MEQiS2WjPC_",
        "outputId": "3fe48a1f-6ec6-4bed-ee3f-d650c27148d1"
      },
      "execution_count": 15,
      "outputs": [
        {
          "output_type": "stream",
          "name": "stdout",
          "text": [
            "\n",
            "accuracy: 98.41%\n"
          ]
        }
      ]
    },
    {
      "cell_type": "code",
      "source": [
        "#@title Teste de predição\n",
        "y_pred_out = model.predict(X)"
      ],
      "metadata": {
        "colab": {
          "base_uri": "https://localhost:8080/"
        },
        "id": "gCHRq_xZjQmf",
        "outputId": "9a6c6f90-84e3-4eb0-9d92-6b87d3b48e66"
      },
      "execution_count": 16,
      "outputs": [
        {
          "output_type": "stream",
          "name": "stdout",
          "text": [
            "560/560 [==============================] - 1s 1ms/step\n"
          ]
        }
      ]
    },
    {
      "cell_type": "code",
      "source": [
        "y_pred_out"
      ],
      "metadata": {
        "colab": {
          "base_uri": "https://localhost:8080/"
        },
        "id": "t_IJ8aHHjSMH",
        "outputId": "a5e8e079-e1c1-4210-8525-1d70f054170d"
      },
      "execution_count": 17,
      "outputs": [
        {
          "output_type": "execute_result",
          "data": {
            "text/plain": [
              "array([[9.9989015e-01, 1.0972233e-04],\n",
              "       [9.9769080e-01, 2.3092490e-03],\n",
              "       [9.6646696e-01, 3.3532962e-02],\n",
              "       ...,\n",
              "       [9.9221635e-01, 7.7835848e-03],\n",
              "       [9.9984384e-01, 1.5610213e-04],\n",
              "       [1.4026232e-01, 8.5973763e-01]], dtype=float32)"
            ]
          },
          "metadata": {},
          "execution_count": 17
        }
      ]
    },
    {
      "cell_type": "code",
      "source": [
        "y_pred_out > 0.5"
      ],
      "metadata": {
        "colab": {
          "base_uri": "https://localhost:8080/"
        },
        "id": "X2LC5kLFjUS6",
        "outputId": "5fe9a63d-94c9-4da1-e1d7-de773976398a"
      },
      "execution_count": 18,
      "outputs": [
        {
          "output_type": "execute_result",
          "data": {
            "text/plain": [
              "array([[ True, False],\n",
              "       [ True, False],\n",
              "       [ True, False],\n",
              "       ...,\n",
              "       [ True, False],\n",
              "       [ True, False],\n",
              "       [False,  True]])"
            ]
          },
          "metadata": {},
          "execution_count": 18
        }
      ]
    },
    {
      "cell_type": "code",
      "source": [
        "y_pred_classes = (y_pred_out > 0.5).astype(int) \n",
        "y_pred_classes"
      ],
      "metadata": {
        "id": "cHKFSzkpkUHJ"
      },
      "execution_count": null,
      "outputs": []
    },
    {
      "cell_type": "markdown",
      "source": [
        "### Considerações finais\n",
        "\n",
        "O nosso modelo chegou em uma acurácia de 98.41%. Isso fornece um bom alvo para classificar amostras de estrelas de nêutrons ou não."
      ],
      "metadata": {
        "id": "LSKtdvQzkYRA"
      }
    }
  ]
}