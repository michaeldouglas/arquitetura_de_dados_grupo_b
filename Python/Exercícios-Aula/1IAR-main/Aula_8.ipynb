{
 "cells": [
  {
   "cell_type": "markdown",
   "metadata": {},
   "source": [
    "# Hands-on"
   ]
  },
  {
   "cell_type": "markdown",
   "metadata": {},
   "source": [
    "#### Importando bibliotecas"
   ]
  },
  {
   "cell_type": "code",
   "execution_count": 117,
   "metadata": {},
   "outputs": [],
   "source": [
    "import pandas as pd\n",
    "import numpy as np\n",
    "# demais pacotes serão importados, mas vamos adicioná-los à medida que houver necessidade "
   ]
  },
  {
   "cell_type": "markdown",
   "metadata": {},
   "source": [
    "#### Adquirindo os dados\n",
    "\n",
    "Vamos fazer a leitura de nossos dados utilizando Pandas"
   ]
  },
  {
   "cell_type": "code",
   "execution_count": 118,
   "metadata": {},
   "outputs": [
    {
     "data": {
      "text/html": [
       "<div>\n",
       "<style scoped>\n",
       "    .dataframe tbody tr th:only-of-type {\n",
       "        vertical-align: middle;\n",
       "    }\n",
       "\n",
       "    .dataframe tbody tr th {\n",
       "        vertical-align: top;\n",
       "    }\n",
       "\n",
       "    .dataframe thead th {\n",
       "        text-align: right;\n",
       "    }\n",
       "</style>\n",
       "<table border=\"1\" class=\"dataframe\">\n",
       "  <thead>\n",
       "    <tr style=\"text-align: right;\">\n",
       "      <th></th>\n",
       "      <th>X</th>\n",
       "      <th>Y</th>\n",
       "      <th>month</th>\n",
       "      <th>day</th>\n",
       "      <th>FFMC</th>\n",
       "      <th>DMC</th>\n",
       "      <th>DC</th>\n",
       "      <th>ISI</th>\n",
       "      <th>temp</th>\n",
       "      <th>RH</th>\n",
       "      <th>wind</th>\n",
       "      <th>rain</th>\n",
       "      <th>area</th>\n",
       "    </tr>\n",
       "  </thead>\n",
       "  <tbody>\n",
       "    <tr>\n",
       "      <th>0</th>\n",
       "      <td>7</td>\n",
       "      <td>5</td>\n",
       "      <td>mar</td>\n",
       "      <td>fri</td>\n",
       "      <td>86.2</td>\n",
       "      <td>26.2</td>\n",
       "      <td>94.3</td>\n",
       "      <td>5.1</td>\n",
       "      <td>8.2</td>\n",
       "      <td>51</td>\n",
       "      <td>6.7</td>\n",
       "      <td>0.0</td>\n",
       "      <td>0.0</td>\n",
       "    </tr>\n",
       "    <tr>\n",
       "      <th>1</th>\n",
       "      <td>7</td>\n",
       "      <td>4</td>\n",
       "      <td>oct</td>\n",
       "      <td>tue</td>\n",
       "      <td>90.6</td>\n",
       "      <td>35.4</td>\n",
       "      <td>669.1</td>\n",
       "      <td>6.7</td>\n",
       "      <td>NaN</td>\n",
       "      <td>33</td>\n",
       "      <td>0.9</td>\n",
       "      <td>0.0</td>\n",
       "      <td>0.0</td>\n",
       "    </tr>\n",
       "    <tr>\n",
       "      <th>2</th>\n",
       "      <td>7</td>\n",
       "      <td>4</td>\n",
       "      <td>oct</td>\n",
       "      <td>sat</td>\n",
       "      <td>90.6</td>\n",
       "      <td>43.7</td>\n",
       "      <td>686.9</td>\n",
       "      <td>6.7</td>\n",
       "      <td>NaN</td>\n",
       "      <td>33</td>\n",
       "      <td>1.3</td>\n",
       "      <td>0.0</td>\n",
       "      <td>0.0</td>\n",
       "    </tr>\n",
       "    <tr>\n",
       "      <th>3</th>\n",
       "      <td>8</td>\n",
       "      <td>6</td>\n",
       "      <td>mar</td>\n",
       "      <td>fri</td>\n",
       "      <td>91.7</td>\n",
       "      <td>33.3</td>\n",
       "      <td>77.5</td>\n",
       "      <td>9.0</td>\n",
       "      <td>NaN</td>\n",
       "      <td>97</td>\n",
       "      <td>4.0</td>\n",
       "      <td>0.2</td>\n",
       "      <td>0.0</td>\n",
       "    </tr>\n",
       "    <tr>\n",
       "      <th>4</th>\n",
       "      <td>8</td>\n",
       "      <td>6</td>\n",
       "      <td>mar</td>\n",
       "      <td>sun</td>\n",
       "      <td>89.3</td>\n",
       "      <td>51.3</td>\n",
       "      <td>102.2</td>\n",
       "      <td>9.6</td>\n",
       "      <td>11.4</td>\n",
       "      <td>99</td>\n",
       "      <td>1.8</td>\n",
       "      <td>0.0</td>\n",
       "      <td>0.0</td>\n",
       "    </tr>\n",
       "  </tbody>\n",
       "</table>\n",
       "</div>"
      ],
      "text/plain": [
       "   X  Y month  day  FFMC   DMC     DC  ISI  temp  RH  wind  rain  area\n",
       "0  7  5   mar  fri  86.2  26.2   94.3  5.1   8.2  51   6.7   0.0   0.0\n",
       "1  7  4   oct  tue  90.6  35.4  669.1  6.7   NaN  33   0.9   0.0   0.0\n",
       "2  7  4   oct  sat  90.6  43.7  686.9  6.7   NaN  33   1.3   0.0   0.0\n",
       "3  8  6   mar  fri  91.7  33.3   77.5  9.0   NaN  97   4.0   0.2   0.0\n",
       "4  8  6   mar  sun  89.3  51.3  102.2  9.6  11.4  99   1.8   0.0   0.0"
      ]
     },
     "execution_count": 118,
     "metadata": {},
     "output_type": "execute_result"
    }
   ],
   "source": [
    "data = pd.read_csv('bases/forestfires.csv',sep=';')\n",
    "\n",
    "# Imprimindo as primeiras 5 linhas\n",
    "data.head()"
   ]
  },
  {
   "cell_type": "raw",
   "metadata": {},
   "source": [
    "Diretamente, não temos informação do que se refere cada coluna de nosso dataset (a não ser as óbvias month e day, etc.). Por isso, temos um arquivo extra que nos informa o significado de cada coluna. Deixei ele junto com o dataset no github"
   ]
  },
  {
   "cell_type": "code",
   "execution_count": 119,
   "metadata": {},
   "outputs": [
    {
     "name": "stdout",
     "output_type": "stream",
     "text": [
      "<class 'pandas.core.frame.DataFrame'>\n",
      "RangeIndex: 517 entries, 0 to 516\n",
      "Data columns (total 13 columns):\n",
      " #   Column  Non-Null Count  Dtype  \n",
      "---  ------  --------------  -----  \n",
      " 0   X       517 non-null    int64  \n",
      " 1   Y       517 non-null    int64  \n",
      " 2   month   517 non-null    object \n",
      " 3   day     517 non-null    object \n",
      " 4   FFMC    517 non-null    float64\n",
      " 5   DMC     517 non-null    float64\n",
      " 6   DC      517 non-null    float64\n",
      " 7   ISI     517 non-null    float64\n",
      " 8   temp    491 non-null    float64\n",
      " 9   RH      517 non-null    int64  \n",
      " 10  wind    517 non-null    float64\n",
      " 11  rain    517 non-null    float64\n",
      " 12  area    517 non-null    float64\n",
      "dtypes: float64(8), int64(3), object(2)\n",
      "memory usage: 52.6+ KB\n"
     ]
    }
   ],
   "source": [
    "# podemos usar o método info() que é útil para obter uma rápida descrição dos dados, em particular o número de linhas, o tipo de cada \n",
    "# atributo e o número de valores não nulos\n",
    "data.info()"
   ]
  },
  {
   "cell_type": "markdown",
   "metadata": {},
   "source": [
    "Todos os atributos são ou int ou float, exceto month e day, que é object."
   ]
  },
  {
   "cell_type": "markdown",
   "metadata": {},
   "source": [
    "## ToDo 1\n",
    "Retorne uma Serie que informe os dados presentes na coluna month com a respectiva contagem de quantas vezes esse dado aparece no dataset"
   ]
  },
  {
   "cell_type": "code",
   "execution_count": 120,
   "metadata": {},
   "outputs": [
    {
     "data": {
      "text/plain": [
       "aug    184\n",
       "sep    172\n",
       "mar     54\n",
       "jul     32\n",
       "feb     20\n",
       "jun     17\n",
       "oct     15\n",
       "apr      9\n",
       "dec      9\n",
       "jan      2\n",
       "may      2\n",
       "nov      1\n",
       "Name: month, dtype: int64"
      ]
     },
     "execution_count": 120,
     "metadata": {},
     "output_type": "execute_result"
    }
   ],
   "source": [
    "# Resposta\n",
    "data['month'].value_counts()"
   ]
  },
  {
   "cell_type": "markdown",
   "metadata": {},
   "source": [
    "## ToDo 2\n",
    "Percebemos que existem alguns meses com valores insignificantes. Remova do dataset as informações sobre os meses cujo valor é menor ou igual a 2"
   ]
  },
  {
   "cell_type": "code",
   "execution_count": 121,
   "metadata": {},
   "outputs": [
    {
     "data": {
      "text/plain": [
       "aug    184\n",
       "sep    172\n",
       "mar     54\n",
       "jul     32\n",
       "feb     20\n",
       "jun     17\n",
       "oct     15\n",
       "apr      9\n",
       "dec      9\n",
       "Name: month, dtype: int64"
      ]
     },
     "execution_count": 121,
     "metadata": {},
     "output_type": "execute_result"
    }
   ],
   "source": [
    "#Resposta\n",
    "# Percebemos que existem alguns meses com valores insignificantes. Remova do dataset as informações sobre os meses cujo valor é menor ou igual a 2\n",
    "months_to_mantain = data['month'].value_counts().loc[lambda x: x > 2].index\n",
    "data = data[data['month'].isin(months_to_mantain)]\n",
    "data['month'].value_counts()"
   ]
  },
  {
   "cell_type": "code",
   "execution_count": 122,
   "metadata": {},
   "outputs": [
    {
     "data": {
      "text/html": [
       "<div>\n",
       "<style scoped>\n",
       "    .dataframe tbody tr th:only-of-type {\n",
       "        vertical-align: middle;\n",
       "    }\n",
       "\n",
       "    .dataframe tbody tr th {\n",
       "        vertical-align: top;\n",
       "    }\n",
       "\n",
       "    .dataframe thead th {\n",
       "        text-align: right;\n",
       "    }\n",
       "</style>\n",
       "<table border=\"1\" class=\"dataframe\">\n",
       "  <thead>\n",
       "    <tr style=\"text-align: right;\">\n",
       "      <th></th>\n",
       "      <th>X</th>\n",
       "      <th>Y</th>\n",
       "      <th>FFMC</th>\n",
       "      <th>DMC</th>\n",
       "      <th>DC</th>\n",
       "      <th>ISI</th>\n",
       "      <th>temp</th>\n",
       "      <th>RH</th>\n",
       "      <th>wind</th>\n",
       "      <th>rain</th>\n",
       "      <th>area</th>\n",
       "    </tr>\n",
       "  </thead>\n",
       "  <tbody>\n",
       "    <tr>\n",
       "      <th>count</th>\n",
       "      <td>512.000000</td>\n",
       "      <td>512.000000</td>\n",
       "      <td>512.000000</td>\n",
       "      <td>512.000000</td>\n",
       "      <td>512.000000</td>\n",
       "      <td>512.000000</td>\n",
       "      <td>486.000000</td>\n",
       "      <td>512.000000</td>\n",
       "      <td>512.000000</td>\n",
       "      <td>512.000000</td>\n",
       "      <td>512.000000</td>\n",
       "    </tr>\n",
       "    <tr>\n",
       "      <th>mean</th>\n",
       "      <td>4.671875</td>\n",
       "      <td>4.302734</td>\n",
       "      <td>90.836523</td>\n",
       "      <td>111.835547</td>\n",
       "      <td>552.363477</td>\n",
       "      <td>9.083984</td>\n",
       "      <td>19.017901</td>\n",
       "      <td>44.050781</td>\n",
       "      <td>4.022852</td>\n",
       "      <td>0.021875</td>\n",
       "      <td>12.897598</td>\n",
       "    </tr>\n",
       "    <tr>\n",
       "      <th>std</th>\n",
       "      <td>2.320198</td>\n",
       "      <td>1.232372</td>\n",
       "      <td>4.489480</td>\n",
       "      <td>63.597107</td>\n",
       "      <td>245.120680</td>\n",
       "      <td>4.533396</td>\n",
       "      <td>5.797627</td>\n",
       "      <td>15.977888</td>\n",
       "      <td>1.794088</td>\n",
       "      <td>0.297396</td>\n",
       "      <td>63.946316</td>\n",
       "    </tr>\n",
       "    <tr>\n",
       "      <th>min</th>\n",
       "      <td>1.000000</td>\n",
       "      <td>2.000000</td>\n",
       "      <td>50.400000</td>\n",
       "      <td>2.400000</td>\n",
       "      <td>7.900000</td>\n",
       "      <td>0.400000</td>\n",
       "      <td>2.200000</td>\n",
       "      <td>15.000000</td>\n",
       "      <td>0.400000</td>\n",
       "      <td>0.000000</td>\n",
       "      <td>0.000000</td>\n",
       "    </tr>\n",
       "    <tr>\n",
       "      <th>25%</th>\n",
       "      <td>3.000000</td>\n",
       "      <td>4.000000</td>\n",
       "      <td>90.300000</td>\n",
       "      <td>70.950000</td>\n",
       "      <td>448.375000</td>\n",
       "      <td>6.575000</td>\n",
       "      <td>15.700000</td>\n",
       "      <td>32.750000</td>\n",
       "      <td>2.700000</td>\n",
       "      <td>0.000000</td>\n",
       "      <td>0.000000</td>\n",
       "    </tr>\n",
       "    <tr>\n",
       "      <th>50%</th>\n",
       "      <td>4.000000</td>\n",
       "      <td>4.000000</td>\n",
       "      <td>91.600000</td>\n",
       "      <td>108.350000</td>\n",
       "      <td>664.500000</td>\n",
       "      <td>8.400000</td>\n",
       "      <td>19.400000</td>\n",
       "      <td>41.500000</td>\n",
       "      <td>4.000000</td>\n",
       "      <td>0.000000</td>\n",
       "      <td>0.545000</td>\n",
       "    </tr>\n",
       "    <tr>\n",
       "      <th>75%</th>\n",
       "      <td>7.000000</td>\n",
       "      <td>5.000000</td>\n",
       "      <td>92.900000</td>\n",
       "      <td>142.400000</td>\n",
       "      <td>714.000000</td>\n",
       "      <td>11.000000</td>\n",
       "      <td>22.875000</td>\n",
       "      <td>53.000000</td>\n",
       "      <td>5.025000</td>\n",
       "      <td>0.000000</td>\n",
       "      <td>6.572500</td>\n",
       "    </tr>\n",
       "    <tr>\n",
       "      <th>max</th>\n",
       "      <td>9.000000</td>\n",
       "      <td>9.000000</td>\n",
       "      <td>96.200000</td>\n",
       "      <td>291.300000</td>\n",
       "      <td>860.600000</td>\n",
       "      <td>56.100000</td>\n",
       "      <td>33.300000</td>\n",
       "      <td>99.000000</td>\n",
       "      <td>9.400000</td>\n",
       "      <td>6.400000</td>\n",
       "      <td>1090.840000</td>\n",
       "    </tr>\n",
       "  </tbody>\n",
       "</table>\n",
       "</div>"
      ],
      "text/plain": [
       "                X           Y        FFMC         DMC          DC         ISI  \\\n",
       "count  512.000000  512.000000  512.000000  512.000000  512.000000  512.000000   \n",
       "mean     4.671875    4.302734   90.836523  111.835547  552.363477    9.083984   \n",
       "std      2.320198    1.232372    4.489480   63.597107  245.120680    4.533396   \n",
       "min      1.000000    2.000000   50.400000    2.400000    7.900000    0.400000   \n",
       "25%      3.000000    4.000000   90.300000   70.950000  448.375000    6.575000   \n",
       "50%      4.000000    4.000000   91.600000  108.350000  664.500000    8.400000   \n",
       "75%      7.000000    5.000000   92.900000  142.400000  714.000000   11.000000   \n",
       "max      9.000000    9.000000   96.200000  291.300000  860.600000   56.100000   \n",
       "\n",
       "             temp          RH        wind        rain         area  \n",
       "count  486.000000  512.000000  512.000000  512.000000   512.000000  \n",
       "mean    19.017901   44.050781    4.022852    0.021875    12.897598  \n",
       "std      5.797627   15.977888    1.794088    0.297396    63.946316  \n",
       "min      2.200000   15.000000    0.400000    0.000000     0.000000  \n",
       "25%     15.700000   32.750000    2.700000    0.000000     0.000000  \n",
       "50%     19.400000   41.500000    4.000000    0.000000     0.545000  \n",
       "75%     22.875000   53.000000    5.025000    0.000000     6.572500  \n",
       "max     33.300000   99.000000    9.400000    6.400000  1090.840000  "
      ]
     },
     "execution_count": 122,
     "metadata": {},
     "output_type": "execute_result"
    }
   ],
   "source": [
    "# O método describe() apresenta um resumo dos atributos numéricos\n",
    "data.describe()"
   ]
  },
  {
   "cell_type": "raw",
   "metadata": {},
   "source": [
    "As linhas count, mean, min e max são auto-explicativas. std mostra o desvio padrão (mede o quão disperso os valores são); 25%, 50% e 75% \n",
    "correspondem a percentis. Um percentil indica um valor abaixo do qual fica uma determinada porcentagem de observações de um grupo qualquer.\n",
    "\n",
    "Várias informações úteis nos são apresentadas quando utilizamos o método describe, mas as informações da coluna rain nos chamam a atenção. Podemos ver que em 75% dos casos não há chuvas, o que contribui para a expansão das queimadas. "
   ]
  },
  {
   "cell_type": "markdown",
   "metadata": {},
   "source": [
    "## ToDo 3\n",
    "\n",
    "É possível notar que grande parte da distribuição do atributo meta se concentra numa área de até 6,58 ha (hectares -> 1ha == 10000m²). Use o método cut do Pandas para verificar os agrupamentos de área queimada. Crie uma nova coluna chamada area_cat e utilize os seguintes bins: 0-5, 5-10, 10-50, 50-100, >100. Leve em consideração o valor máximo presente nos dados."
   ]
  },
  {
   "cell_type": "code",
   "execution_count": 123,
   "metadata": {},
   "outputs": [
    {
     "data": {
      "text/plain": [
       "0-5       119\n",
       "10-50      70\n",
       "5-10       56\n",
       "50-100     13\n",
       ">100       11\n",
       "Name: area_cat, dtype: int64"
      ]
     },
     "execution_count": 123,
     "metadata": {},
     "output_type": "execute_result"
    }
   ],
   "source": [
    "# Resposta\n",
    "data['area_cat'] = pd.cut(data['area'], bins=[0,5,10,50,100,np.inf], labels=['0-5','5-10','10-50','50-100','>100'])\n",
    "data['area_cat'].value_counts()"
   ]
  },
  {
   "cell_type": "markdown",
   "metadata": {},
   "source": [
    "Drop a coluna area_cat, pois no vamos utilizá-la mais"
   ]
  },
  {
   "cell_type": "code",
   "execution_count": 124,
   "metadata": {},
   "outputs": [
    {
     "data": {
      "text/html": [
       "<div>\n",
       "<style scoped>\n",
       "    .dataframe tbody tr th:only-of-type {\n",
       "        vertical-align: middle;\n",
       "    }\n",
       "\n",
       "    .dataframe tbody tr th {\n",
       "        vertical-align: top;\n",
       "    }\n",
       "\n",
       "    .dataframe thead th {\n",
       "        text-align: right;\n",
       "    }\n",
       "</style>\n",
       "<table border=\"1\" class=\"dataframe\">\n",
       "  <thead>\n",
       "    <tr style=\"text-align: right;\">\n",
       "      <th></th>\n",
       "      <th>X</th>\n",
       "      <th>Y</th>\n",
       "      <th>month</th>\n",
       "      <th>day</th>\n",
       "      <th>FFMC</th>\n",
       "      <th>DMC</th>\n",
       "      <th>DC</th>\n",
       "      <th>ISI</th>\n",
       "      <th>temp</th>\n",
       "      <th>RH</th>\n",
       "      <th>wind</th>\n",
       "      <th>rain</th>\n",
       "      <th>area</th>\n",
       "    </tr>\n",
       "  </thead>\n",
       "  <tbody>\n",
       "    <tr>\n",
       "      <th>0</th>\n",
       "      <td>7</td>\n",
       "      <td>5</td>\n",
       "      <td>mar</td>\n",
       "      <td>fri</td>\n",
       "      <td>86.2</td>\n",
       "      <td>26.2</td>\n",
       "      <td>94.3</td>\n",
       "      <td>5.1</td>\n",
       "      <td>8.2</td>\n",
       "      <td>51</td>\n",
       "      <td>6.7</td>\n",
       "      <td>0.0</td>\n",
       "      <td>0.0</td>\n",
       "    </tr>\n",
       "    <tr>\n",
       "      <th>1</th>\n",
       "      <td>7</td>\n",
       "      <td>4</td>\n",
       "      <td>oct</td>\n",
       "      <td>tue</td>\n",
       "      <td>90.6</td>\n",
       "      <td>35.4</td>\n",
       "      <td>669.1</td>\n",
       "      <td>6.7</td>\n",
       "      <td>NaN</td>\n",
       "      <td>33</td>\n",
       "      <td>0.9</td>\n",
       "      <td>0.0</td>\n",
       "      <td>0.0</td>\n",
       "    </tr>\n",
       "    <tr>\n",
       "      <th>2</th>\n",
       "      <td>7</td>\n",
       "      <td>4</td>\n",
       "      <td>oct</td>\n",
       "      <td>sat</td>\n",
       "      <td>90.6</td>\n",
       "      <td>43.7</td>\n",
       "      <td>686.9</td>\n",
       "      <td>6.7</td>\n",
       "      <td>NaN</td>\n",
       "      <td>33</td>\n",
       "      <td>1.3</td>\n",
       "      <td>0.0</td>\n",
       "      <td>0.0</td>\n",
       "    </tr>\n",
       "  </tbody>\n",
       "</table>\n",
       "</div>"
      ],
      "text/plain": [
       "   X  Y month  day  FFMC   DMC     DC  ISI  temp  RH  wind  rain  area\n",
       "0  7  5   mar  fri  86.2  26.2   94.3  5.1   8.2  51   6.7   0.0   0.0\n",
       "1  7  4   oct  tue  90.6  35.4  669.1  6.7   NaN  33   0.9   0.0   0.0\n",
       "2  7  4   oct  sat  90.6  43.7  686.9  6.7   NaN  33   1.3   0.0   0.0"
      ]
     },
     "execution_count": 124,
     "metadata": {},
     "output_type": "execute_result"
    }
   ],
   "source": [
    "data.drop(columns=['area_cat'], inplace=True)\n",
    "data.head(3)"
   ]
  },
  {
   "cell_type": "markdown",
   "metadata": {},
   "source": [
    "## ToDo 4\n",
    "\n",
    "Use a combinação de Pandas + Matplotlib e retorne um histograma de cada uma das variáveis numéricas presente no dataset"
   ]
  },
  {
   "cell_type": "code",
   "execution_count": 125,
   "metadata": {},
   "outputs": [
    {
     "data": {
      "text/plain": [
       "array([[<AxesSubplot:title={'center':'X'}>,\n",
       "        <AxesSubplot:title={'center':'Y'}>,\n",
       "        <AxesSubplot:title={'center':'FFMC'}>],\n",
       "       [<AxesSubplot:title={'center':'DMC'}>,\n",
       "        <AxesSubplot:title={'center':'DC'}>,\n",
       "        <AxesSubplot:title={'center':'ISI'}>],\n",
       "       [<AxesSubplot:title={'center':'temp'}>,\n",
       "        <AxesSubplot:title={'center':'RH'}>,\n",
       "        <AxesSubplot:title={'center':'wind'}>],\n",
       "       [<AxesSubplot:title={'center':'rain'}>,\n",
       "        <AxesSubplot:title={'center':'area'}>, <AxesSubplot:>]],\n",
       "      dtype=object)"
      ]
     },
     "execution_count": 125,
     "metadata": {},
     "output_type": "execute_result"
    },
    {
     "data": {
      "image/png": "[encoded data removed]",
      "text/plain": [
       "<Figure size 432x288 with 12 Axes>"
      ]
     },
     "metadata": {},
     "output_type": "display_data"
    }
   ],
   "source": [
    "# Resposta\n",
    "data.hist(bins=50)"
   ]
  },
  {
   "cell_type": "markdown",
   "metadata": {},
   "source": [
    "## ToDo 5\n",
    "\n",
    "Seguindo o mesmo procedimento, imprima os boxplots de cada coluna numérica"
   ]
  },
  {
   "cell_type": "code",
   "execution_count": 126,
   "metadata": {},
   "outputs": [
    {
     "data": {
      "text/plain": [
       "<AxesSubplot:>"
      ]
     },
     "execution_count": 126,
     "metadata": {},
     "output_type": "execute_result"
    },
    {
     "data": {
      "image/png": "[encoded data removed]",
      "text/plain": [
       "<Figure size 432x288 with 1 Axes>"
      ]
     },
     "metadata": {},
     "output_type": "display_data"
    }
   ],
   "source": [
    "# Resposta\n",
    "data.boxplot()"
   ]
  },
  {
   "cell_type": "markdown",
   "metadata": {},
   "source": [
    "## ToDo 6\n",
    "\n",
    "Calcule a correlação dos atributos descritores com o atributo meta"
   ]
  },
  {
   "cell_type": "code",
   "execution_count": 127,
   "metadata": {},
   "outputs": [
    {
     "data": {
      "text/plain": [
       "X       0.065443\n",
       "Y       0.033155\n",
       "FFMC    0.066911\n",
       "DMC     0.074572\n",
       "DC      0.035140\n",
       "ISI     0.067378\n",
       "temp    0.072643\n",
       "RH      0.103466\n",
       "wind    0.061120\n",
       "rain    1.000000\n",
       "area   -0.007426\n",
       "Name: rain, dtype: float64"
      ]
     },
     "execution_count": 127,
     "metadata": {},
     "output_type": "execute_result"
    }
   ],
   "source": [
    "# Resposta\n",
    "# Calcule a correlação dos atributos descritores com o atributo meta\n",
    "data.corr()['rain']"
   ]
  },
  {
   "cell_type": "markdown",
   "metadata": {},
   "source": [
    "Muita coisa interessante a ser observada, mas o atributo rain novamente nos chama a atenção. Podemos confirmar nossa suposição anterior ao verificar que, quanto mais chuva, menos área queimada, e vice versa, já que a correlação é negativa entre esses dois atributos. Podemos afirmar também que quanto maior a temperatura, maior a área queimada. Entetando, os valores de correlação são muito baixos e parecem não explicar totalmente a causa das queimadas (o próprio artigo deixa claro que o problema é muito difícil). \n",
    "\n",
    "Há algumas razões:\n",
    "\n",
    "1) O dataset pode não ser suficientemente grande\n",
    "2) o dataset pode não ser bom\n",
    "3) faltam mais atributos para determinar o output"
   ]
  },
  {
   "cell_type": "markdown",
   "metadata": {},
   "source": [
    "## Preparando os Dados para Algoritmos de Machine Learning"
   ]
  },
  {
   "cell_type": "markdown",
   "metadata": {},
   "source": [
    "Poderíamos preparar os dados de modo manual, mas é mais interessante fazer isso escrevendo funções, por várias razões:\n",
    "    -> permite reproduzir essas transformações facilmente em qualquer dataset\n",
    "    -> gradualmente, você estará construindo sua biblioteca de funções de transformação que poderá ser reusada em projetos futuros.\n",
    "    -> poderemos usar essas funções em seus sistemas em produção para transformar novos dados antes de inseri-los em seu algoritmo\n",
    "    -> possibilidade de testar varias transformações e ver qual combinação funciona melhor"
   ]
  },
  {
   "cell_type": "markdown",
   "metadata": {},
   "source": [
    "## ToDo 7\n",
    "\n",
    "Crie duas variáveis: features e labels. A primeira vai conter todas as colunas, menos 'area'. A segunda, apenas a coluna área. "
   ]
  },
  {
   "cell_type": "code",
   "execution_count": 128,
   "metadata": {},
   "outputs": [],
   "source": [
    "# Resposta\n",
    "features = data.drop(columns=['area'])\n",
    "labels = data['area'].copy()"
   ]
  },
  {
   "cell_type": "markdown",
   "metadata": {},
   "source": [
    "# Scikit-Learn"
   ]
  },
  {
   "cell_type": "markdown",
   "metadata": {},
   "source": [
    "### Limpeza dos Dados"
   ]
  },
  {
   "cell_type": "markdown",
   "metadata": {},
   "source": [
    "A maioria dos algoritmos de machine learning não funciona bem com características faltantes, então precisamos criar algumas funções para lidar com elas. \n",
    "\n",
    "Olhando nosso dataset, podemos observar alguns valores faltantes para o atributo temp."
   ]
  },
  {
   "cell_type": "code",
   "execution_count": 129,
   "metadata": {},
   "outputs": [
    {
     "name": "stdout",
     "output_type": "stream",
     "text": [
      "<class 'pandas.core.frame.DataFrame'>\n",
      "Int64Index: 512 entries, 0 to 515\n",
      "Data columns (total 12 columns):\n",
      " #   Column  Non-Null Count  Dtype  \n",
      "---  ------  --------------  -----  \n",
      " 0   X       512 non-null    int64  \n",
      " 1   Y       512 non-null    int64  \n",
      " 2   month   512 non-null    object \n",
      " 3   day     512 non-null    object \n",
      " 4   FFMC    512 non-null    float64\n",
      " 5   DMC     512 non-null    float64\n",
      " 6   DC      512 non-null    float64\n",
      " 7   ISI     512 non-null    float64\n",
      " 8   temp    486 non-null    float64\n",
      " 9   RH      512 non-null    int64  \n",
      " 10  wind    512 non-null    float64\n",
      " 11  rain    512 non-null    float64\n",
      "dtypes: float64(7), int64(3), object(2)\n",
      "memory usage: 52.0+ KB\n"
     ]
    }
   ],
   "source": [
    "features.info()"
   ]
  },
  {
   "cell_type": "markdown",
   "metadata": {},
   "source": [
    "Para arrumar essa inconsistência, temos três opções:\n",
    "    -> eleminar as amostras correspondentes\n",
    "    -> eliminar todo o atributo\n",
    "    -> ajustar os dados para algum valor (zero, média, mediana, etc.)"
   ]
  },
  {
   "cell_type": "code",
   "execution_count": 130,
   "metadata": {},
   "outputs": [],
   "source": [
    "# features.dropna(subset=[\"temp\"]) # opção 1\n",
    "# features.drop(\"temp\", axis=1) # opção 2\n",
    "# median = features[\"temp\"].median()\n",
    "# features[\"temp\"].fillna(median) # opção 3\n",
    "\n",
    "# lembrando que se a opção 3 for escolhida, precisamos tratar os dados tanto no conjunto de treino quanto no conjunto de teste"
   ]
  },
  {
   "cell_type": "markdown",
   "metadata": {},
   "source": [
    "Scikit_learn provê uma classe para cuidar dos valores faltantes: SimpleImputer. \n",
    "\n",
    "Primeiro, precisamos criar uma instância dessa classe, especificando que desejamos substituir cada valor faltante em cada atributo pela mediana desse atributo"
   ]
  },
  {
   "cell_type": "code",
   "execution_count": 131,
   "metadata": {},
   "outputs": [],
   "source": [
    "from sklearn.impute import SimpleImputer\n",
    "imputer = SimpleImputer(missing_values=np.nan, strategy='median')"
   ]
  },
  {
   "cell_type": "markdown",
   "metadata": {},
   "source": [
    "Visto que a mediana só pode ser calculada em atributos numéricos, precisamos criar uma cópia dos dados sem os atributos do tipo objeto"
   ]
  },
  {
   "cell_type": "code",
   "execution_count": 132,
   "metadata": {},
   "outputs": [],
   "source": [
    "features_num = features.drop(['month','day'],axis=1)"
   ]
  },
  {
   "cell_type": "code",
   "execution_count": 133,
   "metadata": {},
   "outputs": [
    {
     "data": {
      "text/plain": [
       "SimpleImputer(strategy='median')"
      ]
     },
     "execution_count": 133,
     "metadata": {},
     "output_type": "execute_result"
    }
   ],
   "source": [
    "# Agora precisamos ajustar a instância do Imputer aos dados de treinamento usando o método fit():\n",
    "imputer.fit(features_num)"
   ]
  },
  {
   "cell_type": "markdown",
   "metadata": {},
   "source": [
    "o imputer calculou a mediana de cada atributo e armazenou o resultado na variável statistics_. Originalmente, apenas o atributo temp possuia valores faltantes, mas não é possível garantir que não haverá valores faltantes quando o sistema entrar em produção. Então, é seguro aplicar imputer para todos os atributos numéricos. "
   ]
  },
  {
   "cell_type": "code",
   "execution_count": 134,
   "metadata": {},
   "outputs": [
    {
     "data": {
      "text/plain": [
       "array([  4.  ,   4.  ,  91.6 , 108.35, 664.5 ,   8.4 ,  19.4 ,  41.5 ,\n",
       "         4.  ,   0.  ])"
      ]
     },
     "execution_count": 134,
     "metadata": {},
     "output_type": "execute_result"
    }
   ],
   "source": [
    "imputer.statistics_"
   ]
  },
  {
   "cell_type": "markdown",
   "metadata": {},
   "source": [
    "Agora, podemos usar esses valores obtidos para substituir valores faltantes pelas medianas aprendidas:"
   ]
  },
  {
   "cell_type": "code",
   "execution_count": 135,
   "metadata": {},
   "outputs": [
    {
     "data": {
      "text/html": [
       "<div>\n",
       "<style scoped>\n",
       "    .dataframe tbody tr th:only-of-type {\n",
       "        vertical-align: middle;\n",
       "    }\n",
       "\n",
       "    .dataframe tbody tr th {\n",
       "        vertical-align: top;\n",
       "    }\n",
       "\n",
       "    .dataframe thead th {\n",
       "        text-align: right;\n",
       "    }\n",
       "</style>\n",
       "<table border=\"1\" class=\"dataframe\">\n",
       "  <thead>\n",
       "    <tr style=\"text-align: right;\">\n",
       "      <th></th>\n",
       "      <th>X</th>\n",
       "      <th>Y</th>\n",
       "      <th>FFMC</th>\n",
       "      <th>DMC</th>\n",
       "      <th>DC</th>\n",
       "      <th>ISI</th>\n",
       "      <th>temp</th>\n",
       "      <th>RH</th>\n",
       "      <th>wind</th>\n",
       "      <th>rain</th>\n",
       "    </tr>\n",
       "  </thead>\n",
       "  <tbody>\n",
       "    <tr>\n",
       "      <th>0</th>\n",
       "      <td>7.0</td>\n",
       "      <td>5.0</td>\n",
       "      <td>86.2</td>\n",
       "      <td>26.2</td>\n",
       "      <td>94.3</td>\n",
       "      <td>5.1</td>\n",
       "      <td>8.2</td>\n",
       "      <td>51.0</td>\n",
       "      <td>6.7</td>\n",
       "      <td>0.0</td>\n",
       "    </tr>\n",
       "    <tr>\n",
       "      <th>1</th>\n",
       "      <td>7.0</td>\n",
       "      <td>4.0</td>\n",
       "      <td>90.6</td>\n",
       "      <td>35.4</td>\n",
       "      <td>669.1</td>\n",
       "      <td>6.7</td>\n",
       "      <td>19.4</td>\n",
       "      <td>33.0</td>\n",
       "      <td>0.9</td>\n",
       "      <td>0.0</td>\n",
       "    </tr>\n",
       "    <tr>\n",
       "      <th>2</th>\n",
       "      <td>7.0</td>\n",
       "      <td>4.0</td>\n",
       "      <td>90.6</td>\n",
       "      <td>43.7</td>\n",
       "      <td>686.9</td>\n",
       "      <td>6.7</td>\n",
       "      <td>19.4</td>\n",
       "      <td>33.0</td>\n",
       "      <td>1.3</td>\n",
       "      <td>0.0</td>\n",
       "    </tr>\n",
       "    <tr>\n",
       "      <th>3</th>\n",
       "      <td>8.0</td>\n",
       "      <td>6.0</td>\n",
       "      <td>91.7</td>\n",
       "      <td>33.3</td>\n",
       "      <td>77.5</td>\n",
       "      <td>9.0</td>\n",
       "      <td>19.4</td>\n",
       "      <td>97.0</td>\n",
       "      <td>4.0</td>\n",
       "      <td>0.2</td>\n",
       "    </tr>\n",
       "    <tr>\n",
       "      <th>4</th>\n",
       "      <td>8.0</td>\n",
       "      <td>6.0</td>\n",
       "      <td>89.3</td>\n",
       "      <td>51.3</td>\n",
       "      <td>102.2</td>\n",
       "      <td>9.6</td>\n",
       "      <td>11.4</td>\n",
       "      <td>99.0</td>\n",
       "      <td>1.8</td>\n",
       "      <td>0.0</td>\n",
       "    </tr>\n",
       "  </tbody>\n",
       "</table>\n",
       "</div>"
      ],
      "text/plain": [
       "     X    Y  FFMC   DMC     DC  ISI  temp    RH  wind  rain\n",
       "0  7.0  5.0  86.2  26.2   94.3  5.1   8.2  51.0   6.7   0.0\n",
       "1  7.0  4.0  90.6  35.4  669.1  6.7  19.4  33.0   0.9   0.0\n",
       "2  7.0  4.0  90.6  43.7  686.9  6.7  19.4  33.0   1.3   0.0\n",
       "3  8.0  6.0  91.7  33.3   77.5  9.0  19.4  97.0   4.0   0.2\n",
       "4  8.0  6.0  89.3  51.3  102.2  9.6  11.4  99.0   1.8   0.0"
      ]
     },
     "execution_count": 135,
     "metadata": {},
     "output_type": "execute_result"
    }
   ],
   "source": [
    "X = imputer.transform(features_num) # o resultado é um numpy.array. Precisamos converter para DataFrame\n",
    "features_transformed = pd.DataFrame(X, columns=features_num.columns)\n",
    "features_transformed.head()"
   ]
  },
  {
   "cell_type": "code",
   "execution_count": 136,
   "metadata": {},
   "outputs": [
    {
     "name": "stdout",
     "output_type": "stream",
     "text": [
      "<class 'pandas.core.frame.DataFrame'>\n",
      "RangeIndex: 512 entries, 0 to 511\n",
      "Data columns (total 10 columns):\n",
      " #   Column  Non-Null Count  Dtype  \n",
      "---  ------  --------------  -----  \n",
      " 0   X       512 non-null    float64\n",
      " 1   Y       512 non-null    float64\n",
      " 2   FFMC    512 non-null    float64\n",
      " 3   DMC     512 non-null    float64\n",
      " 4   DC      512 non-null    float64\n",
      " 5   ISI     512 non-null    float64\n",
      " 6   temp    512 non-null    float64\n",
      " 7   RH      512 non-null    float64\n",
      " 8   wind    512 non-null    float64\n",
      " 9   rain    512 non-null    float64\n",
      "dtypes: float64(10)\n",
      "memory usage: 40.1 KB\n"
     ]
    }
   ],
   "source": [
    "# podemos confirmar que os valores faltantes foram todos preenchidos\n",
    "features_transformed.info()"
   ]
  },
  {
   "cell_type": "markdown",
   "metadata": {},
   "source": [
    "### Feature Normalization\n",
    "\n",
    "Com algumas poucas exceções, algoritmos de machine learning não performam bem quando os atributos numéricos possuem escalas diferentes.\n",
    "\n",
    "Existem duas abordagens conhecidas para trazer os atributos para uma mesma escala: min-max scaling e standardization. \n",
    "\n",
    "min-max scaling (normalization) consiste em subtratir o valor minimo e dividir pela subtração de max por min:\n",
    "\n",
    "\\begin{align}\n",
    "x = \\frac{x - min}{max - min}\n",
    "\\end{align}\n",
    "\n",
    "Já standardization consiste em subtrair a média(valores sempre terao média zero) e então dividir pela variância de modo que a distribuição resultante possua variância unitária. \n",
    "\n",
    "\\begin{align}\n",
    "x = \\frac{x - \\mu}{\\sigma}\n",
    "\\end{align}\n",
    "\n",
    "Diferentemente de normalization, standardization não leva os números a um intervalo específico, o que pode ser um problema para algoritmos específicos (por exemplo, redes neurais geralmente esperam um valor de entrada entre o intervalo 0-1). Entretanto, standardization é muito menos sensível à outiliers. \n",
    "\n",
    "Vamos usar as implementações disponíveis na Scikit-Learn."
   ]
  },
  {
   "cell_type": "markdown",
   "metadata": {},
   "source": [
    "### Manipulando Atributos Textuais e Categóricos"
   ]
  },
  {
   "cell_type": "markdown",
   "metadata": {},
   "source": [
    "Anteriormente, deixamos de lado os atributos categóricos pelo motivo de serem um atributo de texto e, portanto, não é possível calcular sua mediana. Assim, precisamos converter esses rótulos em números. \n",
    "\n",
    "Scikit-Learn provê uma ferramenta para isso denominada OrdinalEncoder, que associa um valor para cada categoria. "
   ]
  },
  {
   "cell_type": "code",
   "execution_count": 137,
   "metadata": {},
   "outputs": [],
   "source": [
    "# separando apenas atributos categóricos\n",
    "features_cat = features[['month','day']]"
   ]
  },
  {
   "cell_type": "code",
   "execution_count": 138,
   "metadata": {},
   "outputs": [
    {
     "data": {
      "text/plain": [
       "array([[6., 0.],\n",
       "       [7., 5.],\n",
       "       [7., 2.],\n",
       "       ...,\n",
       "       [1., 3.],\n",
       "       [1., 3.],\n",
       "       [1., 2.]])"
      ]
     },
     "execution_count": 138,
     "metadata": {},
     "output_type": "execute_result"
    }
   ],
   "source": [
    "from sklearn.preprocessing import OrdinalEncoder\n",
    "encoder = OrdinalEncoder()\n",
    "features_cat_1hot = encoder.fit_transform(features_cat)\n",
    "features_cat_1hot"
   ]
  },
  {
   "cell_type": "markdown",
   "metadata": {},
   "source": [
    "### Pipelines de Transformação"
   ]
  },
  {
   "cell_type": "markdown",
   "metadata": {},
   "source": [
    "Como é possível observar, existem muitos passos no processo de transformação de dados que precisam ser executados na ordem correta. Para isso, Scikit-Learn provê uma classe que auxilia essas sequências de transformações: Pipeline. \n",
    "\n",
    "Para os atributos numéricos, podemos escrever um pipeline da seguinte maneira:"
   ]
  },
  {
   "cell_type": "code",
   "execution_count": 139,
   "metadata": {},
   "outputs": [],
   "source": [
    "from sklearn.pipeline import Pipeline\n",
    "num_pipeline = Pipeline([\n",
    "    ('imputer',SimpleImputer(missing_values=np.nan, strategy='median')),\n",
    "])\n",
    "features_num_tr = num_pipeline.fit_transform(features_num)"
   ]
  },
  {
   "cell_type": "markdown",
   "metadata": {},
   "source": [
    "Mas ainda precisamos lidar com os atributos categóricos e, além disso, juntar todo o processo de transformação num único pipeline para obter um único resultado de todos os dados tratados que, em teoria, estariam prontos para um algoritmo de machine learning (obviamente, antes precisariam ser divididos em conjunto de treino e teste - veremos isso adiante). \n",
    "\n",
    "Para criar um pipeline que trate tanto atributos numéricos quanto categóricos, podemos usar FeatureUnion. Antes, no entanto, vamos criar uma classe para separar os atributos numéricos e categóricos de nosso dataset original "
   ]
  },
  {
   "cell_type": "markdown",
   "metadata": {},
   "source": [
    "## ToDo 8\n",
    "\n",
    "Complete a classe DataFrameSelector que herde BaseEstimator e TransformerMixin (from sklearn.base import BaseEstimator, TransformerMixin) que implemente 3 métodos:\n",
    "\n",
    "> __init__: recebe o nome dos atributos\n",
    "\n",
    "> fit: retorna self\n",
    "\n",
    "> transform: aciona o atributo values do DataFrame[atributos]"
   ]
  },
  {
   "cell_type": "code",
   "execution_count": 140,
   "metadata": {},
   "outputs": [],
   "source": [
    "#Resposta\n",
    "from sklearn.base import BaseEstimator, TransformerMixin\n",
    "class DataFrameSelector(BaseEstimator,TransformerMixin):\n",
    "    def __init__(self, attribute_names):\n",
    "        self.attribute_names = attribute_names\n",
    "    def fit(self, X, y=None):\n",
    "        return self\n",
    "    def transform(self, X):\n",
    "        return X[self.attribute_names].values"
   ]
  },
  {
   "cell_type": "markdown",
   "metadata": {},
   "source": [
    "A classe DataFrameSelector irá separar o dataframe de acordo com o conteúdo da variável attribute_names, retornando apenas aquelas que são categórias ou aquelas que são numéricas. Essa classe herda os métodos BaseEstimator e TransformerMixin.\n",
    "\n",
    "O primeiro é responsável por implementar os métodos get_params() e set_params() que são extremamente úteis quando vamos executar um gridsearch, por exemplo. Com essa classe podemos acessar os valores que estão definidos dentro do método __init__, bem como atribuir novos valores apra ele. \n",
    "\n",
    "Já TransformerMixin tras implementado o método fit_transform(), que nada mais é do que aplicar o método fit() e, logo em seguida, o método transform.\n",
    "\n",
    "Esse link pode ajudar a esclarecer melhor as coisas, caso ainda tenham dúvidas: [link](https://github.com/ageron/handson-ml/issues/391)"
   ]
  },
  {
   "cell_type": "markdown",
   "metadata": {},
   "source": [
    "#### Normalizacao usando Scikit Learn"
   ]
  },
  {
   "cell_type": "code",
   "execution_count": 141,
   "metadata": {},
   "outputs": [],
   "source": [
    "from sklearn.pipeline import FeatureUnion\n",
    "from sklearn.preprocessing import OrdinalEncoder #skl 0.20>\n",
    "from sklearn.preprocessing import StandardScaler # MinMaxScaler\n",
    "num_attribs = list(features_num)\n",
    "cat_attribs = ['month','day']\n",
    "num_pipeline = Pipeline([\n",
    "    ('selector', DataFrameSelector(num_attribs)),\n",
    "    ('imputer', SimpleImputer(missing_values=np.nan, strategy='mean')),\n",
    "    ('std_scaler', StandardScaler()),\n",
    "])\n",
    "cat_pipeline = Pipeline([\n",
    "    ('selector', DataFrameSelector(cat_attribs)),\n",
    "    ('categorial_encoder', OrdinalEncoder())\n",
    "    ])\n",
    "full_pipeline = FeatureUnion(transformer_list=[\n",
    "    (\"num_pipeline\", num_pipeline),\n",
    "    (\"cat_pipeline\", cat_pipeline),\n",
    "])"
   ]
  },
  {
   "cell_type": "code",
   "execution_count": 142,
   "metadata": {},
   "outputs": [],
   "source": [
    "features_prepared = full_pipeline.fit_transform(features) #retorna um numpy.array"
   ]
  },
  {
   "cell_type": "code",
   "execution_count": 143,
   "metadata": {},
   "outputs": [
    {
     "data": {
      "text/plain": [
       "array([[ 1.00439802,  0.56634499, -1.03376282, -1.34784902, -1.87055397,\n",
       "        -0.87966738, -1.91715323,  0.43535259,  1.4936649 , -0.07362713,\n",
       "         6.        ,  0.        ],\n",
       "       [ 1.00439802, -0.24589208, -0.05273545, -1.20304688,  0.47670679,\n",
       "        -0.52638592,  0.        , -0.69230606, -1.74233662, -0.07362713,\n",
       "         7.        ,  5.        ],\n",
       "       [ 1.00439802, -0.24589208, -0.05273545, -1.07241016,  0.5493951 ,\n",
       "        -0.52638592,  0.        , -0.69230606, -1.51916411, -0.07362713,\n",
       "         7.        ,  2.        ],\n",
       "       [ 1.4358173 ,  1.37858206,  0.1925214 , -1.23609954, -1.93915867,\n",
       "        -0.01854383,  0.        ,  3.31714691, -0.0127496 ,  0.59953517,\n",
       "         6.        ,  0.        ],\n",
       "       [ 1.4358173 ,  1.37858206, -0.34258444, -0.95279099, -1.83829343,\n",
       "         0.11393672, -1.35004782,  3.44244231, -1.24019846, -0.07362713,\n",
       "         6.        ,  3.        ]])"
      ]
     },
     "execution_count": 143,
     "metadata": {},
     "output_type": "execute_result"
    }
   ],
   "source": [
    "# Agora temos nossos dados preparados.\n",
    "features_prepared[0:5,:]"
   ]
  },
  {
   "cell_type": "code",
   "execution_count": 144,
   "metadata": {},
   "outputs": [],
   "source": [
    "from sklearn.model_selection import train_test_split\n",
    "from sklearn import linear_model\n",
    "from sklearn.metrics import mean_squared_error"
   ]
  },
  {
   "cell_type": "code",
   "execution_count": 145,
   "metadata": {},
   "outputs": [],
   "source": [
    "X = features_prepared\n",
    "y = labels.values\n",
    "split_test_size = 0.30"
   ]
  },
  {
   "cell_type": "code",
   "execution_count": 146,
   "metadata": {},
   "outputs": [],
   "source": [
    "X_train, X_test, y_train, y_test = train_test_split(X, y, test_size=split_test_size, random_state=42)"
   ]
  },
  {
   "cell_type": "code",
   "execution_count": 147,
   "metadata": {},
   "outputs": [
    {
     "data": {
      "text/plain": [
       "LinearRegression()"
      ]
     },
     "execution_count": 147,
     "metadata": {},
     "output_type": "execute_result"
    }
   ],
   "source": [
    "lr_model = linear_model.LinearRegression()\n",
    "lr_model.fit(X_train, y_train.ravel()) # flatten arrays"
   ]
  },
  {
   "cell_type": "code",
   "execution_count": 148,
   "metadata": {},
   "outputs": [],
   "source": [
    "y_pred = lr_model.predict(X_test)"
   ]
  },
  {
   "cell_type": "code",
   "execution_count": 149,
   "metadata": {},
   "outputs": [
    {
     "data": {
      "text/plain": [
       "88.56467609587406"
      ]
     },
     "execution_count": 149,
     "metadata": {},
     "output_type": "execute_result"
    }
   ],
   "source": [
    "import math\n",
    "math.sqrt(mean_squared_error(y_test,y_pred))"
   ]
  }
 ],
 "metadata": {
  "kernelspec": {
   "display_name": "Python 3.9.12 ('base')",
   "language": "python",
   "name": "python3"
  },
  "language_info": {
   "codemirror_mode": {
    "name": "ipython",
    "version": 3
   },
   "file_extension": ".py",
   "mimetype": "text/x-python",
   "name": "python",
   "nbconvert_exporter": "python",
   "pygments_lexer": "ipython3",
   "version": "3.9.12"
  },
  "vscode": {
   "interpreter": {
    "hash": "ad2bdc8ecc057115af97d19610ffacc2b4e99fae6737bb82f5d7fb13d2f2c186"
   }
  }
 },
 "nbformat": 4,
 "nbformat_minor": 4
}
