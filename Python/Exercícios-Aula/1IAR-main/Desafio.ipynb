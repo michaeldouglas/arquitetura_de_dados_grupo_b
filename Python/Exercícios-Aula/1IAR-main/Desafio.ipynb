{
 "cells": [
  {
   "cell_type": "markdown",
   "id": "protective-hanging",
   "metadata": {},
   "source": [
    "# Desafio 1"
   ]
  },
  {
   "cell_type": "markdown",
   "id": "traditional-polymer",
   "metadata": {},
   "source": [
    "### Exercício 1 - Conjectura de Legendre\n",
    "\n",
    "A Conjectura de Legendre, enunciada por de Adrien-Marie Legendre, afirma que existe sempre um número primo entre $n^2 $ e $(n+1)^2$, para qualquer $n$ inteiro positivo\n",
    "\n",
    "Seu desafio será criar uma função que, dado um input (inteiro n) retorne todos os números primos entre $n^2$ e $(n+1)^2$. \n",
    "\n",
    "Exemplo:\n",
    "\n",
    "    > input: 4\n",
    "    \n",
    "    > output: [17,19,23]"
   ]
  },
  {
   "cell_type": "code",
   "execution_count": 39,
   "id": "indoor-graduation",
   "metadata": {},
   "outputs": [],
   "source": [
    "def isprime(n):\n",
    "    if n == 1:\n",
    "        return False\n",
    "    for i in range(2, n):\n",
    "        if n % i == 0:\n",
    "            return False\n",
    "    return True"
   ]
  },
  {
   "cell_type": "code",
   "execution_count": 40,
   "id": "surgical-smile",
   "metadata": {},
   "outputs": [],
   "source": [
    "def LegendreConjecture(n):\n",
    "    r = []\n",
    "    for i in range (n * n, (((n + 1) * (n + 1)) + 1)):\n",
    "        if(isprime(i)):\n",
    "            r.append(i)\n",
    "    return r\n"
   ]
  },
  {
   "cell_type": "code",
   "execution_count": 41,
   "id": "greenhouse-partner",
   "metadata": {},
   "outputs": [
    {
     "data": {
      "text/plain": [
       "[17, 19, 23]"
      ]
     },
     "execution_count": 41,
     "metadata": {},
     "output_type": "execute_result"
    }
   ],
   "source": [
    "#teste\n",
    "LegendreConjecture(4)"
   ]
  },
  {
   "cell_type": "markdown",
   "id": "european-enlargement",
   "metadata": {},
   "source": [
    "### Exercício 2\n",
    "\n",
    "Dada a seguinte string s, escreva uma expressão regular que retorne todos os números de telefone contidos nela."
   ]
  },
  {
   "cell_type": "code",
   "execution_count": 42,
   "id": "worth-engineering",
   "metadata": {},
   "outputs": [],
   "source": [
    "s = 'Office of Research Administration: (734) 647-6333 | 4325 North Quad \\\n",
    "Office of Budget and Financial Administration: (734) 647-8044 | 309 Maynard, Suite 205 \\\n",
    "Health Informatics Program: (734) 763-2285 | 333 Maynard, Suite 500 \\\n",
    "Office of the Dean: (734) 647-3576 | 4322 North Quad \\\n",
    "UMSI Engagement Center: (734) 763-1251 | 777 North University \\\n",
    "Faculty Adminstrative Support Staff: (734) 764-9376 | 4322 North Quad'"
   ]
  },
  {
   "cell_type": "code",
   "execution_count": 43,
   "id": "valid-blink",
   "metadata": {},
   "outputs": [
    {
     "data": {
      "text/plain": [
       "['(734) 647-6333',\n",
       " '(734) 647-8044',\n",
       " '(734) 763-2285',\n",
       " '(734) 647-3576',\n",
       " '(734) 763-1251',\n",
       " '(734) 764-9376']"
      ]
     },
     "execution_count": 43,
     "metadata": {},
     "output_type": "execute_result"
    }
   ],
   "source": [
    "import re\n",
    "r = re.findall(\"[(][\\d]{3}[)][ ]?[\\d]{3}-[\\d]{4}\", s)\n",
    "r"
   ]
  },
  {
   "cell_type": "markdown",
   "id": "close-effect",
   "metadata": {},
   "source": [
    "### Exercício 3\n",
    "A distância L2, ou distância Euclidiana, é definida pela seguinte fórmula: \n",
    "\n",
    "$L2 = \\sqrt{\\sum_{i=1}^n (a_i - b_i)^2}$\n",
    "\n",
    "Escreva uma função que receba dois parâmetros, a e b, e retorne a distância L2 entre eles. a e b precisam ser um numpy.array de mesmo tamanho"
   ]
  },
  {
   "cell_type": "code",
   "execution_count": 44,
   "id": "sapphire-absorption",
   "metadata": {},
   "outputs": [],
   "source": [
    "def l2_dist(a, b):\n",
    "    return np.sqrt(np.sum(np.square(a - b)))"
   ]
  },
  {
   "cell_type": "code",
   "execution_count": 45,
   "id": "upper-somerset",
   "metadata": {},
   "outputs": [
    {
     "data": {
      "text/plain": [
       "1.7320508075688772"
      ]
     },
     "execution_count": 45,
     "metadata": {},
     "output_type": "execute_result"
    }
   ],
   "source": [
    "import numpy as np\n",
    "a = np.array([1,2,4,6])\n",
    "b = np.array([1,3,5,7])\n",
    "l2_dist(a, b)"
   ]
  },
  {
   "cell_type": "markdown",
   "id": "superior-lambda",
   "metadata": {},
   "source": [
    "### Exercício 4\n",
    "Vamos utilizar o dataset breast_cancer_data.csv para fazer uma análise exploratória cujo objetivo é responder a alguns questionamentos que surgiram a respeito desse conjunto.\n",
    "\n",
    "Vamos começar lendo e entendendo nossos dados:"
   ]
  },
  {
   "cell_type": "code",
   "execution_count": 46,
   "id": "patent-cycling",
   "metadata": {},
   "outputs": [],
   "source": [
    "import pandas as pd\n",
    "import numpy as np"
   ]
  },
  {
   "cell_type": "code",
   "execution_count": 47,
   "id": "smoking-gibson",
   "metadata": {},
   "outputs": [
    {
     "data": {
      "text/html": [
       "<div>\n",
       "<style scoped>\n",
       "    .dataframe tbody tr th:only-of-type {\n",
       "        vertical-align: middle;\n",
       "    }\n",
       "\n",
       "    .dataframe tbody tr th {\n",
       "        vertical-align: top;\n",
       "    }\n",
       "\n",
       "    .dataframe thead th {\n",
       "        text-align: right;\n",
       "    }\n",
       "</style>\n",
       "<table border=\"1\" class=\"dataframe\">\n",
       "  <thead>\n",
       "    <tr style=\"text-align: right;\">\n",
       "      <th></th>\n",
       "      <th>id</th>\n",
       "      <th>clump_thickness</th>\n",
       "      <th>cell_size_uniformity</th>\n",
       "      <th>cell_shape_uniformity</th>\n",
       "      <th>marginal_adhesion</th>\n",
       "      <th>single_ep_cell_size</th>\n",
       "      <th>bare_nuclei</th>\n",
       "      <th>bland_chromatin</th>\n",
       "      <th>normal_nucleoli</th>\n",
       "      <th>mitoses</th>\n",
       "      <th>class</th>\n",
       "      <th>doctor_name</th>\n",
       "    </tr>\n",
       "  </thead>\n",
       "  <tbody>\n",
       "    <tr>\n",
       "      <th>0</th>\n",
       "      <td>1000025</td>\n",
       "      <td>5.0</td>\n",
       "      <td>1.0</td>\n",
       "      <td>1</td>\n",
       "      <td>1</td>\n",
       "      <td>2</td>\n",
       "      <td>1</td>\n",
       "      <td>3.0</td>\n",
       "      <td>1.0</td>\n",
       "      <td>1</td>\n",
       "      <td>benign</td>\n",
       "      <td>Dr. Doe</td>\n",
       "    </tr>\n",
       "    <tr>\n",
       "      <th>1</th>\n",
       "      <td>1002945</td>\n",
       "      <td>5.0</td>\n",
       "      <td>4.0</td>\n",
       "      <td>4</td>\n",
       "      <td>5</td>\n",
       "      <td>7</td>\n",
       "      <td>10</td>\n",
       "      <td>3.0</td>\n",
       "      <td>2.0</td>\n",
       "      <td>1</td>\n",
       "      <td>benign</td>\n",
       "      <td>Dr. Smith</td>\n",
       "    </tr>\n",
       "    <tr>\n",
       "      <th>2</th>\n",
       "      <td>1015425</td>\n",
       "      <td>3.0</td>\n",
       "      <td>1.0</td>\n",
       "      <td>1</td>\n",
       "      <td>1</td>\n",
       "      <td>2</td>\n",
       "      <td>2</td>\n",
       "      <td>3.0</td>\n",
       "      <td>1.0</td>\n",
       "      <td>1</td>\n",
       "      <td>benign</td>\n",
       "      <td>Dr. Lee</td>\n",
       "    </tr>\n",
       "    <tr>\n",
       "      <th>3</th>\n",
       "      <td>1016277</td>\n",
       "      <td>6.0</td>\n",
       "      <td>8.0</td>\n",
       "      <td>8</td>\n",
       "      <td>1</td>\n",
       "      <td>3</td>\n",
       "      <td>4</td>\n",
       "      <td>3.0</td>\n",
       "      <td>7.0</td>\n",
       "      <td>1</td>\n",
       "      <td>benign</td>\n",
       "      <td>Dr. Smith</td>\n",
       "    </tr>\n",
       "    <tr>\n",
       "      <th>4</th>\n",
       "      <td>1017023</td>\n",
       "      <td>4.0</td>\n",
       "      <td>1.0</td>\n",
       "      <td>1</td>\n",
       "      <td>3</td>\n",
       "      <td>2</td>\n",
       "      <td>1</td>\n",
       "      <td>3.0</td>\n",
       "      <td>1.0</td>\n",
       "      <td>1</td>\n",
       "      <td>benign</td>\n",
       "      <td>Dr. Wong</td>\n",
       "    </tr>\n",
       "  </tbody>\n",
       "</table>\n",
       "</div>"
      ],
      "text/plain": [
       "        id  clump_thickness  cell_size_uniformity  cell_shape_uniformity  \\\n",
       "0  1000025              5.0                   1.0                      1   \n",
       "1  1002945              5.0                   4.0                      4   \n",
       "2  1015425              3.0                   1.0                      1   \n",
       "3  1016277              6.0                   8.0                      8   \n",
       "4  1017023              4.0                   1.0                      1   \n",
       "\n",
       "   marginal_adhesion  single_ep_cell_size bare_nuclei  bland_chromatin  \\\n",
       "0                  1                    2           1              3.0   \n",
       "1                  5                    7          10              3.0   \n",
       "2                  1                    2           2              3.0   \n",
       "3                  1                    3           4              3.0   \n",
       "4                  3                    2           1              3.0   \n",
       "\n",
       "   normal_nucleoli  mitoses   class doctor_name  \n",
       "0              1.0        1  benign     Dr. Doe  \n",
       "1              2.0        1  benign   Dr. Smith  \n",
       "2              1.0        1  benign     Dr. Lee  \n",
       "3              7.0        1  benign   Dr. Smith  \n",
       "4              1.0        1  benign    Dr. Wong  "
      ]
     },
     "execution_count": 47,
     "metadata": {},
     "output_type": "execute_result"
    }
   ],
   "source": [
    "colunas = ['id','clump_thickness','cell_size_uniformity','cell_shape_uniformity','marginal_adhesion','single_ep_cell_size',\n",
    "          'bare_nuclei','bland_chromatin','normal_nucleoli','mitoses','class','doctor_name']\n",
    "\n",
    "data = pd.read_csv('bases/breast_cancer_data.csv',names=colunas)\n",
    "data.head()"
   ]
  },
  {
   "cell_type": "markdown",
   "id": "otherwise-submission",
   "metadata": {},
   "source": [
    "#### TODO 2.1: entendimento básico dos dados - preencha as lacunas no código a fim de obter o resultado desejado"
   ]
  },
  {
   "cell_type": "code",
   "execution_count": 48,
   "id": "processed-visiting",
   "metadata": {},
   "outputs": [
    {
     "name": "stdout",
     "output_type": "stream",
     "text": [
      "formato: \n",
      " (699, 12) \n",
      "\n",
      "tipos de dados: \n",
      " id                         int64\n",
      "clump_thickness          float64\n",
      "cell_size_uniformity     float64\n",
      "cell_shape_uniformity      int64\n",
      "marginal_adhesion          int64\n",
      "single_ep_cell_size        int64\n",
      "bare_nuclei               object\n",
      "bland_chromatin          float64\n",
      "normal_nucleoli          float64\n",
      "mitoses                    int64\n",
      "class                     object\n",
      "doctor_name               object\n",
      "dtype: object \n",
      "\n",
      "principais estatísticas: \n",
      "                  id  clump_thickness  cell_size_uniformity  \\\n",
      "count  6.990000e+02       698.000000            698.000000   \n",
      "mean   1.071704e+06         4.416905              3.137536   \n",
      "std    6.170957e+05         2.817673              3.052575   \n",
      "min    6.163400e+04         1.000000              1.000000   \n",
      "25%    8.706885e+05         2.000000              1.000000   \n",
      "50%    1.171710e+06         4.000000              1.000000   \n",
      "75%    1.238298e+06         6.000000              5.000000   \n",
      "max    1.345435e+07        10.000000             10.000000   \n",
      "\n",
      "       cell_shape_uniformity  marginal_adhesion  single_ep_cell_size  \\\n",
      "count             699.000000         699.000000           699.000000   \n",
      "mean                3.207439           2.793991             3.216023   \n",
      "std                 2.971913           2.843163             2.214300   \n",
      "min                 1.000000           1.000000             1.000000   \n",
      "25%                 1.000000           1.000000             2.000000   \n",
      "50%                 1.000000           1.000000             2.000000   \n",
      "75%                 5.000000           3.500000             4.000000   \n",
      "max                10.000000          10.000000            10.000000   \n",
      "\n",
      "       bland_chromatin  normal_nucleoli     mitoses  \n",
      "count       695.000000       698.000000  699.000000  \n",
      "mean          3.447482         2.868195    1.589413  \n",
      "std           2.441191         3.055647    1.715078  \n",
      "min           1.000000         1.000000    1.000000  \n",
      "25%           2.000000         1.000000    1.000000  \n",
      "50%           3.000000         1.000000    1.000000  \n",
      "75%           5.000000         4.000000    1.000000  \n",
      "max          10.000000        10.000000   10.000000   \n",
      "\n"
     ]
    }
   ],
   "source": [
    "# quantas linhas e quantas colunas existem no dataset?\n",
    "print('formato: \\n', data.shape, '\\n')\n",
    "\n",
    "# quais os tipos de dados de cada coluna?\n",
    "print('tipos de dados: \\n', data.dtypes, '\\n')\n",
    "\n",
    "# quais as principais estatísticas dos dados numéricos do dataset?\n",
    "print('principais estatísticas: \\n', data.describe(), '\\n')"
   ]
  },
  {
   "cell_type": "markdown",
   "id": "graphic-newsletter",
   "metadata": {},
   "source": [
    "#### TODO 2.2: obtendo informações sobre o dataset\n",
    "\n",
    "retorne uma Serie que mostre qual a classificação (maligno e benigno) que cada médico deu para cada amostra: \n"
   ]
  },
  {
   "cell_type": "code",
   "execution_count": 49,
   "id": "closed-blake",
   "metadata": {},
   "outputs": [],
   "source": [
    "# Exemplo de retorno\n",
    "#  class      doctor_name\n",
    "#  benign   Dr. Doe        127\n",
    "#           Dr. Lee        121\n",
    "#           Dr. Smith      102\n",
    "#           Dr. Wong       108"
   ]
  },
  {
   "cell_type": "code",
   "execution_count": 50,
   "id": "logical-identity",
   "metadata": {},
   "outputs": [
    {
     "data": {
      "text/plain": [
       "class      doctor_name\n",
       "benign     Dr. Doe        127\n",
       "           Dr. Lee        121\n",
       "           Dr. Smith      102\n",
       "           Dr. Wong       108\n",
       "malignant  Dr. Doe         58\n",
       "           Dr. Lee         60\n",
       "           Dr. Smith       74\n",
       "           Dr. Wong        49\n",
       "dtype: int64"
      ]
     },
     "execution_count": 50,
     "metadata": {},
     "output_type": "execute_result"
    }
   ],
   "source": [
    "# Responsta\n",
    "data.groupby(['class','doctor_name']).size()"
   ]
  },
  {
   "cell_type": "markdown",
   "id": "lightweight-robert",
   "metadata": {},
   "source": [
    "#### TODO 2.3: obtendo informações sobre o dataset"
   ]
  },
  {
   "cell_type": "code",
   "execution_count": 51,
   "id": "computational-crown",
   "metadata": {},
   "outputs": [
    {
     "name": "stdout",
     "output_type": "stream",
     "text": [
      "Existem 5 variáveis correlacionadas com clump_thickness:\n",
      "cell_shape_uniformity    0.654632\n",
      "cell_size_uniformity     0.644636\n",
      "bland_chromatin          0.558924\n",
      "normal_nucleoli          0.535773\n",
      "single_ep_cell_size      0.522108\n",
      "Name: clump_thickness, dtype: float64\n"
     ]
    }
   ],
   "source": [
    "# Use o método select_dtypes() para selecionar apenas colunas do tipo float64 e int64. Armazene na variável data_num\n",
    "data_num = data.select_dtypes(include=['float64','int64'])\n",
    "#corr\n",
    "# Encontre as n variáveis que possuem um valor absoluto de correlação maior que 0.5 com a variável clump_thickness, excluindo ela mesma \n",
    "# retorne os valores de forma descendente\n",
    "# sempre utilize a variável data_num para receber o resultado de suas operações\n",
    "data_num = data_num.corr()['clump_thickness'].sort_values(ascending=False)\n",
    "data_num = data_num[data_num > 0.5]\n",
    "data_num = data_num.drop('clump_thickness')\n",
    "print(\"Existem {} variáveis correlacionadas com clump_thickness:\\n{}\".format(len(data_num), data_num))"
   ]
  },
  {
   "cell_type": "markdown",
   "id": "encouraging-madness",
   "metadata": {},
   "source": [
    "#### TODO 2.4: obtendo informações sobre o dataset"
   ]
  },
  {
   "cell_type": "code",
   "execution_count": 52,
   "id": "sought-greensboro",
   "metadata": {},
   "outputs": [
    {
     "name": "stdout",
     "output_type": "stream",
     "text": [
      "Tamanho médio do tipo benigno:  1.3260393873085339 \n",
      "\n",
      "Tamanho médio do tipo maligno:  6.572614107883817 \n",
      "\n",
      "Número máximo de mitoses em tumores benignos:  3 \n",
      "\n",
      "\n",
      "Número máximo de mitoses em tumores malignos:  10 \n",
      "\n"
     ]
    }
   ],
   "source": [
    "# qual o tamanho médio das células para cada tipo de tumor?\n",
    "print('Tamanho médio do tipo benigno: ', data.loc[data['class'] == 'benign', 'cell_size_uniformity'].mean(), '\\n')\n",
    "print('Tamanho médio do tipo maligno: ', data.loc[data['class'] == 'malignant', 'cell_size_uniformity'].mean(), '\\n')\n",
    "\n",
    "# qual o número máximo de mitoses em tumores benignos encontrados pelo Dr. Wong?\n",
    "print('Número máximo de mitoses em tumores benignos: ', data.loc[(data['doctor_name'] == 'Dr. Wong') & (data['class'] == 'benign'), 'mitoses'].max(), '\\n')\n",
    "\n",
    "# e qual o número máximo de mitoses em tumores malignos encontrados pelo mesmo médico?\n",
    "print('\\nNúmero máximo de mitoses em tumores malignos: ', data.loc[(data['doctor_name'] == 'Dr. Wong') & (data['class'] == 'malignant'), 'mitoses'].max(), '\\n')"
   ]
  },
  {
   "cell_type": "markdown",
   "id": "accredited-columbia",
   "metadata": {},
   "source": [
    "#### TODO 2.5: filtrando os dados"
   ]
  },
  {
   "cell_type": "code",
   "execution_count": 53,
   "id": "derived-james",
   "metadata": {},
   "outputs": [
    {
     "data": {
      "text/plain": [
       "id\n",
       "1182404     6\n",
       "1276091     5\n",
       "1198641     3\n",
       "769612      2\n",
       "1339781     2\n",
       "           ..\n",
       "1079304     1\n",
       "1080185     1\n",
       "1080233     1\n",
       "1081791     1\n",
       "13454352    1\n",
       "Length: 645, dtype: int64"
      ]
     },
     "execution_count": 53,
     "metadata": {},
     "output_type": "execute_result"
    }
   ],
   "source": [
    "# Existem três pacientes (id) que aparecem mais que duas vezes no dataset. Retorne uma série ordenada de forma descendente que mostre o\n",
    "# id do paciente bem como a quantidade de vezes que ele aparece repetido no dataset\n",
    "\n",
    "repeated_patients = data.groupby('id').size().sort_values(ascending=False)\n",
    "repeated_patients"
   ]
  },
  {
   "cell_type": "code",
   "execution_count": 54,
   "id": "844da5eb",
   "metadata": {},
   "outputs": [
    {
     "data": {
      "text/plain": [
       "id\n",
       "1171710     2\n",
       "1299596     2\n",
       "1293439     2\n",
       "704097      2\n",
       "695091      2\n",
       "           ..\n",
       "1076352     1\n",
       "1079304     1\n",
       "1080185     1\n",
       "1080233     1\n",
       "13454352    1\n",
       "Length: 642, dtype: int64"
      ]
     },
     "execution_count": 54,
     "metadata": {},
     "output_type": "execute_result"
    }
   ],
   "source": [
    "# Elimine esses três pacientes do dataframe de modo que este contenha apenas pacientes que apareceram no máximo duas vezes\n",
    "filtered_patients = data[data['id'].isin(repeated_patients[repeated_patients < 3].index)]\n",
    "filtered_patients.groupby('id').size().sort_values(ascending=False)\n"
   ]
  },
  {
   "cell_type": "code",
   "execution_count": 55,
   "id": "300e38bd",
   "metadata": {},
   "outputs": [
    {
     "data": {
      "text/html": [
       "<div>\n",
       "<style scoped>\n",
       "    .dataframe tbody tr th:only-of-type {\n",
       "        vertical-align: middle;\n",
       "    }\n",
       "\n",
       "    .dataframe tbody tr th {\n",
       "        vertical-align: top;\n",
       "    }\n",
       "\n",
       "    .dataframe thead th {\n",
       "        text-align: right;\n",
       "    }\n",
       "</style>\n",
       "<table border=\"1\" class=\"dataframe\">\n",
       "  <thead>\n",
       "    <tr style=\"text-align: right;\">\n",
       "      <th></th>\n",
       "      <th>id</th>\n",
       "      <th>clump_thickness</th>\n",
       "      <th>cell_size_uniformity</th>\n",
       "      <th>cell_shape_uniformity</th>\n",
       "      <th>marginal_adhesion</th>\n",
       "      <th>single_ep_cell_size</th>\n",
       "      <th>bare_nuclei</th>\n",
       "      <th>bland_chromatin</th>\n",
       "      <th>normal_nucleoli</th>\n",
       "      <th>mitoses</th>\n",
       "      <th>class</th>\n",
       "      <th>doctor_name</th>\n",
       "    </tr>\n",
       "  </thead>\n",
       "  <tbody>\n",
       "    <tr>\n",
       "      <th>0</th>\n",
       "      <td>1000025</td>\n",
       "      <td>5.0</td>\n",
       "      <td>1.0</td>\n",
       "      <td>1</td>\n",
       "      <td>1</td>\n",
       "      <td>2</td>\n",
       "      <td>1</td>\n",
       "      <td>3.0</td>\n",
       "      <td>1.0</td>\n",
       "      <td>1</td>\n",
       "      <td>benign</td>\n",
       "      <td>Dr. Doe</td>\n",
       "    </tr>\n",
       "    <tr>\n",
       "      <th>1</th>\n",
       "      <td>1002945</td>\n",
       "      <td>5.0</td>\n",
       "      <td>4.0</td>\n",
       "      <td>4</td>\n",
       "      <td>5</td>\n",
       "      <td>7</td>\n",
       "      <td>10</td>\n",
       "      <td>3.0</td>\n",
       "      <td>2.0</td>\n",
       "      <td>1</td>\n",
       "      <td>benign</td>\n",
       "      <td>Dr. Smith</td>\n",
       "    </tr>\n",
       "    <tr>\n",
       "      <th>2</th>\n",
       "      <td>1015425</td>\n",
       "      <td>3.0</td>\n",
       "      <td>1.0</td>\n",
       "      <td>1</td>\n",
       "      <td>1</td>\n",
       "      <td>2</td>\n",
       "      <td>2</td>\n",
       "      <td>3.0</td>\n",
       "      <td>1.0</td>\n",
       "      <td>1</td>\n",
       "      <td>benign</td>\n",
       "      <td>Dr. Lee</td>\n",
       "    </tr>\n",
       "    <tr>\n",
       "      <th>3</th>\n",
       "      <td>1016277</td>\n",
       "      <td>6.0</td>\n",
       "      <td>8.0</td>\n",
       "      <td>8</td>\n",
       "      <td>1</td>\n",
       "      <td>3</td>\n",
       "      <td>4</td>\n",
       "      <td>3.0</td>\n",
       "      <td>7.0</td>\n",
       "      <td>1</td>\n",
       "      <td>benign</td>\n",
       "      <td>Dr. Smith</td>\n",
       "    </tr>\n",
       "    <tr>\n",
       "      <th>4</th>\n",
       "      <td>1017023</td>\n",
       "      <td>4.0</td>\n",
       "      <td>1.0</td>\n",
       "      <td>1</td>\n",
       "      <td>3</td>\n",
       "      <td>2</td>\n",
       "      <td>1</td>\n",
       "      <td>3.0</td>\n",
       "      <td>1.0</td>\n",
       "      <td>1</td>\n",
       "      <td>benign</td>\n",
       "      <td>Dr. Wong</td>\n",
       "    </tr>\n",
       "    <tr>\n",
       "      <th>...</th>\n",
       "      <td>...</td>\n",
       "      <td>...</td>\n",
       "      <td>...</td>\n",
       "      <td>...</td>\n",
       "      <td>...</td>\n",
       "      <td>...</td>\n",
       "      <td>...</td>\n",
       "      <td>...</td>\n",
       "      <td>...</td>\n",
       "      <td>...</td>\n",
       "      <td>...</td>\n",
       "      <td>...</td>\n",
       "    </tr>\n",
       "    <tr>\n",
       "      <th>694</th>\n",
       "      <td>776715</td>\n",
       "      <td>3.0</td>\n",
       "      <td>1.0</td>\n",
       "      <td>1</td>\n",
       "      <td>1</td>\n",
       "      <td>3</td>\n",
       "      <td>2</td>\n",
       "      <td>1.0</td>\n",
       "      <td>1.0</td>\n",
       "      <td>1</td>\n",
       "      <td>benign</td>\n",
       "      <td>Dr. Lee</td>\n",
       "    </tr>\n",
       "    <tr>\n",
       "      <th>695</th>\n",
       "      <td>841769</td>\n",
       "      <td>2.0</td>\n",
       "      <td>1.0</td>\n",
       "      <td>1</td>\n",
       "      <td>1</td>\n",
       "      <td>2</td>\n",
       "      <td>1</td>\n",
       "      <td>1.0</td>\n",
       "      <td>1.0</td>\n",
       "      <td>1</td>\n",
       "      <td>benign</td>\n",
       "      <td>Dr. Smith</td>\n",
       "    </tr>\n",
       "    <tr>\n",
       "      <th>696</th>\n",
       "      <td>888820</td>\n",
       "      <td>5.0</td>\n",
       "      <td>10.0</td>\n",
       "      <td>10</td>\n",
       "      <td>3</td>\n",
       "      <td>7</td>\n",
       "      <td>3</td>\n",
       "      <td>8.0</td>\n",
       "      <td>10.0</td>\n",
       "      <td>2</td>\n",
       "      <td>malignant</td>\n",
       "      <td>Dr. Lee</td>\n",
       "    </tr>\n",
       "    <tr>\n",
       "      <th>697</th>\n",
       "      <td>897471</td>\n",
       "      <td>4.0</td>\n",
       "      <td>8.0</td>\n",
       "      <td>6</td>\n",
       "      <td>4</td>\n",
       "      <td>3</td>\n",
       "      <td>4</td>\n",
       "      <td>10.0</td>\n",
       "      <td>6.0</td>\n",
       "      <td>1</td>\n",
       "      <td>malignant</td>\n",
       "      <td>Dr. Lee</td>\n",
       "    </tr>\n",
       "    <tr>\n",
       "      <th>698</th>\n",
       "      <td>897471</td>\n",
       "      <td>4.0</td>\n",
       "      <td>8.0</td>\n",
       "      <td>8</td>\n",
       "      <td>5</td>\n",
       "      <td>4</td>\n",
       "      <td>5</td>\n",
       "      <td>10.0</td>\n",
       "      <td>4.0</td>\n",
       "      <td>1</td>\n",
       "      <td>malignant</td>\n",
       "      <td>Dr. Wong</td>\n",
       "    </tr>\n",
       "  </tbody>\n",
       "</table>\n",
       "<p>685 rows × 12 columns</p>\n",
       "</div>"
      ],
      "text/plain": [
       "          id  clump_thickness  cell_size_uniformity  cell_shape_uniformity  \\\n",
       "0    1000025              5.0                   1.0                      1   \n",
       "1    1002945              5.0                   4.0                      4   \n",
       "2    1015425              3.0                   1.0                      1   \n",
       "3    1016277              6.0                   8.0                      8   \n",
       "4    1017023              4.0                   1.0                      1   \n",
       "..       ...              ...                   ...                    ...   \n",
       "694   776715              3.0                   1.0                      1   \n",
       "695   841769              2.0                   1.0                      1   \n",
       "696   888820              5.0                  10.0                     10   \n",
       "697   897471              4.0                   8.0                      6   \n",
       "698   897471              4.0                   8.0                      8   \n",
       "\n",
       "     marginal_adhesion  single_ep_cell_size bare_nuclei  bland_chromatin  \\\n",
       "0                    1                    2           1              3.0   \n",
       "1                    5                    7          10              3.0   \n",
       "2                    1                    2           2              3.0   \n",
       "3                    1                    3           4              3.0   \n",
       "4                    3                    2           1              3.0   \n",
       "..                 ...                  ...         ...              ...   \n",
       "694                  1                    3           2              1.0   \n",
       "695                  1                    2           1              1.0   \n",
       "696                  3                    7           3              8.0   \n",
       "697                  4                    3           4             10.0   \n",
       "698                  5                    4           5             10.0   \n",
       "\n",
       "     normal_nucleoli  mitoses      class doctor_name  \n",
       "0                1.0        1     benign     Dr. Doe  \n",
       "1                2.0        1     benign   Dr. Smith  \n",
       "2                1.0        1     benign     Dr. Lee  \n",
       "3                7.0        1     benign   Dr. Smith  \n",
       "4                1.0        1     benign    Dr. Wong  \n",
       "..               ...      ...        ...         ...  \n",
       "694              1.0        1     benign     Dr. Lee  \n",
       "695              1.0        1     benign   Dr. Smith  \n",
       "696             10.0        2  malignant     Dr. Lee  \n",
       "697              6.0        1  malignant     Dr. Lee  \n",
       "698              4.0        1  malignant    Dr. Wong  \n",
       "\n",
       "[685 rows x 12 columns]"
      ]
     },
     "execution_count": 55,
     "metadata": {},
     "output_type": "execute_result"
    }
   ],
   "source": [
    "#retorne o dataset completo \n",
    "filtered_patients"
   ]
  }
 ],
 "metadata": {
  "kernelspec": {
   "display_name": "Python 3.9.12 ('base')",
   "language": "python",
   "name": "python3"
  },
  "language_info": {
   "codemirror_mode": {
    "name": "ipython",
    "version": 3
   },
   "file_extension": ".py",
   "mimetype": "text/x-python",
   "name": "python",
   "nbconvert_exporter": "python",
   "pygments_lexer": "ipython3",
   "version": "3.9.12"
  },
  "vscode": {
   "interpreter": {
    "hash": "ad2bdc8ecc057115af97d19610ffacc2b4e99fae6737bb82f5d7fb13d2f2c186"
   }
  }
 },
 "nbformat": 4,
 "nbformat_minor": 5
}
