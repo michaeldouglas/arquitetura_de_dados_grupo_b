{
  "nbformat": 4,
  "nbformat_minor": 0,
  "metadata": {
    "colab": {
      "provenance": [],
      "include_colab_link": true
    },
    "kernelspec": {
      "name": "python3",
      "display_name": "Python 3"
    }
  },
  "cells": [
    {
      "cell_type": "markdown",
      "metadata": {
        "id": "view-in-github",
        "colab_type": "text"
      },
      "source": [
        "<a href=\"https://colab.research.google.com/github/ghedin-alison/NLP/blob/main/Aula_3_6_IA_PLN_Demo.ipynb\" target=\"_parent\"><img src=\"https://colab.research.google.com/assets/colab-badge.svg\" alt=\"Open In Colab\"/></a>"
      ]
    },
    {
      "cell_type": "markdown",
      "metadata": {
        "id": "JdelQOET5rDj"
      },
      "source": [
        "#**Processamento de Linguagem Natural**\n",
        "\n",
        "---\n"
      ]
    },
    {
      "cell_type": "markdown",
      "metadata": {
        "id": "K0wg8wf1GSeD"
      },
      "source": [
        "## Stemmer (Stemização)\n",
        "\n",
        "---"
      ]
    },
    {
      "cell_type": "code",
      "metadata": {
        "id": "yfwMue5RGR8B",
        "colab": {
          "base_uri": "https://localhost:8080/"
        },
        "outputId": "479a85f4-07df-449d-e5be-2acb1dca33a3"
      },
      "source": [
        "from nltk.stem import PorterStemmer\n",
        "\n",
        "ps = PorterStemmer()\n",
        "exemplos = [\"connection\",\"connections\",\"connective\",\"connecting\",\"connected\"]\n",
        "print(exemplos)\n",
        "\n",
        "for word in exemplos:\n",
        "  print(ps.stem(word))"
      ],
      "execution_count": 80,
      "outputs": [
        {
          "output_type": "stream",
          "name": "stdout",
          "text": [
            "['connection', 'connections', 'connective', 'connecting', 'connected']\n",
            "connect\n",
            "connect\n",
            "connect\n",
            "connect\n",
            "connect\n"
          ]
        }
      ]
    },
    {
      "cell_type": "code",
      "metadata": {
        "id": "YiXeQyMcAx4Y",
        "colab": {
          "base_uri": "https://localhost:8080/"
        },
        "outputId": "bc9df2a5-a4ca-4951-ffb9-d6a4fe02b09f"
      },
      "source": [
        "# Outro exemplo\n",
        "ps = PorterStemmer()\n",
        "exemplos = [\"go\",\"going\",\"goes\",\"gone\",\"went\"]\n",
        "print(exemplos)\n",
        "\n",
        "for word in exemplos:\n",
        "  print(ps.stem(word))"
      ],
      "execution_count": 81,
      "outputs": [
        {
          "output_type": "stream",
          "name": "stdout",
          "text": [
            "['go', 'going', 'goes', 'gone', 'went']\n",
            "go\n",
            "go\n",
            "goe\n",
            "gone\n",
            "went\n"
          ]
        }
      ]
    },
    {
      "cell_type": "markdown",
      "source": [
        "## Removedor de Sufixos da lingua portuguesa"
      ],
      "metadata": {
        "id": "IHec-xDWu7vC"
      }
    },
    {
      "cell_type": "markdown",
      "source": [
        "### Cuidado ao utilizar stemmer, geralmente usar depois da remoção de stop words. Talvez seria melhor usar Lemmatização com a biblioteca space."
      ],
      "metadata": {
        "id": "aDoW0neOwEQR"
      }
    },
    {
      "cell_type": "markdown",
      "source": [],
      "metadata": {
        "id": "tjtERg97wENj"
      }
    },
    {
      "cell_type": "code",
      "metadata": {
        "id": "aIvuXLMeqUd9",
        "colab": {
          "base_uri": "https://localhost:8080/"
        },
        "outputId": "c4954c9e-f8d9-4a0d-e2eb-7e06e55f33b7"
      },
      "source": [
        "# Stemização\n",
        "from nltk.stem import PorterStemmer\n",
        "from nltk.stem.rslp import RSLPStemmer\n",
        "import nltk \n",
        "nltk.download('rslp')\n",
        "\n",
        "doc = [\"pedra\",\"pedreira\",\"pedreiro\"]\n",
        "print(doc)\n",
        "\n",
        "ps = PorterStemmer()\n",
        "rslp = RSLPStemmer()\n",
        "\n",
        "for word in doc:\n",
        "    print(f\"{ps.stem(word)} - {rslp.stem(word)}\")"
      ],
      "execution_count": 82,
      "outputs": [
        {
          "output_type": "stream",
          "name": "stdout",
          "text": [
            "['pedra', 'pedreira', 'pedreiro']\n",
            "pedra - pedr\n",
            "pedreira - pedr\n",
            "pedreiro - pedr\n"
          ]
        },
        {
          "output_type": "stream",
          "name": "stderr",
          "text": [
            "[nltk_data] Downloading package rslp to /root/nltk_data...\n",
            "[nltk_data]   Package rslp is already up-to-date!\n"
          ]
        }
      ]
    },
    {
      "cell_type": "markdown",
      "metadata": {
        "id": "bVDjrt-eT4MV"
      },
      "source": [
        "## Aplicar Stemmer em uma frase"
      ]
    },
    {
      "cell_type": "code",
      "metadata": {
        "id": "nGuydG4xrJFd",
        "colab": {
          "base_uri": "https://localhost:8080/",
          "height": 112
        },
        "outputId": "ae86b42f-ffe6-44c9-97e5-803366b1356b"
      },
      "source": [
        "import pandas as pd\n",
        "\n",
        "df = pd.DataFrame({\n",
        "    'text': [\n",
        "      'Sobre MBA? Eu gostei muito do MBA da FIAP',\n",
        "      'O MBA da FIAP pode melhorar, não gostei muito'\n",
        "    ],\n",
        "    'class': [\n",
        "        'positivo',\n",
        "        'negativo'\n",
        "    ]})\n",
        "\n",
        "df.head()"
      ],
      "execution_count": 83,
      "outputs": [
        {
          "output_type": "execute_result",
          "data": {
            "text/plain": [
              "                                            text     class\n",
              "0      Sobre MBA? Eu gostei muito do MBA da FIAP  positivo\n",
              "1  O MBA da FIAP pode melhorar, não gostei muito  negativo"
            ],
            "text/html": [
              "\n",
              "  <div id=\"df-d6b37188-6783-4fdd-a32f-81019edbae4e\">\n",
              "    <div class=\"colab-df-container\">\n",
              "      <div>\n",
              "<style scoped>\n",
              "    .dataframe tbody tr th:only-of-type {\n",
              "        vertical-align: middle;\n",
              "    }\n",
              "\n",
              "    .dataframe tbody tr th {\n",
              "        vertical-align: top;\n",
              "    }\n",
              "\n",
              "    .dataframe thead th {\n",
              "        text-align: right;\n",
              "    }\n",
              "</style>\n",
              "<table border=\"1\" class=\"dataframe\">\n",
              "  <thead>\n",
              "    <tr style=\"text-align: right;\">\n",
              "      <th></th>\n",
              "      <th>text</th>\n",
              "      <th>class</th>\n",
              "    </tr>\n",
              "  </thead>\n",
              "  <tbody>\n",
              "    <tr>\n",
              "      <th>0</th>\n",
              "      <td>Sobre MBA? Eu gostei muito do MBA da FIAP</td>\n",
              "      <td>positivo</td>\n",
              "    </tr>\n",
              "    <tr>\n",
              "      <th>1</th>\n",
              "      <td>O MBA da FIAP pode melhorar, não gostei muito</td>\n",
              "      <td>negativo</td>\n",
              "    </tr>\n",
              "  </tbody>\n",
              "</table>\n",
              "</div>\n",
              "      <button class=\"colab-df-convert\" onclick=\"convertToInteractive('df-d6b37188-6783-4fdd-a32f-81019edbae4e')\"\n",
              "              title=\"Convert this dataframe to an interactive table.\"\n",
              "              style=\"display:none;\">\n",
              "        \n",
              "  <svg xmlns=\"http://www.w3.org/2000/svg\" height=\"24px\"viewBox=\"0 0 24 24\"\n",
              "       width=\"24px\">\n",
              "    <path d=\"M0 0h24v24H0V0z\" fill=\"none\"/>\n",
              "    <path d=\"M18.56 5.44l.94 2.06.94-2.06 2.06-.94-2.06-.94-.94-2.06-.94 2.06-2.06.94zm-11 1L8.5 8.5l.94-2.06 2.06-.94-2.06-.94L8.5 2.5l-.94 2.06-2.06.94zm10 10l.94 2.06.94-2.06 2.06-.94-2.06-.94-.94-2.06-.94 2.06-2.06.94z\"/><path d=\"M17.41 7.96l-1.37-1.37c-.4-.4-.92-.59-1.43-.59-.52 0-1.04.2-1.43.59L10.3 9.45l-7.72 7.72c-.78.78-.78 2.05 0 2.83L4 21.41c.39.39.9.59 1.41.59.51 0 1.02-.2 1.41-.59l7.78-7.78 2.81-2.81c.8-.78.8-2.07 0-2.86zM5.41 20L4 18.59l7.72-7.72 1.47 1.35L5.41 20z\"/>\n",
              "  </svg>\n",
              "      </button>\n",
              "      \n",
              "  <style>\n",
              "    .colab-df-container {\n",
              "      display:flex;\n",
              "      flex-wrap:wrap;\n",
              "      gap: 12px;\n",
              "    }\n",
              "\n",
              "    .colab-df-convert {\n",
              "      background-color: #E8F0FE;\n",
              "      border: none;\n",
              "      border-radius: 50%;\n",
              "      cursor: pointer;\n",
              "      display: none;\n",
              "      fill: #1967D2;\n",
              "      height: 32px;\n",
              "      padding: 0 0 0 0;\n",
              "      width: 32px;\n",
              "    }\n",
              "\n",
              "    .colab-df-convert:hover {\n",
              "      background-color: #E2EBFA;\n",
              "      box-shadow: 0px 1px 2px rgba(60, 64, 67, 0.3), 0px 1px 3px 1px rgba(60, 64, 67, 0.15);\n",
              "      fill: #174EA6;\n",
              "    }\n",
              "\n",
              "    [theme=dark] .colab-df-convert {\n",
              "      background-color: #3B4455;\n",
              "      fill: #D2E3FC;\n",
              "    }\n",
              "\n",
              "    [theme=dark] .colab-df-convert:hover {\n",
              "      background-color: #434B5C;\n",
              "      box-shadow: 0px 1px 3px 1px rgba(0, 0, 0, 0.15);\n",
              "      filter: drop-shadow(0px 1px 2px rgba(0, 0, 0, 0.3));\n",
              "      fill: #FFFFFF;\n",
              "    }\n",
              "  </style>\n",
              "\n",
              "      <script>\n",
              "        const buttonEl =\n",
              "          document.querySelector('#df-d6b37188-6783-4fdd-a32f-81019edbae4e button.colab-df-convert');\n",
              "        buttonEl.style.display =\n",
              "          google.colab.kernel.accessAllowed ? 'block' : 'none';\n",
              "\n",
              "        async function convertToInteractive(key) {\n",
              "          const element = document.querySelector('#df-d6b37188-6783-4fdd-a32f-81019edbae4e');\n",
              "          const dataTable =\n",
              "            await google.colab.kernel.invokeFunction('convertToInteractive',\n",
              "                                                     [key], {});\n",
              "          if (!dataTable) return;\n",
              "\n",
              "          const docLinkHtml = 'Like what you see? Visit the ' +\n",
              "            '<a target=\"_blank\" href=https://colab.research.google.com/notebooks/data_table.ipynb>data table notebook</a>'\n",
              "            + ' to learn more about interactive tables.';\n",
              "          element.innerHTML = '';\n",
              "          dataTable['output_type'] = 'display_data';\n",
              "          await google.colab.output.renderOutput(dataTable, element);\n",
              "          const docLink = document.createElement('div');\n",
              "          docLink.innerHTML = docLinkHtml;\n",
              "          element.appendChild(docLink);\n",
              "        }\n",
              "      </script>\n",
              "    </div>\n",
              "  </div>\n",
              "  "
            ]
          },
          "metadata": {},
          "execution_count": 83
        }
      ]
    },
    {
      "cell_type": "code",
      "metadata": {
        "id": "S6_SwqMGibny",
        "colab": {
          "base_uri": "https://localhost:8080/"
        },
        "outputId": "651750a2-f27f-4c8b-f918-39623282d473"
      },
      "source": [
        "from nltk.tokenize import word_tokenize\n",
        "import nltk\n",
        "nltk.download('punkt')\n",
        "\n",
        "df['tokens'] = df.text.apply(word_tokenize)\n",
        "df['tokens']"
      ],
      "execution_count": 84,
      "outputs": [
        {
          "output_type": "stream",
          "name": "stderr",
          "text": [
            "[nltk_data] Downloading package punkt to /root/nltk_data...\n",
            "[nltk_data]   Package punkt is already up-to-date!\n"
          ]
        },
        {
          "output_type": "execute_result",
          "data": {
            "text/plain": [
              "0    [Sobre, MBA, ?, Eu, gostei, muito, do, MBA, da...\n",
              "1    [O, MBA, da, FIAP, pode, melhorar, ,, não, gos...\n",
              "Name: tokens, dtype: object"
            ]
          },
          "metadata": {},
          "execution_count": 84
        }
      ]
    },
    {
      "cell_type": "code",
      "metadata": {
        "id": "HBJ-oLU9T3jT",
        "colab": {
          "base_uri": "https://localhost:8080/"
        },
        "outputId": "47c24562-5763-4381-cd7d-387bf484e57d"
      },
      "source": [
        "from nltk.stem import PorterStemmer\n",
        "from nltk.stem.rslp import RSLPStemmer\n",
        "import nltk\n",
        "nltk.download('rslp')\n",
        "\n",
        "tokens = df.tokens[0]\n",
        "tokens = tokens + df.tokens[1]\n",
        "\n",
        "ps = PorterStemmer()\n",
        "rslp = RSLPStemmer()\n",
        "\n",
        "for tok in tokens:\n",
        "  #print('Original: %s \\t\\t  PorterStemmer: %s \\t\\t RSLPStemmer: %s' % (tok, ps.stem(tok), rslp.stem(tok)))\n",
        "  print(f'Original: {tok:{11}} PorterStemmer: {ps.stem(tok):{10}} RSLPStemmer: {rslp.stem(tok):{10}}')\n"
      ],
      "execution_count": 85,
      "outputs": [
        {
          "output_type": "stream",
          "name": "stdout",
          "text": [
            "Original: Sobre       PorterStemmer: sobr       RSLPStemmer: sobr      \n",
            "Original: MBA         PorterStemmer: mba        RSLPStemmer: mba       \n",
            "Original: ?           PorterStemmer: ?          RSLPStemmer: ?         \n",
            "Original: Eu          PorterStemmer: eu         RSLPStemmer: eu        \n",
            "Original: gostei      PorterStemmer: gostei     RSLPStemmer: gost      \n",
            "Original: muito       PorterStemmer: muito      RSLPStemmer: muit      \n",
            "Original: do          PorterStemmer: do         RSLPStemmer: do        \n",
            "Original: MBA         PorterStemmer: mba        RSLPStemmer: mba       \n",
            "Original: da          PorterStemmer: da         RSLPStemmer: da        \n",
            "Original: FIAP        PorterStemmer: fiap       RSLPStemmer: fiap      \n",
            "Original: O           PorterStemmer: o          RSLPStemmer: o         \n",
            "Original: MBA         PorterStemmer: mba        RSLPStemmer: mba       \n",
            "Original: da          PorterStemmer: da         RSLPStemmer: da        \n",
            "Original: FIAP        PorterStemmer: fiap       RSLPStemmer: fiap      \n",
            "Original: pode        PorterStemmer: pode       RSLPStemmer: pod       \n",
            "Original: melhorar    PorterStemmer: melhorar   RSLPStemmer: melhor    \n",
            "Original: ,           PorterStemmer: ,          RSLPStemmer: ,         \n",
            "Original: não         PorterStemmer: não        RSLPStemmer: não       \n",
            "Original: gostei      PorterStemmer: gostei     RSLPStemmer: gost      \n",
            "Original: muito       PorterStemmer: muito      RSLPStemmer: muit      \n"
          ]
        },
        {
          "output_type": "stream",
          "name": "stderr",
          "text": [
            "[nltk_data] Downloading package rslp to /root/nltk_data...\n",
            "[nltk_data]   Package rslp is already up-to-date!\n"
          ]
        }
      ]
    },
    {
      "cell_type": "code",
      "metadata": {
        "id": "37nqnDh-qVnA"
      },
      "source": [
        "# O Porter foi criado para o inglês e o RSLP para o português"
      ],
      "execution_count": 86,
      "outputs": []
    },
    {
      "cell_type": "markdown",
      "metadata": {
        "id": "9QGwgdjvSW7L"
      },
      "source": [
        "NLTK = Natural Language Tool Kit\n",
        "\n",
        "RSLP = Removedor de Sulfixos da Língua Portuguesa\n"
      ]
    },
    {
      "cell_type": "markdown",
      "metadata": {
        "id": "zhTMo3h0oFA7"
      },
      "source": [
        "## Quantos unigramas existem após aplicar Stemmer?"
      ]
    },
    {
      "cell_type": "code",
      "metadata": {
        "id": "YlUI2NgDhufq",
        "colab": {
          "base_uri": "https://localhost:8080/",
          "height": 36
        },
        "outputId": "a37cfdee-a159-4fd6-a96a-840eafd63604"
      },
      "source": [
        "' '.join(['Anderson', 'Dourado'])"
      ],
      "execution_count": 87,
      "outputs": [
        {
          "output_type": "execute_result",
          "data": {
            "text/plain": [
              "'Anderson Dourado'"
            ],
            "application/vnd.google.colaboratory.intrinsic+json": {
              "type": "string"
            }
          },
          "metadata": {},
          "execution_count": 87
        }
      ]
    },
    {
      "cell_type": "code",
      "metadata": {
        "id": "k_3LR9sO0hRm",
        "colab": {
          "base_uri": "https://localhost:8080/"
        },
        "outputId": "cedf5eea-b5bf-443d-eb8b-6a6d71a1cac2"
      },
      "source": [
        "from nltk.stem.rslp import RSLPStemmer\n",
        "from sklearn.feature_extraction.text import CountVectorizer\n",
        "\n",
        "rslp = RSLPStemmer()\n",
        "\n",
        "def stem_pandas(line):\n",
        "  return ' '.join([rslp.stem(token) for token in line])\n",
        "\n",
        "df['stemmer'] = df.tokens.apply(stem_pandas)\n",
        "\n",
        "df.stemmer.head()"
      ],
      "execution_count": 88,
      "outputs": [
        {
          "output_type": "execute_result",
          "data": {
            "text/plain": [
              "0      sobr mba ? eu gost muit do mba da fiap\n",
              "1    o mba da fiap pod melhor , não gost muit\n",
              "Name: stemmer, dtype: object"
            ]
          },
          "metadata": {},
          "execution_count": 88
        }
      ]
    },
    {
      "cell_type": "code",
      "metadata": {
        "id": "NFiA2cAORmpc",
        "colab": {
          "base_uri": "https://localhost:8080/"
        },
        "outputId": "707461ba-98c0-4309-b6d9-2a75083118c4"
      },
      "source": [
        "import nltk\n",
        "\n",
        "vect = CountVectorizer(ngram_range=(1,1))\n",
        "vect.fit(df.stemmer)\n",
        "\n",
        "text_vect = vect.transform(df.stemmer)\n",
        "\n",
        "print('UNIGRAMAS', text_vect.shape[1])\n",
        "\n",
        "#print(text_vect.shape[0])\n",
        "#print(text_vect.shape[1])"
      ],
      "execution_count": 89,
      "outputs": [
        {
          "output_type": "stream",
          "name": "stdout",
          "text": [
            "UNIGRAMAS 11\n"
          ]
        }
      ]
    },
    {
      "cell_type": "markdown",
      "metadata": {
        "id": "ofA1n_IMkb_t"
      },
      "source": [
        "Unigramas sem aplicar o stemmer"
      ]
    },
    {
      "cell_type": "code",
      "metadata": {
        "id": "QAfnfeu8kbSI",
        "colab": {
          "base_uri": "https://localhost:8080/"
        },
        "outputId": "9d0f22f9-ad57-4fd9-df4b-9fcbd1650f3e"
      },
      "source": [
        "nltk.download('stopwords')\n",
        "\n",
        "stopwords = nltk.corpus.stopwords.words('portuguese')\n",
        "vect = CountVectorizer(ngram_range=(1,1), stop_words=stopwords)\n",
        "vect.fit(df.text)\n",
        "\n",
        "text_vect = vect.transform(df.text)\n",
        "\n",
        "print('UNIGRAMAS sem STOPWORDS', text_vect.shape[1])"
      ],
      "execution_count": 90,
      "outputs": [
        {
          "output_type": "stream",
          "name": "stdout",
          "text": [
            "UNIGRAMAS sem STOPWORDS 6\n"
          ]
        },
        {
          "output_type": "stream",
          "name": "stderr",
          "text": [
            "[nltk_data] Downloading package stopwords to /root/nltk_data...\n",
            "[nltk_data]   Package stopwords is already up-to-date!\n"
          ]
        }
      ]
    },
    {
      "cell_type": "code",
      "metadata": {
        "id": "wCHgWx60kbPq"
      },
      "source": [
        "# Não diferença pois o texto não tem muitas variações de palavras que possam ser reduzidas"
      ],
      "execution_count": 91,
      "outputs": []
    },
    {
      "cell_type": "markdown",
      "metadata": {
        "id": "kr8ZxTp-pVPC"
      },
      "source": [
        "Outra função de stematização do NLTK"
      ]
    },
    {
      "cell_type": "markdown",
      "source": [
        "## Snowball é um bom stemmer para linguas estrangeiras."
      ],
      "metadata": {
        "id": "4wZ1m8ZT89vY"
      }
    },
    {
      "cell_type": "code",
      "metadata": {
        "id": "ngaGMoCjpL4Q",
        "colab": {
          "base_uri": "https://localhost:8080/"
        },
        "outputId": "2a89c48f-9a54-4117-e1bc-371d1f931621"
      },
      "source": [
        "from nltk.stem import SnowballStemmer\n",
        "\n",
        "print(\" \".join(SnowballStemmer.languages)) # See which languages are supported"
      ],
      "execution_count": 92,
      "outputs": [
        {
          "output_type": "stream",
          "name": "stdout",
          "text": [
            "arabic danish dutch english finnish french german hungarian italian norwegian porter portuguese romanian russian spanish swedish\n"
          ]
        }
      ]
    },
    {
      "cell_type": "code",
      "metadata": {
        "id": "v1inKMGdpLu4",
        "colab": {
          "base_uri": "https://localhost:8080/"
        },
        "outputId": "1ad51f2f-22b8-4f83-81d3-8d1b23ed5858"
      },
      "source": [
        "stemmer = SnowballStemmer(\"portuguese\") # Escolha a linguagem\n",
        "\n",
        "palavras = ['pedra','pedreira','criar']\n",
        "\n",
        "for p in palavras:\n",
        "  print(stemmer.stem(p)) # Stem a palavra"
      ],
      "execution_count": 93,
      "outputs": [
        {
          "output_type": "stream",
          "name": "stdout",
          "text": [
            "pedr\n",
            "pedreir\n",
            "cri\n"
          ]
        }
      ]
    },
    {
      "cell_type": "markdown",
      "metadata": {
        "id": "cDR2TTl-EnXs"
      },
      "source": [
        "## Lemmatizer (Lematização)\n",
        "\n",
        "---"
      ]
    },
    {
      "cell_type": "code",
      "metadata": {
        "id": "cBLzygcrElkJ",
        "colab": {
          "base_uri": "https://localhost:8080/"
        },
        "outputId": "f7bab347-0a4b-4ec9-fbaa-6a2d63f9ef1e"
      },
      "source": [
        "nltk.download('wordnet')\n",
        "nltk.download('omw-1.4')\n",
        "\n",
        "from nltk.stem import WordNetLemmatizer\n",
        "import nltk\n",
        "\n",
        "exemplos = [\"connection\",\"connections\",\"connective\",\"connecting\",\"connected\"]\n",
        "wnl = WordNetLemmatizer()\n",
        "\n",
        "for word in exemplos:\n",
        "    print(wnl.lemmatize(word,\"v\"))"
      ],
      "execution_count": 94,
      "outputs": [
        {
          "output_type": "stream",
          "name": "stderr",
          "text": [
            "[nltk_data] Downloading package wordnet to /root/nltk_data...\n",
            "[nltk_data]   Package wordnet is already up-to-date!\n",
            "[nltk_data] Downloading package omw-1.4 to /root/nltk_data...\n"
          ]
        },
        {
          "output_type": "stream",
          "name": "stdout",
          "text": [
            "connection\n",
            "connections\n",
            "connective\n",
            "connect\n",
            "connect\n"
          ]
        },
        {
          "output_type": "stream",
          "name": "stderr",
          "text": [
            "[nltk_data]   Package omw-1.4 is already up-to-date!\n"
          ]
        }
      ]
    },
    {
      "cell_type": "code",
      "metadata": {
        "id": "2wTZpIniE39a",
        "colab": {
          "base_uri": "https://localhost:8080/"
        },
        "outputId": "462f98d5-55f5-4f11-fe3b-3696682418c9"
      },
      "source": [
        "exemplos = [\"go\",\"going\",\"goes\",\"gone\",\"went\"]\n",
        "wnl = WordNetLemmatizer()\n",
        "\n",
        "for word in exemplos:\n",
        "  print(wnl.lemmatize(word,\"v\"))"
      ],
      "execution_count": 95,
      "outputs": [
        {
          "output_type": "stream",
          "name": "stdout",
          "text": [
            "go\n",
            "go\n",
            "go\n",
            "go\n",
            "go\n"
          ]
        }
      ]
    },
    {
      "cell_type": "markdown",
      "metadata": {
        "id": "Ndw8rAQbofuL"
      },
      "source": [
        "Vamos ver lematização em palavras do português mais para frente, pois o NLTK não possui lematização em português.\n"
      ]
    },
    {
      "cell_type": "markdown",
      "metadata": {
        "id": "IqCkOL0C5-FC"
      },
      "source": [
        "## Contagem de Termos - UNIGRAMA\n",
        "\n",
        "---"
      ]
    },
    {
      "cell_type": "code",
      "metadata": {
        "id": "d4CKjpwJ2DD2"
      },
      "source": [
        "import pandas as pd\n",
        "\n",
        "df = pd.DataFrame({\n",
        "    'text': [\n",
        "      'Sobre MBA ? Eu gostei muito do MBA da FIAP',\n",
        "      'O MBA da FIAP pode melhorar, não gostei muito'\n",
        "    ],\n",
        "    'class': [\n",
        "        'positivo',\n",
        "        'negativo'\n",
        "    ]})"
      ],
      "execution_count": 96,
      "outputs": []
    },
    {
      "cell_type": "code",
      "metadata": {
        "id": "G6kSv69h2jKs",
        "colab": {
          "base_uri": "https://localhost:8080/",
          "height": 112
        },
        "outputId": "acb4a324-2aaf-4e71-e55c-d9f20734839f"
      },
      "source": [
        "from sklearn.feature_extraction.text import CountVectorizer\n",
        "\n",
        "vect = CountVectorizer(ngram_range=(1,1))\n",
        "#vect = CountVectorizer(ngram_range=(1,2))\n",
        "#vect.fit(df.text)\n",
        "count_vect = vect.fit_transform(df.text)\n",
        "\n",
        "#print(pd.DataFrame(count_vect.A, columns=vect.get_feature_names()).T.to_string())\n",
        "pd.DataFrame(count_vect.A, columns=vect.get_feature_names_out())"
      ],
      "execution_count": 97,
      "outputs": [
        {
          "output_type": "execute_result",
          "data": {
            "text/plain": [
              "   da  do  eu  fiap  gostei  mba  melhorar  muito  não  pode  sobre\n",
              "0   1   1   1     1       1    2         0      1    0     0      1\n",
              "1   1   0   0     1       1    1         1      1    1     1      0"
            ],
            "text/html": [
              "\n",
              "  <div id=\"df-c702a0f8-544c-4bcd-b399-3da4a38129f9\">\n",
              "    <div class=\"colab-df-container\">\n",
              "      <div>\n",
              "<style scoped>\n",
              "    .dataframe tbody tr th:only-of-type {\n",
              "        vertical-align: middle;\n",
              "    }\n",
              "\n",
              "    .dataframe tbody tr th {\n",
              "        vertical-align: top;\n",
              "    }\n",
              "\n",
              "    .dataframe thead th {\n",
              "        text-align: right;\n",
              "    }\n",
              "</style>\n",
              "<table border=\"1\" class=\"dataframe\">\n",
              "  <thead>\n",
              "    <tr style=\"text-align: right;\">\n",
              "      <th></th>\n",
              "      <th>da</th>\n",
              "      <th>do</th>\n",
              "      <th>eu</th>\n",
              "      <th>fiap</th>\n",
              "      <th>gostei</th>\n",
              "      <th>mba</th>\n",
              "      <th>melhorar</th>\n",
              "      <th>muito</th>\n",
              "      <th>não</th>\n",
              "      <th>pode</th>\n",
              "      <th>sobre</th>\n",
              "    </tr>\n",
              "  </thead>\n",
              "  <tbody>\n",
              "    <tr>\n",
              "      <th>0</th>\n",
              "      <td>1</td>\n",
              "      <td>1</td>\n",
              "      <td>1</td>\n",
              "      <td>1</td>\n",
              "      <td>1</td>\n",
              "      <td>2</td>\n",
              "      <td>0</td>\n",
              "      <td>1</td>\n",
              "      <td>0</td>\n",
              "      <td>0</td>\n",
              "      <td>1</td>\n",
              "    </tr>\n",
              "    <tr>\n",
              "      <th>1</th>\n",
              "      <td>1</td>\n",
              "      <td>0</td>\n",
              "      <td>0</td>\n",
              "      <td>1</td>\n",
              "      <td>1</td>\n",
              "      <td>1</td>\n",
              "      <td>1</td>\n",
              "      <td>1</td>\n",
              "      <td>1</td>\n",
              "      <td>1</td>\n",
              "      <td>0</td>\n",
              "    </tr>\n",
              "  </tbody>\n",
              "</table>\n",
              "</div>\n",
              "      <button class=\"colab-df-convert\" onclick=\"convertToInteractive('df-c702a0f8-544c-4bcd-b399-3da4a38129f9')\"\n",
              "              title=\"Convert this dataframe to an interactive table.\"\n",
              "              style=\"display:none;\">\n",
              "        \n",
              "  <svg xmlns=\"http://www.w3.org/2000/svg\" height=\"24px\"viewBox=\"0 0 24 24\"\n",
              "       width=\"24px\">\n",
              "    <path d=\"M0 0h24v24H0V0z\" fill=\"none\"/>\n",
              "    <path d=\"M18.56 5.44l.94 2.06.94-2.06 2.06-.94-2.06-.94-.94-2.06-.94 2.06-2.06.94zm-11 1L8.5 8.5l.94-2.06 2.06-.94-2.06-.94L8.5 2.5l-.94 2.06-2.06.94zm10 10l.94 2.06.94-2.06 2.06-.94-2.06-.94-.94-2.06-.94 2.06-2.06.94z\"/><path d=\"M17.41 7.96l-1.37-1.37c-.4-.4-.92-.59-1.43-.59-.52 0-1.04.2-1.43.59L10.3 9.45l-7.72 7.72c-.78.78-.78 2.05 0 2.83L4 21.41c.39.39.9.59 1.41.59.51 0 1.02-.2 1.41-.59l7.78-7.78 2.81-2.81c.8-.78.8-2.07 0-2.86zM5.41 20L4 18.59l7.72-7.72 1.47 1.35L5.41 20z\"/>\n",
              "  </svg>\n",
              "      </button>\n",
              "      \n",
              "  <style>\n",
              "    .colab-df-container {\n",
              "      display:flex;\n",
              "      flex-wrap:wrap;\n",
              "      gap: 12px;\n",
              "    }\n",
              "\n",
              "    .colab-df-convert {\n",
              "      background-color: #E8F0FE;\n",
              "      border: none;\n",
              "      border-radius: 50%;\n",
              "      cursor: pointer;\n",
              "      display: none;\n",
              "      fill: #1967D2;\n",
              "      height: 32px;\n",
              "      padding: 0 0 0 0;\n",
              "      width: 32px;\n",
              "    }\n",
              "\n",
              "    .colab-df-convert:hover {\n",
              "      background-color: #E2EBFA;\n",
              "      box-shadow: 0px 1px 2px rgba(60, 64, 67, 0.3), 0px 1px 3px 1px rgba(60, 64, 67, 0.15);\n",
              "      fill: #174EA6;\n",
              "    }\n",
              "\n",
              "    [theme=dark] .colab-df-convert {\n",
              "      background-color: #3B4455;\n",
              "      fill: #D2E3FC;\n",
              "    }\n",
              "\n",
              "    [theme=dark] .colab-df-convert:hover {\n",
              "      background-color: #434B5C;\n",
              "      box-shadow: 0px 1px 3px 1px rgba(0, 0, 0, 0.15);\n",
              "      filter: drop-shadow(0px 1px 2px rgba(0, 0, 0, 0.3));\n",
              "      fill: #FFFFFF;\n",
              "    }\n",
              "  </style>\n",
              "\n",
              "      <script>\n",
              "        const buttonEl =\n",
              "          document.querySelector('#df-c702a0f8-544c-4bcd-b399-3da4a38129f9 button.colab-df-convert');\n",
              "        buttonEl.style.display =\n",
              "          google.colab.kernel.accessAllowed ? 'block' : 'none';\n",
              "\n",
              "        async function convertToInteractive(key) {\n",
              "          const element = document.querySelector('#df-c702a0f8-544c-4bcd-b399-3da4a38129f9');\n",
              "          const dataTable =\n",
              "            await google.colab.kernel.invokeFunction('convertToInteractive',\n",
              "                                                     [key], {});\n",
              "          if (!dataTable) return;\n",
              "\n",
              "          const docLinkHtml = 'Like what you see? Visit the ' +\n",
              "            '<a target=\"_blank\" href=https://colab.research.google.com/notebooks/data_table.ipynb>data table notebook</a>'\n",
              "            + ' to learn more about interactive tables.';\n",
              "          element.innerHTML = '';\n",
              "          dataTable['output_type'] = 'display_data';\n",
              "          await google.colab.output.renderOutput(dataTable, element);\n",
              "          const docLink = document.createElement('div');\n",
              "          docLink.innerHTML = docLinkHtml;\n",
              "          element.appendChild(docLink);\n",
              "        }\n",
              "      </script>\n",
              "    </div>\n",
              "  </div>\n",
              "  "
            ]
          },
          "metadata": {},
          "execution_count": 97
        }
      ]
    },
    {
      "cell_type": "markdown",
      "metadata": {
        "id": "TUTv5MDZE0jr"
      },
      "source": [
        "## TF"
      ]
    },
    {
      "cell_type": "code",
      "metadata": {
        "id": "LHgB0DuUCn65",
        "colab": {
          "base_uri": "https://localhost:8080/"
        },
        "outputId": "e09888c3-382a-4e65-acc2-5d8603ab7687"
      },
      "source": [
        "from sklearn.feature_extraction.text import TfidfVectorizer\n",
        "\n",
        "# ao usar o TfidfVectorizer() o default ngram_range=unigrama, use_idf=True, norm='l2', lowercase=True, max_df e min_df=1, smooth_idf=True, sublinear_tf=False\n",
        "vect = TfidfVectorizer(ngram_range=(1,1), use_idf=False, norm='l1')\n",
        "vect.fit(df.text)\n",
        "tf_vect = vect.transform(df.text)\n",
        "\n",
        "print(pd.DataFrame(tf_vect.A, columns=vect.get_feature_names_out()).to_string())"
      ],
      "execution_count": 98,
      "outputs": [
        {
          "output_type": "stream",
          "name": "stdout",
          "text": [
            "         da        do        eu      fiap    gostei       mba  melhorar     muito    não   pode     sobre\n",
            "0  0.111111  0.111111  0.111111  0.111111  0.111111  0.222222     0.000  0.111111  0.000  0.000  0.111111\n",
            "1  0.125000  0.000000  0.000000  0.125000  0.125000  0.125000     0.125  0.125000  0.125  0.125  0.000000\n"
          ]
        }
      ]
    },
    {
      "cell_type": "code",
      "metadata": {
        "id": "qCpY8Zww3o47"
      },
      "source": [
        "#vect.get_stop_words()\n",
        "#vect.get_params(deep=True)"
      ],
      "execution_count": 99,
      "outputs": []
    },
    {
      "cell_type": "markdown",
      "metadata": {
        "id": "dxG2g5mInypI"
      },
      "source": [
        "## TF-IDF\n"
      ]
    },
    {
      "cell_type": "code",
      "metadata": {
        "id": "XcJsUXuHFTnM",
        "colab": {
          "base_uri": "https://localhost:8080/"
        },
        "outputId": "827c9dc2-9054-44a6-8bc6-818231928abf"
      },
      "source": [
        "from sklearn.feature_extraction.text import TfidfVectorizer\n",
        "\n",
        "# ao usar o TfidfVectorizer() o default ngram_range=unigrama, use_idf=True, norm='l2', lowercase=True, max_df e min_df=1, smooth_idf=True, sublinear_tf=False\n",
        "vect = TfidfVectorizer()\n",
        "vect.fit(df.text)\n",
        "tfidf_vect = vect.transform(df.text)\n",
        "\n",
        "print(pd.DataFrame(tfidf_vect.A, columns=vect.get_feature_names_out()).T.to_string())"
      ],
      "execution_count": 100,
      "outputs": [
        {
          "output_type": "stream",
          "name": "stdout",
          "text": [
            "                 0         1\n",
            "da        0.267970  0.302531\n",
            "do        0.376623  0.000000\n",
            "eu        0.376623  0.000000\n",
            "fiap      0.267970  0.302531\n",
            "gostei    0.267970  0.302531\n",
            "mba       0.535941  0.302531\n",
            "melhorar  0.000000  0.425196\n",
            "muito     0.267970  0.302531\n",
            "não       0.000000  0.425196\n",
            "pode      0.000000  0.425196\n",
            "sobre     0.376623  0.000000\n"
          ]
        }
      ]
    },
    {
      "cell_type": "markdown",
      "metadata": {
        "id": "zb4iAoq2ZoqW"
      },
      "source": [
        "Existe uma diferenca no cálculo original do TF-IDF apresentados pelos livros em relação ao padrão urilizado pelo Scikit Learn. A ideia dessa diferença é evitar divisões por zero.\n",
        "\n",
        "Formúla original:\n",
        "\n",
        "    TF-IDFw1 = TFw1 * IDFw1\n",
        "    IDFw1 = loge(D/Dw1)\n",
        "    D = total de documentos | Dw1 = Quantidade de documentos em que o termo aparece\n",
        "\n",
        "----\n",
        "Formúla do sklearn:\n",
        "Muda o cálculo do IDFw1\n",
        "\n",
        "    IDFw! = loge(1+D/1+Dw1)+1\n",
        "\n",
        "Com o paâmetro smooth_idf=False\n",
        "\n",
        "    IDFw! = loge(D/Dw1)+1\n",
        "\n"
      ]
    },
    {
      "cell_type": "code",
      "metadata": {
        "id": "OYvr0cay4JbU",
        "colab": {
          "base_uri": "https://localhost:8080/"
        },
        "outputId": "b463c468-992c-4e6e-9c91-90dbbca147a2"
      },
      "source": [
        "from sklearn.feature_extraction.text import TfidfVectorizer\n",
        "\n",
        "# ao usar o TfidfVectorizer() o default ngram_range=unigrama, use_idf=True, norm='l2', lowercase=True, max_df e min_df=1, smooth_idf=True, sublinear_tf=False\n",
        "vect = TfidfVectorizer(smooth_idf=False)\n",
        "#vect = TfidfVectorizer(smooth_idf=False, max_df=1, min_df=1)\n",
        "vect.fit(df.text)\n",
        "tfidf_vect = vect.transform(df.text)\n",
        "\n",
        "print(pd.DataFrame(tfidf_vect.A, columns=vect.get_feature_names_out()).T.to_string())"
      ],
      "execution_count": 101,
      "outputs": [
        {
          "output_type": "stream",
          "name": "stdout",
          "text": [
            "                 0         1\n",
            "da        0.245439  0.271161\n",
            "do        0.415564  0.000000\n",
            "eu        0.415564  0.000000\n",
            "fiap      0.245439  0.271161\n",
            "gostei    0.245439  0.271161\n",
            "mba       0.490877  0.271161\n",
            "melhorar  0.000000  0.459115\n",
            "muito     0.245439  0.271161\n",
            "não       0.000000  0.459115\n",
            "pode      0.000000  0.459115\n",
            "sobre     0.415564  0.000000\n"
          ]
        }
      ]
    },
    {
      "cell_type": "code",
      "metadata": {
        "id": "HEps9zD-u4v_",
        "colab": {
          "base_uri": "https://localhost:8080/",
          "height": 36
        },
        "outputId": "86c2fc7b-81a1-4601-8b61-c4ed727d256f"
      },
      "source": [
        "'''\n",
        "tfidf_vect.data\n",
        "tfidf_vect.A\n",
        "vect.get_feature_names()\n",
        "'''"
      ],
      "execution_count": 102,
      "outputs": [
        {
          "output_type": "execute_result",
          "data": {
            "text/plain": [
              "'\\ntfidf_vect.data\\ntfidf_vect.A\\nvect.get_feature_names()\\n'"
            ],
            "application/vnd.google.colaboratory.intrinsic+json": {
              "type": "string"
            }
          },
          "metadata": {},
          "execution_count": 102
        }
      ]
    },
    {
      "cell_type": "markdown",
      "metadata": {
        "id": "i0WHVK8HYG5r"
      },
      "source": [
        "https://scikit-learn.org/stable/modules/generated/sklearn.feature_extraction.text.TfidfVectorizer.html#sklearn.feature_extraction.text.TfidfVectorizer\n",
        "\n",
        "\n",
        "https://scikit-learn.org/stable/modules/feature_extraction.html\n",
        "\n",
        "O cáculo do TF-IDF das classes TfidfTransformer e TfidfVectorizer do scikit-learn diferem ligeiramente da notação padrão de livros didáticos que define o IDF.\n"
      ]
    },
    {
      "cell_type": "markdown",
      "metadata": {
        "id": "owZf_DaUomwT"
      },
      "source": [
        "#**Modelo com n-grama**\n",
        "---"
      ]
    },
    {
      "cell_type": "code",
      "metadata": {
        "id": "pbiAa2z89dy3",
        "colab": {
          "base_uri": "https://localhost:8080/",
          "height": 112
        },
        "outputId": "da977ab7-8301-4f83-ab86-ddc39eada692"
      },
      "source": [
        "df"
      ],
      "execution_count": 103,
      "outputs": [
        {
          "output_type": "execute_result",
          "data": {
            "text/plain": [
              "                                            text     class\n",
              "0     Sobre MBA ? Eu gostei muito do MBA da FIAP  positivo\n",
              "1  O MBA da FIAP pode melhorar, não gostei muito  negativo"
            ],
            "text/html": [
              "\n",
              "  <div id=\"df-ff2ee471-eab3-45b2-9e26-e751a979e1d3\">\n",
              "    <div class=\"colab-df-container\">\n",
              "      <div>\n",
              "<style scoped>\n",
              "    .dataframe tbody tr th:only-of-type {\n",
              "        vertical-align: middle;\n",
              "    }\n",
              "\n",
              "    .dataframe tbody tr th {\n",
              "        vertical-align: top;\n",
              "    }\n",
              "\n",
              "    .dataframe thead th {\n",
              "        text-align: right;\n",
              "    }\n",
              "</style>\n",
              "<table border=\"1\" class=\"dataframe\">\n",
              "  <thead>\n",
              "    <tr style=\"text-align: right;\">\n",
              "      <th></th>\n",
              "      <th>text</th>\n",
              "      <th>class</th>\n",
              "    </tr>\n",
              "  </thead>\n",
              "  <tbody>\n",
              "    <tr>\n",
              "      <th>0</th>\n",
              "      <td>Sobre MBA ? Eu gostei muito do MBA da FIAP</td>\n",
              "      <td>positivo</td>\n",
              "    </tr>\n",
              "    <tr>\n",
              "      <th>1</th>\n",
              "      <td>O MBA da FIAP pode melhorar, não gostei muito</td>\n",
              "      <td>negativo</td>\n",
              "    </tr>\n",
              "  </tbody>\n",
              "</table>\n",
              "</div>\n",
              "      <button class=\"colab-df-convert\" onclick=\"convertToInteractive('df-ff2ee471-eab3-45b2-9e26-e751a979e1d3')\"\n",
              "              title=\"Convert this dataframe to an interactive table.\"\n",
              "              style=\"display:none;\">\n",
              "        \n",
              "  <svg xmlns=\"http://www.w3.org/2000/svg\" height=\"24px\"viewBox=\"0 0 24 24\"\n",
              "       width=\"24px\">\n",
              "    <path d=\"M0 0h24v24H0V0z\" fill=\"none\"/>\n",
              "    <path d=\"M18.56 5.44l.94 2.06.94-2.06 2.06-.94-2.06-.94-.94-2.06-.94 2.06-2.06.94zm-11 1L8.5 8.5l.94-2.06 2.06-.94-2.06-.94L8.5 2.5l-.94 2.06-2.06.94zm10 10l.94 2.06.94-2.06 2.06-.94-2.06-.94-.94-2.06-.94 2.06-2.06.94z\"/><path d=\"M17.41 7.96l-1.37-1.37c-.4-.4-.92-.59-1.43-.59-.52 0-1.04.2-1.43.59L10.3 9.45l-7.72 7.72c-.78.78-.78 2.05 0 2.83L4 21.41c.39.39.9.59 1.41.59.51 0 1.02-.2 1.41-.59l7.78-7.78 2.81-2.81c.8-.78.8-2.07 0-2.86zM5.41 20L4 18.59l7.72-7.72 1.47 1.35L5.41 20z\"/>\n",
              "  </svg>\n",
              "      </button>\n",
              "      \n",
              "  <style>\n",
              "    .colab-df-container {\n",
              "      display:flex;\n",
              "      flex-wrap:wrap;\n",
              "      gap: 12px;\n",
              "    }\n",
              "\n",
              "    .colab-df-convert {\n",
              "      background-color: #E8F0FE;\n",
              "      border: none;\n",
              "      border-radius: 50%;\n",
              "      cursor: pointer;\n",
              "      display: none;\n",
              "      fill: #1967D2;\n",
              "      height: 32px;\n",
              "      padding: 0 0 0 0;\n",
              "      width: 32px;\n",
              "    }\n",
              "\n",
              "    .colab-df-convert:hover {\n",
              "      background-color: #E2EBFA;\n",
              "      box-shadow: 0px 1px 2px rgba(60, 64, 67, 0.3), 0px 1px 3px 1px rgba(60, 64, 67, 0.15);\n",
              "      fill: #174EA6;\n",
              "    }\n",
              "\n",
              "    [theme=dark] .colab-df-convert {\n",
              "      background-color: #3B4455;\n",
              "      fill: #D2E3FC;\n",
              "    }\n",
              "\n",
              "    [theme=dark] .colab-df-convert:hover {\n",
              "      background-color: #434B5C;\n",
              "      box-shadow: 0px 1px 3px 1px rgba(0, 0, 0, 0.15);\n",
              "      filter: drop-shadow(0px 1px 2px rgba(0, 0, 0, 0.3));\n",
              "      fill: #FFFFFF;\n",
              "    }\n",
              "  </style>\n",
              "\n",
              "      <script>\n",
              "        const buttonEl =\n",
              "          document.querySelector('#df-ff2ee471-eab3-45b2-9e26-e751a979e1d3 button.colab-df-convert');\n",
              "        buttonEl.style.display =\n",
              "          google.colab.kernel.accessAllowed ? 'block' : 'none';\n",
              "\n",
              "        async function convertToInteractive(key) {\n",
              "          const element = document.querySelector('#df-ff2ee471-eab3-45b2-9e26-e751a979e1d3');\n",
              "          const dataTable =\n",
              "            await google.colab.kernel.invokeFunction('convertToInteractive',\n",
              "                                                     [key], {});\n",
              "          if (!dataTable) return;\n",
              "\n",
              "          const docLinkHtml = 'Like what you see? Visit the ' +\n",
              "            '<a target=\"_blank\" href=https://colab.research.google.com/notebooks/data_table.ipynb>data table notebook</a>'\n",
              "            + ' to learn more about interactive tables.';\n",
              "          element.innerHTML = '';\n",
              "          dataTable['output_type'] = 'display_data';\n",
              "          await google.colab.output.renderOutput(dataTable, element);\n",
              "          const docLink = document.createElement('div');\n",
              "          docLink.innerHTML = docLinkHtml;\n",
              "          element.appendChild(docLink);\n",
              "        }\n",
              "      </script>\n",
              "    </div>\n",
              "  </div>\n",
              "  "
            ]
          },
          "metadata": {},
          "execution_count": 103
        }
      ]
    },
    {
      "cell_type": "code",
      "metadata": {
        "id": "M4lp9qev2BwO",
        "colab": {
          "base_uri": "https://localhost:8080/"
        },
        "outputId": "5083c36d-f327-4cad-c3e6-90c0f9ce58a3"
      },
      "source": [
        "df['class']"
      ],
      "execution_count": 104,
      "outputs": [
        {
          "output_type": "execute_result",
          "data": {
            "text/plain": [
              "0    positivo\n",
              "1    negativo\n",
              "Name: class, dtype: object"
            ]
          },
          "metadata": {},
          "execution_count": 104
        }
      ]
    },
    {
      "cell_type": "markdown",
      "metadata": {
        "id": "L9OOZ2uwFO9O"
      },
      "source": [
        "###Transformando os textos/dados em uma \"linguagem\" para o modelo"
      ]
    },
    {
      "cell_type": "code",
      "metadata": {
        "id": "scb7PSMRFZoi",
        "colab": {
          "base_uri": "https://localhost:8080/"
        },
        "outputId": "adecdf3c-55e2-4c89-eb58-93c4f62b0cde"
      },
      "source": [
        "from sklearn.feature_extraction.text import TfidfVectorizer\n",
        "\n",
        "# ao usar o TfidfVectorizer() o default ngram_range=unigrama, use_idf=True, norm='l2', lowercase=True, max_df e min_df=1, smooth_idf=True, sublinear_tf=False\n",
        "vect = TfidfVectorizer()\n",
        "vect.fit(df.text)\n",
        "tfidf_vect = vect.transform(df.text)\n",
        "\n",
        "print(pd.DataFrame(tfidf_vect.A, columns=vect.get_feature_names_out()).to_string())"
      ],
      "execution_count": 105,
      "outputs": [
        {
          "output_type": "stream",
          "name": "stdout",
          "text": [
            "         da        do        eu      fiap    gostei       mba  melhorar     muito       não      pode     sobre\n",
            "0  0.267970  0.376623  0.376623  0.267970  0.267970  0.535941  0.000000  0.267970  0.000000  0.000000  0.376623\n",
            "1  0.302531  0.000000  0.000000  0.302531  0.302531  0.302531  0.425196  0.302531  0.425196  0.425196  0.000000\n"
          ]
        }
      ]
    },
    {
      "cell_type": "markdown",
      "metadata": {
        "id": "tQW-5k0FFetx"
      },
      "source": [
        "###Treinando um modelo de Árvore de Decisão\n"
      ]
    },
    {
      "cell_type": "code",
      "metadata": {
        "id": "A3p0_VlNmzAY",
        "colab": {
          "base_uri": "https://localhost:8080/"
        },
        "outputId": "205f7737-af1d-473c-ed0e-498959a6884f"
      },
      "source": [
        "# treinando um modelo de árevore de decisão\n",
        "from sklearn.tree import DecisionTreeClassifier\n",
        "\n",
        "tree = DecisionTreeClassifier()\n",
        "tree.fit(tfidf_vect, df['class'])\n",
        "\n",
        "print(f\"Score Decision Tree:  {tree.score(tfidf_vect, df['class'])}\") # retorna a acurracy - precisão do modelo"
      ],
      "execution_count": 106,
      "outputs": [
        {
          "output_type": "stream",
          "name": "stdout",
          "text": [
            "Score Decision Tree:  1.0\n"
          ]
        }
      ]
    },
    {
      "cell_type": "code",
      "metadata": {
        "id": "MD07UNay3hA5"
      },
      "source": [
        "#tree.score(tfidf_vect, df['class'])"
      ],
      "execution_count": 107,
      "outputs": []
    },
    {
      "cell_type": "markdown",
      "metadata": {
        "id": "seivhEQFFpFp"
      },
      "source": [
        "###Aplicando o conhecimento do modelo em um novo documento"
      ]
    },
    {
      "cell_type": "code",
      "metadata": {
        "id": "OuGLwdhUpuIZ",
        "colab": {
          "base_uri": "https://localhost:8080/",
          "height": 81
        },
        "outputId": "3ff8fb4c-5d48-4539-fcd6-d3c4a54d7da7"
      },
      "source": [
        "vetor = vect.transform(['o curso pode melhorar'])\n",
        "vetor.A\n",
        "pd.DataFrame(vetor.A, columns=vect.get_feature_names_out())\n",
        "\n"
      ],
      "execution_count": 108,
      "outputs": [
        {
          "output_type": "execute_result",
          "data": {
            "text/plain": [
              "    da   do   eu  fiap  gostei  mba  melhorar  muito  não      pode  sobre\n",
              "0  0.0  0.0  0.0   0.0     0.0  0.0  0.707107    0.0  0.0  0.707107    0.0"
            ],
            "text/html": [
              "\n",
              "  <div id=\"df-3096bb03-b6a0-4e27-a053-1ee1f444eef9\">\n",
              "    <div class=\"colab-df-container\">\n",
              "      <div>\n",
              "<style scoped>\n",
              "    .dataframe tbody tr th:only-of-type {\n",
              "        vertical-align: middle;\n",
              "    }\n",
              "\n",
              "    .dataframe tbody tr th {\n",
              "        vertical-align: top;\n",
              "    }\n",
              "\n",
              "    .dataframe thead th {\n",
              "        text-align: right;\n",
              "    }\n",
              "</style>\n",
              "<table border=\"1\" class=\"dataframe\">\n",
              "  <thead>\n",
              "    <tr style=\"text-align: right;\">\n",
              "      <th></th>\n",
              "      <th>da</th>\n",
              "      <th>do</th>\n",
              "      <th>eu</th>\n",
              "      <th>fiap</th>\n",
              "      <th>gostei</th>\n",
              "      <th>mba</th>\n",
              "      <th>melhorar</th>\n",
              "      <th>muito</th>\n",
              "      <th>não</th>\n",
              "      <th>pode</th>\n",
              "      <th>sobre</th>\n",
              "    </tr>\n",
              "  </thead>\n",
              "  <tbody>\n",
              "    <tr>\n",
              "      <th>0</th>\n",
              "      <td>0.0</td>\n",
              "      <td>0.0</td>\n",
              "      <td>0.0</td>\n",
              "      <td>0.0</td>\n",
              "      <td>0.0</td>\n",
              "      <td>0.0</td>\n",
              "      <td>0.707107</td>\n",
              "      <td>0.0</td>\n",
              "      <td>0.0</td>\n",
              "      <td>0.707107</td>\n",
              "      <td>0.0</td>\n",
              "    </tr>\n",
              "  </tbody>\n",
              "</table>\n",
              "</div>\n",
              "      <button class=\"colab-df-convert\" onclick=\"convertToInteractive('df-3096bb03-b6a0-4e27-a053-1ee1f444eef9')\"\n",
              "              title=\"Convert this dataframe to an interactive table.\"\n",
              "              style=\"display:none;\">\n",
              "        \n",
              "  <svg xmlns=\"http://www.w3.org/2000/svg\" height=\"24px\"viewBox=\"0 0 24 24\"\n",
              "       width=\"24px\">\n",
              "    <path d=\"M0 0h24v24H0V0z\" fill=\"none\"/>\n",
              "    <path d=\"M18.56 5.44l.94 2.06.94-2.06 2.06-.94-2.06-.94-.94-2.06-.94 2.06-2.06.94zm-11 1L8.5 8.5l.94-2.06 2.06-.94-2.06-.94L8.5 2.5l-.94 2.06-2.06.94zm10 10l.94 2.06.94-2.06 2.06-.94-2.06-.94-.94-2.06-.94 2.06-2.06.94z\"/><path d=\"M17.41 7.96l-1.37-1.37c-.4-.4-.92-.59-1.43-.59-.52 0-1.04.2-1.43.59L10.3 9.45l-7.72 7.72c-.78.78-.78 2.05 0 2.83L4 21.41c.39.39.9.59 1.41.59.51 0 1.02-.2 1.41-.59l7.78-7.78 2.81-2.81c.8-.78.8-2.07 0-2.86zM5.41 20L4 18.59l7.72-7.72 1.47 1.35L5.41 20z\"/>\n",
              "  </svg>\n",
              "      </button>\n",
              "      \n",
              "  <style>\n",
              "    .colab-df-container {\n",
              "      display:flex;\n",
              "      flex-wrap:wrap;\n",
              "      gap: 12px;\n",
              "    }\n",
              "\n",
              "    .colab-df-convert {\n",
              "      background-color: #E8F0FE;\n",
              "      border: none;\n",
              "      border-radius: 50%;\n",
              "      cursor: pointer;\n",
              "      display: none;\n",
              "      fill: #1967D2;\n",
              "      height: 32px;\n",
              "      padding: 0 0 0 0;\n",
              "      width: 32px;\n",
              "    }\n",
              "\n",
              "    .colab-df-convert:hover {\n",
              "      background-color: #E2EBFA;\n",
              "      box-shadow: 0px 1px 2px rgba(60, 64, 67, 0.3), 0px 1px 3px 1px rgba(60, 64, 67, 0.15);\n",
              "      fill: #174EA6;\n",
              "    }\n",
              "\n",
              "    [theme=dark] .colab-df-convert {\n",
              "      background-color: #3B4455;\n",
              "      fill: #D2E3FC;\n",
              "    }\n",
              "\n",
              "    [theme=dark] .colab-df-convert:hover {\n",
              "      background-color: #434B5C;\n",
              "      box-shadow: 0px 1px 3px 1px rgba(0, 0, 0, 0.15);\n",
              "      filter: drop-shadow(0px 1px 2px rgba(0, 0, 0, 0.3));\n",
              "      fill: #FFFFFF;\n",
              "    }\n",
              "  </style>\n",
              "\n",
              "      <script>\n",
              "        const buttonEl =\n",
              "          document.querySelector('#df-3096bb03-b6a0-4e27-a053-1ee1f444eef9 button.colab-df-convert');\n",
              "        buttonEl.style.display =\n",
              "          google.colab.kernel.accessAllowed ? 'block' : 'none';\n",
              "\n",
              "        async function convertToInteractive(key) {\n",
              "          const element = document.querySelector('#df-3096bb03-b6a0-4e27-a053-1ee1f444eef9');\n",
              "          const dataTable =\n",
              "            await google.colab.kernel.invokeFunction('convertToInteractive',\n",
              "                                                     [key], {});\n",
              "          if (!dataTable) return;\n",
              "\n",
              "          const docLinkHtml = 'Like what you see? Visit the ' +\n",
              "            '<a target=\"_blank\" href=https://colab.research.google.com/notebooks/data_table.ipynb>data table notebook</a>'\n",
              "            + ' to learn more about interactive tables.';\n",
              "          element.innerHTML = '';\n",
              "          dataTable['output_type'] = 'display_data';\n",
              "          await google.colab.output.renderOutput(dataTable, element);\n",
              "          const docLink = document.createElement('div');\n",
              "          docLink.innerHTML = docLinkHtml;\n",
              "          element.appendChild(docLink);\n",
              "        }\n",
              "      </script>\n",
              "    </div>\n",
              "  </div>\n",
              "  "
            ]
          },
          "metadata": {},
          "execution_count": 108
        }
      ]
    },
    {
      "cell_type": "code",
      "source": [
        "f'D Tree: {tree.predict(vetor)}'"
      ],
      "metadata": {
        "colab": {
          "base_uri": "https://localhost:8080/",
          "height": 36
        },
        "id": "ReHeVAEhF6KD",
        "outputId": "ba70eb29-f716-40d9-c72d-3ddb3ac5c8cd"
      },
      "execution_count": 109,
      "outputs": [
        {
          "output_type": "execute_result",
          "data": {
            "text/plain": [
              "\"D Tree: ['negativo']\""
            ],
            "application/vnd.google.colaboratory.intrinsic+json": {
              "type": "string"
            }
          },
          "metadata": {},
          "execution_count": 109
        }
      ]
    },
    {
      "cell_type": "markdown",
      "metadata": {
        "id": "SwKKm5BdIDPi"
      },
      "source": [
        "# **Montando nossa amostra**\n",
        "\n",
        "---"
      ]
    },
    {
      "cell_type": "code",
      "metadata": {
        "id": "DJiSowwqF-Mx",
        "colab": {
          "base_uri": "https://localhost:8080/"
        },
        "outputId": "de48a36c-6105-4ea4-e1a9-0530c3c8bb7c"
      },
      "source": [
        "from google.colab import drive\n",
        "drive.mount('/content/gdrive', force_remount=True)\n",
        "\n",
        "# mostrar a estrutura de pastas do google drive montado\n",
        "!ls -la\n",
        "!ls -la gdrive/MyDrive/FIAP/NLP/dados"
      ],
      "execution_count": 110,
      "outputs": [
        {
          "output_type": "stream",
          "name": "stdout",
          "text": [
            "Mounted at /content/gdrive\n",
            "total 20\n",
            "drwxr-xr-x 1 root root 4096 Mar 12 18:33 .\n",
            "drwxr-xr-x 1 root root 4096 Mar 12 16:46 ..\n",
            "drwxr-xr-x 4 root root 4096 Mar  9 18:57 .config\n",
            "drwx------ 5 root root 4096 Mar 12 18:33 gdrive\n",
            "drwxr-xr-x 1 root root 4096 Mar  9 18:58 sample_data\n",
            "total 3688\n",
            "-rw------- 1 root root 3776170 Feb 15  2020 produtos.csv\n"
          ]
        }
      ]
    },
    {
      "cell_type": "markdown",
      "metadata": {
        "id": "KKFntlmBJlP-"
      },
      "source": [
        "Selecionando dados aleatórios direto do arquivo"
      ]
    },
    {
      "cell_type": "code",
      "metadata": {
        "id": "604kMteIF-Kj",
        "colab": {
          "base_uri": "https://localhost:8080/",
          "height": 175
        },
        "outputId": "2f697d27-1eb6-4bc2-d4ea-411b367ef845"
      },
      "source": [
        "import pandas as pd\n",
        "\n",
        "df = pd.read_csv(\n",
        "    \"gdrive/MyDrive/FIAP/NLP/dados/produtos.csv\",\n",
        "    delimiter=\";\",\n",
        "    encoding='utf-8'\n",
        "  ).sample(frac=0.5, random_state=42)\n",
        "\n",
        "df.dropna(inplace=True)\n",
        "df[\"texto\"] = df['nome'] + \" \" + df['descricao']\n",
        "df.describe()\n",
        "\n",
        "#df.sample(frac=0.5, random_state=42)"
      ],
      "execution_count": 111,
      "outputs": [
        {
          "output_type": "execute_result",
          "data": {
            "text/plain": [
              "                                     nome  \\\n",
              "count                                1424   \n",
              "unique                               1307   \n",
              "top      Boneco Dragon Ball Z Son Gokou     \n",
              "freq                                   11   \n",
              "\n",
              "                                                descricao categoria  \\\n",
              "count                                                1424      1424   \n",
              "unique                                               1257         4   \n",
              "top     JOGO ORIGINAL. NOVO. LACRADO. PRONTA ENTREGA. ...     livro   \n",
              "freq                                                   19       411   \n",
              "\n",
              "                                                    texto  \n",
              "count                                                1424  \n",
              "unique                                               1320  \n",
              "top      Box A Garota Do Calendário Novo No Plástico F...  \n",
              "freq                                                   11  "
            ],
            "text/html": [
              "\n",
              "  <div id=\"df-349c88d6-e857-4c36-8016-b23cb9f195b8\">\n",
              "    <div class=\"colab-df-container\">\n",
              "      <div>\n",
              "<style scoped>\n",
              "    .dataframe tbody tr th:only-of-type {\n",
              "        vertical-align: middle;\n",
              "    }\n",
              "\n",
              "    .dataframe tbody tr th {\n",
              "        vertical-align: top;\n",
              "    }\n",
              "\n",
              "    .dataframe thead th {\n",
              "        text-align: right;\n",
              "    }\n",
              "</style>\n",
              "<table border=\"1\" class=\"dataframe\">\n",
              "  <thead>\n",
              "    <tr style=\"text-align: right;\">\n",
              "      <th></th>\n",
              "      <th>nome</th>\n",
              "      <th>descricao</th>\n",
              "      <th>categoria</th>\n",
              "      <th>texto</th>\n",
              "    </tr>\n",
              "  </thead>\n",
              "  <tbody>\n",
              "    <tr>\n",
              "      <th>count</th>\n",
              "      <td>1424</td>\n",
              "      <td>1424</td>\n",
              "      <td>1424</td>\n",
              "      <td>1424</td>\n",
              "    </tr>\n",
              "    <tr>\n",
              "      <th>unique</th>\n",
              "      <td>1307</td>\n",
              "      <td>1257</td>\n",
              "      <td>4</td>\n",
              "      <td>1320</td>\n",
              "    </tr>\n",
              "    <tr>\n",
              "      <th>top</th>\n",
              "      <td>Boneco Dragon Ball Z Son Gokou</td>\n",
              "      <td>JOGO ORIGINAL. NOVO. LACRADO. PRONTA ENTREGA. ...</td>\n",
              "      <td>livro</td>\n",
              "      <td>Box A Garota Do Calendário Novo No Plástico F...</td>\n",
              "    </tr>\n",
              "    <tr>\n",
              "      <th>freq</th>\n",
              "      <td>11</td>\n",
              "      <td>19</td>\n",
              "      <td>411</td>\n",
              "      <td>11</td>\n",
              "    </tr>\n",
              "  </tbody>\n",
              "</table>\n",
              "</div>\n",
              "      <button class=\"colab-df-convert\" onclick=\"convertToInteractive('df-349c88d6-e857-4c36-8016-b23cb9f195b8')\"\n",
              "              title=\"Convert this dataframe to an interactive table.\"\n",
              "              style=\"display:none;\">\n",
              "        \n",
              "  <svg xmlns=\"http://www.w3.org/2000/svg\" height=\"24px\"viewBox=\"0 0 24 24\"\n",
              "       width=\"24px\">\n",
              "    <path d=\"M0 0h24v24H0V0z\" fill=\"none\"/>\n",
              "    <path d=\"M18.56 5.44l.94 2.06.94-2.06 2.06-.94-2.06-.94-.94-2.06-.94 2.06-2.06.94zm-11 1L8.5 8.5l.94-2.06 2.06-.94-2.06-.94L8.5 2.5l-.94 2.06-2.06.94zm10 10l.94 2.06.94-2.06 2.06-.94-2.06-.94-.94-2.06-.94 2.06-2.06.94z\"/><path d=\"M17.41 7.96l-1.37-1.37c-.4-.4-.92-.59-1.43-.59-.52 0-1.04.2-1.43.59L10.3 9.45l-7.72 7.72c-.78.78-.78 2.05 0 2.83L4 21.41c.39.39.9.59 1.41.59.51 0 1.02-.2 1.41-.59l7.78-7.78 2.81-2.81c.8-.78.8-2.07 0-2.86zM5.41 20L4 18.59l7.72-7.72 1.47 1.35L5.41 20z\"/>\n",
              "  </svg>\n",
              "      </button>\n",
              "      \n",
              "  <style>\n",
              "    .colab-df-container {\n",
              "      display:flex;\n",
              "      flex-wrap:wrap;\n",
              "      gap: 12px;\n",
              "    }\n",
              "\n",
              "    .colab-df-convert {\n",
              "      background-color: #E8F0FE;\n",
              "      border: none;\n",
              "      border-radius: 50%;\n",
              "      cursor: pointer;\n",
              "      display: none;\n",
              "      fill: #1967D2;\n",
              "      height: 32px;\n",
              "      padding: 0 0 0 0;\n",
              "      width: 32px;\n",
              "    }\n",
              "\n",
              "    .colab-df-convert:hover {\n",
              "      background-color: #E2EBFA;\n",
              "      box-shadow: 0px 1px 2px rgba(60, 64, 67, 0.3), 0px 1px 3px 1px rgba(60, 64, 67, 0.15);\n",
              "      fill: #174EA6;\n",
              "    }\n",
              "\n",
              "    [theme=dark] .colab-df-convert {\n",
              "      background-color: #3B4455;\n",
              "      fill: #D2E3FC;\n",
              "    }\n",
              "\n",
              "    [theme=dark] .colab-df-convert:hover {\n",
              "      background-color: #434B5C;\n",
              "      box-shadow: 0px 1px 3px 1px rgba(0, 0, 0, 0.15);\n",
              "      filter: drop-shadow(0px 1px 2px rgba(0, 0, 0, 0.3));\n",
              "      fill: #FFFFFF;\n",
              "    }\n",
              "  </style>\n",
              "\n",
              "      <script>\n",
              "        const buttonEl =\n",
              "          document.querySelector('#df-349c88d6-e857-4c36-8016-b23cb9f195b8 button.colab-df-convert');\n",
              "        buttonEl.style.display =\n",
              "          google.colab.kernel.accessAllowed ? 'block' : 'none';\n",
              "\n",
              "        async function convertToInteractive(key) {\n",
              "          const element = document.querySelector('#df-349c88d6-e857-4c36-8016-b23cb9f195b8');\n",
              "          const dataTable =\n",
              "            await google.colab.kernel.invokeFunction('convertToInteractive',\n",
              "                                                     [key], {});\n",
              "          if (!dataTable) return;\n",
              "\n",
              "          const docLinkHtml = 'Like what you see? Visit the ' +\n",
              "            '<a target=\"_blank\" href=https://colab.research.google.com/notebooks/data_table.ipynb>data table notebook</a>'\n",
              "            + ' to learn more about interactive tables.';\n",
              "          element.innerHTML = '';\n",
              "          dataTable['output_type'] = 'display_data';\n",
              "          await google.colab.output.renderOutput(dataTable, element);\n",
              "          const docLink = document.createElement('div');\n",
              "          docLink.innerHTML = docLinkHtml;\n",
              "          element.appendChild(docLink);\n",
              "        }\n",
              "      </script>\n",
              "    </div>\n",
              "  </div>\n",
              "  "
            ]
          },
          "metadata": {},
          "execution_count": 111
        }
      ]
    },
    {
      "cell_type": "code",
      "metadata": {
        "id": "vtn8Zq0aF-IM",
        "colab": {
          "base_uri": "https://localhost:8080/",
          "height": 36
        },
        "outputId": "cd5c8422-ce3a-4bc5-fd83-222f2a10532c"
      },
      "source": [
        "'''\n",
        "df = pd.read_csv(\n",
        "    \"https://dados-ml-pln.s3-sa-east-1.amazonaws.com/produtos.csv\", delimiter=\";\", encoding='utf-8'\n",
        "  ).sample(frac=0.5, random_state=42)\n",
        "'''"
      ],
      "execution_count": 112,
      "outputs": [
        {
          "output_type": "execute_result",
          "data": {
            "text/plain": [
              "'\\ndf = pd.read_csv(\\n    \"https://dados-ml-pln.s3-sa-east-1.amazonaws.com/produtos.csv\", delimiter=\";\", encoding=\\'utf-8\\'\\n  ).sample(frac=0.5, random_state=42)\\n'"
            ],
            "application/vnd.google.colaboratory.intrinsic+json": {
              "type": "string"
            }
          },
          "metadata": {},
          "execution_count": 112
        }
      ]
    },
    {
      "cell_type": "code",
      "metadata": {
        "id": "-ttBs2VFF-Ft",
        "colab": {
          "base_uri": "https://localhost:8080/",
          "height": 36
        },
        "outputId": "6eff36b0-ada4-4b97-b164-71d3785742cc"
      },
      "source": [
        "'''\n",
        "df = pd.read_csv(\n",
        "    \"https://dados-ml-pln.s3-sa-east-1.amazonaws.com/produtos.csv\", delimiter=\";\", encoding='utf-8'\n",
        "  ).sample(1000)\n",
        "'''"
      ],
      "execution_count": 113,
      "outputs": [
        {
          "output_type": "execute_result",
          "data": {
            "text/plain": [
              "'\\ndf = pd.read_csv(\\n    \"https://dados-ml-pln.s3-sa-east-1.amazonaws.com/produtos.csv\", delimiter=\";\", encoding=\\'utf-8\\'\\n  ).sample(1000)\\n'"
            ],
            "application/vnd.google.colaboratory.intrinsic+json": {
              "type": "string"
            }
          },
          "metadata": {},
          "execution_count": 113
        }
      ]
    },
    {
      "cell_type": "markdown",
      "metadata": {
        "id": "OZWAbXji7NJB"
      },
      "source": [
        "## Divisão do dataframe em amostras treino e teste"
      ]
    },
    {
      "cell_type": "markdown",
      "source": [
        "## Modelo padrão"
      ],
      "metadata": {
        "id": "gqCr-ka4Gr-W"
      }
    },
    {
      "cell_type": "code",
      "metadata": {
        "id": "cIdfftBkF-AV",
        "colab": {
          "base_uri": "https://localhost:8080/",
          "height": 175
        },
        "outputId": "f75a5aff-75ba-48ea-98b4-29ac8bed034e"
      },
      "source": [
        "import pandas as pd\n",
        "\n",
        "df = pd.read_csv(\"gdrive/MyDrive/FIAP/NLP/dados/produtos.csv\", delimiter=\";\", encoding='utf-8')\n",
        "\n",
        "df.dropna(inplace=True)\n",
        "\n",
        "df[\"texto\"] = df['nome'] + \" \" + df['descricao']\n",
        "\n",
        "df.describe()"
      ],
      "execution_count": 142,
      "outputs": [
        {
          "output_type": "execute_result",
          "data": {
            "text/plain": [
              "                                     nome  \\\n",
              "count                                2916   \n",
              "unique                               2584   \n",
              "top      Boneco Dragon Ball Z Son Gokou     \n",
              "freq                                   20   \n",
              "\n",
              "                                                descricao categoria  \\\n",
              "count                                                2916      2916   \n",
              "unique                                               2460         4   \n",
              "top     JOGO ORIGINAL. NOVO. LACRADO. PRONTA ENTREGA. ...     livro   \n",
              "freq                                                   39       838   \n",
              "\n",
              "                                                 texto  \n",
              "count                                             2916  \n",
              "unique                                            2646  \n",
              "top      Boneco Dragon Ball Z Son Gokou   Produto novo  \n",
              "freq                                                20  "
            ],
            "text/html": [
              "\n",
              "  <div id=\"df-ef3214c9-1f4e-4488-acb5-02f88dc23fba\">\n",
              "    <div class=\"colab-df-container\">\n",
              "      <div>\n",
              "<style scoped>\n",
              "    .dataframe tbody tr th:only-of-type {\n",
              "        vertical-align: middle;\n",
              "    }\n",
              "\n",
              "    .dataframe tbody tr th {\n",
              "        vertical-align: top;\n",
              "    }\n",
              "\n",
              "    .dataframe thead th {\n",
              "        text-align: right;\n",
              "    }\n",
              "</style>\n",
              "<table border=\"1\" class=\"dataframe\">\n",
              "  <thead>\n",
              "    <tr style=\"text-align: right;\">\n",
              "      <th></th>\n",
              "      <th>nome</th>\n",
              "      <th>descricao</th>\n",
              "      <th>categoria</th>\n",
              "      <th>texto</th>\n",
              "    </tr>\n",
              "  </thead>\n",
              "  <tbody>\n",
              "    <tr>\n",
              "      <th>count</th>\n",
              "      <td>2916</td>\n",
              "      <td>2916</td>\n",
              "      <td>2916</td>\n",
              "      <td>2916</td>\n",
              "    </tr>\n",
              "    <tr>\n",
              "      <th>unique</th>\n",
              "      <td>2584</td>\n",
              "      <td>2460</td>\n",
              "      <td>4</td>\n",
              "      <td>2646</td>\n",
              "    </tr>\n",
              "    <tr>\n",
              "      <th>top</th>\n",
              "      <td>Boneco Dragon Ball Z Son Gokou</td>\n",
              "      <td>JOGO ORIGINAL. NOVO. LACRADO. PRONTA ENTREGA. ...</td>\n",
              "      <td>livro</td>\n",
              "      <td>Boneco Dragon Ball Z Son Gokou   Produto novo</td>\n",
              "    </tr>\n",
              "    <tr>\n",
              "      <th>freq</th>\n",
              "      <td>20</td>\n",
              "      <td>39</td>\n",
              "      <td>838</td>\n",
              "      <td>20</td>\n",
              "    </tr>\n",
              "  </tbody>\n",
              "</table>\n",
              "</div>\n",
              "      <button class=\"colab-df-convert\" onclick=\"convertToInteractive('df-ef3214c9-1f4e-4488-acb5-02f88dc23fba')\"\n",
              "              title=\"Convert this dataframe to an interactive table.\"\n",
              "              style=\"display:none;\">\n",
              "        \n",
              "  <svg xmlns=\"http://www.w3.org/2000/svg\" height=\"24px\"viewBox=\"0 0 24 24\"\n",
              "       width=\"24px\">\n",
              "    <path d=\"M0 0h24v24H0V0z\" fill=\"none\"/>\n",
              "    <path d=\"M18.56 5.44l.94 2.06.94-2.06 2.06-.94-2.06-.94-.94-2.06-.94 2.06-2.06.94zm-11 1L8.5 8.5l.94-2.06 2.06-.94-2.06-.94L8.5 2.5l-.94 2.06-2.06.94zm10 10l.94 2.06.94-2.06 2.06-.94-2.06-.94-.94-2.06-.94 2.06-2.06.94z\"/><path d=\"M17.41 7.96l-1.37-1.37c-.4-.4-.92-.59-1.43-.59-.52 0-1.04.2-1.43.59L10.3 9.45l-7.72 7.72c-.78.78-.78 2.05 0 2.83L4 21.41c.39.39.9.59 1.41.59.51 0 1.02-.2 1.41-.59l7.78-7.78 2.81-2.81c.8-.78.8-2.07 0-2.86zM5.41 20L4 18.59l7.72-7.72 1.47 1.35L5.41 20z\"/>\n",
              "  </svg>\n",
              "      </button>\n",
              "      \n",
              "  <style>\n",
              "    .colab-df-container {\n",
              "      display:flex;\n",
              "      flex-wrap:wrap;\n",
              "      gap: 12px;\n",
              "    }\n",
              "\n",
              "    .colab-df-convert {\n",
              "      background-color: #E8F0FE;\n",
              "      border: none;\n",
              "      border-radius: 50%;\n",
              "      cursor: pointer;\n",
              "      display: none;\n",
              "      fill: #1967D2;\n",
              "      height: 32px;\n",
              "      padding: 0 0 0 0;\n",
              "      width: 32px;\n",
              "    }\n",
              "\n",
              "    .colab-df-convert:hover {\n",
              "      background-color: #E2EBFA;\n",
              "      box-shadow: 0px 1px 2px rgba(60, 64, 67, 0.3), 0px 1px 3px 1px rgba(60, 64, 67, 0.15);\n",
              "      fill: #174EA6;\n",
              "    }\n",
              "\n",
              "    [theme=dark] .colab-df-convert {\n",
              "      background-color: #3B4455;\n",
              "      fill: #D2E3FC;\n",
              "    }\n",
              "\n",
              "    [theme=dark] .colab-df-convert:hover {\n",
              "      background-color: #434B5C;\n",
              "      box-shadow: 0px 1px 3px 1px rgba(0, 0, 0, 0.15);\n",
              "      filter: drop-shadow(0px 1px 2px rgba(0, 0, 0, 0.3));\n",
              "      fill: #FFFFFF;\n",
              "    }\n",
              "  </style>\n",
              "\n",
              "      <script>\n",
              "        const buttonEl =\n",
              "          document.querySelector('#df-ef3214c9-1f4e-4488-acb5-02f88dc23fba button.colab-df-convert');\n",
              "        buttonEl.style.display =\n",
              "          google.colab.kernel.accessAllowed ? 'block' : 'none';\n",
              "\n",
              "        async function convertToInteractive(key) {\n",
              "          const element = document.querySelector('#df-ef3214c9-1f4e-4488-acb5-02f88dc23fba');\n",
              "          const dataTable =\n",
              "            await google.colab.kernel.invokeFunction('convertToInteractive',\n",
              "                                                     [key], {});\n",
              "          if (!dataTable) return;\n",
              "\n",
              "          const docLinkHtml = 'Like what you see? Visit the ' +\n",
              "            '<a target=\"_blank\" href=https://colab.research.google.com/notebooks/data_table.ipynb>data table notebook</a>'\n",
              "            + ' to learn more about interactive tables.';\n",
              "          element.innerHTML = '';\n",
              "          dataTable['output_type'] = 'display_data';\n",
              "          await google.colab.output.renderOutput(dataTable, element);\n",
              "          const docLink = document.createElement('div');\n",
              "          docLink.innerHTML = docLinkHtml;\n",
              "          element.appendChild(docLink);\n",
              "        }\n",
              "      </script>\n",
              "    </div>\n",
              "  </div>\n",
              "  "
            ]
          },
          "metadata": {},
          "execution_count": 142
        }
      ]
    },
    {
      "cell_type": "code",
      "metadata": {
        "id": "M6ZAv9oSF99k"
      },
      "source": [
        "from sklearn.model_selection import train_test_split\n",
        "\n",
        "# divisão da amostra entre treino e teste\n",
        "df_train, df_test = train_test_split(\n",
        "      df, \n",
        "      test_size = 0.3,\n",
        "      random_state = 42\n",
        "  )"
      ],
      "execution_count": 148,
      "outputs": []
    },
    {
      "cell_type": "markdown",
      "metadata": {
        "id": "jMJYGtkfJ_GT"
      },
      "source": [
        "Analisando a distribuição das amostras em relação ao total"
      ]
    },
    {
      "cell_type": "code",
      "metadata": {
        "id": "zeMEAc-wJvkk",
        "colab": {
          "base_uri": "https://localhost:8080/"
        },
        "outputId": "af4a1aa7-5686-4a1a-b4bb-3ae3b5668fe3"
      },
      "source": [
        "print(\"Original\")\n",
        "print(df.categoria.value_counts())\n",
        "print(\"\\nTreino\")\n",
        "print(df_train.categoria.value_counts())\n",
        "print(\"\\nTeste\")\n",
        "print(df_test.categoria.value_counts())"
      ],
      "execution_count": 149,
      "outputs": [
        {
          "output_type": "stream",
          "name": "stdout",
          "text": [
            "Original\n",
            "livro        838\n",
            "maquiagem    788\n",
            "brinquedo    668\n",
            "game         622\n",
            "Name: categoria, dtype: int64\n",
            "\n",
            "Treino\n",
            "livro        577\n",
            "maquiagem    558\n",
            "brinquedo    478\n",
            "game         428\n",
            "Name: categoria, dtype: int64\n",
            "\n",
            "Teste\n",
            "livro        261\n",
            "maquiagem    230\n",
            "game         194\n",
            "brinquedo    190\n",
            "Name: categoria, dtype: int64\n"
          ]
        }
      ]
    },
    {
      "cell_type": "code",
      "metadata": {
        "id": "aE5jXycNJvhr",
        "colab": {
          "base_uri": "https://localhost:8080/"
        },
        "outputId": "786a6a7d-d41d-4de3-ec6c-78286333f7ca"
      },
      "source": [
        "print(\"Original\")\n",
        "print(df.categoria.value_counts()/df.shape[0])\n",
        "print(\"\\nTreino\")\n",
        "print(df_train.categoria.value_counts()/df_train.shape[0])\n",
        "print(\"\\nTeste\")\n",
        "print(df_test.categoria.value_counts()/df_test.shape[0])"
      ],
      "execution_count": 150,
      "outputs": [
        {
          "output_type": "stream",
          "name": "stdout",
          "text": [
            "Original\n",
            "livro        0.287380\n",
            "maquiagem    0.270233\n",
            "brinquedo    0.229081\n",
            "game         0.213306\n",
            "Name: categoria, dtype: float64\n",
            "\n",
            "Treino\n",
            "livro        0.282705\n",
            "maquiagem    0.273395\n",
            "brinquedo    0.234199\n",
            "game         0.209701\n",
            "Name: categoria, dtype: float64\n",
            "\n",
            "Teste\n",
            "livro        0.298286\n",
            "maquiagem    0.262857\n",
            "game         0.221714\n",
            "brinquedo    0.217143\n",
            "Name: categoria, dtype: float64\n"
          ]
        }
      ]
    },
    {
      "cell_type": "code",
      "metadata": {
        "id": "j54cIH5rJvfT",
        "colab": {
          "base_uri": "https://localhost:8080/",
          "height": 282
        },
        "outputId": "e59724f0-6208-4ea2-d207-d72bb87e109e"
      },
      "source": [
        "(df.categoria.value_counts()/df.shape[0]).plot(kind='bar', figsize=(3,3))"
      ],
      "execution_count": 151,
      "outputs": [
        {
          "output_type": "execute_result",
          "data": {
            "text/plain": [
              "<AxesSubplot:>"
            ]
          },
          "metadata": {},
          "execution_count": 151
        },
        {
          "output_type": "display_data",
          "data": {
            "text/plain": [
              "<Figure size 216x216 with 1 Axes>"
            ],
            "image/png": "[encoded data removed]"
          },
          "metadata": {
            "needs_background": "light"
          }
        }
      ]
    },
    {
      "cell_type": "code",
      "metadata": {
        "id": "uQPZ0eEaJvdn",
        "colab": {
          "base_uri": "https://localhost:8080/",
          "height": 279
        },
        "outputId": "ca56c176-deb9-41c9-94a0-da38182a564a"
      },
      "source": [
        "(df_test.categoria.value_counts()/df_test.shape[0]).plot(kind='bar', figsize=(3,3))"
      ],
      "execution_count": 152,
      "outputs": [
        {
          "output_type": "execute_result",
          "data": {
            "text/plain": [
              "<AxesSubplot:>"
            ]
          },
          "metadata": {},
          "execution_count": 152
        },
        {
          "output_type": "display_data",
          "data": {
            "text/plain": [
              "<Figure size 216x216 with 1 Axes>"
            ],
            "image/png": "[encoded data removed]"
          },
          "metadata": {
            "needs_background": "light"
          }
        }
      ]
    },
    {
      "cell_type": "markdown",
      "metadata": {
        "id": "wQ_SiN6tKZjt"
      },
      "source": [
        "## Outra forma: seria separando cada objeto já tratado"
      ]
    },
    {
      "cell_type": "markdown",
      "source": [
        "## Não é recomendado fazer a vetorização antes de separar, pq vetoriza toda a base e cria viés."
      ],
      "metadata": {
        "id": "WqG-SKhfehME"
      }
    },
    {
      "cell_type": "code",
      "metadata": {
        "id": "gJ6G_vwQKZPP"
      },
      "source": [
        "from sklearn.model_selection import train_test_split\n",
        "from sklearn.feature_extraction.text import CountVectorizer\n",
        "\n",
        "vect = CountVectorizer()\n",
        "vect.fit(df.texto)\n",
        "text_vect = vect.transform(df.texto)\n",
        "\n",
        "# divisão da amostra entre treino e teste\n",
        "X_train, X_test, y_train, y_test = train_test_split(\n",
        "      text_vect, \n",
        "      df[\"categoria\"], \n",
        "      test_size = 0.3, \n",
        "      random_state = 42\n",
        "  )"
      ],
      "execution_count": 153,
      "outputs": []
    },
    {
      "cell_type": "markdown",
      "metadata": {
        "id": "CMbo8s0yKdoL"
      },
      "source": [
        "Analisando a distribuição das amostras em relação ao total"
      ]
    },
    {
      "cell_type": "code",
      "metadata": {
        "id": "3qMpjitjJvaN",
        "colab": {
          "base_uri": "https://localhost:8080/"
        },
        "outputId": "82642e38-a74d-4d21-aac7-57fd5f5532dc"
      },
      "source": [
        "print(\"Original\")\n",
        "print(df.categoria.value_counts()/df.shape[0])\n",
        "print(\"\\nTreino\")\n",
        "print(y_train.value_counts()/y_train.shape[0])\n",
        "print(\"\\nTeste\")\n",
        "print(y_test.value_counts()/y_test.shape[0])"
      ],
      "execution_count": 154,
      "outputs": [
        {
          "output_type": "stream",
          "name": "stdout",
          "text": [
            "Original\n",
            "livro        0.287380\n",
            "maquiagem    0.270233\n",
            "brinquedo    0.229081\n",
            "game         0.213306\n",
            "Name: categoria, dtype: float64\n",
            "\n",
            "Treino\n",
            "livro        0.282705\n",
            "maquiagem    0.273395\n",
            "brinquedo    0.234199\n",
            "game         0.209701\n",
            "Name: categoria, dtype: float64\n",
            "\n",
            "Teste\n",
            "livro        0.298286\n",
            "maquiagem    0.262857\n",
            "game         0.221714\n",
            "brinquedo    0.217143\n",
            "Name: categoria, dtype: float64\n"
          ]
        }
      ]
    },
    {
      "cell_type": "markdown",
      "metadata": {
        "id": "f4CCjQ2G7tXK"
      },
      "source": [
        "Testando o modelo de uma forma mais simples"
      ]
    },
    {
      "cell_type": "markdown",
      "source": [
        "# Pipeline de referência!!!"
      ],
      "metadata": {
        "id": "1rjhk2bXe2fU"
      }
    },
    {
      "cell_type": "code",
      "source": [
        "from sklearn.model_selection import train_test_split\n",
        "from sklearn.feature_extraction.text import CountVectorizer\n",
        "from sklearn.tree import DecisionTreeClassifier\n",
        "from sklearn.metrics import accuracy_score\n",
        "import pandas as pd\n",
        "\n",
        "# carregar dataframe\n",
        "df = pd.read_csv(\n",
        "    \"https://dados-ml-pln.s3-sa-east-1.amazonaws.com/produtos.csv\", delimiter=\";\", encoding='utf-8'\n",
        "  )\n",
        "\n",
        "# limpeza inicial (normalização)\n",
        "df.dropna(inplace=True)\n",
        "df[\"texto\"] = df['nome'] + \" \" + df['descricao']\n",
        "\n",
        "# divisão da amostra entre treino e teste\n",
        "df_train, df_test = train_test_split(\n",
        "      df, \n",
        "      test_size = 0.3,\n",
        "      random_state = 42\n",
        "  )\n",
        "\n",
        "### Aqui podemos aplicar normalização, Lematização e outras técnicas na base de treino.\n",
        "\n",
        "# vetorização do dataframe de treino\n",
        "vect = CountVectorizer()\n",
        "vect.fit(df_train.texto) ## objeto que será salvo pra utilizar num pipeline de produção\n",
        "X_train = vect.transform(df_train.texto)\n",
        "y_train = df_train[\"categoria\"]\n",
        "\n",
        "# treinamento do modelo ávore de decisão com o dataframe de treino\n",
        "tree = DecisionTreeClassifier(random_state=42)\n",
        "tree.fit(X_train, y_train) ## objeto que será salvo pra utilizar num pipeline de produção\n",
        "\n",
        "# transforma o dataframe de teste em vetor (features)\n",
        "X_test = vect.transform(df_test.texto)\n",
        "\n",
        "# escoragem da classificação na amostra de teste\n",
        "y_prediction = tree.predict(X_test)\n",
        "\n",
        "# mensuração do resultado pela acurácia\n",
        "y_test = df_test[\"categoria\"]\n",
        "accuracy = accuracy_score(y_prediction, y_test)\n",
        "print(accuracy)"
      ],
      "metadata": {
        "colab": {
          "base_uri": "https://localhost:8080/"
        },
        "id": "oUliXxq811NF",
        "outputId": "d955b7ae-d6a9-46f9-c069-00f776a1ad7e"
      },
      "execution_count": 162,
      "outputs": [
        {
          "output_type": "stream",
          "name": "stdout",
          "text": [
            "0.9565714285714285\n"
          ]
        }
      ]
    },
    {
      "cell_type": "code",
      "metadata": {
        "id": "LuL7BaYXKXoS",
        "colab": {
          "base_uri": "https://localhost:8080/"
        },
        "outputId": "e881ec7e-759d-44f9-d2ee-536f3eb63fdd"
      },
      "source": [
        "print(\" \")\n",
        "print(X_train.shape)\n",
        "print(X_test.shape)"
      ],
      "execution_count": 123,
      "outputs": [
        {
          "output_type": "stream",
          "name": "stdout",
          "text": [
            " \n",
            "(2041, 29957)\n",
            "(875, 29957)\n"
          ]
        }
      ]
    },
    {
      "cell_type": "code",
      "metadata": {
        "id": "a8eK3HihJvXu",
        "colab": {
          "base_uri": "https://localhost:8080/"
        },
        "outputId": "7d64c4f5-f5dd-49bb-b5a1-91b38c7fb5d4"
      },
      "source": [
        "vect.get_params()"
      ],
      "execution_count": 124,
      "outputs": [
        {
          "output_type": "execute_result",
          "data": {
            "text/plain": [
              "{'analyzer': 'word',\n",
              " 'binary': False,\n",
              " 'decode_error': 'strict',\n",
              " 'dtype': numpy.int64,\n",
              " 'encoding': 'utf-8',\n",
              " 'input': 'content',\n",
              " 'lowercase': True,\n",
              " 'max_df': 1.0,\n",
              " 'max_features': None,\n",
              " 'min_df': 1,\n",
              " 'ngram_range': (1, 1),\n",
              " 'preprocessor': None,\n",
              " 'stop_words': None,\n",
              " 'strip_accents': None,\n",
              " 'token_pattern': '(?u)\\\\b\\\\w\\\\w+\\\\b',\n",
              " 'tokenizer': None,\n",
              " 'vocabulary': None}"
            ]
          },
          "metadata": {},
          "execution_count": 124
        }
      ]
    },
    {
      "cell_type": "code",
      "metadata": {
        "id": "-dXC-mF7yFRl",
        "colab": {
          "base_uri": "https://localhost:8080/"
        },
        "outputId": "dc5d99ab-5233-425d-f8a5-3a973f2e169c"
      },
      "source": [
        "tree.get_params()"
      ],
      "execution_count": 163,
      "outputs": [
        {
          "output_type": "execute_result",
          "data": {
            "text/plain": [
              "{'ccp_alpha': 0.0,\n",
              " 'class_weight': None,\n",
              " 'criterion': 'gini',\n",
              " 'max_depth': None,\n",
              " 'max_features': None,\n",
              " 'max_leaf_nodes': None,\n",
              " 'min_impurity_decrease': 0.0,\n",
              " 'min_samples_leaf': 1,\n",
              " 'min_samples_split': 2,\n",
              " 'min_weight_fraction_leaf': 0.0,\n",
              " 'random_state': 42,\n",
              " 'splitter': 'best'}"
            ]
          },
          "metadata": {},
          "execution_count": 163
        }
      ]
    },
    {
      "cell_type": "markdown",
      "metadata": {
        "id": "R2-ZCeUkYiJ1"
      },
      "source": [
        "Salvando o modelo treinado e o vetor de transformação."
      ]
    },
    {
      "cell_type": "code",
      "metadata": {
        "id": "2R6-1s4wqEiq"
      },
      "source": [
        "import pickle\n",
        "\n",
        "pickle.dump(tree, open('minhaarvore.pkl', 'wb'))\n",
        "pickle.dump(vect, open('vetorizador.pkl', 'wb'))"
      ],
      "execution_count": 126,
      "outputs": []
    },
    {
      "cell_type": "code",
      "metadata": {
        "id": "_DE_UGqF1tI8",
        "colab": {
          "base_uri": "https://localhost:8080/"
        },
        "outputId": "1ce9f3fe-a7ef-44e7-9177-253f67f92a5f"
      },
      "source": [
        "!ls -la"
      ],
      "execution_count": 164,
      "outputs": [
        {
          "output_type": "stream",
          "name": "stdout",
          "text": [
            "total 464\n",
            "drwxr-xr-x 1 root root   4096 Mar 12 18:33 .\n",
            "drwxr-xr-x 1 root root   4096 Mar 12 16:46 ..\n",
            "drwxr-xr-x 4 root root   4096 Mar  9 18:57 .config\n",
            "drwx------ 5 root root   4096 Mar 12 18:33 gdrive\n",
            "-rw-r--r-- 1 root root  14588 Mar 12 18:33 minhaarvore.pkl\n",
            "drwxr-xr-x 1 root root   4096 Mar  9 18:58 sample_data\n",
            "-rw-r--r-- 1 root root 438158 Mar 12 18:33 vetorizador.pkl\n"
          ]
        }
      ]
    },
    {
      "cell_type": "code",
      "source": [],
      "metadata": {
        "id": "stwTg_EkhKRZ"
      },
      "execution_count": 127,
      "outputs": []
    },
    {
      "cell_type": "code",
      "metadata": {
        "id": "4CsH-JyC3rGI"
      },
      "source": [
        "vetorizador_bla = pickle.load(open('vetorizador.pkl', 'rb'))\n",
        "modelo_classificador_bla = pickle.load(open('minhaarvore.pkl', 'rb'))"
      ],
      "execution_count": 165,
      "outputs": []
    },
    {
      "cell_type": "code",
      "metadata": {
        "id": "8-eIdy4Gu1xq"
      },
      "source": [
        "vetor_teste = vetorizador_bla.transform(df_test.texto)"
      ],
      "execution_count": 167,
      "outputs": []
    },
    {
      "cell_type": "code",
      "metadata": {
        "id": "DLsZNb1R4EIk",
        "colab": {
          "base_uri": "https://localhost:8080/"
        },
        "outputId": "f04cb40a-a38b-4951-9ecd-50e788ed1e69"
      },
      "source": [
        "print('D Tree: ', modelo_classificador_bla.predict(vetor_teste)) # texto = vetor"
      ],
      "execution_count": 168,
      "outputs": [
        {
          "output_type": "stream",
          "name": "stdout",
          "text": [
            "D Tree:  ['maquiagem' 'brinquedo' 'game' 'maquiagem' 'maquiagem' 'livro' 'game'\n",
            " 'livro' 'game' 'game' 'brinquedo' 'brinquedo' 'brinquedo' 'brinquedo'\n",
            " 'game' 'brinquedo' 'game' 'game' 'livro' 'game' 'maquiagem' 'brinquedo'\n",
            " 'game' 'maquiagem' 'game' 'maquiagem' 'livro' 'maquiagem' 'maquiagem'\n",
            " 'maquiagem' 'game' 'livro' 'livro' 'game' 'game' 'game' 'brinquedo'\n",
            " 'brinquedo' 'maquiagem' 'brinquedo' 'game' 'maquiagem' 'livro' 'game'\n",
            " 'livro' 'game' 'brinquedo' 'brinquedo' 'livro' 'livro' 'maquiagem'\n",
            " 'livro' 'livro' 'brinquedo' 'maquiagem' 'brinquedo' 'livro' 'brinquedo'\n",
            " 'livro' 'brinquedo' 'game' 'livro' 'game' 'livro' 'livro' 'livro'\n",
            " 'maquiagem' 'livro' 'brinquedo' 'brinquedo' 'game' 'brinquedo' 'livro'\n",
            " 'game' 'brinquedo' 'livro' 'livro' 'livro' 'game' 'game' 'game' 'game'\n",
            " 'maquiagem' 'maquiagem' 'brinquedo' 'maquiagem' 'maquiagem' 'maquiagem'\n",
            " 'brinquedo' 'livro' 'brinquedo' 'brinquedo' 'livro' 'livro' 'livro'\n",
            " 'maquiagem' 'brinquedo' 'brinquedo' 'game' 'game' 'brinquedo' 'maquiagem'\n",
            " 'livro' 'maquiagem' 'game' 'maquiagem' 'maquiagem' 'maquiagem' 'game'\n",
            " 'maquiagem' 'game' 'game' 'brinquedo' 'livro' 'maquiagem' 'game' 'game'\n",
            " 'game' 'game' 'livro' 'brinquedo' 'brinquedo' 'livro' 'brinquedo' 'game'\n",
            " 'game' 'game' 'maquiagem' 'game' 'brinquedo' 'brinquedo' 'brinquedo'\n",
            " 'livro' 'maquiagem' 'livro' 'livro' 'livro' 'brinquedo' 'game' 'livro'\n",
            " 'game' 'maquiagem' 'brinquedo' 'game' 'brinquedo' 'game' 'game'\n",
            " 'brinquedo' 'livro' 'livro' 'livro' 'game' 'game' 'maquiagem' 'game'\n",
            " 'brinquedo' 'livro' 'brinquedo' 'maquiagem' 'game' 'livro' 'brinquedo'\n",
            " 'game' 'maquiagem' 'maquiagem' 'maquiagem' 'livro' 'brinquedo'\n",
            " 'maquiagem' 'livro' 'brinquedo' 'game' 'brinquedo' 'livro' 'game'\n",
            " 'maquiagem' 'maquiagem' 'brinquedo' 'game' 'livro' 'livro' 'brinquedo'\n",
            " 'game' 'livro' 'livro' 'livro' 'livro' 'maquiagem' 'livro' 'livro' 'game'\n",
            " 'maquiagem' 'livro' 'brinquedo' 'brinquedo' 'livro' 'livro' 'game'\n",
            " 'brinquedo' 'brinquedo' 'livro' 'brinquedo' 'livro' 'livro' 'maquiagem'\n",
            " 'livro' 'maquiagem' 'brinquedo' 'maquiagem' 'maquiagem' 'maquiagem'\n",
            " 'livro' 'brinquedo' 'game' 'maquiagem' 'game' 'maquiagem' 'livro'\n",
            " 'maquiagem' 'brinquedo' 'maquiagem' 'maquiagem' 'brinquedo' 'maquiagem'\n",
            " 'maquiagem' 'maquiagem' 'brinquedo' 'brinquedo' 'maquiagem' 'game'\n",
            " 'livro' 'livro' 'livro' 'brinquedo' 'brinquedo' 'game' 'livro' 'game'\n",
            " 'brinquedo' 'livro' 'livro' 'game' 'maquiagem' 'game' 'brinquedo' 'livro'\n",
            " 'maquiagem' 'maquiagem' 'livro' 'game' 'game' 'maquiagem' 'livro'\n",
            " 'brinquedo' 'maquiagem' 'game' 'maquiagem' 'game' 'livro' 'livro' 'livro'\n",
            " 'livro' 'brinquedo' 'livro' 'brinquedo' 'brinquedo' 'maquiagem' 'livro'\n",
            " 'brinquedo' 'brinquedo' 'livro' 'maquiagem' 'brinquedo' 'maquiagem'\n",
            " 'game' 'game' 'maquiagem' 'livro' 'brinquedo' 'game' 'game' 'livro'\n",
            " 'brinquedo' 'livro' 'livro' 'livro' 'game' 'livro' 'livro' 'brinquedo'\n",
            " 'livro' 'game' 'game' 'maquiagem' 'livro' 'game' 'brinquedo' 'maquiagem'\n",
            " 'brinquedo' 'maquiagem' 'game' 'game' 'livro' 'brinquedo' 'maquiagem'\n",
            " 'livro' 'maquiagem' 'game' 'livro' 'maquiagem' 'livro' 'livro'\n",
            " 'maquiagem' 'livro' 'maquiagem' 'livro' 'livro' 'livro' 'livro' 'game'\n",
            " 'livro' 'maquiagem' 'maquiagem' 'game' 'maquiagem' 'livro' 'game' 'game'\n",
            " 'maquiagem' 'maquiagem' 'game' 'maquiagem' 'livro' 'maquiagem'\n",
            " 'brinquedo' 'livro' 'game' 'maquiagem' 'brinquedo' 'livro' 'livro'\n",
            " 'livro' 'livro' 'livro' 'brinquedo' 'game' 'livro' 'maquiagem' 'game'\n",
            " 'livro' 'livro' 'brinquedo' 'brinquedo' 'brinquedo' 'game' 'game' 'livro'\n",
            " 'brinquedo' 'game' 'maquiagem' 'game' 'maquiagem' 'maquiagem' 'livro'\n",
            " 'game' 'brinquedo' 'livro' 'brinquedo' 'livro' 'maquiagem' 'maquiagem'\n",
            " 'maquiagem' 'maquiagem' 'maquiagem' 'brinquedo' 'livro' 'maquiagem'\n",
            " 'brinquedo' 'game' 'livro' 'brinquedo' 'game' 'game' 'game' 'brinquedo'\n",
            " 'brinquedo' 'livro' 'livro' 'livro' 'livro' 'livro' 'livro' 'livro'\n",
            " 'brinquedo' 'maquiagem' 'livro' 'game' 'livro' 'maquiagem' 'livro'\n",
            " 'brinquedo' 'game' 'game' 'game' 'livro' 'maquiagem' 'livro' 'livro'\n",
            " 'game' 'livro' 'game' 'brinquedo' 'game' 'brinquedo' 'game' 'maquiagem'\n",
            " 'livro' 'livro' 'maquiagem' 'brinquedo' 'brinquedo' 'livro' 'brinquedo'\n",
            " 'game' 'livro' 'maquiagem' 'maquiagem' 'livro' 'game' 'brinquedo' 'livro'\n",
            " 'livro' 'maquiagem' 'game' 'maquiagem' 'brinquedo' 'brinquedo' 'game'\n",
            " 'maquiagem' 'game' 'brinquedo' 'brinquedo' 'game' 'maquiagem' 'livro'\n",
            " 'brinquedo' 'maquiagem' 'maquiagem' 'game' 'livro' 'livro' 'livro'\n",
            " 'maquiagem' 'maquiagem' 'maquiagem' 'maquiagem' 'game' 'game' 'livro'\n",
            " 'maquiagem' 'livro' 'game' 'maquiagem' 'maquiagem' 'brinquedo' 'game'\n",
            " 'brinquedo' 'game' 'game' 'brinquedo' 'maquiagem' 'livro' 'brinquedo'\n",
            " 'brinquedo' 'maquiagem' 'brinquedo' 'brinquedo' 'game' 'brinquedo'\n",
            " 'maquiagem' 'livro' 'livro' 'game' 'maquiagem' 'brinquedo' 'livro'\n",
            " 'livro' 'game' 'brinquedo' 'livro' 'livro' 'brinquedo' 'livro'\n",
            " 'maquiagem' 'livro' 'livro' 'brinquedo' 'game' 'brinquedo' 'brinquedo'\n",
            " 'brinquedo' 'maquiagem' 'game' 'game' 'maquiagem' 'game' 'livro'\n",
            " 'maquiagem' 'maquiagem' 'livro' 'game' 'maquiagem' 'game' 'game' 'livro'\n",
            " 'livro' 'livro' 'brinquedo' 'brinquedo' 'brinquedo' 'livro' 'maquiagem'\n",
            " 'game' 'game' 'livro' 'game' 'livro' 'livro' 'livro' 'game' 'livro'\n",
            " 'maquiagem' 'game' 'livro' 'brinquedo' 'brinquedo' 'livro' 'maquiagem'\n",
            " 'livro' 'brinquedo' 'game' 'livro' 'livro' 'brinquedo' 'game' 'maquiagem'\n",
            " 'brinquedo' 'brinquedo' 'maquiagem' 'game' 'game' 'livro' 'maquiagem'\n",
            " 'game' 'livro' 'maquiagem' 'game' 'brinquedo' 'livro' 'game' 'maquiagem'\n",
            " 'maquiagem' 'brinquedo' 'game' 'maquiagem' 'livro' 'livro' 'game'\n",
            " 'maquiagem' 'livro' 'brinquedo' 'brinquedo' 'brinquedo' 'maquiagem'\n",
            " 'game' 'livro' 'game' 'brinquedo' 'brinquedo' 'maquiagem' 'game'\n",
            " 'brinquedo' 'livro' 'brinquedo' 'maquiagem' 'game' 'game' 'maquiagem'\n",
            " 'brinquedo' 'brinquedo' 'game' 'brinquedo' 'maquiagem' 'maquiagem'\n",
            " 'maquiagem' 'livro' 'maquiagem' 'livro' 'maquiagem' 'livro' 'game'\n",
            " 'livro' 'maquiagem' 'livro' 'maquiagem' 'brinquedo' 'brinquedo' 'game'\n",
            " 'livro' 'livro' 'maquiagem' 'maquiagem' 'game' 'game' 'brinquedo' 'livro'\n",
            " 'game' 'livro' 'brinquedo' 'livro' 'game' 'maquiagem' 'maquiagem'\n",
            " 'brinquedo' 'livro' 'maquiagem' 'brinquedo' 'maquiagem' 'livro' 'livro'\n",
            " 'brinquedo' 'brinquedo' 'game' 'livro' 'livro' 'game' 'game' 'game'\n",
            " 'maquiagem' 'livro' 'brinquedo' 'brinquedo' 'brinquedo' 'brinquedo'\n",
            " 'brinquedo' 'livro' 'livro' 'game' 'maquiagem' 'brinquedo' 'brinquedo'\n",
            " 'game' 'maquiagem' 'maquiagem' 'brinquedo' 'maquiagem' 'maquiagem'\n",
            " 'maquiagem' 'brinquedo' 'livro' 'brinquedo' 'maquiagem' 'maquiagem'\n",
            " 'maquiagem' 'brinquedo' 'brinquedo' 'game' 'maquiagem' 'livro'\n",
            " 'brinquedo' 'game' 'game' 'game' 'brinquedo' 'maquiagem' 'brinquedo'\n",
            " 'maquiagem' 'livro' 'livro' 'maquiagem' 'brinquedo' 'maquiagem'\n",
            " 'brinquedo' 'maquiagem' 'game' 'livro' 'maquiagem' 'maquiagem' 'livro'\n",
            " 'brinquedo' 'game' 'livro' 'livro' 'brinquedo' 'maquiagem' 'brinquedo'\n",
            " 'game' 'brinquedo' 'livro' 'game' 'maquiagem' 'livro' 'livro' 'maquiagem'\n",
            " 'livro' 'maquiagem' 'maquiagem' 'brinquedo' 'game' 'brinquedo' 'livro'\n",
            " 'livro' 'livro' 'game' 'maquiagem' 'maquiagem' 'game' 'brinquedo' 'game'\n",
            " 'livro' 'brinquedo' 'brinquedo' 'maquiagem' 'maquiagem' 'brinquedo'\n",
            " 'livro' 'game' 'maquiagem' 'game' 'livro' 'brinquedo' 'game' 'brinquedo'\n",
            " 'maquiagem' 'maquiagem' 'brinquedo' 'livro' 'brinquedo' 'maquiagem'\n",
            " 'game' 'livro' 'livro' 'livro' 'maquiagem' 'livro' 'livro' 'brinquedo'\n",
            " 'brinquedo' 'game' 'brinquedo' 'brinquedo' 'maquiagem' 'maquiagem'\n",
            " 'livro' 'game' 'game' 'brinquedo' 'livro' 'maquiagem' 'maquiagem' 'game'\n",
            " 'maquiagem' 'livro' 'maquiagem' 'brinquedo' 'game' 'livro' 'livro'\n",
            " 'livro' 'livro' 'maquiagem' 'livro' 'maquiagem' 'maquiagem' 'brinquedo'\n",
            " 'livro' 'livro' 'maquiagem' 'brinquedo' 'maquiagem' 'brinquedo' 'livro'\n",
            " 'brinquedo' 'maquiagem' 'brinquedo' 'maquiagem' 'livro' 'brinquedo'\n",
            " 'brinquedo' 'livro' 'maquiagem' 'brinquedo' 'maquiagem' 'livro' 'game'\n",
            " 'brinquedo' 'maquiagem' 'game' 'maquiagem' 'maquiagem' 'game' 'game'\n",
            " 'livro' 'maquiagem' 'maquiagem' 'brinquedo' 'livro' 'game' 'maquiagem'\n",
            " 'brinquedo' 'maquiagem' 'livro' 'game' 'brinquedo' 'livro' 'brinquedo'\n",
            " 'livro' 'maquiagem' 'maquiagem' 'brinquedo' 'livro' 'maquiagem'\n",
            " 'brinquedo' 'game' 'game' 'game' 'brinquedo' 'maquiagem' 'game'\n",
            " 'maquiagem' 'livro' 'brinquedo' 'brinquedo' 'game' 'brinquedo'\n",
            " 'brinquedo' 'livro' 'game' 'maquiagem' 'livro' 'maquiagem' 'maquiagem'\n",
            " 'game' 'livro' 'livro' 'brinquedo' 'brinquedo' 'livro' 'brinquedo'\n",
            " 'maquiagem' 'brinquedo' 'livro' 'livro' 'maquiagem' 'maquiagem' 'game'\n",
            " 'livro' 'brinquedo' 'livro' 'livro' 'game' 'brinquedo' 'game' 'livro'\n",
            " 'maquiagem' 'brinquedo' 'brinquedo' 'game' 'maquiagem' 'maquiagem'\n",
            " 'livro' 'game' 'brinquedo' 'livro' 'maquiagem']\n"
          ]
        }
      ]
    },
    {
      "cell_type": "code",
      "source": [],
      "metadata": {
        "id": "N6hCriuATAz8"
      },
      "execution_count": 130,
      "outputs": []
    },
    {
      "cell_type": "code",
      "source": [
        "texto = \"\"\"\n",
        "Maleta Exclusiva Ruby Rose Profissional Completa.\n",
        "\"\"\"\n",
        "\n",
        "texto_vetor = vetorizador_bla.transform([texto])"
      ],
      "metadata": {
        "id": "bm-0XrDlTArb"
      },
      "execution_count": 169,
      "outputs": []
    },
    {
      "cell_type": "code",
      "metadata": {
        "id": "gdpRPqCjAyth",
        "colab": {
          "base_uri": "https://localhost:8080/"
        },
        "outputId": "75f23140-4efd-428b-af59-72a854a0b234"
      },
      "source": [
        "modelo_classificador_bla.predict(texto_vetor)"
      ],
      "execution_count": 170,
      "outputs": [
        {
          "output_type": "execute_result",
          "data": {
            "text/plain": [
              "array(['maquiagem'], dtype=object)"
            ]
          },
          "metadata": {},
          "execution_count": 170
        }
      ]
    },
    {
      "cell_type": "code",
      "source": [],
      "metadata": {
        "id": "YU0XPfKTTJa4"
      },
      "execution_count": 132,
      "outputs": []
    },
    {
      "cell_type": "markdown",
      "source": [
        "Salvando no google drive"
      ],
      "metadata": {
        "id": "b315UTYcTKTb"
      }
    },
    {
      "cell_type": "code",
      "metadata": {
        "id": "_vdnmYmE4PYL",
        "colab": {
          "base_uri": "https://localhost:8080/"
        },
        "outputId": "7a7444f8-9df7-4fa4-d0fb-725532acd293"
      },
      "source": [
        "from google.colab import drive\n",
        "drive.mount('/content/gdrive', force_remount=True)\n",
        "\n",
        "# mostrar a estrutura de pastas do google drive montado\n",
        "!ls -la"
      ],
      "execution_count": 171,
      "outputs": [
        {
          "output_type": "stream",
          "name": "stdout",
          "text": [
            "Mounted at /content/gdrive\n",
            "total 464\n",
            "drwxr-xr-x 1 root root   4096 Mar 12 21:08 .\n",
            "drwxr-xr-x 1 root root   4096 Mar 12 16:46 ..\n",
            "drwxr-xr-x 4 root root   4096 Mar  9 18:57 .config\n",
            "drwx------ 5 root root   4096 Mar 12 21:08 gdrive\n",
            "-rw-r--r-- 1 root root  14588 Mar 12 18:33 minhaarvore.pkl\n",
            "drwxr-xr-x 1 root root   4096 Mar  9 18:58 sample_data\n",
            "-rw-r--r-- 1 root root 438158 Mar 12 18:33 vetorizador.pkl\n"
          ]
        }
      ]
    },
    {
      "cell_type": "code",
      "metadata": {
        "id": "hKUrqfZ_ABaC"
      },
      "source": [
        "# Exemplo salvando no google drive\n",
        "import pickle\n",
        "\n",
        "pickle.dump(tree, open('/content/gdrive/My Drive/FIAP/NLP/minhaarvore.pkl', 'wb'))\n",
        "pickle.dump(vect, open('/content/gdrive/My Drive/FIAP/NLP/vetorizador.pkl', 'wb'))"
      ],
      "execution_count": 174,
      "outputs": []
    }
  ]
}