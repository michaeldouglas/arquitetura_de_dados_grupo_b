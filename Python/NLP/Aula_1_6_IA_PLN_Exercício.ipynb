{
  "nbformat": 4,
  "nbformat_minor": 0,
  "metadata": {
    "colab": {
      "provenance": [],
      "include_colab_link": true
    },
    "kernelspec": {
      "name": "python3",
      "display_name": "Python 3"
    }
  },
  "cells": [
    {
      "cell_type": "markdown",
      "metadata": {
        "id": "view-in-github",
        "colab_type": "text"
      },
      "source": [
        "<a href=\"https://colab.research.google.com/github/ghedin-alison/NLP/blob/main/Aula_1_6_IA_PLN_Exerc%C3%ADcio.ipynb\" target=\"_parent\"><img src=\"https://colab.research.google.com/assets/colab-badge.svg\" alt=\"Open In Colab\"/></a>"
      ]
    },
    {
      "cell_type": "markdown",
      "metadata": {
        "id": "a2BT_ZwvhEKF"
      },
      "source": [
        "## Carregando o dataset\n",
        "\n",
        "https://dados-ml-pln.s3-sa-east-1.amazonaws.com/produtos.csv"
      ]
    },
    {
      "cell_type": "code",
      "metadata": {
        "id": "MbxTY0CHaaDl",
        "colab": {
          "base_uri": "https://localhost:8080/",
          "height": 175
        },
        "outputId": "72d98b11-b4bc-474c-8db6-26e2c0714391"
      },
      "source": [
        "import pandas as pd\n",
        "\n",
        "df = pd.read_csv(\n",
        "    \"https://dados-ml-pln.s3-sa-east-1.amazonaws.com/produtos.csv\",\n",
        "    delimiter=\";\",\n",
        "    encoding='utf-8' )\n",
        "\n",
        "df.describe()"
      ],
      "execution_count": 33,
      "outputs": [
        {
          "output_type": "execute_result",
          "data": {
            "text/plain": [
              "                                     nome  \\\n",
              "count                                4080   \n",
              "unique                               3696   \n",
              "top      Boneco Dragon Ball Z Son Gokou     \n",
              "freq                                   20   \n",
              "\n",
              "                                                descricao categoria  \n",
              "count                                                2916      4080  \n",
              "unique                                               2460         4  \n",
              "top     JOGO ORIGINAL. NOVO. LACRADO. PRONTA ENTREGA. ...     livro  \n",
              "freq                                                   39      1020  "
            ],
            "text/html": [
              "\n",
              "  <div id=\"df-c255214a-3619-431e-9c7e-69f419151493\">\n",
              "    <div class=\"colab-df-container\">\n",
              "      <div>\n",
              "<style scoped>\n",
              "    .dataframe tbody tr th:only-of-type {\n",
              "        vertical-align: middle;\n",
              "    }\n",
              "\n",
              "    .dataframe tbody tr th {\n",
              "        vertical-align: top;\n",
              "    }\n",
              "\n",
              "    .dataframe thead th {\n",
              "        text-align: right;\n",
              "    }\n",
              "</style>\n",
              "<table border=\"1\" class=\"dataframe\">\n",
              "  <thead>\n",
              "    <tr style=\"text-align: right;\">\n",
              "      <th></th>\n",
              "      <th>nome</th>\n",
              "      <th>descricao</th>\n",
              "      <th>categoria</th>\n",
              "    </tr>\n",
              "  </thead>\n",
              "  <tbody>\n",
              "    <tr>\n",
              "      <th>count</th>\n",
              "      <td>4080</td>\n",
              "      <td>2916</td>\n",
              "      <td>4080</td>\n",
              "    </tr>\n",
              "    <tr>\n",
              "      <th>unique</th>\n",
              "      <td>3696</td>\n",
              "      <td>2460</td>\n",
              "      <td>4</td>\n",
              "    </tr>\n",
              "    <tr>\n",
              "      <th>top</th>\n",
              "      <td>Boneco Dragon Ball Z Son Gokou</td>\n",
              "      <td>JOGO ORIGINAL. NOVO. LACRADO. PRONTA ENTREGA. ...</td>\n",
              "      <td>livro</td>\n",
              "    </tr>\n",
              "    <tr>\n",
              "      <th>freq</th>\n",
              "      <td>20</td>\n",
              "      <td>39</td>\n",
              "      <td>1020</td>\n",
              "    </tr>\n",
              "  </tbody>\n",
              "</table>\n",
              "</div>\n",
              "      <button class=\"colab-df-convert\" onclick=\"convertToInteractive('df-c255214a-3619-431e-9c7e-69f419151493')\"\n",
              "              title=\"Convert this dataframe to an interactive table.\"\n",
              "              style=\"display:none;\">\n",
              "        \n",
              "  <svg xmlns=\"http://www.w3.org/2000/svg\" height=\"24px\"viewBox=\"0 0 24 24\"\n",
              "       width=\"24px\">\n",
              "    <path d=\"M0 0h24v24H0V0z\" fill=\"none\"/>\n",
              "    <path d=\"M18.56 5.44l.94 2.06.94-2.06 2.06-.94-2.06-.94-.94-2.06-.94 2.06-2.06.94zm-11 1L8.5 8.5l.94-2.06 2.06-.94-2.06-.94L8.5 2.5l-.94 2.06-2.06.94zm10 10l.94 2.06.94-2.06 2.06-.94-2.06-.94-.94-2.06-.94 2.06-2.06.94z\"/><path d=\"M17.41 7.96l-1.37-1.37c-.4-.4-.92-.59-1.43-.59-.52 0-1.04.2-1.43.59L10.3 9.45l-7.72 7.72c-.78.78-.78 2.05 0 2.83L4 21.41c.39.39.9.59 1.41.59.51 0 1.02-.2 1.41-.59l7.78-7.78 2.81-2.81c.8-.78.8-2.07 0-2.86zM5.41 20L4 18.59l7.72-7.72 1.47 1.35L5.41 20z\"/>\n",
              "  </svg>\n",
              "      </button>\n",
              "      \n",
              "  <style>\n",
              "    .colab-df-container {\n",
              "      display:flex;\n",
              "      flex-wrap:wrap;\n",
              "      gap: 12px;\n",
              "    }\n",
              "\n",
              "    .colab-df-convert {\n",
              "      background-color: #E8F0FE;\n",
              "      border: none;\n",
              "      border-radius: 50%;\n",
              "      cursor: pointer;\n",
              "      display: none;\n",
              "      fill: #1967D2;\n",
              "      height: 32px;\n",
              "      padding: 0 0 0 0;\n",
              "      width: 32px;\n",
              "    }\n",
              "\n",
              "    .colab-df-convert:hover {\n",
              "      background-color: #E2EBFA;\n",
              "      box-shadow: 0px 1px 2px rgba(60, 64, 67, 0.3), 0px 1px 3px 1px rgba(60, 64, 67, 0.15);\n",
              "      fill: #174EA6;\n",
              "    }\n",
              "\n",
              "    [theme=dark] .colab-df-convert {\n",
              "      background-color: #3B4455;\n",
              "      fill: #D2E3FC;\n",
              "    }\n",
              "\n",
              "    [theme=dark] .colab-df-convert:hover {\n",
              "      background-color: #434B5C;\n",
              "      box-shadow: 0px 1px 3px 1px rgba(0, 0, 0, 0.15);\n",
              "      filter: drop-shadow(0px 1px 2px rgba(0, 0, 0, 0.3));\n",
              "      fill: #FFFFFF;\n",
              "    }\n",
              "  </style>\n",
              "\n",
              "      <script>\n",
              "        const buttonEl =\n",
              "          document.querySelector('#df-c255214a-3619-431e-9c7e-69f419151493 button.colab-df-convert');\n",
              "        buttonEl.style.display =\n",
              "          google.colab.kernel.accessAllowed ? 'block' : 'none';\n",
              "\n",
              "        async function convertToInteractive(key) {\n",
              "          const element = document.querySelector('#df-c255214a-3619-431e-9c7e-69f419151493');\n",
              "          const dataTable =\n",
              "            await google.colab.kernel.invokeFunction('convertToInteractive',\n",
              "                                                     [key], {});\n",
              "          if (!dataTable) return;\n",
              "\n",
              "          const docLinkHtml = 'Like what you see? Visit the ' +\n",
              "            '<a target=\"_blank\" href=https://colab.research.google.com/notebooks/data_table.ipynb>data table notebook</a>'\n",
              "            + ' to learn more about interactive tables.';\n",
              "          element.innerHTML = '';\n",
              "          dataTable['output_type'] = 'display_data';\n",
              "          await google.colab.output.renderOutput(dataTable, element);\n",
              "          const docLink = document.createElement('div');\n",
              "          docLink.innerHTML = docLinkHtml;\n",
              "          element.appendChild(docLink);\n",
              "        }\n",
              "      </script>\n",
              "    </div>\n",
              "  </div>\n",
              "  "
            ]
          },
          "metadata": {},
          "execution_count": 33
        }
      ]
    },
    {
      "cell_type": "code",
      "metadata": {
        "id": "TQwrws_rmaau",
        "colab": {
          "base_uri": "https://localhost:8080/",
          "height": 206
        },
        "outputId": "bdb0cda3-2e38-4ea8-8630-d17e842e48c4"
      },
      "source": [
        "df.head()"
      ],
      "execution_count": 34,
      "outputs": [
        {
          "output_type": "execute_result",
          "data": {
            "text/plain": [
              "                                                nome  \\\n",
              "0                            O Hobbit - 7ª Ed. 2013    \n",
              "1                 Livro - It A Coisa - Stephen King    \n",
              "2   Box  As Crônicas De Gelo E Fogo  Pocket  5 Li...   \n",
              "3                                  Box Harry Potter    \n",
              "4                          Livro Origem - Dan Brown    \n",
              "\n",
              "                                           descricao categoria  \n",
              "0  Produto NovoBilbo Bolseiro é um hobbit que lev...     livro  \n",
              "1  Produto NovoDurante as férias escolares de 195...     livro  \n",
              "2  Produto NovoTodo o reino de Westeros ao alcanc...     livro  \n",
              "3  Produto Novo e Físico  A série Harry Potter ch...     livro  \n",
              "4  Produto NovoDe Onde Viemos? Para Onde Vamos? R...     livro  "
            ],
            "text/html": [
              "\n",
              "  <div id=\"df-b7babe1a-ddba-4834-8946-5a8d54e726b0\">\n",
              "    <div class=\"colab-df-container\">\n",
              "      <div>\n",
              "<style scoped>\n",
              "    .dataframe tbody tr th:only-of-type {\n",
              "        vertical-align: middle;\n",
              "    }\n",
              "\n",
              "    .dataframe tbody tr th {\n",
              "        vertical-align: top;\n",
              "    }\n",
              "\n",
              "    .dataframe thead th {\n",
              "        text-align: right;\n",
              "    }\n",
              "</style>\n",
              "<table border=\"1\" class=\"dataframe\">\n",
              "  <thead>\n",
              "    <tr style=\"text-align: right;\">\n",
              "      <th></th>\n",
              "      <th>nome</th>\n",
              "      <th>descricao</th>\n",
              "      <th>categoria</th>\n",
              "    </tr>\n",
              "  </thead>\n",
              "  <tbody>\n",
              "    <tr>\n",
              "      <th>0</th>\n",
              "      <td>O Hobbit - 7ª Ed. 2013</td>\n",
              "      <td>Produto NovoBilbo Bolseiro é um hobbit que lev...</td>\n",
              "      <td>livro</td>\n",
              "    </tr>\n",
              "    <tr>\n",
              "      <th>1</th>\n",
              "      <td>Livro - It A Coisa - Stephen King</td>\n",
              "      <td>Produto NovoDurante as férias escolares de 195...</td>\n",
              "      <td>livro</td>\n",
              "    </tr>\n",
              "    <tr>\n",
              "      <th>2</th>\n",
              "      <td>Box  As Crônicas De Gelo E Fogo  Pocket  5 Li...</td>\n",
              "      <td>Produto NovoTodo o reino de Westeros ao alcanc...</td>\n",
              "      <td>livro</td>\n",
              "    </tr>\n",
              "    <tr>\n",
              "      <th>3</th>\n",
              "      <td>Box Harry Potter</td>\n",
              "      <td>Produto Novo e Físico  A série Harry Potter ch...</td>\n",
              "      <td>livro</td>\n",
              "    </tr>\n",
              "    <tr>\n",
              "      <th>4</th>\n",
              "      <td>Livro Origem - Dan Brown</td>\n",
              "      <td>Produto NovoDe Onde Viemos? Para Onde Vamos? R...</td>\n",
              "      <td>livro</td>\n",
              "    </tr>\n",
              "  </tbody>\n",
              "</table>\n",
              "</div>\n",
              "      <button class=\"colab-df-convert\" onclick=\"convertToInteractive('df-b7babe1a-ddba-4834-8946-5a8d54e726b0')\"\n",
              "              title=\"Convert this dataframe to an interactive table.\"\n",
              "              style=\"display:none;\">\n",
              "        \n",
              "  <svg xmlns=\"http://www.w3.org/2000/svg\" height=\"24px\"viewBox=\"0 0 24 24\"\n",
              "       width=\"24px\">\n",
              "    <path d=\"M0 0h24v24H0V0z\" fill=\"none\"/>\n",
              "    <path d=\"M18.56 5.44l.94 2.06.94-2.06 2.06-.94-2.06-.94-.94-2.06-.94 2.06-2.06.94zm-11 1L8.5 8.5l.94-2.06 2.06-.94-2.06-.94L8.5 2.5l-.94 2.06-2.06.94zm10 10l.94 2.06.94-2.06 2.06-.94-2.06-.94-.94-2.06-.94 2.06-2.06.94z\"/><path d=\"M17.41 7.96l-1.37-1.37c-.4-.4-.92-.59-1.43-.59-.52 0-1.04.2-1.43.59L10.3 9.45l-7.72 7.72c-.78.78-.78 2.05 0 2.83L4 21.41c.39.39.9.59 1.41.59.51 0 1.02-.2 1.41-.59l7.78-7.78 2.81-2.81c.8-.78.8-2.07 0-2.86zM5.41 20L4 18.59l7.72-7.72 1.47 1.35L5.41 20z\"/>\n",
              "  </svg>\n",
              "      </button>\n",
              "      \n",
              "  <style>\n",
              "    .colab-df-container {\n",
              "      display:flex;\n",
              "      flex-wrap:wrap;\n",
              "      gap: 12px;\n",
              "    }\n",
              "\n",
              "    .colab-df-convert {\n",
              "      background-color: #E8F0FE;\n",
              "      border: none;\n",
              "      border-radius: 50%;\n",
              "      cursor: pointer;\n",
              "      display: none;\n",
              "      fill: #1967D2;\n",
              "      height: 32px;\n",
              "      padding: 0 0 0 0;\n",
              "      width: 32px;\n",
              "    }\n",
              "\n",
              "    .colab-df-convert:hover {\n",
              "      background-color: #E2EBFA;\n",
              "      box-shadow: 0px 1px 2px rgba(60, 64, 67, 0.3), 0px 1px 3px 1px rgba(60, 64, 67, 0.15);\n",
              "      fill: #174EA6;\n",
              "    }\n",
              "\n",
              "    [theme=dark] .colab-df-convert {\n",
              "      background-color: #3B4455;\n",
              "      fill: #D2E3FC;\n",
              "    }\n",
              "\n",
              "    [theme=dark] .colab-df-convert:hover {\n",
              "      background-color: #434B5C;\n",
              "      box-shadow: 0px 1px 3px 1px rgba(0, 0, 0, 0.15);\n",
              "      filter: drop-shadow(0px 1px 2px rgba(0, 0, 0, 0.3));\n",
              "      fill: #FFFFFF;\n",
              "    }\n",
              "  </style>\n",
              "\n",
              "      <script>\n",
              "        const buttonEl =\n",
              "          document.querySelector('#df-b7babe1a-ddba-4834-8946-5a8d54e726b0 button.colab-df-convert');\n",
              "        buttonEl.style.display =\n",
              "          google.colab.kernel.accessAllowed ? 'block' : 'none';\n",
              "\n",
              "        async function convertToInteractive(key) {\n",
              "          const element = document.querySelector('#df-b7babe1a-ddba-4834-8946-5a8d54e726b0');\n",
              "          const dataTable =\n",
              "            await google.colab.kernel.invokeFunction('convertToInteractive',\n",
              "                                                     [key], {});\n",
              "          if (!dataTable) return;\n",
              "\n",
              "          const docLinkHtml = 'Like what you see? Visit the ' +\n",
              "            '<a target=\"_blank\" href=https://colab.research.google.com/notebooks/data_table.ipynb>data table notebook</a>'\n",
              "            + ' to learn more about interactive tables.';\n",
              "          element.innerHTML = '';\n",
              "          dataTable['output_type'] = 'display_data';\n",
              "          await google.colab.output.renderOutput(dataTable, element);\n",
              "          const docLink = document.createElement('div');\n",
              "          docLink.innerHTML = docLinkHtml;\n",
              "          element.appendChild(docLink);\n",
              "        }\n",
              "      </script>\n",
              "    </div>\n",
              "  </div>\n",
              "  "
            ]
          },
          "metadata": {},
          "execution_count": 34
        }
      ]
    },
    {
      "cell_type": "code",
      "metadata": {
        "id": "UqLEm4Mdxllb",
        "colab": {
          "base_uri": "https://localhost:8080/"
        },
        "outputId": "270650a9-9cbc-4f23-bdab-098be210f749"
      },
      "source": [
        "df.count()"
      ],
      "execution_count": 35,
      "outputs": [
        {
          "output_type": "execute_result",
          "data": {
            "text/plain": [
              "nome         4080\n",
              "descricao    2916\n",
              "categoria    4080\n",
              "dtype: int64"
            ]
          },
          "metadata": {},
          "execution_count": 35
        }
      ]
    },
    {
      "cell_type": "markdown",
      "metadata": {
        "id": "3b1AsI8DhJN3"
      },
      "source": [
        "## Análise o % de valores nulos:"
      ]
    },
    {
      "cell_type": "code",
      "metadata": {
        "id": "5naO2LQHb8c-",
        "colab": {
          "base_uri": "https://localhost:8080/"
        },
        "outputId": "976a4577-48db-49b4-de34-ed2953fa0ce6"
      },
      "source": [
        "df.info()"
      ],
      "execution_count": 36,
      "outputs": [
        {
          "output_type": "stream",
          "name": "stdout",
          "text": [
            "<class 'pandas.core.frame.DataFrame'>\n",
            "RangeIndex: 4080 entries, 0 to 4079\n",
            "Data columns (total 3 columns):\n",
            " #   Column     Non-Null Count  Dtype \n",
            "---  ------     --------------  ----- \n",
            " 0   nome       4080 non-null   object\n",
            " 1   descricao  2916 non-null   object\n",
            " 2   categoria  4080 non-null   object\n",
            "dtypes: object(3)\n",
            "memory usage: 95.8+ KB\n"
          ]
        }
      ]
    },
    {
      "cell_type": "code",
      "metadata": {
        "id": "clrV3b7g144v",
        "colab": {
          "base_uri": "https://localhost:8080/"
        },
        "outputId": "d6617380-ccd3-40ce-d176-b40bc4689cb9"
      },
      "source": [
        "# dimensão do dataframe\n",
        "df.shape"
      ],
      "execution_count": 37,
      "outputs": [
        {
          "output_type": "execute_result",
          "data": {
            "text/plain": [
              "(4080, 3)"
            ]
          },
          "metadata": {},
          "execution_count": 37
        }
      ]
    },
    {
      "cell_type": "code",
      "metadata": {
        "id": "jcL-fY__LlZz",
        "colab": {
          "base_uri": "https://localhost:8080/"
        },
        "outputId": "bb15d2e4-2f90-4916-b6e8-bd452b8ddecf"
      },
      "source": [
        "print(df.shape[0], df.shape[1])"
      ],
      "execution_count": 38,
      "outputs": [
        {
          "output_type": "stream",
          "name": "stdout",
          "text": [
            "4080 3\n"
          ]
        }
      ]
    },
    {
      "cell_type": "code",
      "metadata": {
        "id": "eApVJ845oDdy",
        "colab": {
          "base_uri": "https://localhost:8080/"
        },
        "outputId": "2eb4146d-3ca6-4b3f-8116-f288ea32e017"
      },
      "source": [
        "# conta valores faltantes/nulos/missing\n",
        "df.isnull().sum()"
      ],
      "execution_count": 39,
      "outputs": [
        {
          "output_type": "execute_result",
          "data": {
            "text/plain": [
              "nome            0\n",
              "descricao    1164\n",
              "categoria       0\n",
              "dtype: int64"
            ]
          },
          "metadata": {},
          "execution_count": 39
        }
      ]
    },
    {
      "cell_type": "code",
      "metadata": {
        "id": "YUWD23RhbsvS",
        "colab": {
          "base_uri": "https://localhost:8080/"
        },
        "outputId": "7247e3ac-286a-4531-fe7e-de83e6e8bf07"
      },
      "source": [
        "# calcula o % de nulos no dataset \n",
        "df.isnull().sum()/df.shape[0]"
      ],
      "execution_count": 40,
      "outputs": [
        {
          "output_type": "execute_result",
          "data": {
            "text/plain": [
              "nome         0.000000\n",
              "descricao    0.285294\n",
              "categoria    0.000000\n",
              "dtype: float64"
            ]
          },
          "metadata": {},
          "execution_count": 40
        }
      ]
    },
    {
      "cell_type": "markdown",
      "metadata": {
        "id": "eok0vq2diIFa"
      },
      "source": [
        "## Remova as linhas com valores nulos:"
      ]
    },
    {
      "cell_type": "code",
      "metadata": {
        "id": "d7EsxlE8gzY0",
        "colab": {
          "base_uri": "https://localhost:8080/"
        },
        "outputId": "d8447535-22bf-45eb-891a-c523950a941a"
      },
      "source": [
        "df.dropna(inplace=True) # dropna(inplace=True), inplace=True => modifica o próprio objeto. dropna(inplace=False), inplace=False => retorma uma cópia do objeto\n",
        "df.info()"
      ],
      "execution_count": 41,
      "outputs": [
        {
          "output_type": "stream",
          "name": "stdout",
          "text": [
            "<class 'pandas.core.frame.DataFrame'>\n",
            "Int64Index: 2916 entries, 0 to 4079\n",
            "Data columns (total 3 columns):\n",
            " #   Column     Non-Null Count  Dtype \n",
            "---  ------     --------------  ----- \n",
            " 0   nome       2916 non-null   object\n",
            " 1   descricao  2916 non-null   object\n",
            " 2   categoria  2916 non-null   object\n",
            "dtypes: object(3)\n",
            "memory usage: 91.1+ KB\n"
          ]
        }
      ]
    },
    {
      "cell_type": "code",
      "source": [
        "df = df.dropna() # dropna(inplace=True), inplace=True => modifica o próprio objeto. dropna(inplace=False), inplace=False => retorma uma cópia do objeto\n",
        "df.info()"
      ],
      "metadata": {
        "colab": {
          "base_uri": "https://localhost:8080/"
        },
        "id": "m6wZZwYDnegQ",
        "outputId": "48c685c6-806e-4096-d47a-9eaac4762dac"
      },
      "execution_count": 42,
      "outputs": [
        {
          "output_type": "stream",
          "name": "stdout",
          "text": [
            "<class 'pandas.core.frame.DataFrame'>\n",
            "Int64Index: 2916 entries, 0 to 4079\n",
            "Data columns (total 3 columns):\n",
            " #   Column     Non-Null Count  Dtype \n",
            "---  ------     --------------  ----- \n",
            " 0   nome       2916 non-null   object\n",
            " 1   descricao  2916 non-null   object\n",
            " 2   categoria  2916 non-null   object\n",
            "dtypes: object(3)\n",
            "memory usage: 91.1+ KB\n"
          ]
        }
      ]
    },
    {
      "cell_type": "markdown",
      "metadata": {
        "id": "7hUJ2U3nj1xt"
      },
      "source": [
        "## Analise a distribuição das “categorias”:"
      ]
    },
    {
      "cell_type": "code",
      "metadata": {
        "id": "1Odl4b9aiOnA",
        "colab": {
          "base_uri": "https://localhost:8080/"
        },
        "outputId": "9507ee28-1a86-4ed2-c0dc-6c446a6b9abd"
      },
      "source": [
        "df.categoria.value_counts()"
      ],
      "execution_count": 43,
      "outputs": [
        {
          "output_type": "execute_result",
          "data": {
            "text/plain": [
              "livro        838\n",
              "maquiagem    788\n",
              "brinquedo    668\n",
              "game         622\n",
              "Name: categoria, dtype: int64"
            ]
          },
          "metadata": {},
          "execution_count": 43
        }
      ]
    },
    {
      "cell_type": "code",
      "metadata": {
        "id": "Rayb_bnNhtNS",
        "colab": {
          "base_uri": "https://localhost:8080/"
        },
        "outputId": "18e81ad3-1e02-4880-d433-2df0b74aca21"
      },
      "source": [
        "(df.categoria.value_counts()/df.shape[0])*100\n",
        "# df.categoria.value_counts()/df.categoria.count() # outra forma"
      ],
      "execution_count": 12,
      "outputs": [
        {
          "output_type": "execute_result",
          "data": {
            "text/plain": [
              "livro        28.737997\n",
              "maquiagem    27.023320\n",
              "brinquedo    22.908093\n",
              "game         21.330590\n",
              "Name: categoria, dtype: float64"
            ]
          },
          "metadata": {},
          "execution_count": 12
        }
      ]
    },
    {
      "cell_type": "code",
      "metadata": {
        "id": "r-wbgpGck87D",
        "colab": {
          "base_uri": "https://localhost:8080/",
          "height": 279
        },
        "outputId": "cddc6e6f-a6c3-4ae4-fef4-3e1ac2ac02f1"
      },
      "source": [
        "df.categoria.value_counts().plot(kind='bar', figsize=(3,3))"
      ],
      "execution_count": 44,
      "outputs": [
        {
          "output_type": "execute_result",
          "data": {
            "text/plain": [
              "<AxesSubplot:>"
            ]
          },
          "metadata": {},
          "execution_count": 44
        },
        {
          "output_type": "display_data",
          "data": {
            "text/plain": [
              "<Figure size 216x216 with 1 Axes>"
            ],
            "image/png": "[encoded data removed]"
          },
          "metadata": {
            "needs_background": "light"
          }
        }
      ]
    },
    {
      "cell_type": "code",
      "metadata": {
        "id": "7V2nr7y_jby6",
        "colab": {
          "base_uri": "https://localhost:8080/",
          "height": 282
        },
        "outputId": "05b55c05-1f1c-4db8-d81c-e697842d01af"
      },
      "source": [
        "(df.categoria.value_counts()/df.shape[0]).plot(kind='bar', figsize=(3,3))"
      ],
      "execution_count": 45,
      "outputs": [
        {
          "output_type": "execute_result",
          "data": {
            "text/plain": [
              "<AxesSubplot:>"
            ]
          },
          "metadata": {},
          "execution_count": 45
        },
        {
          "output_type": "display_data",
          "data": {
            "text/plain": [
              "<Figure size 216x216 with 1 Axes>"
            ],
            "image/png": "[encoded data removed]"
          },
          "metadata": {
            "needs_background": "light"
          }
        }
      ]
    },
    {
      "cell_type": "markdown",
      "metadata": {
        "id": "fM5EKU-yn5Nf"
      },
      "source": [
        "## Crie uma nova coluna chamada \"texto“, concatenando as colunas \"nome\" e \"descricao\":"
      ]
    },
    {
      "cell_type": "code",
      "metadata": {
        "id": "C0vbmpsTZ7w2",
        "colab": {
          "base_uri": "https://localhost:8080/"
        },
        "outputId": "eb78e57e-d764-4234-b3f3-fa339f5f1fa6"
      },
      "source": [
        "# Exemplo de concateção de informações\n",
        "print(\"Alison\" + \" \" + \"Ghedin\")"
      ],
      "execution_count": 47,
      "outputs": [
        {
          "output_type": "stream",
          "name": "stdout",
          "text": [
            "Alison Ghedin\n"
          ]
        }
      ]
    },
    {
      "cell_type": "code",
      "metadata": {
        "colab": {
          "base_uri": "https://localhost:8080/",
          "height": 73
        },
        "outputId": "a3adc4e1-5afb-4415-cfc3-a7a14247373d",
        "id": "yL_pXo9toJRg"
      },
      "source": [
        "df[\"texto\"] = df['nome'] + \" \" + df['descricao'] # cria uma nova culuna com os valores concatenados\n",
        "df.texto[0]"
      ],
      "execution_count": 53,
      "outputs": [
        {
          "output_type": "execute_result",
          "data": {
            "text/plain": [
              "' O Hobbit - 7ª Ed. 2013  Produto NovoBilbo Bolseiro é um hobbit que leva uma vida confortável e sem ambições. Mas seu contentamento é perturbado quando Gandalf, o mago, e uma companhia de anões batem à sua porta e levam-no para uma expedição. Eles têm um plano para roubar o tesouro guardado por Smaug, o Magnífico, um grande e perigoso dragão. Bilbo reluta muito em participar da aventura, mas acaba surpreendendo até a si mesmo com sua esperteza e sua habilidade como ladrão!CaracterísticasAutor: Tolkien, J. R. R.Peso: 0.44I.S.B.N.: 9788578277109Altura: 20.000000Largura: 13.000000Profundidade: 1.000000Número de Páginas: 328Idioma: PortuguêsAcabamento: BrochuraNúmero da edição: 7Ano da edição: 2013'"
            ],
            "application/vnd.google.colaboratory.intrinsic+json": {
              "type": "string"
            }
          },
          "metadata": {},
          "execution_count": 53
        }
      ]
    },
    {
      "cell_type": "markdown",
      "metadata": {
        "id": "zhTMo3h0oFA7"
      },
      "source": [
        "## Descubra as 10 palavras que mais ocorrem nessa nova coluna “texto”:"
      ]
    },
    {
      "cell_type": "code",
      "metadata": {
        "id": "dUI05M9CuHAX",
        "colab": {
          "base_uri": "https://localhost:8080/"
        },
        "outputId": "b8d56305-d9ef-4d6d-cfe1-3e59e3c4dc30"
      },
      "source": [
        "from collections import Counter\n",
        "counter = Counter()\n",
        "\n",
        "counter.update('a')\n",
        "counter.update('b')\n",
        "print(counter)\n",
        "print(\"--------------------------\")\n",
        "counter['a'] += 1\n",
        "print(counter)"
      ],
      "execution_count": 55,
      "outputs": [
        {
          "output_type": "stream",
          "name": "stdout",
          "text": [
            "Counter({'a': 2, 'b': 1})\n"
          ]
        }
      ]
    },
    {
      "cell_type": "code",
      "metadata": {
        "id": "DhnC6t6Ilafr"
      },
      "source": [
        "from collections import Counter # implementa um container de tipo de dados. Ex: dict, list, set, and tuple\n",
        "\n",
        "c = Counter() # subclasse dict para contar objetos"
      ],
      "execution_count": 56,
      "outputs": []
    },
    {
      "cell_type": "code",
      "source": [
        "\"anderson dourado,\".split()"
      ],
      "metadata": {
        "colab": {
          "base_uri": "https://localhost:8080/"
        },
        "id": "Vjne141woo1w",
        "outputId": "9b98bf21-4a23-4a1f-83ee-8519ab5a4819"
      },
      "execution_count": 57,
      "outputs": [
        {
          "output_type": "execute_result",
          "data": {
            "text/plain": [
              "['anderson', 'dourado,']"
            ]
          },
          "metadata": {},
          "execution_count": 57
        }
      ]
    },
    {
      "cell_type": "code",
      "source": [
        "df.texto.str.split() # default do split é o <espaço> como separador\n",
        "#df.dtypes"
      ],
      "metadata": {
        "colab": {
          "base_uri": "https://localhost:8080/"
        },
        "id": "4m3B10vCokhM",
        "outputId": "29747d23-838d-4a7a-898e-d610992519d7"
      },
      "execution_count": 58,
      "outputs": [
        {
          "output_type": "execute_result",
          "data": {
            "text/plain": [
              "0       [O, Hobbit, -, 7ª, Ed., 2013, Produto, NovoBil...\n",
              "1       [Livro, -, It, A, Coisa, -, Stephen, King, Pro...\n",
              "2       [Box, As, Crônicas, De, Gelo, E, Fogo, Pocket,...\n",
              "3       [Box, Harry, Potter, Produto, Novo, e, Físico,...\n",
              "4       [Livro, Origem, -, Dan, Brown, Produto, NovoDe...\n",
              "                              ...                        \n",
              "4073    [Red, Dead, Redemption, Edição, Do, Ano, Goty,...\n",
              "4074    [Jogo, Gta, 5, Grand, Theft, Auto, V, Ps4, Míd...\n",
              "4075    [Zelda:, Breath, Of, The, Wild, -, Expansion, ...\n",
              "4078    [Gta, San, Andreas, Hd, Remastered, Ps3, Envio...\n",
              "4079    [Mini, Game, Nova, Portátil, 10mil, Jogos, Pla...\n",
              "Name: texto, Length: 2916, dtype: object"
            ]
          },
          "metadata": {},
          "execution_count": 58
        }
      ]
    },
    {
      "cell_type": "code",
      "metadata": {
        "id": "VYqbm7j0jxdX",
        "colab": {
          "base_uri": "https://localhost:8080/"
        },
        "outputId": "b1565136-e180-42e3-bec1-0d99d992407f"
      },
      "source": [
        "df.texto.str.lower().str.split() # default do split é o <espaço> como separador\n",
        "#df.dtypes"
      ],
      "execution_count": 59,
      "outputs": [
        {
          "output_type": "execute_result",
          "data": {
            "text/plain": [
              "0       [o, hobbit, -, 7ª, ed., 2013, produto, novobil...\n",
              "1       [livro, -, it, a, coisa, -, stephen, king, pro...\n",
              "2       [box, as, crônicas, de, gelo, e, fogo, pocket,...\n",
              "3       [box, harry, potter, produto, novo, e, físico,...\n",
              "4       [livro, origem, -, dan, brown, produto, novode...\n",
              "                              ...                        \n",
              "4073    [red, dead, redemption, edição, do, ano, goty,...\n",
              "4074    [jogo, gta, 5, grand, theft, auto, v, ps4, míd...\n",
              "4075    [zelda:, breath, of, the, wild, -, expansion, ...\n",
              "4078    [gta, san, andreas, hd, remastered, ps3, envio...\n",
              "4079    [mini, game, nova, portátil, 10mil, jogos, pla...\n",
              "Name: texto, Length: 2916, dtype: object"
            ]
          },
          "metadata": {},
          "execution_count": 59
        }
      ]
    },
    {
      "cell_type": "code",
      "metadata": {
        "id": "HTzKIEhyKxbw",
        "colab": {
          "base_uri": "https://localhost:8080/"
        },
        "outputId": "1b7c1616-efbf-4d11-9421-1e69c1d98a8c"
      },
      "source": [
        "df.texto.str.lower().str.split(\" \") # tranforma a descrição em minúsculas e depois separa as pelavras pelo <espaço> e retorna no formato de lista"
      ],
      "execution_count": 22,
      "outputs": [
        {
          "output_type": "execute_result",
          "data": {
            "text/plain": [
              "0       [, o, hobbit, -, 7ª, ed., 2013, , produto, nov...\n",
              "1       [, livro, -, it, a, coisa, -, stephen, king, ,...\n",
              "2       [, box, , as, crônicas, de, gelo, e, fogo, , p...\n",
              "3       [, box, harry, potter, , produto, novo, e, fís...\n",
              "4       [, livro, origem, -, dan, brown, , produto, no...\n",
              "                              ...                        \n",
              "4073    [, red, dead, redemption, edição, do, ano, got...\n",
              "4074    [, jogo, gta, 5, grand, theft, auto, v, ps4, m...\n",
              "4075    [, zelda:, breath, of, the, wild, -, expansion...\n",
              "4078    [, gta, san, andreas, hd, remastered, ps3, env...\n",
              "4079    [, mini, game, , nova, portátil, 10mil, jogos,...\n",
              "Name: texto, Length: 2916, dtype: object"
            ]
          },
          "metadata": {},
          "execution_count": 22
        }
      ]
    },
    {
      "cell_type": "code",
      "metadata": {
        "id": "vaLAnprh6KPa",
        "colab": {
          "base_uri": "https://localhost:8080/"
        },
        "outputId": "00c9d63e-f155-409f-a199-ee7d54911a17"
      },
      "source": [
        "c = Counter()\n",
        "df.texto.str.lower().str.split().apply(c.update) # implementa a contagem\n",
        "c.most_common(10)"
      ],
      "execution_count": 62,
      "outputs": [
        {
          "output_type": "execute_result",
          "data": {
            "text/plain": [
              "[('de', 24300),\n",
              " ('e', 16042),\n",
              " ('o', 12424),\n",
              " ('a', 12152),\n",
              " ('do', 8791),\n",
              " ('para', 8032),\n",
              " ('-', 7413),\n",
              " ('em', 6900),\n",
              " ('que', 6797),\n",
              " ('com', 6247)]"
            ]
          },
          "metadata": {},
          "execution_count": 62
        }
      ]
    },
    {
      "cell_type": "markdown",
      "metadata": {
        "id": "DGlRU8jXHkOr"
      },
      "source": [
        "## Qual a quantidade de vezes que cada palavra das “categorias” ocorrem nesse “texto”, quantas ocorrências tem cada palavra?"
      ]
    },
    {
      "cell_type": "code",
      "metadata": {
        "id": "k4zCstDesUSy",
        "colab": {
          "base_uri": "https://localhost:8080/"
        },
        "outputId": "3f984891-33bb-410d-b84c-98981568cafd"
      },
      "source": [
        "c.get('livro')\n",
        "\n",
        "print(f\"livro: {c.get('livro')}\")\n",
        "\n",
        "print(f\"maquiagem: {c.get('maquiagem')}\")\n",
        "\n",
        "# façam para as demais categorias"
      ],
      "execution_count": 26,
      "outputs": [
        {
          "output_type": "stream",
          "name": "stdout",
          "text": [
            "livro: 672\n",
            "maquiagem: 717\n"
          ]
        }
      ]
    },
    {
      "cell_type": "markdown",
      "metadata": {
        "id": "HFw7pB_-uVZX"
      },
      "source": [
        "## Bonus! Monte uma Nuvem de palavras."
      ]
    },
    {
      "cell_type": "code",
      "metadata": {
        "id": "npyDF0IGs8RG",
        "colab": {
          "base_uri": "https://localhost:8080/",
          "height": 223
        },
        "outputId": "f11a9183-29ad-4b61-c495-927178f1a2d1"
      },
      "source": [
        "import matplotlib.pyplot as plt\n",
        "\n",
        "try:\n",
        "  from wordcloud import WordCloud\n",
        "except:\n",
        "  !pip install wordcloud\n",
        "  from wordcloud import WordCloud\n",
        "\n",
        "livro_words = ''\n",
        "livro = df[df.categoria == 'livro'] # filtrei a categoria livro apenas como exemplo rápido para a demostração\n",
        "\n",
        "# reune todas as plalavras em um único objeto, veja.\n",
        "for val in livro.texto:\n",
        "  text = val.lower()\n",
        "  for words in text:\n",
        "    livro_words = livro_words + words\n",
        "    # todas as palavras das descrições da categoria livro no mesmo objeto: livro_words. As palavras são inseridas letra por letra\n",
        "    \n",
        "# Gera uma imagem da nuvem de palavras (Generate a word cloud image)\n",
        "livro_wordcloud = WordCloud(width=600, height=400).generate(livro_words)\n",
        "\n",
        "# Word cloud da categoria Livro\n",
        "plt.figure( figsize=(4,4), facecolor='k')\n",
        "plt.imshow(livro_wordcloud)\n",
        "plt.axis(\"off\")\n",
        "plt.tight_layout(pad=0) # Preenchimento entre a borda e a figura\n",
        "plt.show()"
      ],
      "execution_count": 68,
      "outputs": [
        {
          "output_type": "display_data",
          "data": {
            "text/plain": [
              "<Figure size 288x288 with 1 Axes>"
            ],
            "image/png": "[encoded data removed]"
          },
          "metadata": {}
        }
      ]
    },
    {
      "cell_type": "code",
      "source": [],
      "metadata": {
        "id": "KoLtT1K08gn-"
      },
      "execution_count": null,
      "outputs": []
    }
  ]
}